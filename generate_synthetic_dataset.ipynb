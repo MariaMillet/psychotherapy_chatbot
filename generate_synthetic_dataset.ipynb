{
  "nbformat": 4,
  "nbformat_minor": 0,
  "metadata": {
    "colab": {
      "name": "generate_synthetic_dataset.ipynb",
      "provenance": [],
      "collapsed_sections": [
        "XgCEPIs4iw4c"
      ],
      "toc_visible": true,
      "mount_file_id": "1Zij91aWCHF2NMg1zWe2XWMLyc5EdQHkv",
      "authorship_tag": "ABX9TyNVYcucF0cvwSsxIYKAVqpq",
      "include_colab_link": true
    },
    "kernelspec": {
      "name": "python3",
      "display_name": "Python 3"
    },
    "language_info": {
      "name": "python"
    },
    "widgets": {
      "application/vnd.jupyter.widget-state+json": {
        "09b9870149894681aff7a36c8b38019b": {
          "model_module": "@jupyter-widgets/controls",
          "model_name": "HBoxModel",
          "model_module_version": "1.5.0",
          "state": {
            "_dom_classes": [],
            "_model_module": "@jupyter-widgets/controls",
            "_model_module_version": "1.5.0",
            "_model_name": "HBoxModel",
            "_view_count": null,
            "_view_module": "@jupyter-widgets/controls",
            "_view_module_version": "1.5.0",
            "_view_name": "HBoxView",
            "box_style": "",
            "children": [
              "IPY_MODEL_4660f1a3c2af452292e5ab386af468b3",
              "IPY_MODEL_4075286a22124be69ef3e79b948c2527",
              "IPY_MODEL_99112e80ba3c4ae096aeadc50cd5c3ab"
            ],
            "layout": "IPY_MODEL_cb2845a464c94e64931b7ceaee91ce6f"
          }
        },
        "4660f1a3c2af452292e5ab386af468b3": {
          "model_module": "@jupyter-widgets/controls",
          "model_name": "HTMLModel",
          "model_module_version": "1.5.0",
          "state": {
            "_dom_classes": [],
            "_model_module": "@jupyter-widgets/controls",
            "_model_module_version": "1.5.0",
            "_model_name": "HTMLModel",
            "_view_count": null,
            "_view_module": "@jupyter-widgets/controls",
            "_view_module_version": "1.5.0",
            "_view_name": "HTMLView",
            "description": "",
            "description_tooltip": null,
            "layout": "IPY_MODEL_5f286b4aeae0411189cf53b5b2240b58",
            "placeholder": "​",
            "style": "IPY_MODEL_6f84cc4d90754671be348998add8280f",
            "value": "Downloading data files: 100%"
          }
        },
        "4075286a22124be69ef3e79b948c2527": {
          "model_module": "@jupyter-widgets/controls",
          "model_name": "FloatProgressModel",
          "model_module_version": "1.5.0",
          "state": {
            "_dom_classes": [],
            "_model_module": "@jupyter-widgets/controls",
            "_model_module_version": "1.5.0",
            "_model_name": "FloatProgressModel",
            "_view_count": null,
            "_view_module": "@jupyter-widgets/controls",
            "_view_module_version": "1.5.0",
            "_view_name": "ProgressView",
            "bar_style": "success",
            "description": "",
            "description_tooltip": null,
            "layout": "IPY_MODEL_af7bbedcbbbe4f798e66b24d741ba372",
            "max": 1,
            "min": 0,
            "orientation": "horizontal",
            "style": "IPY_MODEL_d10db6da018441f983e2e91f6f9d85e5",
            "value": 1
          }
        },
        "99112e80ba3c4ae096aeadc50cd5c3ab": {
          "model_module": "@jupyter-widgets/controls",
          "model_name": "HTMLModel",
          "model_module_version": "1.5.0",
          "state": {
            "_dom_classes": [],
            "_model_module": "@jupyter-widgets/controls",
            "_model_module_version": "1.5.0",
            "_model_name": "HTMLModel",
            "_view_count": null,
            "_view_module": "@jupyter-widgets/controls",
            "_view_module_version": "1.5.0",
            "_view_name": "HTMLView",
            "description": "",
            "description_tooltip": null,
            "layout": "IPY_MODEL_e6d480973ba54ba696557391c6db86f3",
            "placeholder": "​",
            "style": "IPY_MODEL_2fb6daef5d6d48b4aca940a16c275883",
            "value": " 1/1 [00:00&lt;00:00, 14.61it/s]"
          }
        },
        "cb2845a464c94e64931b7ceaee91ce6f": {
          "model_module": "@jupyter-widgets/base",
          "model_name": "LayoutModel",
          "model_module_version": "1.2.0",
          "state": {
            "_model_module": "@jupyter-widgets/base",
            "_model_module_version": "1.2.0",
            "_model_name": "LayoutModel",
            "_view_count": null,
            "_view_module": "@jupyter-widgets/base",
            "_view_module_version": "1.2.0",
            "_view_name": "LayoutView",
            "align_content": null,
            "align_items": null,
            "align_self": null,
            "border": null,
            "bottom": null,
            "display": null,
            "flex": null,
            "flex_flow": null,
            "grid_area": null,
            "grid_auto_columns": null,
            "grid_auto_flow": null,
            "grid_auto_rows": null,
            "grid_column": null,
            "grid_gap": null,
            "grid_row": null,
            "grid_template_areas": null,
            "grid_template_columns": null,
            "grid_template_rows": null,
            "height": null,
            "justify_content": null,
            "justify_items": null,
            "left": null,
            "margin": null,
            "max_height": null,
            "max_width": null,
            "min_height": null,
            "min_width": null,
            "object_fit": null,
            "object_position": null,
            "order": null,
            "overflow": null,
            "overflow_x": null,
            "overflow_y": null,
            "padding": null,
            "right": null,
            "top": null,
            "visibility": null,
            "width": null
          }
        },
        "5f286b4aeae0411189cf53b5b2240b58": {
          "model_module": "@jupyter-widgets/base",
          "model_name": "LayoutModel",
          "model_module_version": "1.2.0",
          "state": {
            "_model_module": "@jupyter-widgets/base",
            "_model_module_version": "1.2.0",
            "_model_name": "LayoutModel",
            "_view_count": null,
            "_view_module": "@jupyter-widgets/base",
            "_view_module_version": "1.2.0",
            "_view_name": "LayoutView",
            "align_content": null,
            "align_items": null,
            "align_self": null,
            "border": null,
            "bottom": null,
            "display": null,
            "flex": null,
            "flex_flow": null,
            "grid_area": null,
            "grid_auto_columns": null,
            "grid_auto_flow": null,
            "grid_auto_rows": null,
            "grid_column": null,
            "grid_gap": null,
            "grid_row": null,
            "grid_template_areas": null,
            "grid_template_columns": null,
            "grid_template_rows": null,
            "height": null,
            "justify_content": null,
            "justify_items": null,
            "left": null,
            "margin": null,
            "max_height": null,
            "max_width": null,
            "min_height": null,
            "min_width": null,
            "object_fit": null,
            "object_position": null,
            "order": null,
            "overflow": null,
            "overflow_x": null,
            "overflow_y": null,
            "padding": null,
            "right": null,
            "top": null,
            "visibility": null,
            "width": null
          }
        },
        "6f84cc4d90754671be348998add8280f": {
          "model_module": "@jupyter-widgets/controls",
          "model_name": "DescriptionStyleModel",
          "model_module_version": "1.5.0",
          "state": {
            "_model_module": "@jupyter-widgets/controls",
            "_model_module_version": "1.5.0",
            "_model_name": "DescriptionStyleModel",
            "_view_count": null,
            "_view_module": "@jupyter-widgets/base",
            "_view_module_version": "1.2.0",
            "_view_name": "StyleView",
            "description_width": ""
          }
        },
        "af7bbedcbbbe4f798e66b24d741ba372": {
          "model_module": "@jupyter-widgets/base",
          "model_name": "LayoutModel",
          "model_module_version": "1.2.0",
          "state": {
            "_model_module": "@jupyter-widgets/base",
            "_model_module_version": "1.2.0",
            "_model_name": "LayoutModel",
            "_view_count": null,
            "_view_module": "@jupyter-widgets/base",
            "_view_module_version": "1.2.0",
            "_view_name": "LayoutView",
            "align_content": null,
            "align_items": null,
            "align_self": null,
            "border": null,
            "bottom": null,
            "display": null,
            "flex": null,
            "flex_flow": null,
            "grid_area": null,
            "grid_auto_columns": null,
            "grid_auto_flow": null,
            "grid_auto_rows": null,
            "grid_column": null,
            "grid_gap": null,
            "grid_row": null,
            "grid_template_areas": null,
            "grid_template_columns": null,
            "grid_template_rows": null,
            "height": null,
            "justify_content": null,
            "justify_items": null,
            "left": null,
            "margin": null,
            "max_height": null,
            "max_width": null,
            "min_height": null,
            "min_width": null,
            "object_fit": null,
            "object_position": null,
            "order": null,
            "overflow": null,
            "overflow_x": null,
            "overflow_y": null,
            "padding": null,
            "right": null,
            "top": null,
            "visibility": null,
            "width": null
          }
        },
        "d10db6da018441f983e2e91f6f9d85e5": {
          "model_module": "@jupyter-widgets/controls",
          "model_name": "ProgressStyleModel",
          "model_module_version": "1.5.0",
          "state": {
            "_model_module": "@jupyter-widgets/controls",
            "_model_module_version": "1.5.0",
            "_model_name": "ProgressStyleModel",
            "_view_count": null,
            "_view_module": "@jupyter-widgets/base",
            "_view_module_version": "1.2.0",
            "_view_name": "StyleView",
            "bar_color": null,
            "description_width": ""
          }
        },
        "e6d480973ba54ba696557391c6db86f3": {
          "model_module": "@jupyter-widgets/base",
          "model_name": "LayoutModel",
          "model_module_version": "1.2.0",
          "state": {
            "_model_module": "@jupyter-widgets/base",
            "_model_module_version": "1.2.0",
            "_model_name": "LayoutModel",
            "_view_count": null,
            "_view_module": "@jupyter-widgets/base",
            "_view_module_version": "1.2.0",
            "_view_name": "LayoutView",
            "align_content": null,
            "align_items": null,
            "align_self": null,
            "border": null,
            "bottom": null,
            "display": null,
            "flex": null,
            "flex_flow": null,
            "grid_area": null,
            "grid_auto_columns": null,
            "grid_auto_flow": null,
            "grid_auto_rows": null,
            "grid_column": null,
            "grid_gap": null,
            "grid_row": null,
            "grid_template_areas": null,
            "grid_template_columns": null,
            "grid_template_rows": null,
            "height": null,
            "justify_content": null,
            "justify_items": null,
            "left": null,
            "margin": null,
            "max_height": null,
            "max_width": null,
            "min_height": null,
            "min_width": null,
            "object_fit": null,
            "object_position": null,
            "order": null,
            "overflow": null,
            "overflow_x": null,
            "overflow_y": null,
            "padding": null,
            "right": null,
            "top": null,
            "visibility": null,
            "width": null
          }
        },
        "2fb6daef5d6d48b4aca940a16c275883": {
          "model_module": "@jupyter-widgets/controls",
          "model_name": "DescriptionStyleModel",
          "model_module_version": "1.5.0",
          "state": {
            "_model_module": "@jupyter-widgets/controls",
            "_model_module_version": "1.5.0",
            "_model_name": "DescriptionStyleModel",
            "_view_count": null,
            "_view_module": "@jupyter-widgets/base",
            "_view_module_version": "1.2.0",
            "_view_name": "StyleView",
            "description_width": ""
          }
        },
        "1faf34a35bd7414fa2cc9d7fba024450": {
          "model_module": "@jupyter-widgets/controls",
          "model_name": "HBoxModel",
          "model_module_version": "1.5.0",
          "state": {
            "_dom_classes": [],
            "_model_module": "@jupyter-widgets/controls",
            "_model_module_version": "1.5.0",
            "_model_name": "HBoxModel",
            "_view_count": null,
            "_view_module": "@jupyter-widgets/controls",
            "_view_module_version": "1.5.0",
            "_view_name": "HBoxView",
            "box_style": "",
            "children": [
              "IPY_MODEL_f6effdab30a64950a16952f25ef381c1",
              "IPY_MODEL_d3d2b83358184759887ce05728472cbb",
              "IPY_MODEL_80a244c066064991ba02bfd4c6b9e17d"
            ],
            "layout": "IPY_MODEL_7059c8311050409bbf00009ed14b69ed"
          }
        },
        "f6effdab30a64950a16952f25ef381c1": {
          "model_module": "@jupyter-widgets/controls",
          "model_name": "HTMLModel",
          "model_module_version": "1.5.0",
          "state": {
            "_dom_classes": [],
            "_model_module": "@jupyter-widgets/controls",
            "_model_module_version": "1.5.0",
            "_model_name": "HTMLModel",
            "_view_count": null,
            "_view_module": "@jupyter-widgets/controls",
            "_view_module_version": "1.5.0",
            "_view_name": "HTMLView",
            "description": "",
            "description_tooltip": null,
            "layout": "IPY_MODEL_f7451eb5a9ae42d5bc71385344aa6f74",
            "placeholder": "​",
            "style": "IPY_MODEL_cc1d6865d1b54854808c14d17571936a",
            "value": "Extracting data files: 100%"
          }
        },
        "d3d2b83358184759887ce05728472cbb": {
          "model_module": "@jupyter-widgets/controls",
          "model_name": "FloatProgressModel",
          "model_module_version": "1.5.0",
          "state": {
            "_dom_classes": [],
            "_model_module": "@jupyter-widgets/controls",
            "_model_module_version": "1.5.0",
            "_model_name": "FloatProgressModel",
            "_view_count": null,
            "_view_module": "@jupyter-widgets/controls",
            "_view_module_version": "1.5.0",
            "_view_name": "ProgressView",
            "bar_style": "success",
            "description": "",
            "description_tooltip": null,
            "layout": "IPY_MODEL_ec757d2346af453f9427c9091c4c9669",
            "max": 1,
            "min": 0,
            "orientation": "horizontal",
            "style": "IPY_MODEL_dddf355f4720470b83bb90a2985f8f81",
            "value": 1
          }
        },
        "80a244c066064991ba02bfd4c6b9e17d": {
          "model_module": "@jupyter-widgets/controls",
          "model_name": "HTMLModel",
          "model_module_version": "1.5.0",
          "state": {
            "_dom_classes": [],
            "_model_module": "@jupyter-widgets/controls",
            "_model_module_version": "1.5.0",
            "_model_name": "HTMLModel",
            "_view_count": null,
            "_view_module": "@jupyter-widgets/controls",
            "_view_module_version": "1.5.0",
            "_view_name": "HTMLView",
            "description": "",
            "description_tooltip": null,
            "layout": "IPY_MODEL_066774acc2d249188d39e4b310d2de81",
            "placeholder": "​",
            "style": "IPY_MODEL_739ec54ad0dc4b518d8c850b0608ef88",
            "value": " 1/1 [00:00&lt;00:00, 12.68it/s]"
          }
        },
        "7059c8311050409bbf00009ed14b69ed": {
          "model_module": "@jupyter-widgets/base",
          "model_name": "LayoutModel",
          "model_module_version": "1.2.0",
          "state": {
            "_model_module": "@jupyter-widgets/base",
            "_model_module_version": "1.2.0",
            "_model_name": "LayoutModel",
            "_view_count": null,
            "_view_module": "@jupyter-widgets/base",
            "_view_module_version": "1.2.0",
            "_view_name": "LayoutView",
            "align_content": null,
            "align_items": null,
            "align_self": null,
            "border": null,
            "bottom": null,
            "display": null,
            "flex": null,
            "flex_flow": null,
            "grid_area": null,
            "grid_auto_columns": null,
            "grid_auto_flow": null,
            "grid_auto_rows": null,
            "grid_column": null,
            "grid_gap": null,
            "grid_row": null,
            "grid_template_areas": null,
            "grid_template_columns": null,
            "grid_template_rows": null,
            "height": null,
            "justify_content": null,
            "justify_items": null,
            "left": null,
            "margin": null,
            "max_height": null,
            "max_width": null,
            "min_height": null,
            "min_width": null,
            "object_fit": null,
            "object_position": null,
            "order": null,
            "overflow": null,
            "overflow_x": null,
            "overflow_y": null,
            "padding": null,
            "right": null,
            "top": null,
            "visibility": null,
            "width": null
          }
        },
        "f7451eb5a9ae42d5bc71385344aa6f74": {
          "model_module": "@jupyter-widgets/base",
          "model_name": "LayoutModel",
          "model_module_version": "1.2.0",
          "state": {
            "_model_module": "@jupyter-widgets/base",
            "_model_module_version": "1.2.0",
            "_model_name": "LayoutModel",
            "_view_count": null,
            "_view_module": "@jupyter-widgets/base",
            "_view_module_version": "1.2.0",
            "_view_name": "LayoutView",
            "align_content": null,
            "align_items": null,
            "align_self": null,
            "border": null,
            "bottom": null,
            "display": null,
            "flex": null,
            "flex_flow": null,
            "grid_area": null,
            "grid_auto_columns": null,
            "grid_auto_flow": null,
            "grid_auto_rows": null,
            "grid_column": null,
            "grid_gap": null,
            "grid_row": null,
            "grid_template_areas": null,
            "grid_template_columns": null,
            "grid_template_rows": null,
            "height": null,
            "justify_content": null,
            "justify_items": null,
            "left": null,
            "margin": null,
            "max_height": null,
            "max_width": null,
            "min_height": null,
            "min_width": null,
            "object_fit": null,
            "object_position": null,
            "order": null,
            "overflow": null,
            "overflow_x": null,
            "overflow_y": null,
            "padding": null,
            "right": null,
            "top": null,
            "visibility": null,
            "width": null
          }
        },
        "cc1d6865d1b54854808c14d17571936a": {
          "model_module": "@jupyter-widgets/controls",
          "model_name": "DescriptionStyleModel",
          "model_module_version": "1.5.0",
          "state": {
            "_model_module": "@jupyter-widgets/controls",
            "_model_module_version": "1.5.0",
            "_model_name": "DescriptionStyleModel",
            "_view_count": null,
            "_view_module": "@jupyter-widgets/base",
            "_view_module_version": "1.2.0",
            "_view_name": "StyleView",
            "description_width": ""
          }
        },
        "ec757d2346af453f9427c9091c4c9669": {
          "model_module": "@jupyter-widgets/base",
          "model_name": "LayoutModel",
          "model_module_version": "1.2.0",
          "state": {
            "_model_module": "@jupyter-widgets/base",
            "_model_module_version": "1.2.0",
            "_model_name": "LayoutModel",
            "_view_count": null,
            "_view_module": "@jupyter-widgets/base",
            "_view_module_version": "1.2.0",
            "_view_name": "LayoutView",
            "align_content": null,
            "align_items": null,
            "align_self": null,
            "border": null,
            "bottom": null,
            "display": null,
            "flex": null,
            "flex_flow": null,
            "grid_area": null,
            "grid_auto_columns": null,
            "grid_auto_flow": null,
            "grid_auto_rows": null,
            "grid_column": null,
            "grid_gap": null,
            "grid_row": null,
            "grid_template_areas": null,
            "grid_template_columns": null,
            "grid_template_rows": null,
            "height": null,
            "justify_content": null,
            "justify_items": null,
            "left": null,
            "margin": null,
            "max_height": null,
            "max_width": null,
            "min_height": null,
            "min_width": null,
            "object_fit": null,
            "object_position": null,
            "order": null,
            "overflow": null,
            "overflow_x": null,
            "overflow_y": null,
            "padding": null,
            "right": null,
            "top": null,
            "visibility": null,
            "width": null
          }
        },
        "dddf355f4720470b83bb90a2985f8f81": {
          "model_module": "@jupyter-widgets/controls",
          "model_name": "ProgressStyleModel",
          "model_module_version": "1.5.0",
          "state": {
            "_model_module": "@jupyter-widgets/controls",
            "_model_module_version": "1.5.0",
            "_model_name": "ProgressStyleModel",
            "_view_count": null,
            "_view_module": "@jupyter-widgets/base",
            "_view_module_version": "1.2.0",
            "_view_name": "StyleView",
            "bar_color": null,
            "description_width": ""
          }
        },
        "066774acc2d249188d39e4b310d2de81": {
          "model_module": "@jupyter-widgets/base",
          "model_name": "LayoutModel",
          "model_module_version": "1.2.0",
          "state": {
            "_model_module": "@jupyter-widgets/base",
            "_model_module_version": "1.2.0",
            "_model_name": "LayoutModel",
            "_view_count": null,
            "_view_module": "@jupyter-widgets/base",
            "_view_module_version": "1.2.0",
            "_view_name": "LayoutView",
            "align_content": null,
            "align_items": null,
            "align_self": null,
            "border": null,
            "bottom": null,
            "display": null,
            "flex": null,
            "flex_flow": null,
            "grid_area": null,
            "grid_auto_columns": null,
            "grid_auto_flow": null,
            "grid_auto_rows": null,
            "grid_column": null,
            "grid_gap": null,
            "grid_row": null,
            "grid_template_areas": null,
            "grid_template_columns": null,
            "grid_template_rows": null,
            "height": null,
            "justify_content": null,
            "justify_items": null,
            "left": null,
            "margin": null,
            "max_height": null,
            "max_width": null,
            "min_height": null,
            "min_width": null,
            "object_fit": null,
            "object_position": null,
            "order": null,
            "overflow": null,
            "overflow_x": null,
            "overflow_y": null,
            "padding": null,
            "right": null,
            "top": null,
            "visibility": null,
            "width": null
          }
        },
        "739ec54ad0dc4b518d8c850b0608ef88": {
          "model_module": "@jupyter-widgets/controls",
          "model_name": "DescriptionStyleModel",
          "model_module_version": "1.5.0",
          "state": {
            "_model_module": "@jupyter-widgets/controls",
            "_model_module_version": "1.5.0",
            "_model_name": "DescriptionStyleModel",
            "_view_count": null,
            "_view_module": "@jupyter-widgets/base",
            "_view_module_version": "1.2.0",
            "_view_name": "StyleView",
            "description_width": ""
          }
        },
        "01ec6e604cdb4abba5f319da61eb9ef4": {
          "model_module": "@jupyter-widgets/controls",
          "model_name": "HBoxModel",
          "model_module_version": "1.5.0",
          "state": {
            "_dom_classes": [],
            "_model_module": "@jupyter-widgets/controls",
            "_model_module_version": "1.5.0",
            "_model_name": "HBoxModel",
            "_view_count": null,
            "_view_module": "@jupyter-widgets/controls",
            "_view_module_version": "1.5.0",
            "_view_name": "HBoxView",
            "box_style": "",
            "children": [
              "IPY_MODEL_42a83751c8fc45c5a14b5f7ee4933cc6",
              "IPY_MODEL_6b1db2258fd54d82b522ddb255b5d662",
              "IPY_MODEL_3f70f343148f445591d4aadbbc71b561"
            ],
            "layout": "IPY_MODEL_0888f7a5a2614e458245f9c65a6ee724"
          }
        },
        "42a83751c8fc45c5a14b5f7ee4933cc6": {
          "model_module": "@jupyter-widgets/controls",
          "model_name": "HTMLModel",
          "model_module_version": "1.5.0",
          "state": {
            "_dom_classes": [],
            "_model_module": "@jupyter-widgets/controls",
            "_model_module_version": "1.5.0",
            "_model_name": "HTMLModel",
            "_view_count": null,
            "_view_module": "@jupyter-widgets/controls",
            "_view_module_version": "1.5.0",
            "_view_name": "HTMLView",
            "description": "",
            "description_tooltip": null,
            "layout": "IPY_MODEL_76b19e78839040959db313701d7d3eb5",
            "placeholder": "​",
            "style": "IPY_MODEL_f9321af1879649d4ab11727a627b14ac",
            "value": ""
          }
        },
        "6b1db2258fd54d82b522ddb255b5d662": {
          "model_module": "@jupyter-widgets/controls",
          "model_name": "FloatProgressModel",
          "model_module_version": "1.5.0",
          "state": {
            "_dom_classes": [],
            "_model_module": "@jupyter-widgets/controls",
            "_model_module_version": "1.5.0",
            "_model_name": "FloatProgressModel",
            "_view_count": null,
            "_view_module": "@jupyter-widgets/controls",
            "_view_module_version": "1.5.0",
            "_view_name": "ProgressView",
            "bar_style": "info",
            "description": "",
            "description_tooltip": null,
            "layout": "IPY_MODEL_05c7847cd6754c77a91bde30dc3969af",
            "max": 1,
            "min": 0,
            "orientation": "horizontal",
            "style": "IPY_MODEL_df1eacd8a125403a9e9203aa0f58f448",
            "value": 1
          }
        },
        "3f70f343148f445591d4aadbbc71b561": {
          "model_module": "@jupyter-widgets/controls",
          "model_name": "HTMLModel",
          "model_module_version": "1.5.0",
          "state": {
            "_dom_classes": [],
            "_model_module": "@jupyter-widgets/controls",
            "_model_module_version": "1.5.0",
            "_model_name": "HTMLModel",
            "_view_count": null,
            "_view_module": "@jupyter-widgets/controls",
            "_view_module_version": "1.5.0",
            "_view_name": "HTMLView",
            "description": "",
            "description_tooltip": null,
            "layout": "IPY_MODEL_3c7713815e9a4c4e9d252f353a8df93e",
            "placeholder": "​",
            "style": "IPY_MODEL_1aa44954ffa94b8a842d24ed0b13e528",
            "value": " 1/? [00:00&lt;00:00,  8.18 tables/s]"
          }
        },
        "0888f7a5a2614e458245f9c65a6ee724": {
          "model_module": "@jupyter-widgets/base",
          "model_name": "LayoutModel",
          "model_module_version": "1.2.0",
          "state": {
            "_model_module": "@jupyter-widgets/base",
            "_model_module_version": "1.2.0",
            "_model_name": "LayoutModel",
            "_view_count": null,
            "_view_module": "@jupyter-widgets/base",
            "_view_module_version": "1.2.0",
            "_view_name": "LayoutView",
            "align_content": null,
            "align_items": null,
            "align_self": null,
            "border": null,
            "bottom": null,
            "display": null,
            "flex": null,
            "flex_flow": null,
            "grid_area": null,
            "grid_auto_columns": null,
            "grid_auto_flow": null,
            "grid_auto_rows": null,
            "grid_column": null,
            "grid_gap": null,
            "grid_row": null,
            "grid_template_areas": null,
            "grid_template_columns": null,
            "grid_template_rows": null,
            "height": null,
            "justify_content": null,
            "justify_items": null,
            "left": null,
            "margin": null,
            "max_height": null,
            "max_width": null,
            "min_height": null,
            "min_width": null,
            "object_fit": null,
            "object_position": null,
            "order": null,
            "overflow": null,
            "overflow_x": null,
            "overflow_y": null,
            "padding": null,
            "right": null,
            "top": null,
            "visibility": null,
            "width": null
          }
        },
        "76b19e78839040959db313701d7d3eb5": {
          "model_module": "@jupyter-widgets/base",
          "model_name": "LayoutModel",
          "model_module_version": "1.2.0",
          "state": {
            "_model_module": "@jupyter-widgets/base",
            "_model_module_version": "1.2.0",
            "_model_name": "LayoutModel",
            "_view_count": null,
            "_view_module": "@jupyter-widgets/base",
            "_view_module_version": "1.2.0",
            "_view_name": "LayoutView",
            "align_content": null,
            "align_items": null,
            "align_self": null,
            "border": null,
            "bottom": null,
            "display": null,
            "flex": null,
            "flex_flow": null,
            "grid_area": null,
            "grid_auto_columns": null,
            "grid_auto_flow": null,
            "grid_auto_rows": null,
            "grid_column": null,
            "grid_gap": null,
            "grid_row": null,
            "grid_template_areas": null,
            "grid_template_columns": null,
            "grid_template_rows": null,
            "height": null,
            "justify_content": null,
            "justify_items": null,
            "left": null,
            "margin": null,
            "max_height": null,
            "max_width": null,
            "min_height": null,
            "min_width": null,
            "object_fit": null,
            "object_position": null,
            "order": null,
            "overflow": null,
            "overflow_x": null,
            "overflow_y": null,
            "padding": null,
            "right": null,
            "top": null,
            "visibility": null,
            "width": null
          }
        },
        "f9321af1879649d4ab11727a627b14ac": {
          "model_module": "@jupyter-widgets/controls",
          "model_name": "DescriptionStyleModel",
          "model_module_version": "1.5.0",
          "state": {
            "_model_module": "@jupyter-widgets/controls",
            "_model_module_version": "1.5.0",
            "_model_name": "DescriptionStyleModel",
            "_view_count": null,
            "_view_module": "@jupyter-widgets/base",
            "_view_module_version": "1.2.0",
            "_view_name": "StyleView",
            "description_width": ""
          }
        },
        "05c7847cd6754c77a91bde30dc3969af": {
          "model_module": "@jupyter-widgets/base",
          "model_name": "LayoutModel",
          "model_module_version": "1.2.0",
          "state": {
            "_model_module": "@jupyter-widgets/base",
            "_model_module_version": "1.2.0",
            "_model_name": "LayoutModel",
            "_view_count": null,
            "_view_module": "@jupyter-widgets/base",
            "_view_module_version": "1.2.0",
            "_view_name": "LayoutView",
            "align_content": null,
            "align_items": null,
            "align_self": null,
            "border": null,
            "bottom": null,
            "display": null,
            "flex": null,
            "flex_flow": null,
            "grid_area": null,
            "grid_auto_columns": null,
            "grid_auto_flow": null,
            "grid_auto_rows": null,
            "grid_column": null,
            "grid_gap": null,
            "grid_row": null,
            "grid_template_areas": null,
            "grid_template_columns": null,
            "grid_template_rows": null,
            "height": null,
            "justify_content": null,
            "justify_items": null,
            "left": null,
            "margin": null,
            "max_height": null,
            "max_width": null,
            "min_height": null,
            "min_width": null,
            "object_fit": null,
            "object_position": null,
            "order": null,
            "overflow": null,
            "overflow_x": null,
            "overflow_y": null,
            "padding": null,
            "right": null,
            "top": null,
            "visibility": null,
            "width": "20px"
          }
        },
        "df1eacd8a125403a9e9203aa0f58f448": {
          "model_module": "@jupyter-widgets/controls",
          "model_name": "ProgressStyleModel",
          "model_module_version": "1.5.0",
          "state": {
            "_model_module": "@jupyter-widgets/controls",
            "_model_module_version": "1.5.0",
            "_model_name": "ProgressStyleModel",
            "_view_count": null,
            "_view_module": "@jupyter-widgets/base",
            "_view_module_version": "1.2.0",
            "_view_name": "StyleView",
            "bar_color": null,
            "description_width": ""
          }
        },
        "3c7713815e9a4c4e9d252f353a8df93e": {
          "model_module": "@jupyter-widgets/base",
          "model_name": "LayoutModel",
          "model_module_version": "1.2.0",
          "state": {
            "_model_module": "@jupyter-widgets/base",
            "_model_module_version": "1.2.0",
            "_model_name": "LayoutModel",
            "_view_count": null,
            "_view_module": "@jupyter-widgets/base",
            "_view_module_version": "1.2.0",
            "_view_name": "LayoutView",
            "align_content": null,
            "align_items": null,
            "align_self": null,
            "border": null,
            "bottom": null,
            "display": null,
            "flex": null,
            "flex_flow": null,
            "grid_area": null,
            "grid_auto_columns": null,
            "grid_auto_flow": null,
            "grid_auto_rows": null,
            "grid_column": null,
            "grid_gap": null,
            "grid_row": null,
            "grid_template_areas": null,
            "grid_template_columns": null,
            "grid_template_rows": null,
            "height": null,
            "justify_content": null,
            "justify_items": null,
            "left": null,
            "margin": null,
            "max_height": null,
            "max_width": null,
            "min_height": null,
            "min_width": null,
            "object_fit": null,
            "object_position": null,
            "order": null,
            "overflow": null,
            "overflow_x": null,
            "overflow_y": null,
            "padding": null,
            "right": null,
            "top": null,
            "visibility": null,
            "width": null
          }
        },
        "1aa44954ffa94b8a842d24ed0b13e528": {
          "model_module": "@jupyter-widgets/controls",
          "model_name": "DescriptionStyleModel",
          "model_module_version": "1.5.0",
          "state": {
            "_model_module": "@jupyter-widgets/controls",
            "_model_module_version": "1.5.0",
            "_model_name": "DescriptionStyleModel",
            "_view_count": null,
            "_view_module": "@jupyter-widgets/base",
            "_view_module_version": "1.2.0",
            "_view_name": "StyleView",
            "description_width": ""
          }
        },
        "e0188fbcbd4f4e5f96acc2e02abb7d6b": {
          "model_module": "@jupyter-widgets/controls",
          "model_name": "HBoxModel",
          "model_module_version": "1.5.0",
          "state": {
            "_dom_classes": [],
            "_model_module": "@jupyter-widgets/controls",
            "_model_module_version": "1.5.0",
            "_model_name": "HBoxModel",
            "_view_count": null,
            "_view_module": "@jupyter-widgets/controls",
            "_view_module_version": "1.5.0",
            "_view_name": "HBoxView",
            "box_style": "",
            "children": [
              "IPY_MODEL_6e8bbecb642241b5be7b0d57d8085bef",
              "IPY_MODEL_8f377db530b74e46a4e66f3e187cfb86",
              "IPY_MODEL_5b6edfd90d754dffa3bd7358304b6add"
            ],
            "layout": "IPY_MODEL_d98e375ba869475e92167130aaac5a81"
          }
        },
        "6e8bbecb642241b5be7b0d57d8085bef": {
          "model_module": "@jupyter-widgets/controls",
          "model_name": "HTMLModel",
          "model_module_version": "1.5.0",
          "state": {
            "_dom_classes": [],
            "_model_module": "@jupyter-widgets/controls",
            "_model_module_version": "1.5.0",
            "_model_name": "HTMLModel",
            "_view_count": null,
            "_view_module": "@jupyter-widgets/controls",
            "_view_module_version": "1.5.0",
            "_view_name": "HTMLView",
            "description": "",
            "description_tooltip": null,
            "layout": "IPY_MODEL_6586c8172ea441b9a090868515ca3d6a",
            "placeholder": "​",
            "style": "IPY_MODEL_243cfd344ccd416cb59fe18f5ea9a065",
            "value": "100%"
          }
        },
        "8f377db530b74e46a4e66f3e187cfb86": {
          "model_module": "@jupyter-widgets/controls",
          "model_name": "FloatProgressModel",
          "model_module_version": "1.5.0",
          "state": {
            "_dom_classes": [],
            "_model_module": "@jupyter-widgets/controls",
            "_model_module_version": "1.5.0",
            "_model_name": "FloatProgressModel",
            "_view_count": null,
            "_view_module": "@jupyter-widgets/controls",
            "_view_module_version": "1.5.0",
            "_view_name": "ProgressView",
            "bar_style": "success",
            "description": "",
            "description_tooltip": null,
            "layout": "IPY_MODEL_76221615cfd0438db7625cda277ec2da",
            "max": 1,
            "min": 0,
            "orientation": "horizontal",
            "style": "IPY_MODEL_40c115a2186249a29b4fc26ac67cc347",
            "value": 1
          }
        },
        "5b6edfd90d754dffa3bd7358304b6add": {
          "model_module": "@jupyter-widgets/controls",
          "model_name": "HTMLModel",
          "model_module_version": "1.5.0",
          "state": {
            "_dom_classes": [],
            "_model_module": "@jupyter-widgets/controls",
            "_model_module_version": "1.5.0",
            "_model_name": "HTMLModel",
            "_view_count": null,
            "_view_module": "@jupyter-widgets/controls",
            "_view_module_version": "1.5.0",
            "_view_name": "HTMLView",
            "description": "",
            "description_tooltip": null,
            "layout": "IPY_MODEL_ddbc837a614a49baa72341b2ff977c51",
            "placeholder": "​",
            "style": "IPY_MODEL_52045fe01eda4521ad8b563d71fee4fd",
            "value": " 1/1 [00:00&lt;00:00, 11.51it/s]"
          }
        },
        "d98e375ba869475e92167130aaac5a81": {
          "model_module": "@jupyter-widgets/base",
          "model_name": "LayoutModel",
          "model_module_version": "1.2.0",
          "state": {
            "_model_module": "@jupyter-widgets/base",
            "_model_module_version": "1.2.0",
            "_model_name": "LayoutModel",
            "_view_count": null,
            "_view_module": "@jupyter-widgets/base",
            "_view_module_version": "1.2.0",
            "_view_name": "LayoutView",
            "align_content": null,
            "align_items": null,
            "align_self": null,
            "border": null,
            "bottom": null,
            "display": null,
            "flex": null,
            "flex_flow": null,
            "grid_area": null,
            "grid_auto_columns": null,
            "grid_auto_flow": null,
            "grid_auto_rows": null,
            "grid_column": null,
            "grid_gap": null,
            "grid_row": null,
            "grid_template_areas": null,
            "grid_template_columns": null,
            "grid_template_rows": null,
            "height": null,
            "justify_content": null,
            "justify_items": null,
            "left": null,
            "margin": null,
            "max_height": null,
            "max_width": null,
            "min_height": null,
            "min_width": null,
            "object_fit": null,
            "object_position": null,
            "order": null,
            "overflow": null,
            "overflow_x": null,
            "overflow_y": null,
            "padding": null,
            "right": null,
            "top": null,
            "visibility": null,
            "width": null
          }
        },
        "6586c8172ea441b9a090868515ca3d6a": {
          "model_module": "@jupyter-widgets/base",
          "model_name": "LayoutModel",
          "model_module_version": "1.2.0",
          "state": {
            "_model_module": "@jupyter-widgets/base",
            "_model_module_version": "1.2.0",
            "_model_name": "LayoutModel",
            "_view_count": null,
            "_view_module": "@jupyter-widgets/base",
            "_view_module_version": "1.2.0",
            "_view_name": "LayoutView",
            "align_content": null,
            "align_items": null,
            "align_self": null,
            "border": null,
            "bottom": null,
            "display": null,
            "flex": null,
            "flex_flow": null,
            "grid_area": null,
            "grid_auto_columns": null,
            "grid_auto_flow": null,
            "grid_auto_rows": null,
            "grid_column": null,
            "grid_gap": null,
            "grid_row": null,
            "grid_template_areas": null,
            "grid_template_columns": null,
            "grid_template_rows": null,
            "height": null,
            "justify_content": null,
            "justify_items": null,
            "left": null,
            "margin": null,
            "max_height": null,
            "max_width": null,
            "min_height": null,
            "min_width": null,
            "object_fit": null,
            "object_position": null,
            "order": null,
            "overflow": null,
            "overflow_x": null,
            "overflow_y": null,
            "padding": null,
            "right": null,
            "top": null,
            "visibility": null,
            "width": null
          }
        },
        "243cfd344ccd416cb59fe18f5ea9a065": {
          "model_module": "@jupyter-widgets/controls",
          "model_name": "DescriptionStyleModel",
          "model_module_version": "1.5.0",
          "state": {
            "_model_module": "@jupyter-widgets/controls",
            "_model_module_version": "1.5.0",
            "_model_name": "DescriptionStyleModel",
            "_view_count": null,
            "_view_module": "@jupyter-widgets/base",
            "_view_module_version": "1.2.0",
            "_view_name": "StyleView",
            "description_width": ""
          }
        },
        "76221615cfd0438db7625cda277ec2da": {
          "model_module": "@jupyter-widgets/base",
          "model_name": "LayoutModel",
          "model_module_version": "1.2.0",
          "state": {
            "_model_module": "@jupyter-widgets/base",
            "_model_module_version": "1.2.0",
            "_model_name": "LayoutModel",
            "_view_count": null,
            "_view_module": "@jupyter-widgets/base",
            "_view_module_version": "1.2.0",
            "_view_name": "LayoutView",
            "align_content": null,
            "align_items": null,
            "align_self": null,
            "border": null,
            "bottom": null,
            "display": null,
            "flex": null,
            "flex_flow": null,
            "grid_area": null,
            "grid_auto_columns": null,
            "grid_auto_flow": null,
            "grid_auto_rows": null,
            "grid_column": null,
            "grid_gap": null,
            "grid_row": null,
            "grid_template_areas": null,
            "grid_template_columns": null,
            "grid_template_rows": null,
            "height": null,
            "justify_content": null,
            "justify_items": null,
            "left": null,
            "margin": null,
            "max_height": null,
            "max_width": null,
            "min_height": null,
            "min_width": null,
            "object_fit": null,
            "object_position": null,
            "order": null,
            "overflow": null,
            "overflow_x": null,
            "overflow_y": null,
            "padding": null,
            "right": null,
            "top": null,
            "visibility": null,
            "width": null
          }
        },
        "40c115a2186249a29b4fc26ac67cc347": {
          "model_module": "@jupyter-widgets/controls",
          "model_name": "ProgressStyleModel",
          "model_module_version": "1.5.0",
          "state": {
            "_model_module": "@jupyter-widgets/controls",
            "_model_module_version": "1.5.0",
            "_model_name": "ProgressStyleModel",
            "_view_count": null,
            "_view_module": "@jupyter-widgets/base",
            "_view_module_version": "1.2.0",
            "_view_name": "StyleView",
            "bar_color": null,
            "description_width": ""
          }
        },
        "ddbc837a614a49baa72341b2ff977c51": {
          "model_module": "@jupyter-widgets/base",
          "model_name": "LayoutModel",
          "model_module_version": "1.2.0",
          "state": {
            "_model_module": "@jupyter-widgets/base",
            "_model_module_version": "1.2.0",
            "_model_name": "LayoutModel",
            "_view_count": null,
            "_view_module": "@jupyter-widgets/base",
            "_view_module_version": "1.2.0",
            "_view_name": "LayoutView",
            "align_content": null,
            "align_items": null,
            "align_self": null,
            "border": null,
            "bottom": null,
            "display": null,
            "flex": null,
            "flex_flow": null,
            "grid_area": null,
            "grid_auto_columns": null,
            "grid_auto_flow": null,
            "grid_auto_rows": null,
            "grid_column": null,
            "grid_gap": null,
            "grid_row": null,
            "grid_template_areas": null,
            "grid_template_columns": null,
            "grid_template_rows": null,
            "height": null,
            "justify_content": null,
            "justify_items": null,
            "left": null,
            "margin": null,
            "max_height": null,
            "max_width": null,
            "min_height": null,
            "min_width": null,
            "object_fit": null,
            "object_position": null,
            "order": null,
            "overflow": null,
            "overflow_x": null,
            "overflow_y": null,
            "padding": null,
            "right": null,
            "top": null,
            "visibility": null,
            "width": null
          }
        },
        "52045fe01eda4521ad8b563d71fee4fd": {
          "model_module": "@jupyter-widgets/controls",
          "model_name": "DescriptionStyleModel",
          "model_module_version": "1.5.0",
          "state": {
            "_model_module": "@jupyter-widgets/controls",
            "_model_module_version": "1.5.0",
            "_model_name": "DescriptionStyleModel",
            "_view_count": null,
            "_view_module": "@jupyter-widgets/base",
            "_view_module_version": "1.2.0",
            "_view_name": "StyleView",
            "description_width": ""
          }
        }
      }
    }
  },
  "cells": [
    {
      "cell_type": "markdown",
      "metadata": {
        "id": "view-in-github",
        "colab_type": "text"
      },
      "source": [
        "<a href=\"https://colab.research.google.com/github/mmillet88/russian_therapy/blob/main/generate_synthetic_dataset.ipynb\" target=\"_parent\"><img src=\"https://colab.research.google.com/assets/colab-badge.svg\" alt=\"Open In Colab\"/></a>"
      ]
    },
    {
      "cell_type": "markdown",
      "source": [
        "# Load Libraries"
      ],
      "metadata": {
        "id": "XgCEPIs4iw4c"
      }
    },
    {
      "cell_type": "code",
      "execution_count": 44,
      "metadata": {
        "colab": {
          "base_uri": "https://localhost:8080/"
        },
        "id": "nqMksO87ez4h",
        "outputId": "6705a588-a2ea-427f-9fef-aa84cd6820e6"
      },
      "outputs": [
        {
          "output_type": "stream",
          "name": "stdout",
          "text": [
            "Looking in indexes: https://pypi.org/simple, https://us-python.pkg.dev/colab-wheels/public/simple/\n",
            "Requirement already satisfied: transformers in /usr/local/lib/python3.7/dist-packages (4.21.0)\n",
            "Requirement already satisfied: tokenizers!=0.11.3,<0.13,>=0.11.1 in /usr/local/lib/python3.7/dist-packages (from transformers) (0.12.1)\n",
            "Requirement already satisfied: packaging>=20.0 in /usr/local/lib/python3.7/dist-packages (from transformers) (21.3)\n",
            "Requirement already satisfied: pyyaml>=5.1 in /usr/local/lib/python3.7/dist-packages (from transformers) (6.0)\n",
            "Requirement already satisfied: tqdm>=4.27 in /usr/local/lib/python3.7/dist-packages (from transformers) (4.64.0)\n",
            "Requirement already satisfied: numpy>=1.17 in /usr/local/lib/python3.7/dist-packages (from transformers) (1.21.6)\n",
            "Requirement already satisfied: regex!=2019.12.17 in /usr/local/lib/python3.7/dist-packages (from transformers) (2022.6.2)\n",
            "Requirement already satisfied: importlib-metadata in /usr/local/lib/python3.7/dist-packages (from transformers) (4.12.0)\n",
            "Requirement already satisfied: huggingface-hub<1.0,>=0.1.0 in /usr/local/lib/python3.7/dist-packages (from transformers) (0.8.1)\n",
            "Requirement already satisfied: filelock in /usr/local/lib/python3.7/dist-packages (from transformers) (3.7.1)\n",
            "Requirement already satisfied: requests in /usr/local/lib/python3.7/dist-packages (from transformers) (2.23.0)\n",
            "Requirement already satisfied: typing-extensions>=3.7.4.3 in /usr/local/lib/python3.7/dist-packages (from huggingface-hub<1.0,>=0.1.0->transformers) (4.1.1)\n",
            "Requirement already satisfied: pyparsing!=3.0.5,>=2.0.2 in /usr/local/lib/python3.7/dist-packages (from packaging>=20.0->transformers) (3.0.9)\n",
            "Requirement already satisfied: zipp>=0.5 in /usr/local/lib/python3.7/dist-packages (from importlib-metadata->transformers) (3.8.1)\n",
            "Requirement already satisfied: certifi>=2017.4.17 in /usr/local/lib/python3.7/dist-packages (from requests->transformers) (2022.6.15)\n",
            "Requirement already satisfied: urllib3!=1.25.0,!=1.25.1,<1.26,>=1.21.1 in /usr/local/lib/python3.7/dist-packages (from requests->transformers) (1.25.11)\n",
            "Requirement already satisfied: idna<3,>=2.5 in /usr/local/lib/python3.7/dist-packages (from requests->transformers) (2.10)\n",
            "Requirement already satisfied: chardet<4,>=3.0.2 in /usr/local/lib/python3.7/dist-packages (from requests->transformers) (3.0.4)\n",
            "Looking in indexes: https://pypi.org/simple, https://us-python.pkg.dev/colab-wheels/public/simple/\n",
            "Requirement already satisfied: sentence-transformers in /usr/local/lib/python3.7/dist-packages (2.2.2)\n",
            "Requirement already satisfied: sentencepiece in /usr/local/lib/python3.7/dist-packages (from sentence-transformers) (0.1.96)\n",
            "Requirement already satisfied: scikit-learn in /usr/local/lib/python3.7/dist-packages (from sentence-transformers) (1.0.2)\n",
            "Requirement already satisfied: scipy in /usr/local/lib/python3.7/dist-packages (from sentence-transformers) (1.7.3)\n",
            "Requirement already satisfied: torch>=1.6.0 in /usr/local/lib/python3.7/dist-packages (from sentence-transformers) (1.12.0+cu113)\n",
            "Requirement already satisfied: huggingface-hub>=0.4.0 in /usr/local/lib/python3.7/dist-packages (from sentence-transformers) (0.8.1)\n",
            "Requirement already satisfied: torchvision in /usr/local/lib/python3.7/dist-packages (from sentence-transformers) (0.13.0+cu113)\n",
            "Requirement already satisfied: numpy in /usr/local/lib/python3.7/dist-packages (from sentence-transformers) (1.21.6)\n",
            "Requirement already satisfied: nltk in /usr/local/lib/python3.7/dist-packages (from sentence-transformers) (3.7)\n",
            "Requirement already satisfied: transformers<5.0.0,>=4.6.0 in /usr/local/lib/python3.7/dist-packages (from sentence-transformers) (4.21.0)\n",
            "Requirement already satisfied: tqdm in /usr/local/lib/python3.7/dist-packages (from sentence-transformers) (4.64.0)\n",
            "Requirement already satisfied: importlib-metadata in /usr/local/lib/python3.7/dist-packages (from huggingface-hub>=0.4.0->sentence-transformers) (4.12.0)\n",
            "Requirement already satisfied: filelock in /usr/local/lib/python3.7/dist-packages (from huggingface-hub>=0.4.0->sentence-transformers) (3.7.1)\n",
            "Requirement already satisfied: typing-extensions>=3.7.4.3 in /usr/local/lib/python3.7/dist-packages (from huggingface-hub>=0.4.0->sentence-transformers) (4.1.1)\n",
            "Requirement already satisfied: packaging>=20.9 in /usr/local/lib/python3.7/dist-packages (from huggingface-hub>=0.4.0->sentence-transformers) (21.3)\n",
            "Requirement already satisfied: pyyaml>=5.1 in /usr/local/lib/python3.7/dist-packages (from huggingface-hub>=0.4.0->sentence-transformers) (6.0)\n",
            "Requirement already satisfied: requests in /usr/local/lib/python3.7/dist-packages (from huggingface-hub>=0.4.0->sentence-transformers) (2.23.0)\n",
            "Requirement already satisfied: pyparsing!=3.0.5,>=2.0.2 in /usr/local/lib/python3.7/dist-packages (from packaging>=20.9->huggingface-hub>=0.4.0->sentence-transformers) (3.0.9)\n",
            "Requirement already satisfied: tokenizers!=0.11.3,<0.13,>=0.11.1 in /usr/local/lib/python3.7/dist-packages (from transformers<5.0.0,>=4.6.0->sentence-transformers) (0.12.1)\n",
            "Requirement already satisfied: regex!=2019.12.17 in /usr/local/lib/python3.7/dist-packages (from transformers<5.0.0,>=4.6.0->sentence-transformers) (2022.6.2)\n",
            "Requirement already satisfied: zipp>=0.5 in /usr/local/lib/python3.7/dist-packages (from importlib-metadata->huggingface-hub>=0.4.0->sentence-transformers) (3.8.1)\n",
            "Requirement already satisfied: joblib in /usr/local/lib/python3.7/dist-packages (from nltk->sentence-transformers) (1.1.0)\n",
            "Requirement already satisfied: click in /usr/local/lib/python3.7/dist-packages (from nltk->sentence-transformers) (7.1.2)\n",
            "Requirement already satisfied: idna<3,>=2.5 in /usr/local/lib/python3.7/dist-packages (from requests->huggingface-hub>=0.4.0->sentence-transformers) (2.10)\n",
            "Requirement already satisfied: certifi>=2017.4.17 in /usr/local/lib/python3.7/dist-packages (from requests->huggingface-hub>=0.4.0->sentence-transformers) (2022.6.15)\n",
            "Requirement already satisfied: urllib3!=1.25.0,!=1.25.1,<1.26,>=1.21.1 in /usr/local/lib/python3.7/dist-packages (from requests->huggingface-hub>=0.4.0->sentence-transformers) (1.25.11)\n",
            "Requirement already satisfied: chardet<4,>=3.0.2 in /usr/local/lib/python3.7/dist-packages (from requests->huggingface-hub>=0.4.0->sentence-transformers) (3.0.4)\n",
            "Requirement already satisfied: threadpoolctl>=2.0.0 in /usr/local/lib/python3.7/dist-packages (from scikit-learn->sentence-transformers) (3.1.0)\n",
            "Requirement already satisfied: pillow!=8.3.*,>=5.3.0 in /usr/local/lib/python3.7/dist-packages (from torchvision->sentence-transformers) (7.1.2)\n",
            "Looking in indexes: https://pypi.org/simple, https://us-python.pkg.dev/colab-wheels/public/simple/\n",
            "Requirement already satisfied: transformers in /usr/local/lib/python3.7/dist-packages (4.21.0)\n",
            "Requirement already satisfied: sentencepiece in /usr/local/lib/python3.7/dist-packages (0.1.96)\n",
            "Requirement already satisfied: datasets in /usr/local/lib/python3.7/dist-packages (2.4.0)\n",
            "Requirement already satisfied: pyyaml>=5.1 in /usr/local/lib/python3.7/dist-packages (from transformers) (6.0)\n",
            "Requirement already satisfied: regex!=2019.12.17 in /usr/local/lib/python3.7/dist-packages (from transformers) (2022.6.2)\n",
            "Requirement already satisfied: filelock in /usr/local/lib/python3.7/dist-packages (from transformers) (3.7.1)\n",
            "Requirement already satisfied: packaging>=20.0 in /usr/local/lib/python3.7/dist-packages (from transformers) (21.3)\n",
            "Requirement already satisfied: tqdm>=4.27 in /usr/local/lib/python3.7/dist-packages (from transformers) (4.64.0)\n",
            "Requirement already satisfied: numpy>=1.17 in /usr/local/lib/python3.7/dist-packages (from transformers) (1.21.6)\n",
            "Requirement already satisfied: tokenizers!=0.11.3,<0.13,>=0.11.1 in /usr/local/lib/python3.7/dist-packages (from transformers) (0.12.1)\n",
            "Requirement already satisfied: huggingface-hub<1.0,>=0.1.0 in /usr/local/lib/python3.7/dist-packages (from transformers) (0.8.1)\n",
            "Requirement already satisfied: importlib-metadata in /usr/local/lib/python3.7/dist-packages (from transformers) (4.12.0)\n",
            "Requirement already satisfied: requests in /usr/local/lib/python3.7/dist-packages (from transformers) (2.23.0)\n",
            "Requirement already satisfied: typing-extensions>=3.7.4.3 in /usr/local/lib/python3.7/dist-packages (from huggingface-hub<1.0,>=0.1.0->transformers) (4.1.1)\n",
            "Requirement already satisfied: pyparsing!=3.0.5,>=2.0.2 in /usr/local/lib/python3.7/dist-packages (from packaging>=20.0->transformers) (3.0.9)\n",
            "Requirement already satisfied: pandas in /usr/local/lib/python3.7/dist-packages (from datasets) (1.3.5)\n",
            "Requirement already satisfied: fsspec[http]>=2021.11.1 in /usr/local/lib/python3.7/dist-packages (from datasets) (2022.7.1)\n",
            "Requirement already satisfied: multiprocess in /usr/local/lib/python3.7/dist-packages (from datasets) (0.70.13)\n",
            "Requirement already satisfied: aiohttp in /usr/local/lib/python3.7/dist-packages (from datasets) (3.8.1)\n",
            "Requirement already satisfied: pyarrow>=6.0.0 in /usr/local/lib/python3.7/dist-packages (from datasets) (6.0.1)\n",
            "Requirement already satisfied: dill<0.3.6 in /usr/local/lib/python3.7/dist-packages (from datasets) (0.3.5.1)\n",
            "Requirement already satisfied: responses<0.19 in /usr/local/lib/python3.7/dist-packages (from datasets) (0.18.0)\n",
            "Requirement already satisfied: xxhash in /usr/local/lib/python3.7/dist-packages (from datasets) (3.0.0)\n",
            "Requirement already satisfied: chardet<4,>=3.0.2 in /usr/local/lib/python3.7/dist-packages (from requests->transformers) (3.0.4)\n",
            "Requirement already satisfied: certifi>=2017.4.17 in /usr/local/lib/python3.7/dist-packages (from requests->transformers) (2022.6.15)\n",
            "Requirement already satisfied: idna<3,>=2.5 in /usr/local/lib/python3.7/dist-packages (from requests->transformers) (2.10)\n",
            "Requirement already satisfied: urllib3!=1.25.0,!=1.25.1,<1.26,>=1.21.1 in /usr/local/lib/python3.7/dist-packages (from requests->transformers) (1.25.11)\n",
            "Requirement already satisfied: aiosignal>=1.1.2 in /usr/local/lib/python3.7/dist-packages (from aiohttp->datasets) (1.2.0)\n",
            "Requirement already satisfied: multidict<7.0,>=4.5 in /usr/local/lib/python3.7/dist-packages (from aiohttp->datasets) (6.0.2)\n",
            "Requirement already satisfied: yarl<2.0,>=1.0 in /usr/local/lib/python3.7/dist-packages (from aiohttp->datasets) (1.7.2)\n",
            "Requirement already satisfied: async-timeout<5.0,>=4.0.0a3 in /usr/local/lib/python3.7/dist-packages (from aiohttp->datasets) (4.0.2)\n",
            "Requirement already satisfied: frozenlist>=1.1.1 in /usr/local/lib/python3.7/dist-packages (from aiohttp->datasets) (1.3.0)\n",
            "Requirement already satisfied: attrs>=17.3.0 in /usr/local/lib/python3.7/dist-packages (from aiohttp->datasets) (22.1.0)\n",
            "Requirement already satisfied: asynctest==0.13.0 in /usr/local/lib/python3.7/dist-packages (from aiohttp->datasets) (0.13.0)\n",
            "Requirement already satisfied: charset-normalizer<3.0,>=2.0 in /usr/local/lib/python3.7/dist-packages (from aiohttp->datasets) (2.1.0)\n",
            "Requirement already satisfied: zipp>=0.5 in /usr/local/lib/python3.7/dist-packages (from importlib-metadata->transformers) (3.8.1)\n",
            "Requirement already satisfied: pytz>=2017.3 in /usr/local/lib/python3.7/dist-packages (from pandas->datasets) (2022.1)\n",
            "Requirement already satisfied: python-dateutil>=2.7.3 in /usr/local/lib/python3.7/dist-packages (from pandas->datasets) (2.8.2)\n",
            "Requirement already satisfied: six>=1.5 in /usr/local/lib/python3.7/dist-packages (from python-dateutil>=2.7.3->pandas->datasets) (1.15.0)\n"
          ]
        }
      ],
      "source": [
        "!pip install transformers\n",
        "!pip install sentence-transformers\n",
        "!pip install transformers sentencepiece datasets"
      ]
    },
    {
      "cell_type": "code",
      "source": [
        "import os\n",
        "import pandas as pd \n",
        "import matplotlib.pyplot as plt\n",
        "import re\n",
        "\n",
        "from transformers import AutoModel, AutoModelForSequenceClassification, Trainer, TrainingArguments, pipeline\n",
        "from transformers import BertForSequenceClassification, AutoTokenizer\n",
        "from transformers import EarlyStoppingCallback\n",
        "from transformers import (\n",
        "    glue_tasks_num_labels,\n",
        "    AutoConfig,\n",
        "    AutoModelForSequenceClassification,\n",
        "    AutoTokenizer,\n",
        "    Trainer,\n",
        "    GlueDataset,\n",
        "    GlueDataTrainingArguments,\n",
        "    TrainingArguments,\n",
        ")\n",
        "from sentence_transformers import SentenceTransformer, util\n",
        "from sklearn.cluster import KMeans\n",
        "import torch\n",
        "import torch.nn as nn\n",
        "from torch.nn.functional import cross_entropy\n",
        "import gc\n",
        "\n",
        "import datasets\n",
        "from datasets import load_dataset\n",
        "from datasets import DatasetDict\n",
        "from datasets import Dataset\n",
        "\n",
        "import numpy as np\n",
        "from numpy import random\n",
        "from numpy.lib.function_base import average\n",
        "\n",
        "from sklearn.metrics import accuracy_score, f1_score, precision_score, recall_score\n",
        "from sklearn.metrics import ConfusionMatrixDisplay, confusion_matrix"
      ],
      "metadata": {
        "id": "nI7HdfPp1Tif"
      },
      "execution_count": 45,
      "outputs": []
    },
    {
      "cell_type": "markdown",
      "source": [
        "# Load dataset"
      ],
      "metadata": {
        "id": "5yUdGVl6j9uF"
      }
    },
    {
      "cell_type": "code",
      "source": [
        "import os\n",
        "!mkdir /content/emp_chatbot\n",
        "!mkdir emp_chatbot/data"
      ],
      "metadata": {
        "id": "wEHgvo5hhuvA",
        "colab": {
          "base_uri": "https://localhost:8080/"
        },
        "outputId": "e56b7424-a97d-4201-bda2-7f579315f36f"
      },
      "execution_count": 46,
      "outputs": [
        {
          "output_type": "stream",
          "name": "stdout",
          "text": [
            "mkdir: cannot create directory ‘/content/emp_chatbot’: File exists\n",
            "mkdir: cannot create directory ‘emp_chatbot/data’: No such file or directory\n"
          ]
        }
      ]
    },
    {
      "cell_type": "code",
      "source": [
        "!ls"
      ],
      "metadata": {
        "colab": {
          "base_uri": "https://localhost:8080/"
        },
        "id": "c44QIiVZhuxU",
        "outputId": "92df5d38-48f6-4378-a462-e3372a21ff60"
      },
      "execution_count": 47,
      "outputs": [
        {
          "output_type": "stream",
          "name": "stdout",
          "text": [
            "all_emotions_responses.json\n"
          ]
        }
      ]
    },
    {
      "cell_type": "code",
      "source": [
        "os.chdir('/content/emp_chatbot/data')"
      ],
      "metadata": {
        "id": "wdF-q5THhuz8"
      },
      "execution_count": 48,
      "outputs": []
    },
    {
      "cell_type": "code",
      "source": [
        "!gdown --id 1uRPD0QPf-I90CopU9eccvzuqxSfsLcPp"
      ],
      "metadata": {
        "colab": {
          "base_uri": "https://localhost:8080/"
        },
        "id": "_KyArqHthu2B",
        "outputId": "cf67dd5b-207b-4cf6-fd05-f0625073c5f9"
      },
      "execution_count": 49,
      "outputs": [
        {
          "output_type": "stream",
          "name": "stdout",
          "text": [
            "/usr/local/lib/python3.7/dist-packages/gdown/cli.py:131: FutureWarning: Option `--id` was deprecated in version 4.3.1 and will be removed in 5.0. You don't need to pass it anymore to use a file ID.\n",
            "  category=FutureWarning,\n",
            "Downloading...\n",
            "From: https://drive.google.com/uc?id=1uRPD0QPf-I90CopU9eccvzuqxSfsLcPp\n",
            "To: /content/emp_chatbot/data/all_emotions_responses.json\n",
            "100% 2.38M/2.38M [00:00<00:00, 188MB/s]\n"
          ]
        }
      ]
    },
    {
      "cell_type": "code",
      "source": [
        "data_files = {\"train\": \"all_emotions_responses.json\"}\n",
        "ds = load_dataset('json', data_files=data_files)"
      ],
      "metadata": {
        "colab": {
          "base_uri": "https://localhost:8080/",
          "height": 187,
          "referenced_widgets": [
            "09b9870149894681aff7a36c8b38019b",
            "4660f1a3c2af452292e5ab386af468b3",
            "4075286a22124be69ef3e79b948c2527",
            "99112e80ba3c4ae096aeadc50cd5c3ab",
            "cb2845a464c94e64931b7ceaee91ce6f",
            "5f286b4aeae0411189cf53b5b2240b58",
            "6f84cc4d90754671be348998add8280f",
            "af7bbedcbbbe4f798e66b24d741ba372",
            "d10db6da018441f983e2e91f6f9d85e5",
            "e6d480973ba54ba696557391c6db86f3",
            "2fb6daef5d6d48b4aca940a16c275883",
            "1faf34a35bd7414fa2cc9d7fba024450",
            "f6effdab30a64950a16952f25ef381c1",
            "d3d2b83358184759887ce05728472cbb",
            "80a244c066064991ba02bfd4c6b9e17d",
            "7059c8311050409bbf00009ed14b69ed",
            "f7451eb5a9ae42d5bc71385344aa6f74",
            "cc1d6865d1b54854808c14d17571936a",
            "ec757d2346af453f9427c9091c4c9669",
            "dddf355f4720470b83bb90a2985f8f81",
            "066774acc2d249188d39e4b310d2de81",
            "739ec54ad0dc4b518d8c850b0608ef88",
            "01ec6e604cdb4abba5f319da61eb9ef4",
            "42a83751c8fc45c5a14b5f7ee4933cc6",
            "6b1db2258fd54d82b522ddb255b5d662",
            "3f70f343148f445591d4aadbbc71b561",
            "0888f7a5a2614e458245f9c65a6ee724",
            "76b19e78839040959db313701d7d3eb5",
            "f9321af1879649d4ab11727a627b14ac",
            "05c7847cd6754c77a91bde30dc3969af",
            "df1eacd8a125403a9e9203aa0f58f448",
            "3c7713815e9a4c4e9d252f353a8df93e",
            "1aa44954ffa94b8a842d24ed0b13e528",
            "e0188fbcbd4f4e5f96acc2e02abb7d6b",
            "6e8bbecb642241b5be7b0d57d8085bef",
            "8f377db530b74e46a4e66f3e187cfb86",
            "5b6edfd90d754dffa3bd7358304b6add",
            "d98e375ba869475e92167130aaac5a81",
            "6586c8172ea441b9a090868515ca3d6a",
            "243cfd344ccd416cb59fe18f5ea9a065",
            "76221615cfd0438db7625cda277ec2da",
            "40c115a2186249a29b4fc26ac67cc347",
            "ddbc837a614a49baa72341b2ff977c51",
            "52045fe01eda4521ad8b563d71fee4fd"
          ]
        },
        "id": "JulKppqByyjH",
        "outputId": "5d6b18a7-fa39-43f9-eb1f-712b3bf77ca8"
      },
      "execution_count": 50,
      "outputs": [
        {
          "output_type": "stream",
          "name": "stderr",
          "text": [
            "WARNING:datasets.builder:Using custom data configuration default-91cd8b96f53e93d8\n"
          ]
        },
        {
          "output_type": "stream",
          "name": "stdout",
          "text": [
            "Downloading and preparing dataset json/default to /root/.cache/huggingface/datasets/json/default-91cd8b96f53e93d8/0.0.0/a3e658c4731e59120d44081ac10bf85dc7e1388126b92338344ce9661907f253...\n"
          ]
        },
        {
          "output_type": "display_data",
          "data": {
            "text/plain": [
              "Downloading data files:   0%|          | 0/1 [00:00<?, ?it/s]"
            ],
            "application/vnd.jupyter.widget-view+json": {
              "version_major": 2,
              "version_minor": 0,
              "model_id": "09b9870149894681aff7a36c8b38019b"
            }
          },
          "metadata": {}
        },
        {
          "output_type": "display_data",
          "data": {
            "text/plain": [
              "Extracting data files:   0%|          | 0/1 [00:00<?, ?it/s]"
            ],
            "application/vnd.jupyter.widget-view+json": {
              "version_major": 2,
              "version_minor": 0,
              "model_id": "1faf34a35bd7414fa2cc9d7fba024450"
            }
          },
          "metadata": {}
        },
        {
          "output_type": "display_data",
          "data": {
            "text/plain": [
              "0 tables [00:00, ? tables/s]"
            ],
            "application/vnd.jupyter.widget-view+json": {
              "version_major": 2,
              "version_minor": 0,
              "model_id": "01ec6e604cdb4abba5f319da61eb9ef4"
            }
          },
          "metadata": {}
        },
        {
          "output_type": "stream",
          "name": "stdout",
          "text": [
            "Dataset json downloaded and prepared to /root/.cache/huggingface/datasets/json/default-91cd8b96f53e93d8/0.0.0/a3e658c4731e59120d44081ac10bf85dc7e1388126b92338344ce9661907f253. Subsequent calls will reuse this data.\n"
          ]
        },
        {
          "output_type": "display_data",
          "data": {
            "text/plain": [
              "  0%|          | 0/1 [00:00<?, ?it/s]"
            ],
            "application/vnd.jupyter.widget-view+json": {
              "version_major": 2,
              "version_minor": 0,
              "model_id": "e0188fbcbd4f4e5f96acc2e02abb7d6b"
            }
          },
          "metadata": {}
        }
      ]
    },
    {
      "cell_type": "code",
      "source": [
        "ds.reset_format()"
      ],
      "metadata": {
        "id": "_dwP0WJckSSL"
      },
      "execution_count": 51,
      "outputs": []
    },
    {
      "cell_type": "code",
      "source": [
        "import pandas as pd\n",
        "ds.set_format(type=\"pandas\")"
      ],
      "metadata": {
        "id": "BuhtOmQthu4o"
      },
      "execution_count": 52,
      "outputs": []
    },
    {
      "cell_type": "code",
      "source": [
        "ds"
      ],
      "metadata": {
        "colab": {
          "base_uri": "https://localhost:8080/"
        },
        "id": "hSAtWqlekfvV",
        "outputId": "c7a8d996-4ac0-4760-fa30-6f858623b770"
      },
      "execution_count": 53,
      "outputs": [
        {
          "output_type": "execute_result",
          "data": {
            "text/plain": [
              "DatasetDict({\n",
              "    train: Dataset({\n",
              "        features: ['gender', 'age', 'emotion', 'How are you feeling?', 'Was this emotion triggered by a specific event?', 'Was the event recent?', 'Did you find protocol 6 distressing?', 'Did you find protocol 11 distressing?', 'Is it ok to ask additional questions?', 'Have you strongly felt or expressed any of the following emotions towards someone?', 'Do you believe you should be the savior of someone else?', 'Do you feel that you are trying to control someone?', 'Do you see yourself as the victim, blaming someone else for how negative you feel?', 'Are you always blaming and accusing yourself for when something goes wrong?', 'Is it possible that in previous conversations you may not have always considerdother viewpoints presented?', 'Are you undergoing a personal crisis (experience difficulties with loved ones e.g. falling out with friends)?', 'Would you like to attempt protocols for joy?'],\n",
              "        num_rows: 492\n",
              "    })\n",
              "})"
            ]
          },
          "metadata": {},
          "execution_count": 53
        }
      ]
    },
    {
      "cell_type": "markdown",
      "source": [
        "# Generate utterances\n"
      ],
      "metadata": {
        "id": "9KaGd9MskC31"
      }
    },
    {
      "cell_type": "markdown",
      "source": [
        "## Define split utterance dictionary with keys as initial questions and additional questions."
      ],
      "metadata": {
        "id": "2qPORVv19ceV"
      }
    },
    {
      "cell_type": "code",
      "source": [
        "split_utterances = dict()\n",
        "columns = ds['train'].column_names\n",
        "columns_indices = list(range(9,len(columns)-1))\n",
        "additional_questions_columns = [columns[index] for index in columns_indices]\n",
        "joy_question_column = [columns[16]]\n",
        "initial_questions_indices = [4,5,6,7,8]\n",
        "initial_questions_columns = [columns[index] for index in initial_questions_indices]"
      ],
      "metadata": {
        "id": "zJcycqIRzsUJ"
      },
      "execution_count": 81,
      "outputs": []
    },
    {
      "cell_type": "code",
      "source": [
        "joy_question_column"
      ],
      "metadata": {
        "id": "12VTiRX9SOBO",
        "colab": {
          "base_uri": "https://localhost:8080/"
        },
        "outputId": "8dd98aa2-65cc-43a2-a330-594b61cec5d6"
      },
      "execution_count": 82,
      "outputs": [
        {
          "output_type": "execute_result",
          "data": {
            "text/plain": [
              "['Would you like to attempt protocols for joy?']"
            ]
          },
          "metadata": {},
          "execution_count": 82
        }
      ]
    },
    {
      "cell_type": "code",
      "source": [
        "# check columns identified correctly\n",
        "print(initial_questions_columns)\n",
        "print(joy_question_column)\n",
        "print(additional_questions_columns)"
      ],
      "metadata": {
        "colab": {
          "base_uri": "https://localhost:8080/"
        },
        "id": "etz3lmMvavxw",
        "outputId": "f7b7f320-16ef-4612-f3af-6e208e0b89fb"
      },
      "execution_count": 83,
      "outputs": [
        {
          "output_type": "stream",
          "name": "stdout",
          "text": [
            "['Was this emotion triggered by a specific event?', 'Was the event recent?', 'Did you find protocol 6 distressing?', 'Did you find protocol 11 distressing?', 'Is it ok to ask additional questions?']\n",
            "['Would you like to attempt protocols for joy?']\n",
            "['Have you strongly felt or expressed any of the following emotions towards someone?', 'Do you believe you should be the savior of someone else?', 'Do you feel that you are trying to control someone?', 'Do you see yourself as the victim, blaming someone else for how negative you feel?', 'Are you always blaming and accusing yourself for when something goes wrong?', 'Is it possible that in previous conversations you may not have always considerdother viewpoints presented?', 'Are you undergoing a personal crisis (experience difficulties with loved ones e.g. falling out with friends)?']\n"
          ]
        }
      ]
    },
    {
      "cell_type": "code",
      "source": [
        "# define base questions in russian to be used in a splitting operation\n",
        "initial_base_questions = [\"Вы полагаете, что ваше состояние связано с каким то конкретным событием?\", \"Эта проблема возникла у вас недавно?\", \"Методика 6 вызвала у Вас какие-то плохие чувства?\", \"Методика 11 вызвала у Вас какие-то плохие чувства?\", \"я задам вам несколько вопросов?\"]\n",
        "joy_question = ['Я бы хотел предложить Вам одно упражнение']\n",
        "base_questions = [\"вы испытываете к кому-либо злость, зависть или агрессию?\", \"Вы чуствуете ответственность за кого-либо?\", \"Вам кажется, что вы хотите кого то контролировать?\", \"Вы испытываете ощущение жертвы и вините кого то в своём состоянии?\", \"Считаете ли вы себя причиной проблемы?\", \"Как часто Вы настаиваете на своей позиции не принимая во внимание позицию собеседников?\", \"Есть ли у вас сложности с друзьями, возможно в личной жизни?\"]"
      ],
      "metadata": {
        "id": "5cHMGD2a0NnY"
      },
      "execution_count": 84,
      "outputs": []
    },
    {
      "cell_type": "code",
      "source": [
        "split_utterances[\"base_questions\"] = base_questions\n",
        "split_utterances ['initial_base_questions'] = initial_base_questions\n",
        "split_utterances['joy_question'] = joy_question"
      ],
      "metadata": {
        "id": "69znoS7K1kTF"
      },
      "execution_count": 85,
      "outputs": []
    },
    {
      "cell_type": "markdown",
      "source": [
        "## Split original utterances into empathy and base utterance\n"
      ],
      "metadata": {
        "id": "Kf1Hnq0NkSiM"
      }
    },
    {
      "cell_type": "code",
      "source": [
        "# extract emotion names\n",
        "ds.set_format(type=\"pandas\")\n",
        "emotions = ds['train'].unique('emotion')\n",
        "ds.reset_format()"
      ],
      "metadata": {
        "id": "UMPc4jAU2mVi"
      },
      "execution_count": 91,
      "outputs": []
    },
    {
      "cell_type": "code",
      "source": [
        "# define a tokenizer for feature extraction\n",
        "tokenizer = AutoTokenizer.from_pretrained(\"DeepPavlov/rubert-base-cased-sentence\")\n",
        "\n",
        "model = AutoModel.from_pretrained(\"DeepPavlov/rubert-base-cased-sentence\")\n",
        "pipe = pipeline(\"feature-extraction\", model=model, tokenizer=tokenizer)"
      ],
      "metadata": {
        "id": "6auJG-Ie1Oc6"
      },
      "execution_count": 87,
      "outputs": []
    },
    {
      "cell_type": "code",
      "source": [
        "# a function to split an utterance into a base and an empathetic part\n",
        "def split_emp_base(corpus, base_utterance):\n",
        "  base_embedding = pipe(base_utterance)\n",
        "  base_utterances = []\n",
        "  empathy_utterances = []\n",
        "\n",
        "  for sentence in corpus:\n",
        "    my_list = re.split('[.!?]', sentence)\n",
        "    if '' in my_list:\n",
        "      my_list.remove('')\n",
        "    simil_list = []\n",
        "    for sent in my_list:\n",
        "      simil = util.cos_sim(base_embedding[0][0], pipe(sent)[0][0])\n",
        "      simil_list.append(simil)\n",
        "    if len(my_list) >=2:\n",
        "      if simil_list[0] < simil_list[1]:\n",
        "        empathy_utterances.append(my_list[0])\n",
        "        base_utterances.append(my_list[1])\n",
        "    elif len(my_list)==1:\n",
        "      base_utterances.append(my_list[0])\n",
        "  return base_utterances, empathy_utterances"
      ],
      "metadata": {
        "id": "mBDV9OY4wQ5F"
      },
      "execution_count": 88,
      "outputs": []
    },
    {
      "cell_type": "code",
      "source": [
        "# complete \"split_utterances\" dictionary with initial/additional base and empathy sentences\n",
        "for emotion in emotions:\n",
        "  emotion_filtered = ds.filter(lambda x: x['emotion'] == emotion)\n",
        "  internal_dict = dict()\n",
        "  if emotion == \"joy\":\n",
        "    additional_questions = 'joy_base_sentences'\n",
        "    base_question = \"joy_question\"\n",
        "    columns = joy_question_column\n",
        "    empathy_sentences = 'joy_empathy_sentences'\n",
        "  else:\n",
        "    additional_questions = 'base_sentences'\n",
        "    base_question = \"base_questions\"\n",
        "    columns = additional_questions_columns\n",
        "    empathy_sentences = \"empathy_sentences\"\n",
        "\n",
        "\n",
        "  internal_dict.setdefault(additional_questions,[])\n",
        "  internal_dict.setdefault(empathy_sentences,[])\n",
        "  for index, column in enumerate(columns):\n",
        "    print(columns)\n",
        "    corpus = emotion_filtered['train'][column]\n",
        "    base_utterance, empathy_utterance = split_emp_base(corpus, base_utterance=split_utterances[base_question][index])\n",
        "    internal_dict[additional_questions].append(base_utterance)\n",
        "    internal_dict[empathy_sentences].extend(empathy_utterance)\n",
        "  split_utterances[emotion] = internal_dict\n",
        "  \n",
        "  internal_dict_initial = dict()\n",
        "  internal_dict_initial.setdefault('initial_base_sentences',[])\n",
        "  internal_dict_initial.setdefault('initial_empathy_sentences',[])\n",
        "  for index, column in enumerate(initial_questions_columns):\n",
        "    corpus = emotion_filtered['train'][column]\n",
        "    base_utterance, empathy_utterance = split_emp_base(corpus, base_utterance=split_utterances[\"initial_base_questions\"][index])\n",
        "    internal_dict_initial['initial_base_sentences'].append(base_utterance)\n",
        "    internal_dict_initial['initial_empathy_sentences'].append(empathy_utterance)\n",
        "  \n",
        "  internal_dict.update(internal_dict_initial)\n",
        "  split_utterances[emotion] = internal_dict\n",
        "\n",
        "\n",
        "print(split_utterances)"
      ],
      "metadata": {
        "colab": {
          "base_uri": "https://localhost:8080/"
        },
        "id": "MiBJGxk52F3w",
        "outputId": "d669d949-d70c-4fb7-8257-1d4a2bd65987"
      },
      "execution_count": 97,
      "outputs": [
        {
          "output_type": "stream",
          "name": "stderr",
          "text": [
            "WARNING:datasets.arrow_dataset:Loading cached processed dataset at /root/.cache/huggingface/datasets/json/default-91cd8b96f53e93d8/0.0.0/a3e658c4731e59120d44081ac10bf85dc7e1388126b92338344ce9661907f253/cache-2db6a1814731a6a0.arrow\n"
          ]
        },
        {
          "output_type": "stream",
          "name": "stdout",
          "text": [
            "['Have you strongly felt or expressed any of the following emotions towards someone?', 'Do you believe you should be the savior of someone else?', 'Do you feel that you are trying to control someone?', 'Do you see yourself as the victim, blaming someone else for how negative you feel?', 'Are you always blaming and accusing yourself for when something goes wrong?', 'Is it possible that in previous conversations you may not have always considerdother viewpoints presented?', 'Are you undergoing a personal crisis (experience difficulties with loved ones e.g. falling out with friends)?']\n",
            "['Have you strongly felt or expressed any of the following emotions towards someone?', 'Do you believe you should be the savior of someone else?', 'Do you feel that you are trying to control someone?', 'Do you see yourself as the victim, blaming someone else for how negative you feel?', 'Are you always blaming and accusing yourself for when something goes wrong?', 'Is it possible that in previous conversations you may not have always considerdother viewpoints presented?', 'Are you undergoing a personal crisis (experience difficulties with loved ones e.g. falling out with friends)?']\n",
            "['Have you strongly felt or expressed any of the following emotions towards someone?', 'Do you believe you should be the savior of someone else?', 'Do you feel that you are trying to control someone?', 'Do you see yourself as the victim, blaming someone else for how negative you feel?', 'Are you always blaming and accusing yourself for when something goes wrong?', 'Is it possible that in previous conversations you may not have always considerdother viewpoints presented?', 'Are you undergoing a personal crisis (experience difficulties with loved ones e.g. falling out with friends)?']\n",
            "['Have you strongly felt or expressed any of the following emotions towards someone?', 'Do you believe you should be the savior of someone else?', 'Do you feel that you are trying to control someone?', 'Do you see yourself as the victim, blaming someone else for how negative you feel?', 'Are you always blaming and accusing yourself for when something goes wrong?', 'Is it possible that in previous conversations you may not have always considerdother viewpoints presented?', 'Are you undergoing a personal crisis (experience difficulties with loved ones e.g. falling out with friends)?']\n",
            "['Have you strongly felt or expressed any of the following emotions towards someone?', 'Do you believe you should be the savior of someone else?', 'Do you feel that you are trying to control someone?', 'Do you see yourself as the victim, blaming someone else for how negative you feel?', 'Are you always blaming and accusing yourself for when something goes wrong?', 'Is it possible that in previous conversations you may not have always considerdother viewpoints presented?', 'Are you undergoing a personal crisis (experience difficulties with loved ones e.g. falling out with friends)?']\n",
            "['Have you strongly felt or expressed any of the following emotions towards someone?', 'Do you believe you should be the savior of someone else?', 'Do you feel that you are trying to control someone?', 'Do you see yourself as the victim, blaming someone else for how negative you feel?', 'Are you always blaming and accusing yourself for when something goes wrong?', 'Is it possible that in previous conversations you may not have always considerdother viewpoints presented?', 'Are you undergoing a personal crisis (experience difficulties with loved ones e.g. falling out with friends)?']\n",
            "['Have you strongly felt or expressed any of the following emotions towards someone?', 'Do you believe you should be the savior of someone else?', 'Do you feel that you are trying to control someone?', 'Do you see yourself as the victim, blaming someone else for how negative you feel?', 'Are you always blaming and accusing yourself for when something goes wrong?', 'Is it possible that in previous conversations you may not have always considerdother viewpoints presented?', 'Are you undergoing a personal crisis (experience difficulties with loved ones e.g. falling out with friends)?']\n"
          ]
        },
        {
          "output_type": "stream",
          "name": "stderr",
          "text": [
            "WARNING:datasets.arrow_dataset:Loading cached processed dataset at /root/.cache/huggingface/datasets/json/default-91cd8b96f53e93d8/0.0.0/a3e658c4731e59120d44081ac10bf85dc7e1388126b92338344ce9661907f253/cache-549b016a35216eb8.arrow\n"
          ]
        },
        {
          "output_type": "stream",
          "name": "stdout",
          "text": [
            "['Have you strongly felt or expressed any of the following emotions towards someone?', 'Do you believe you should be the savior of someone else?', 'Do you feel that you are trying to control someone?', 'Do you see yourself as the victim, blaming someone else for how negative you feel?', 'Are you always blaming and accusing yourself for when something goes wrong?', 'Is it possible that in previous conversations you may not have always considerdother viewpoints presented?', 'Are you undergoing a personal crisis (experience difficulties with loved ones e.g. falling out with friends)?']\n",
            "['Have you strongly felt or expressed any of the following emotions towards someone?', 'Do you believe you should be the savior of someone else?', 'Do you feel that you are trying to control someone?', 'Do you see yourself as the victim, blaming someone else for how negative you feel?', 'Are you always blaming and accusing yourself for when something goes wrong?', 'Is it possible that in previous conversations you may not have always considerdother viewpoints presented?', 'Are you undergoing a personal crisis (experience difficulties with loved ones e.g. falling out with friends)?']\n",
            "['Have you strongly felt or expressed any of the following emotions towards someone?', 'Do you believe you should be the savior of someone else?', 'Do you feel that you are trying to control someone?', 'Do you see yourself as the victim, blaming someone else for how negative you feel?', 'Are you always blaming and accusing yourself for when something goes wrong?', 'Is it possible that in previous conversations you may not have always considerdother viewpoints presented?', 'Are you undergoing a personal crisis (experience difficulties with loved ones e.g. falling out with friends)?']\n",
            "['Have you strongly felt or expressed any of the following emotions towards someone?', 'Do you believe you should be the savior of someone else?', 'Do you feel that you are trying to control someone?', 'Do you see yourself as the victim, blaming someone else for how negative you feel?', 'Are you always blaming and accusing yourself for when something goes wrong?', 'Is it possible that in previous conversations you may not have always considerdother viewpoints presented?', 'Are you undergoing a personal crisis (experience difficulties with loved ones e.g. falling out with friends)?']\n",
            "['Have you strongly felt or expressed any of the following emotions towards someone?', 'Do you believe you should be the savior of someone else?', 'Do you feel that you are trying to control someone?', 'Do you see yourself as the victim, blaming someone else for how negative you feel?', 'Are you always blaming and accusing yourself for when something goes wrong?', 'Is it possible that in previous conversations you may not have always considerdother viewpoints presented?', 'Are you undergoing a personal crisis (experience difficulties with loved ones e.g. falling out with friends)?']\n",
            "['Have you strongly felt or expressed any of the following emotions towards someone?', 'Do you believe you should be the savior of someone else?', 'Do you feel that you are trying to control someone?', 'Do you see yourself as the victim, blaming someone else for how negative you feel?', 'Are you always blaming and accusing yourself for when something goes wrong?', 'Is it possible that in previous conversations you may not have always considerdother viewpoints presented?', 'Are you undergoing a personal crisis (experience difficulties with loved ones e.g. falling out with friends)?']\n",
            "['Have you strongly felt or expressed any of the following emotions towards someone?', 'Do you believe you should be the savior of someone else?', 'Do you feel that you are trying to control someone?', 'Do you see yourself as the victim, blaming someone else for how negative you feel?', 'Are you always blaming and accusing yourself for when something goes wrong?', 'Is it possible that in previous conversations you may not have always considerdother viewpoints presented?', 'Are you undergoing a personal crisis (experience difficulties with loved ones e.g. falling out with friends)?']\n"
          ]
        },
        {
          "output_type": "stream",
          "name": "stderr",
          "text": [
            "WARNING:datasets.arrow_dataset:Loading cached processed dataset at /root/.cache/huggingface/datasets/json/default-91cd8b96f53e93d8/0.0.0/a3e658c4731e59120d44081ac10bf85dc7e1388126b92338344ce9661907f253/cache-d9693cd6a5aef87e.arrow\n"
          ]
        },
        {
          "output_type": "stream",
          "name": "stdout",
          "text": [
            "['Have you strongly felt or expressed any of the following emotions towards someone?', 'Do you believe you should be the savior of someone else?', 'Do you feel that you are trying to control someone?', 'Do you see yourself as the victim, blaming someone else for how negative you feel?', 'Are you always blaming and accusing yourself for when something goes wrong?', 'Is it possible that in previous conversations you may not have always considerdother viewpoints presented?', 'Are you undergoing a personal crisis (experience difficulties with loved ones e.g. falling out with friends)?']\n",
            "['Have you strongly felt or expressed any of the following emotions towards someone?', 'Do you believe you should be the savior of someone else?', 'Do you feel that you are trying to control someone?', 'Do you see yourself as the victim, blaming someone else for how negative you feel?', 'Are you always blaming and accusing yourself for when something goes wrong?', 'Is it possible that in previous conversations you may not have always considerdother viewpoints presented?', 'Are you undergoing a personal crisis (experience difficulties with loved ones e.g. falling out with friends)?']\n",
            "['Have you strongly felt or expressed any of the following emotions towards someone?', 'Do you believe you should be the savior of someone else?', 'Do you feel that you are trying to control someone?', 'Do you see yourself as the victim, blaming someone else for how negative you feel?', 'Are you always blaming and accusing yourself for when something goes wrong?', 'Is it possible that in previous conversations you may not have always considerdother viewpoints presented?', 'Are you undergoing a personal crisis (experience difficulties with loved ones e.g. falling out with friends)?']\n",
            "['Have you strongly felt or expressed any of the following emotions towards someone?', 'Do you believe you should be the savior of someone else?', 'Do you feel that you are trying to control someone?', 'Do you see yourself as the victim, blaming someone else for how negative you feel?', 'Are you always blaming and accusing yourself for when something goes wrong?', 'Is it possible that in previous conversations you may not have always considerdother viewpoints presented?', 'Are you undergoing a personal crisis (experience difficulties with loved ones e.g. falling out with friends)?']\n",
            "['Have you strongly felt or expressed any of the following emotions towards someone?', 'Do you believe you should be the savior of someone else?', 'Do you feel that you are trying to control someone?', 'Do you see yourself as the victim, blaming someone else for how negative you feel?', 'Are you always blaming and accusing yourself for when something goes wrong?', 'Is it possible that in previous conversations you may not have always considerdother viewpoints presented?', 'Are you undergoing a personal crisis (experience difficulties with loved ones e.g. falling out with friends)?']\n",
            "['Have you strongly felt or expressed any of the following emotions towards someone?', 'Do you believe you should be the savior of someone else?', 'Do you feel that you are trying to control someone?', 'Do you see yourself as the victim, blaming someone else for how negative you feel?', 'Are you always blaming and accusing yourself for when something goes wrong?', 'Is it possible that in previous conversations you may not have always considerdother viewpoints presented?', 'Are you undergoing a personal crisis (experience difficulties with loved ones e.g. falling out with friends)?']\n",
            "['Have you strongly felt or expressed any of the following emotions towards someone?', 'Do you believe you should be the savior of someone else?', 'Do you feel that you are trying to control someone?', 'Do you see yourself as the victim, blaming someone else for how negative you feel?', 'Are you always blaming and accusing yourself for when something goes wrong?', 'Is it possible that in previous conversations you may not have always considerdother viewpoints presented?', 'Are you undergoing a personal crisis (experience difficulties with loved ones e.g. falling out with friends)?']\n"
          ]
        },
        {
          "output_type": "stream",
          "name": "stderr",
          "text": [
            "WARNING:datasets.arrow_dataset:Loading cached processed dataset at /root/.cache/huggingface/datasets/json/default-91cd8b96f53e93d8/0.0.0/a3e658c4731e59120d44081ac10bf85dc7e1388126b92338344ce9661907f253/cache-05282c641bbaaf5b.arrow\n"
          ]
        },
        {
          "output_type": "stream",
          "name": "stdout",
          "text": [
            "['Would you like to attempt protocols for joy?']\n",
            "{'base_questions': ['вы испытываете к кому-либо злость, зависть или агрессию?', 'Вы чуствуете ответственность за кого-либо?', 'Вам кажется, что вы хотите кого то контролировать?', 'Вы испытываете ощущение жертвы и вините кого то в своём состоянии?', 'Считаете ли вы себя причиной проблемы?', 'Как часто Вы настаиваете на своей позиции не принимая во внимание позицию собеседников?', 'Есть ли у вас сложности с друзьями, возможно в личной жизни?'], 'initial_base_questions': ['Вы полагаете, что ваше состояние связано с каким то конкретным событием?', 'Эта проблема возникла у вас недавно?', 'Методика 6 вызвала у Вас какие-то плохие чувства?', 'Методика 11 вызвала у Вас какие-то плохие чувства?', 'я задам вам несколько вопросов?'], 'joy_question': ['Я бы хотел предложить Вам одно упражнение'], 'joy': {'joy_base_sentences': [[' У меня есть новое интересное задание для вас, чтобы поддержать положительную динамику', ' Чтобы закрепить, могу посоветовать некоторые упражнения', ' Думаю Вам очень понравится моё предложение по эффективной программе', ' Я бы хотел предложить вам, одну интересную методику', '\\nЯ хочу вам порекомендовать ещё программу для поддержания хорошего настроени\\n', 'я очень рад что у вас хорошее настроение я вам порекомендую одно упражнения для фиксации вашего настроения ', 'Я бы хотел порекомендовать Вам оставаться в том же радостном настроении', ' Могу предложить Вам упражнение, чтобы стало ещё лучше', ' Я бы хотела показать вам одно упражнение для поднятия настроения, чтоб у вас и дальше все было хорошо, и вы чувствовали себя прекрасно', 'У меня есть отличное предложение, которое, как мне кается, подойдет именно вам', ' Я бы хотела порекомендовать вам упражнение дыхания, чтобы когда вам становилось тревожно, вы использовали его', ' Хочу посоветовать вам рекомендацию по выполнению неких упражнений', ' Сделать жизнь постоянно радостной поможет нужное питание, поддержка настроения с помощью специальных установок и упражнений', ' Поэтому я вам рекомендую все мои советы не забывать и контролировать свои эмоции', 'Я очень рад, что у вас все хорошо, я бы хотел вам посоветовать одно занятие', ' Давайте теперь попробуем вот такое упражнение', ' Хотел посоветовать Вам йогу', ' Но мне кажется не лишним будет дать Вам рекоммендацию по одной интереной программе', '', ' К этому дам свои рекомендации с целью продлить ваш позитивный настрой', ' Я бы хотел, чтобы вы закрепили своё позитивное состояние комплексом упражнений', ' Хочу посоветовать вам одну практику', ' Но чтобы закрепить результат, надо пройти курс индивидуальных упражнений', ' На будущее я бы вам порекомендовал чаще так поступать', ' Я бы очень хотел тебе порекомендовать заниматься и делать упражнения, чтобы оставаться таким же позитивным', ' Думаю вам понравится мое предложение', ' Для закрепления успеха я бы хотел порекомендовать вам одно упражнение', ' Я бы хотела порекомендовать для вас занятия йогой на свежем воздухе, для большего расслабления', ' Вам не помешало бы еще вот эта методика, попробуйте', 'Я хочу предложить для вас программу', ' Я бы с удовольствием посоветовал вам одну программу ', ' Я бы хотел предложить Вам упражнение для поднятия духа, самооценки и умиротворенности', ' Мне очень хочется посоветовать вам одну программу', ' У меня есть одна программа для поддержания у Вас позитивных эмоций ,рекомендую', ' Возможно, вас как раз заинтересует одна программа упражнений', ' Я бы хотел предложить Вам одно упражнение', ' Я хотел бы предложить вам такую программу', ' Я бы хотел поделится с тобой этим упражнением', ' В таком случае я бы хотел порекомендовать вам упражнение, которое позволит вам сохранить прекрасный настрой', ' Мне бы хотелось дать вам рекомендацию по вашей ситуации', ' Могу предложить вам программу для обретения 100 процентной уверенности в своих силах', ' Кстати говоря, я бы очень хотел порекомендовать вам мою новую уникальную программу', '\\nТеперь мне бы хотелось вам посоветовать с первых дней оправдать возложенное на вас доверие, связанное с вашей новой должностью', 'прекрасно, что вы живете в ладу с генеральной линией нашего мудрого и социально ответственного государства, замечательно, что у вас прекрасный работодатель, а в магазин вы сегодня заходили', ' Так как в жизни все идёт полосами, то для максимального продления этого прекрасного состояния, я рекомендую Вам комплекс специальных упражений, закрепляющих эффект счастья', ' Я бы хотел предложить вам психологическое упражнение, чтобы разделить эту радость с близкими людьми', 'Я бы хотел вам предложить куда-нибудь сходить, например в бассейн', ' я бы хотела вам порекомендовать упражнение вдох через нос выдох через рот', ' Могу порекомендовать на отдых юг Испании', ' Но чтобы и дальше всё было хорошо, желаю вам побольше гулять и заниматься спортом', ' Хотелось бы посоветовать вам одно упражнение', ' Вы не против, если я предложу вам одно упражнение', ' У меня есть несколько уроков для вас', ' Я бы хотел посоветовать вам больше дышать на свежем воздухе', '', 'Я рад слышать что у вас хорошее настроение сегодня, сегодня я бы порекомендовал вам одну программу ', ' Хочу предложить вам несколько действий, которые помогут не потерять это удовольствие:', ' Я уверен, что и дальше у вас будет все хорошо', ' Вас скорее всего заинтересует упражнение', ' На мой взгляд, для того, чтобы такое состояние радовало вас как можно чаще, можно использовать упражнения ', ' Я могу порекомендовать вам упражнение', ' хочу вам предложить упражнение чтобы и дальше чувствовать радость и быть в хорошем настроение', ' Для поддержания хорошего настроения я хотел бы вам порекомендовать персональную программу', ' У меня есть для Вас одна замечательная программа', ' Я радуюсь вместе с вами', ' Я бы хотел порекомендовать для вас такое упражнение: \"Каждый день просыпаясь вы говорите себе, что сегодня прекрасный день и у меня, как всегда, будет все замечательно\"', 'Это отличная новость, Попробуте еще одну методику, я надеюсь, она тоже поможет вам в начинаниях', 'у меня для вас хорошая новость-хочу предложить вам новый курс', 'Я хотел бы порекомендовать вам упражнение', ' Хочу дать вам ценный источник новых знаний - комплекс упражнений', ' Но у меня есть особая программа для таких случаев', ' Хотел бы порекомендовать для вас программу по которой вы сможете поддерживать своё настроение в тонусе', 'Могу предложить Вам программу', ' Постарайтесь запомнить свои ощущения и аспекты, которые к ним привели', ' Я могу предложить вам новую дополнительную программу', '  Мог бы вам порекомендовать упражнение', ' Мне хотелось бы посоветовать вам одну из программ', ' Хотел бы пройти с вами этот несложный тест', ' Вот что я хочу вам посоветовать как психолог', ' Позвольте мне предложить вам программу тренировок', ' У меня есть для вас хорошее предложение, которое поможет вам в дальнейшем, позвольте порекомендовать для вас одно упражнение', 'Я думаю вам сейчас нужно закрепить ваш результат', 'что вы рады приобретению', ' Хочу посоветовать для вас упражение которое поможет ', '  Для продвижения на пути принятия себя и мира хотел бы предложить программу дыхательных практик- благодаря им жизнь может заиграть новыми красками', ' Мне бы хотелось, чтобы Вы выполнили следующее упражнение', ' Я хотел что бы вы продолжили то чем сейчас занимаетесь, и в дополнение хочу порекомендовать новую программу помощи', ' В дополнение хотел бы посоветовать упражнение, которое поможет закрепить результат', ' Я бы хотел предложить пройти вам курс одной хорошей программы', ' Для продления вашей удачи, рекомендую вам программу \"\"', ' У меня есть очень действенное предложение для Вас', ' Мне хочется познакомить вас с программой упражнений, которые помогут вам надолго оставаться в таком состоянии', 'Доброе утро, вижу что ты в прекрасном настроении, расскажи что тебя так порадовало', ' И хотел бы предложить вам свою уникальный комплекс упрожнений по поддержанию эмоционального настроения', 'Я очень рад что у вас всё хорошо, не хотели бы вы попробовать новую интересную программу для управления ', ' У меня для вас есть рекомендуемая программа', ' Вдобавок ко всему,я хотел бы вам предложить программу для закрепления этого результата', ' Однако я все-таки хочу Вам посоветовать профилактический курс, чтобы избегать резких перепадов в настроении', ' Для того, чтобы продлить это ощущение и закрепить его в сознании, предлагаю попробовать новую методику', 'Я рад, что у вас всё хорошо и хотел бы порекамендовать отличную программу', ' Хочу порекомендовать одну несложную процедуру', ' Хочу порекомендовать вам одно упражнение', ' Чтобы это состояние у вас держалось как можно дольше и чаще, хочу порекомендовать вам следующие упражнения', ' Мне бы хотелось вам посоветовать одну очень интересную программу', ' Могу порекомендовать Вам очень интересное упражнение для Вас', ' И я готов вам порекомендовать новую программу, она еще лучше поможет вам', 'мне приятно слышать ,что вы в хорошем настроении, \\nЯ бы хотел порекомендовать вам слушать по утрам медитации и делать дыхательные упражнения', '  Могу предложить Вам новую методику по стабилизации вашего прекрасного настроения', ' Предлагаю совместить приятное с полезным и мою программу', ' Я надеюсь вы не против  )) ', ' Я хочу посоветовать для вас вот эту программу упражнений', ' Что бы и дальше все так продолжалось хочу порекомендовать вам пару упражнений', 'Выдумав персонажа, живите им, примите на себя его (её) личину, и поверьте, вы начнете чувствовать то, что чувствует ваш герой, вы сможете увидеть мир его (её) глазами', ' А еще я бы хотел порекомендовать для вас одну методику по самореализации', ' Я бы хотел порекомендовать для вас одно упражнение: запомните это состояние, в трудные моменты старайтесь поддержать себя, думая о радостных событиях', ' Я подберу для вас специальную программу', 'Мне приятно слышать, что дома у Вас порядок, а вот что касается работы, могу посоветовать хорошую технику, что бы достигнуть равновесия', ' у меня для вас есть одна программа', ' Продолжайте заниматься по моей методике, и закрепите результаты', ' но все такидавай с вами выполним вот это упражнение', ' Я бы хотел вам порекомендовать быть больше на природе', 'Рада за ваше расположение духа  Ане заняться ли нам рисованием ну что в студию', 'Человек находится в состоянии эмоциональной возбуждённости положительного типа', ' Хотелось бы порекомендовать вам не унывать и радоваться каждому дню', ' Хотите продлить этот эффект', ' Мне хотелось бы порекомендовать вам замечательную практику', ' Для вас хотелось бы посоветовать особое упражнение', ' Чтобы чаще испытывать такие чувства я могу вам кое-что посоветовать', ' Хочется что бы вы так  и дальше держались ,поэтому я бы вам порекомендовал программу для введения записи всех вещей которые вам приносят радость ', ' Могу порекомендовать вам специальное упражнение', ' Хотел бы вам порекомендовать упражнение при котором вы всегда будете чувствовать отлично', 'Рад слышать что у вас хороший день, вы слышали о новых упражнениях  ', ' Я посоветовал бы вам больше времени проводить на свежем воздухе', ' у нас есть предложение специально для вас, не хотели бы попробовать', ' Я бы хотел порекомендовать Вам упражнения, направленные на закрепление позитивных тенденций в восприятии окружающего мира и позволяющие находиться в бодром расположении духа', ' Я думаю вас заинтересует новая программа', 'Мне очень приятно слишать, что вы в хорошем расположении дух', ' Для его поддержания я хотел бы порекомендовать вам одно упражнение', ' Я надеюсь вы не против', 'Я хочу вам порекомендовать программу', ' Хотел бы представить вам упражнение на закрепление Вашего положительного настроя ', ' Хотелось бы порекомендовать вам упражнения, для поддержания подобного тонуса в организме, как вы на это смотрите', 'Приятно видеть что вы в хорошем настроений\\nЕсть несколько упражнении которые подходят для вас', ' Хочу предложить Вам программу, она будет очень кстати для Вас', ' В связи с этим я бы посоветовал вам изучить программу дистанционного обучения для того направления которое вам будет интересно', ' Но я рекомендую Вам бросить пить', ' Ещё я бы хотел порекомендовать вам, новую систему упражнений', ' хочу порекомендовать вам еще одну программу специально для вас', ' Хочу внести свою лепту в сохранении вашего отличного настроения и настоятельно рекомендую следующий комплекс упражнений', ')))', ' Я бы хотела порекомендовать вам запомнить это состояние души вызывать его у себя, когда будет плохое настроение или просто для воодушевления', ' Я бы хотел порекомендовать вам данное упражнение описание в этой книге', ' Для вас есть замечательное предложение', ' \\nДля того, чтобы ваше прекрасное расположение духа оставалось с Вами намного дольше, я нашел замечательные упражнения', ' Я очень рад вашим успехам', ' Чтобы подольше у Вас продержалось это состояние, хочу посоветовать Вам одно психологическое упражнение', ' И я могу предложить Вам кое-что новенькое в прцесс обучения', ' Я хочу вам предложить следующее упражнение ', ' Я бы хотел предложить вам программу', ' Желаю продолжать жить в том же духе', ' Я бы хотела порекомендовать Вам вступить в группу единомышленников', ' Мне бы хотелось предложить вам следующую программу', ' Я бы хотел вам рекомендовать продолжать пребывать в таком настроении и радоваться каждому дню', ' Мне хотелось бы порекомендовать для вас интересную программу', ' Теперь я хотел бы посоветовать Вам пройти одну программу, которая заключается в том, что', 'у меня есть для вас хорошие упражнения для поднятия духа', ' Хочу предложить вам любопытную программу', ' И у меня есть интересная программа на эту тему', ' Попробуем закрепить позитивный настрой практическим заданием', ' Позвольте предложить вам теперь групповые занятие, я думаю, вы к ним готовы', ' Для поддержания вашего состояния я бы хотел вам порекомендовать одно упражнение', 'Чтобы настроение было ещё лучше, можно выполнить парочку упражнений из одной програмки', ' И как раз раз вы затронули тему прекрасного, я и хотел вам предложить новую программу по саморазвитию и переоценке ценностей', ' Я бы хотел порекомендовать для вас отдых на море', ' Хотела бы вам порекомендовать программу', 'Мне очень приятно знать, что всё хорошо', ' Думаю что надо продолжать нашу программу ', ' Хочу порекомендовать вам одну методику', ' Попробуйте мою программу, многие остались довольны', ' Могу предложить вам замечательную программу', ' хочу вам предложить программу ', ' Хочу предложить вам программу для поддержания такого состояния', 'Хочу предложить тебе одну программу ', ' Я хачу посоветовать вам курс небольших упражнений чтобы вы как можно чаще прибывали в таком состоянии как сейчас', ' Что бы сохранять это состояние, могу порекомендовасть специальные упражнения', ' У меня есть для вас несколько упражнений, которые помогут закрепить это состояние и поддерживать его', ' Надеюсь вам стало лучше\\nПосле улучшения Вашего состояния, перейдём к следующему этапу нашего курса', ' Мне бы хотелось дать рекомендацию упражнения', ' Я хотел бы вам сделать предложение попробовать новую поограмму', ' Но, для того, чтобы сохранить данное состояние организма, я хочу вам порекомендовать несколько очень эффективных упражнений', ' Позвольте порекомендовать вам одно упражнение ', 'я искренне рад вашей нынешней ситуации,приступим к беседе', ' Я хочу дать вам задание', ' У меня есть для вас интересное предложения, которое однозначно пойдет вам на пользу', ' У меня есть для вас интересное упражнение, чтобы вы всегда могли легко оценить баланс своего состояния', '\\nДля поддержания такого настроения, рекомендую вам принимать витамин ', ' Хотел бы порекомендовать вам упражнение для снятие тревожности и стресса', 'Советую вам попробовать делать', ' Мне бы очень хотелось , чтоб ты принял участие в программе реабилитации душевного состояния', ' Поэтому я хочу порекомендовать Вам специальную программу', ' Но все же я бы посоветовал для вас ряд упражнений для поддержания нашего прогресса', ' У меня есть для вас пара полезных упражнений', ' Оно мне передаётся, ты можешь свернуть горы, когда так себя ощущаешь', 'У меня для вас есть хорошая программа упражнений', ' Для закрепления, попробуйте  выполнить  следующую несложную программу:', '', ' Я бы хотел порекомендовать для вас упражнение для сохранения хорошего настроения', ' Он хочет рассказать мне о своей радости', ' Я бы хотела посоветовать Вам пройти вебинар \"Счастливая женщина\"', ' Я хочу Вам предложить новые упражнения для закрепления результата', ' Даже отлично', ' Однако помимо всего прочего я хотел бы порекомендовать вам одно весьма действенную программу по дыхательным практикам', '\\nЯ хочу порекомендовать Вам упражнения для дыхания', ' Чтобы закрепить это, попробуйте программу, я вам её составила ', ' На этой позитивной волне предлагаю вам пройти этот несложный тест', '  Но для закрепления результата предлагаю пройти курс определённых упражнений', ' Но для закрепления положительного результата, могу порекомендовать следующие упражнения', 'Мне бы хотелось чтобы вы поучаствовали в программе/упражнении, мне кажется это может улучшить ситуацию', ' Также для укрепления положительного эффекта посоветую комплекс упражнений', ' Чтобы продлить это состояние попробуйте пройти программу ', ' Надо закрепить успех, я бы хотела порекомендовать проговаривать аффирмации ( я уверенна в себе, я счастлива, я здорова)', ' Я бы вам порекомендовала упражнение', ' Я бы с удовольствием порекомендовал бы вам новую психологическую программу которая может вам помочь']], 'joy_empathy_sentences': ['Рад видеть, что вы сегодня с хорошим настроением', 'Рад за вас, вижу, что светитесь', 'Очень рад, что у Вас всё хорошо', 'Я очень рад, что у вас всё хорошо', 'Это замечательно, что у вас такое замечательное настроение', 'Я рад Вас видеть в таком радостном настроении', 'Я рада, что у Вас такое хорошее настроение', 'Я очень рада, что у вас все прекрасно', 'Вы меня очень радуете, мне очень приятно смотреть на то как ваше настроение меняется в лучшую сторону', 'Мне радостно понимать, что у вас хорошее настроение и поднятый дух', 'Очень приятно что вы пришли ко мне с таким настроением', 'Я безумно рад что мои советы вам помогли стать счастливым и брести свою вторую половинку', 'Я рад это слышать', 'Я очень рад что вы  себя хорошо чувствуете', 'Я рад что у Вас всё прекрасно', 'Мне очень приятно слышать ,что вы в хорошем настроение ) Я бы рекомендовал массаж для расслабления ', 'Замечательно что у вас все хорошо', 'Я очень рад, что вы в прекрасном настроении', 'Я вас поздравляю и разделяю вашу радость', 'Рад слышать, что у вас все хорошо', 'Я очень рад за вас, что вам удалось исправить ситуацию в положительную сторону', 'Я очень рад узнать, что сейчас у тебя все хорошо', 'Я рад слышать что вас посетил успех', 'Я рад что у вас хорошее настроение и все начинает налаживаться', 'Я очень рада слышать что у вас хорошее настроение', 'Я рад, что у вас всё наладилось, это большой прогресс', 'Я очень рад за тебя,что ты сегодня такой довольный', 'Я очень рад что у вас всё хорошо', 'Я рад слышать, что у Вас прекрасное состояние', 'Вы знаете, я очень рад, что вы чувствуете себя счастливым', 'Очень хорошо,что Вас всё радует', 'Звучит многообещающе, я рад за вас', 'Очень рад что у вас изменилось настроение', 'Я рад, что у вас все хорошо', 'Я очень рад слышать, что ты счастлив', 'Я вас прекрасно понимаю', 'Я искренне разделяю вашу радость и радуюсь вместе с вами, это так приятно для меня', 'Рад, что дела ваши наладились', 'Рад слышать, что вы в отличном расположении духа', 'Я очень рад за вас, за ваши успехи в работе', 'Я очень рад видеть Вас в таком прекрасном состоянии', 'Мне очень нравится, что вы в хорошем настроении', 'Мне невероятно радостно вас видеть в таком настроении ', 'мне очень приятно слышать что вы в отличном настроении', 'Мне очень приятно видеть вас в столь приподнятом настроении', 'Я очень рад, что всё хорошо у вас', 'Рада, что вы на такой позитивной ноте сегодня', 'Я рад, что у вас сегодня хорошее настроение', 'Рад видеть вас в таком хорошем настроении', 'Мне радостно слышать что вы в чувствуйте себя хорошо', 'Мда', 'Вы получаете удовольствие от простых вещей, это очень хорошо', 'Я вас очень хорошо понимаю', 'Я очень рад видеть Вас в таком приподнятом настроении', 'Приятно слышать, что у вас такое боевое расположение духа', 'Мне очень радостно, что у вас сегодня хорошее настроение', 'мне очень приятно что вы в хорошем расположение духа', 'Мне радостно от того, что у вас все хорошо', 'Я рад, что Вы в прекрасном настроении', 'Мне очень приятно слышать, что вы в хорошем расположении духа', 'Это хорошие новости, я рад, что у вас все отлично', 'Это прекрасно', 'Мне очень приятно, что у вас хорошее расположение духа', 'замечательно, вижу, что вы умеете находить позитив в рутине', 'Я очень рад, что у вас все хорошо', 'Рад слышать, что вы таком хорошем эмоциональном состоянии', 'Я очень рад за Вас', 'Я рад, что Вы двигаетесь в правильном направлении', 'Это очень хорошо, что у вас отличное настроение', 'Я рад что вы в хорошем расположение духа', 'Я очень рад, что у вас все складывается замечательно', 'Я очень рад за вас', 'Это здорово, что у вас хорошее настроение', 'Я весьма рад что вы в хорошем расположении духа', 'Я очень рад за вас, искренне радуюсь, видя вас в столь превосходном расположении духа', 'Меня радует ваше настроение', 'Мне приятно слышать', 'Прекрасно я очень рада что у Вас хороший день и вы выполнили все поставленые задачи', 'Рад видеть такой оптимистический взгляд на мир', 'Рада лицезреть Вас в таком позитивном настрое', 'Я очень доволен что вы смогли все исправить', 'Я очень рад слышать, что у Вас прогресс на лицо и Вы вновь возвращаетесь к прежней жизни', 'Как вы могли бы описать ваши сегодняшние чувства ', 'Я рад, что у вас все хорошо', 'Я очень рад слышать, что у Вас хорошее настроение', 'Я очень рад, что у вас все замечательно', 'Я рад что вы в хорошем настроении', 'Я очень рад слышать, что вы в прекрасном настроении', 'я очень рад слышать и что вы сегодня в прекрасном настроении и счастливы', 'Ок, да Вам прям действительно невозможно находится в депрессии', 'Рад слышать, что вы в прекрасном настроении', 'Ваше жизнерадостность заразительна', 'Мне тоже радостно, что вы в хорошем настроении', 'Приятно слышать, что у вас радость в душе', 'Я очень рада за то, что у вас прекрасное настроение', 'Я очень рада, что у Вас хорошее настроение', 'Мне приятно вас видеть сегодня, вы отлично выглядите', 'Как я рад когда вижу Вас таким жизнерадостным', 'Я очень рад, что вы так воодушевлены', 'Я разделяю с вами вашу радость , ведь радостью надо делиться ', 'Меня радует, что вы себя хорошо чувствуете', 'Я очень рад за вас и ваше самочувствие', 'Я рад слышать, что Вы счастливы, я в Вас и не сомневался, я говорил что у Вас все получится', 'Мне приятно слышать, что вы счастливы', 'Я очень рад, что вы чувствуете себя великолепно', 'это прекрасно, что вы для этого сделали', 'Это отличные новости', 'очень здорово что у вас такое настроение', 'Я рад, что вы в зхорошем настроении', 'Я рад,что вы счастливы', 'Я рад слышать, что мой друг в прекрасном настроении', 'Мне приятно слышать, что у вас все хорошо', 'Мне радостно за вас и ваши успехи', 'Это прекрасная новость', 'Я искрине рад что вы сегодня в таокм чудесном расположении духа ', 'Я очень рад, что у вас все хорошо', 'Рад видеть вас в прекрасном настроении', 'Здравствуйте, мне приятно слышать, что у вас всё хорошо', 'я рад, что сегодня вас наполняют только позитивные эмоции', 'Мне очень приятно слышать, что у Вас приподнятое настроение', 'Мне приятно знать что у вас все хорошо', 'Меня радуется, что у вас сегодня прекрасное настроение', 'Мне хочется вам порекомендовать программу личностного развития', 'Мне приятно слышать, что у вас хорошее настроение', 'Я очень рад за Вас ', 'Отлично, я очень рад за вас, это прогресс', 'Рад за Вас', 'Я очень рад, что вы чувствуете себя прекрасно', 'Вы прекрасно выглядите', 'Я очень рад за вас, что все у вас так хорошо', 'я рада что у вас прекрасное настроение', 'Замечательная новость, я очень рад, что у вас все хорошо', 'Ну что же я рад за тебя,конечно причина твоего настроения мне кажется понятна)началось лето,тепло,время отпусков,переключений,путешествий и ты наверное влюбился', 'Мне очень приятно слишать, что вы в хорошем расположении духа', 'Мне очень приятно осозновать что вы пришли к нам с хорошим расположением духа', 'я очень рада узнать что все у вас прекрасно', 'Мне очень радостно, от того, что сегодня Вы чувствуете себя наполненным и жизнерадостным', 'Это просто великолепно что все так хорошо', 'Я очень рад, что Вы так счастливы', 'Я рад,что Вам хорошо', 'Я очень рад, что вы в хорошем настроении', 'Я очень рад, что у вас все так замечательно', 'Мне очень приятно слышать , что вы в отличном настроении', 'рада, видеть Вас энергичным и веселым', 'Я очень рада слышать, что у вас хорошее настроение', 'Мне очень приятно слышать что у вас все хорошо', 'Я действительно очень рад за Вас, что у Вас мне так хорошо складывается', '\"Рад что у Вас всё хорошо, мы провели замечательную работу', 'Рад, что у вас хорошее настроение', 'Рад слышать, что вы в хорошем насироении', 'Я так рада ,что у вас все хорошо и позитивный настрой', 'Я очень рада за вас', 'Я рад слышать что у вас все хорошо', 'Рад слышать и видеть вас в прекрасном расположении духа', 'Мне очень приятно слышать что у вас все отлично', 'Я рада, что вы себя так чувствуете', 'Я вижу наши беседы дают плоды ', 'Я очень рад, что вы себя так чувствуете', 'Я рад, что Вам хорошо', 'Я очень рад за вас', 'очень рад, что у вас всё хорошо, сегодня действительно прекрасный день', 'Очень рад за вас', 'Я очень рад за тебя,всем такое хорошее настроение', 'я очень рад, что у вас все прекрасно', 'Я доволен Вашим расположением духа', 'Я очень рад видеть вас в таком воодушевлённом состоянии', 'Рад Вас видеть', 'Спасибо, что поделились своим хорошим настроением', 'Я очень рад что у вас все прекрасно', 'Я очень рада за вас, и разделяю с вами это прекрасное чувство', 'Я очень рад что у вас всё замечательно', 'Мне приятно знать что у вас сегодня хорошее настроение', 'Я очень рад слышать что у вас сегодня все отлично', 'Очень рада, что вы в хорошем настроении', 'Мне очень радостно видеть вас в хорошем настроении', 'Рад, что у вас всё хорошо', 'Очень рад за вас', 'Мне приятно видеть тебя снова счастливым', 'Я рад за вам, за то, что всё хорошо', 'Очень хорошо что вы в настроении', 'Мне приятно, что у вас замечательный настрой', 'Я чувствую твоё прекрасное настроение', 'Как же хорошо что вы в радостном настроении', 'Я рад видеть, что вы в прекрасном настроении и хорошо себя чувствуете', 'очень хорошо', 'Мне очень приятно слышать, что вы в хорошем расположении духа', 'Ко мне пришел счастливый человек', 'Я очень рада, что в Вашей жизни намечается такое прекрасное событие', 'Я рада, что у Вам отличное настроение', 'Это очень хорошо, что у тебя всё хорошо ', 'Я весьма рад за вас, всегда приятно осознавать, что мои пациенты идут на поправку', 'Я очень рада слышать что у Вас все хорошо и жизнь налаживается', 'Мне приятно, что вы справляетесь', 'Прекрасно, очень рад за вас', 'Я очень рада, что у вас всё замечательно', 'Я рад, услышать от вас такие положительные новости', 'Меня радует Ваше приподнятое настроение', 'Я рад слышать, что у Вас все хорошо, надеюсь, что удача и радостное расположение духа не покинут вас', 'Как здорово, что вы похудели и чувствует себя уверенней', 'Как приятно слышать что вы чувствуете себя прекрасно', 'Мне очень приятно это слышать от вас'], 'initial_base_sentences': [[], [], [], [], []], 'initial_empathy_sentences': [[], [], [], [], []]}, 'fear': {'base_sentences': [['как вы считаете испытываете ли  вы к кому нибудь злость', 'Вопрос сложный, и отвечать на него обычно трудно, но я должен спросить - вы испытываете к кому-либо злость, зависть или агрессию', ' Вы чувствовали зависть, ненависть, злость или что-то одно по отношению к кому либо', 'У вас когда нибудь было чувство ненависти и злости', ' Испытывали ли вы к кому либо зависть, ненависть или злость', 'Мой вопрос может показаться трудным, но попробуйте ответить: вы когда-либо завидовали кому-либо, ненавидели кого-нибудь или злились на кого-то', ' Пожалуйста, вспомните, сталкивались ли вы с завистью, ненавистью или злостью, направленной на другого человека с вашей стороны', ' Скажите, вы когда-либо испытывали такие чувства, как зависть, ненависть, злость', ' Возможно вы испытывали какие-то чувства из следующих ненависть, злость или зависть', ' Вы испытывали когда - либо такие чувства как зависть, ненависть или злость', ' Вы ранее испытывали ненависть, зависть или злобу по отношению к кому-нибудь', 'скажите, вы испытывали такие чувства: зависть, злость, ненависть', ' Вы когда-либо испытывали по отношению к другим людям: зависть, злость, ненависть', ' Вы чувствуете к кому-то зависть, ненависть, злость', ' У Вас есть к кому-то чувство неприязни', ' Может быть вы ненавидели кого-либо', 'Вас не посещало чувство зависти, ненависти или злости к кому-нибудь', 'Подскажите насколько это для вас возможно и не будет являться травмирующим, кроме тревоги испытывали ли вы в последнее время другие негативные эмоции: злость, гнев, ненависть к кому-либо', ' вы испытваете зависть ненависть злость к кому нибудь из близких\\n', ' Вы испытывали к кому-то злость, ненависть, зависть', 'Вы сможете ответить на непростой вопрос; кома у вас вызывает зависть, ненависть, злость или что то другое', 'но ваши состояние как то связаны с этими чувствами', ' Может быть причиной произошедшего отчасти являются зависть, ненависть, злость', 'Возможно этот вопрос покажется непростым, но давайте попробуем понять: испытывали ли вы злость, неприязнь, злобу по отношению к кому либо', ' Вы когда-либо испытывали чувство ярости, злобы', ' Есть ли в вашем окружении люди, которые вызывают у Вас зависть, ненависть или злость', 'Я знаю на это тяжело ответить, но может вы к кому то испытываете плохие чувства', ' У вас не возникало чувств зависти, ненависти, злости к окружающим', 'Испытывали ли Вы в последнее время к кому-нибудь такие чувства, как злость, ненависть, зависть', 'Вам тяжело об этом говорить, я понимаю, но всё же не могли бы Вы ответить, есть ли среди Вашего окружения люди, которых Вы ненавидите, злитесь на них, или, возможно, завидуете им', ' Испытывали ли Вы в последнее время  зависть, ненависть или злость к кому-либо', ' Вы завидовали, ненавидели, злились когда-нибудь', ' Ты кому ни будь завидуешь, испытываешь ненависть или просто злишься на кого-то', 'Возможно, вам трудно будет ответить на вопрос, и тем не менее: вспомните, был или есть ли в вашей жизни человек, к которому вы испытывали чувство зависти, ненависти и злости', ' Вы испытывали зависть, злость, ненависть к кому либо', ' Чувствуете ли вы к кому-нибудь злость, зависть или ненависть', 'Вы чувствуете неприязнь к кому-либо', 'Позвольте задать Вам деликатный вопрос:  случается, что Вы кого-то ненавидите, злитесь на кого-то или завидуете кому-то', 'припомните, пожалуйста, может быть вы в последнее время испытывали к кому нибудь не очень приятные эмоции, например злость, ненависть или зависть', ' Вам знакомы такие чувства, как зависть, ненависть, злость', ' Вы часть злитесь, ненавидите или завидуите людям', 'Я спрошу тебя о не очень приятных чувствах - ты злился, завидовал или ненавидел кого-то', ' Вы испытывали к кому-либо чувства зависти, ненависти, злости', ' Может злость, ненависть или зависить  ', 'скажите честно вы чувствуете к кому нибудь зависть, ненависть, злость', ' Вы ощущали по отношению к кому либо такие чувства как зависть, ненависть, злость', ' Испытывали ли Вы в последнее время зависть, ненависть или злость', 'Какие у вас эмоции, опишите их, может это злость или ненависть', ' Испытывали ли Вы когда-либо какие-то из указанных чувств к кому-нибудь: ненависть, злость или зависть', ' Кто-либо вызывает у вас чувство зависти, ненависти, злости', ' Вы ощущали в себе хоть одно из перечисленных эмоций: гнев, неприязнь, враждебность', ' У вас когда-нибудь было чувство зависли и злости', ' У тебя есть к кому либо чувства неприязни,ожесточения,ревности', ' К кому Вы испытывали сильные негативные чувства: зависть, ненависть, злость', 'Скажите пожалуйста вы испытывали к этому человеку ненависть', 'Это очень не простой вопрос, но аы испытывали какие-либо чувства, например зависть, ненависть, злость', 'Понимаю что может это нелегко, но не ощущали  ли Вы к кому-либо зависти, ненависти, злости', ' Есть ли у Вас затаившиеся чувства неприязни к кому либо', 'вопрос не самый лёгкий но я прошу вас ответить честно это очень важно вы испытывали ненависть ,злость или зависть к кому либо в последнее время', 'конечно, это сложный вопрос, может,вы испытываете к кому - нибудь ненависть или злость', ' Может вы испытываете такие чувства, как ненависть, упрямство, злость на кого-то из вашего окружения', ' Вы испытывали злость или ненависть к кому-нибудь за происшедшее событие'], [' ВЫ ЧУВСТВУЕТЕ СЕБЯ ОТВЕТСТВЕННЫМ ЗА КОГО ЛИБО', ' Я очень хочу узнать, вызваны ли твои чувства большой ответственностью за кого-то, может у тебя есть тайное желание ощущать себя спасителем', ' Вы чуствуете ответственность за кого-либо', 'Бывает ли у Вас чувство, что Вы ответственны за кого-то, что только Вы можете помочь в трудной ситуации', ' Вы чувствуете огромную ответственность за какого-либо', 'могу я узнать если у вас чувство тревоги из за  ответственность за кого то ', ' Вам иногда кажется, что вы испытываете большую ответственность за кого-то', ' А возникает ли у вас такое чувство, будто бы вы чувствуете свою ответственность за кого-то, при этом чувствуя себя их спасателем', ' Бывает ли такое, что у вас появляется чувство, будто на вас лежит огромная ответственность за что-либо ', ' Вы когда-либо испытывали чувство, словно Вы несёте серьёзную ответственность за других', ' Не кажется ли вам, что вы взвалили на себя всю ответственность за своих близких', ' Появлялось ли у Вас когда-нибудь чувство большой ответственности за человека или людей', ' У Вас иногда возникает чувство, что вы несёте очень большую ответственность за какого-то', ' Возникает ли у вас чувство, что вы несёте неизмеримую ответственность за какого-либо', ' Скажите, вы чувствуете большую ответственность за кого-нибудь в этом мире', ' Вам нравится ухаживать и заботиться о ком то', ' Может вы за кого то поручились', 'Вы часто чувствуете на себе какую-то огромную ответственность за что-либо', ' Вам кажется, что вы ответственны за кого-то', ' Возникает или нет у вас чувство ответственности за кого-либо', '\\nУ Вас иногда возникает чувство, что Вы несёте огромную ответственность за какого-либо', ' Как часто Вы чувствуете, что несете ответственность за других людей', ' Вы чувствуете себя ответственным за кого-нибудь', ' Вас беспокоит чувство ответственности за свое окружение', ' Возникает ли у вас иногда чувство, что вы несёте огромную ответственность за кого то', ' Чувствуете вы когда нибудь сильную ответственность за кого то близкого', ' Попадали ли вы в ситуацию вызывающую чувства безмерной ответственности за других людей', ' Бывает у Вас чувство, будто бы на Вас лежит большая ответственность за кого-нибудь', ' Как часто у Вас проявляется ощущение, что вы большой мере отвечаете за кого либо', ' Вас временами посещает чувство повышенной ответственности за кого-то', ' Вам не кажется иногда, что вы берете на себя большую ответственность', 'Есть ли у вас чувство гипер ответственности за другого человека такое,что вам кажется ,что вы его спаситель', ' У вас не возникает ощущение огромной ответственности за окружающих вас', ' Подскажите, вы когда-нибудь сталкивались с синдромом спасателя', ' У вас бывает чувство, что вы несете огромную ответственность за кого-то', ' Вы несёте добро в жизни людей', 'Вам иногда кажется что вы ответственны за кого то', 'за многих в ответе', ' Появлялось ли у Вас чувство что Вы несете колоссальную ответственность', ' что проявили доверие ко мне', 'У вас бывает такое, будто вы в неимоверном ответе за кого-либо', ' Чувствуете ли вы большую ответственность за близких', ' Вам не кажется , что вы слишком ответственны за других', ' У Вас бывали моменты, когда вы понимаете, что обязаны принимать решения и быть решительным и ответственным за кого-либо', 'бывает ли что вы иногда ощущаете чувство ответственности за кого-то', ' Скажите, вы не ощущаете себя ответственным за кого-либо', ' Скажите пожалуйста, как часто Вы чувствуете себя спасителем Ваших близких, взяв на себя огромную ответственность за их поступки', ' Ответьте пожалуйста на вопрос приходилось ли чувствовать себя ответственным за чью-то жизнь', ' Вы иногда сталкиваетесь с ощущением, что Вы ответственны за кого-то что Вы должны кого-то оберегать от всего плохого в этом мире', ' Вы ощущуаете некую ответственность за кого-нибудь', ' У Вас иногда возникает чувство, что Вы несёте огромную/экстремальную ответственность за какого-либо', ' Возможно вы чувствуете ответственность за подругу', 'Склонны ли вы контролировать всё на свете', 'Вы испытываете чувство,что ощущаете себя ответственным за всех', 'Частенько я подкармливаю бездомных животных и мне становится отвественнее за их существование и я ощущаю их кормильцем,когда они радостно веляют хвостиками', 'вы чувствуеье что несете ответственность за все и все', ' Вы никогда не ощущали невероятную, острую ответственность за кого-либо', 'У тебя есть чувство,что ты следишь за кем то', 'Есть ли у Вас ощущение, что Вы пытаетесь кого-то контролировать', ' Это прекрасное качество, поверьте, но оно может стать непосильной ношей для вас самой', 'Спасибо за доверие, но у вас возникают такие чувства как будто вы несёте какую то ответственность за кого то', ' Бывали ли у вас ощущение того, что вы несёте огромную/экстремальную ответственность за какого-либо', 'Вы Чувствуете ответственность за других', 'Вы испытываете чувство ответственности за близких людей, хочется ли вам помочь им', ' У Вас иногда возникает чувство, что Вы полностью ответственны за какого-либо', ' Иногда у вас возникает чувство что у вас возникает ответственность за кого либо', ' '], ['к себе вы склонны подчинять ', 'Вы не ощущаете, что пытаетесь контролировать кого-то', 'Скажите пожалуйста, вы не замечали за собой чувства, как будто вы пытаетесь контролировать кого-либо', 'У вас есть ощущение, что вы пытаетесь кого либо контролировать', 'Любите ли вы доминацию , есть ли желание доминировать над кем-либо', 'Вы когда нибудь вели или хотели контроль над человеком', 'Вам кажется, что вы хотите кого то контролировать', 'Чувствуете ли вы что вы кого-то держите на контроле', 'Замечаете ли вы за собой желание контролировать кого-то', 'Возможно у вас были потребности в контроле кого-то', ' Есть ли люди, которых вы контролируете или ощущаете такую потребность в контроле', 'Вы чувствуете, что у вас есть желание и стремление контролировать другого человека', 'вы чувствуете что пытаетесь кого-нибудь контролировать', 'У вас никогда не возникало ощущение, что вы пытаетесь контролировать чью-то жизнь', 'Вам не кажется, что вы хотите кого-то держать под контролем', 'Вы пытаетесь контролировать кого-либо', 'Вы осуществляете за кем-то пристальное внимание', 'Нет ли у вас такого чувства, что вы кого-либо контролируете', 'Вы не ощущаете что вы кого-то пытаетесь контролировать', 'Бывало ли у вас чувство, что вы хотите кого-то или что-то контролировать, а чувство тревоги рождается от невозможности это сделать', 'вы хотите управлять людьми иметь контроль над ними ', ' ', 'Вы не испытывали ощущения, что пытаетесь держать под контролем кого-либо', 'вы чувствуете что ковото пытаетесь контролировать', 'Может быть вы хотели бы контролировать какого либо человека, чтоб вам было спокойнее', 'Вы никогда не замечали за собой попытку взять контроль над другим человеком', 'Кажется ли вам иногда, что кто-то влияет на ваши действия', 'Вы чувствуете, что кто то пытается вами манипулировать', 'Может быть вы чувствуете, что Вам хочется держать кого-либо под контролем', 'Вам не казалось что вы кем то манипулируете', 'Вы чувствуете что хотите кого либо контролировать', 'У Вас есть необходимости контроля кого-либо', 'Есть ли у Вас чувство, что Вы пытаетесь кого-то контролировать', 'Как Вы думаете, есть ли у Вас потребность контролировать, проверять кого-либо из Вашего окружения', 'Нет ли у Вас случайно чувства, что Вы пытаетесь кого-либо контролировать', 'Вы чувствуете, что пытаетесь взять контроль над кем-то', 'Тебе не кажется, что ты просто пытаешься её контролировать', 'Есть ли кто-либо в вашем окружении, кого вы хотите контролировать', 'Бывает ощущение, что вы кого-то контролируете, оно у вас есть', 'Ощущаете ли вы порой желание кого-то проконтролировать', 'Не ощущаете ли вы внутри себя что пытаетесь контролировать другого человека', 'Вы считаете, что пытаетесь кем-то управлять', 'Не кажется ли Вам, что Вы кого-то пытаетесь контролировать', 'может быть вам надо было кого либо контролировать', 'Поделитесь со мной откровенной информацией пожалуйста, у Вас есть ощущение, что над кем-то Вы пытаетесь установить контроль', 'Может быть ты пытался влавствовать или доминировать на конкретным человеком', 'Есть ли у вас ощущение, что вы контролируете кого-то, возможно из близких или членов семьи', 'Пытаетесь ли вы кого то контролировать', 'У вас есть чувство, как будто вы пытаетесь кого-нибудь контролировать', 'Есть ли у вас ощущение, что вы пытаетесь установить контроль над кем то', 'Не кажется ли Вам, что Вы пытаетесь осуществлять существенный контроль над кем-либо', 'Вы не испытывает чувство, будто пытаетесь установить контроль над кем-либо', 'Не испытываете ли Вы такого чувства, будто Вы стараетесь кого-то контролировать', 'У вас есть ощущение, что вы стараетесь держать кого-либо под контролем', 'Вы осознавали когда-нибудь что имеете над кем-то контроль', 'Нет ли у вас склонности к контролю за вашим окружением', 'Вы ловили себя на мысли, что хотите постоянно держать под контролем свое окружение', 'Вам когда-нибудь казалось, что вы пытаетесь кого-то контролировать', 'Тебе порой кажется,что тебя обижают дома или на работе', 'А у Вас нет ощущения, что Вы жертва и кого Вы можете винить в этом', 'Из-за того что вы привязаны к этому человеку,у вас было желание сделать за его шагами', 'У вас появляется чувство, что вы пытаетесь кем-либо управлять', 'Нет ли у Вас чувства, будто Вы пытаетесь взять кого-либо под свой контроль', 'Вы когда-нибудь испытывали к кому либо чувство превосходства или чувство власти над кем нибудь', 'Замечали ли вы, что неосознанно пытаетесь кого-либо контролировать', 'а у вас есть чувство что вы кого то пытаетесь контролировать', 'не думаете ли вы, что пытаетесь кого-либо контролировать', 'Вы пытаетесь контролировать себя, свои чувства', 'Возможно у вас было подсознательное чувство контроля кого-нибудь'], ['вы вините кого либо за свое самочуствие', ' Что другие виновны во всех ваших неудачах', 'Бывает ли так, что вам кажется, что вы жертва и вы обвиняете в том, что плохо себя чувствуете кого либо', 'Часто ли Вы вымещаете свою агрессию на других людей ', 'Вы иногда обвиняете других людей в своих неудачах)', 'Вы испытываете ощущение жертвы и вините кого то в своём состоянии', 'Бывает, что вы ловите себя на мысли, будто в вашем состоянии виноваты другие, а вы оказались крайним', ' Возможно вините конкретных людей в том, что в данный момент чувствуете себя опустошенным', 'Возможно вы оказались в положении жертвы и подозреваете, что в этом виноват определенный человек', 'У Вас иногда возникает мысль, что вы являетесь жертвой, и в том, что Вам плохо виноваты другие люди', 'вы чувствуете себя жертвой', 'Вы никогда не ощущали себя в роли жертвы, и нет ли в этом чьей-то вины за ваше состояние', 'Вы ощущаете себя жертвой и обвиняете кого-то в этом', 'У вас есть чувство, что вы жертва и кто-то виноват в том, что вам плохо', 'Вы чувствуете себя несчастным, и кто-то может быть в этом виноват', 'Не чувствуете ли вы, что вы жертва, и виноват в этом кто - либо из вашего окружения', 'Вы не думаете что кто-то виноват в ваших ощущениях', ' хотелось ли кого-то обвинить в своих страхах', ' и вы вините их во всех ваших неудачах ', ' Чувствуете себя жертвой', 'Испытывали ли вы ощущение, что находитесь в роли жертвы временами и появлялось желание обвинить кого-нибудь в этом', 'извините вы чувствуете себя жертвой как вы думаете в этом есть чьята вина', 'Может быть вы чувствуете, что кто то пытается доминировать над вами, сделать из вас жертву, или вы просто так себя ощущаете, что весь мир против вас, и все обижают, унижают и используют вас нарочно', 'Считаете ли вы что есть причастные, которые способствовали ухудшению вашего положения', ' Вы вините кого-то в происходящем', 'Вы считаете кого либо из окружающих виновными в вашем состоянии', ' У Вас есть желание обвинить в своем состоянии кого-либо', 'Вам не кажется что вас кто то обидел и по-этому вам плохо', 'Вы чувствуете себя жертвой и вините кого-то в этом', 'Вы не обвиняете кого-либо в своих неудачах', 'Вините ли Вы кого-нибудь в своём состоянии', 'Считаете ли Вы кого-нибудь виновным  в Вашем состоянии, чувствуете ли Вы себя пострадавшей', 'Может быть Вы ощущаете себя жертвой и вините в своих ощущениях кого-либо', 'Вы иногда чувствуете себя жертвой и вините кого-то в этом', 'Ты не ощущаешь, что в происходящем кто-то виноват, что ты просто жертва этих событий', ' Есть ли кто-то, кто мог бы быть виновен в ваших ощущениях', 'Вы ощущаете себя жертвой и кого-то в этом вините', 'Бывает ли у вас такое ощущение, что кто-то виноват в том, как вы себя ощущаете, чувствуете ли вы себя жертвой', 'Возникает ли у вас чувства что вы жертва, а кто-то другой виновник вашего состояния', 'Вам кажется, что вы пострадали от кого-то, и это связано с вашими ощущениями', 'Думаете ли ВЫ, что есть виновник Вашего состояния, а Вы - являетесь жертвой', 'подумайте, пожалуйста, не ощущаете ли вы себя жертвой кого либо или чего либо и вините их в своих ощущениях', ' И если у Вас есть подобное чувство, то Вы вините постороннего человека в Вашем состоянии', 'Или може ты чувствуешь себя зависящим от конкретных обстоятельств и поэтому так нехорошо тебе', 'Если ли у вас ощущение, что вы - жертва, и есть кто-то виновный в вашем состоянии', 'Вы чувствуете себя жертвой или вините всех в своих проблемах', 'Вам иногда кажется, что вы жертва, и вы вините кого-нибудь в том как плохо вы себя ощущаете', 'Вы представляете иногда себя жертвой и вините в этом кого либо', 'Не кажется ли переодически Вам, что Вы ставите себя на место жертвы, подсознательно обвиняя кого-то в собственных проблемах', 'Вините ли вы кого-нибудь в своем состоянии', 'У вас бывает чувство, что вы жертва, и связываете ли это с кем-либо конкретно', 'Вы чувствуете себя угнетенной стороной, вы склонны в этом кого-то винить', 'Вы считаете себя жертвой, есть ли конкретный человек который как вы считаете виновен во всех своих проблемах', 'Быть может, вы часто себя недооцениваете, в особенности если в вашей жизни что-то не ладится, вы начинаете винить себя за необдуманные поступки и неявные ошибки', 'Вы часто чувствуете себя виноватым в своей жизни', 'У вас возникало чувство что вы самый несчастный человек на свете и все вокруг виноваты', 'вините ли вы кого нибудь, в том что чувствуете', 'Не вините ли Вы кого-либо в своих плохих ощущениях, иногда чувствуя себя жертвой', 'Есть ли у Вас чувство давления со стороны окружающих или со стороны какого то конкретного человека, и Вы думаете что всему виной именно он', 'Счтитаете ли вы кого-то причиной своего состояния, а себя, соответственно, жертвой', 'вам кажется что вы жертва и вините в этом другого человека скажите как вы себя ощущаете вам комфортно ,безразлично или вам становиться плохо', 'не кажется ли вам, что вы жертва, может, кто то виноват в вашем нынешнем состоянии', 'Вы обвиняете кого-либо из вашего окружения за ваше плохое самочувствие', ' Или ощущаете себя в качестве жертвы'], ['У Вас усть чувство вины за неудачи в жизни', 'Как часто Вы считаете, что в Ваших проблемах только Ваша вина', 'Как часто Вы вините себя, за то, что у вас не получается', ' себя в ваших неудачах', 'Вы постоянно обвиняете себя в каких-то жизненных неудачах', 'Когда в вашей жизни всё идёт наперекор, вы часто вините себя в этом ', 'Если в Вашей жизни что-либо идёт не так, то Вы часто вините себя в этом', 'Если в вашей жизни все идет не по плану, как часто вы считаете, что это ваша вина', 'Если что-то идет не по плану или не получается, часто ли Вы испытываете чувство вины или обвиняете себя', 'Вы часто вините себя, когда что-то в что то идет не так ', 'Часто ли вы вините себя в своих неудачах', 'Как часто вы ругаете себя, когда у вас возникают проблемы в личной жизни или на работе', 'Если что то идет не так,вы думаете виноваты сами', 'Как часто Вы вините себя во всех Ваших неудачах', 'Когда у вас что-то не получается по жизни - вы вините себя или кого-то ещё', 'Считаете себя виноватым в своих неудачах', 'Вы часто обвиняете себя за то, что случилось', 'Вы часто себя вините, когда что-то в жизни не ладится', ' Вы вините себя, за то, что происходит у Вас в жизни', 'Вы считаете себя виноватым, когда что-то не получается', 'Чувствуешь ли ты в себе вину, когда в жизни непорядок', ' Один из фильмов детства', 'Склонны ли вы к обвинению себя в ходе жизненных перепетий', 'Ну, подумаешь, опять не получилось что-то, так что же вы каждый раз себя в неудаче обвинять будете', 'Когда что-то в жизни не ладится, Вы чаще вините себя', 'считаете ли вы себя не правым во многом, что происходит в жизни не так', 'Вам приходится обвинять себя, когда положение огорчает и, если да, как часто вы это делаете', 'У вас бывает такое состояние, что вы себя вините во всем', 'Есть ли у вас чувство вины за неудачи в вашей жизни', 'Если у вас что-то не получается в жизни, испытываете ли вы чувство вины за свои неудачи', ' Почему Вы считаете себя виноватым', 'Бывает ли, что вы вините себя когда в жизни что-то не ладится', 'Вы себя накручиваете, когда что-то у вас происходит плохое', 'Вы часто себя обвиняете,когда в жизни что то не получается', 'Считаете ли вы себя причиной проблемы', 'Вы испытываете желание себя в чем то винить в стрессовой ситуации', 'Вы испытывается чувство вины, когда что-то в жизни происходит не так, как хотелось бы, и что-то идёт не в ладу со своими желаниями и ожиданиями', 'На сколько часто вы возлагаете на себя вину за происходящие с вами неприятности', 'Когда у вас жизненные неурядицы, вы зачастую уверены в том, что сами в этом виноваты', 'Вы не ловите себя на мысли , что виноваты , если жить не получается , как вы хотите', 'Я виноват в своих жизненных неудачах - это про Вас', 'Вы часто чувствуете свою вину, если что-то идёт не так как вы ожидали', 'как часто вы обвиняете себя во всём, когда у вас в жизни что либо не так, как вам хотелось бы', 'Когда всё идет не так, вы чувствуете свою вину и угрызения совести', ' Когда в Вашей жизни возникают трудности, как часто Вы ищете причину этих неприятностей в себе', 'Вы чувствуете за собой вину, когда что-то идет не так', 'Как часто вы обвиняет себя, во всех бедах', 'Часто ли вы себя вините если что то идет не так', 'Вы часто ругаете себя ,когда в жизни чего-то не получается', 'но игогда ищю других виноватых а не себя веню в проюлемах и бедах', 'вы всегда чувствуете себя виноватым', ' Поделитесь, бывает ли так, что вы вините себя, если что-то не получается в жизни', 'Is it possible that in previous conversations you may not have always considerdother viewpoints presented', 'Is it possible that in previous conversations you may not have always considerdother viewpoints presented', 'Если всё в жизни вдруг получается не так, как бы вы хотели, ощущаете ли вы свою вину за это', 'Когда у вас в жизни что то не хорошо вы наверно себя вините', 'Не всегда наша жизнь идет так как мы задумывали, когда в вашей жизни наступают такие моменты, вините ли вы в этом себя', 'Вас гнетет,когда  что-то идет не так в жизни', 'Как часто вы обвиняете себя в неудачах в вашей жизни', ' когда что-то в вашей жизни идет не так'], [' У ВАС СЛУЧАЕТСЯ ТАКОЕ, ЧТО ВЫ НЕ ПРИСЛУШИВАЕТЕСЬ К МНЕНИЮ ДРУГИХ, СЧИТАЕТЕ ВАШУ ПОЗИЦИЮ ПРАВИЛЬНОЙ', 'Вы всегда прислушиваетесь к вашим собеседникам или остаетесь со своим мнением', 'Вы часто настаиваете на том, что только Ваша точка зрения верна', ' Бывает , что Вы не принимаете мнения ваших собеседников и считаете только правым себя', 'ка часто вы пренебрежительно относитесь к чужому мнению', ' Случается ли так, что вы стоите на своем не обращая внимания на мнение окружающих', 'Мой вопрос может показаться трудным, но бывает ли у вас такое, что вы не желаете понимать мнение вашего собеседника, и продолжаете настаивать на своей правоте', ' Бывает ли такое, что вы предпочитаете настаивать на своём мнении, игнорируя мнение ваших собеседников ', ' У Вас были такие ситуации, когда Вы даже и не пытались понять чужое мнение, полностью придерживаясь своей позиции', ' Случается ли так, что высказывая свое мнение Вам приходится его отстаивать, при этом Вы не учитываете мнения окружающих людей или собеседника', 'Бывает что вы не разделяете мнение ваших собеседников и настаиваете только на своей позиции', ' Случалось ли, что Вы не прислушиваетесь к мнению ваших собеседников и настаиваете только на своей позиции', 'Сейчас этот вопрос может заставить вас немного напрячься, потому что он не из легких, но все же- вы часто не слушаете своих собеседников и не понимаете их, а настаиваете на своём', 'Я понимаю это тяжело, но может иногда стоит прислушаться к мнению других', 'Как часто Вы настаиваете на своей позиции не принимая во внимание позицию собеседников', 'Бывает так, что вы не слушаете ничье мнение, а только опираетесь на своё', ' Случается ли у Вас, что вы настаиваете на своей точке зрения не слушая никого', ' Вы настаиваете на своей позиции не всегда принимая мнение других за основу', ' У Вас случается такое, что Вы не хотите услышать Вашего собеседника, понять его позицию и согласиться', ' Как часто Вы не слышите своего собеседника, настаивая на своей точке зрения', 'Понимаю как это сложно, но скажи как часто вы прислушиваетесь к мнению своих собеседников, или настаиваете на своей точке зрения', ' Бывает ли, что вы не прислушиваетесь к мнению окружающих и настаиваете только на своей точке зрения', ' Всегда ли вы не обращаете внимание на мнение собеседника и полагаетесь только на свое мнение', ' Случается, что Вы не прислушиваетесь / не хотите вникнуть в понимание Ваших собеседников и Вам не нужна никакая другая позиция, кроме своей', ' Происходило ли у Вас так, что вы не считаетесь со мнением в разговоре с людьми и отстаиваете свою точку зрения', ' Бывает ли у вас, что вы пытаетесь навязать свое мнение', 'А сейчас вопрос ,неудобный для тебя: -ты не умеешь прислушиваться к чужому мнению,так как тебе важнее личная позиция', ' Бывает, что вы игнорируете аргументы и мнение своих оппонентов, продавливая свою позицию', ' \\nБыло ли когда-нибудь такое, что вы категорично отвергали чужую позицию, не вникнув в неё, и настаивали на своей', ' Если так происходит, почему Вы не считаетесь с мнениями своих оппонентов, ведь Вы не всегда безупречны в    своих помыслах', 'Бывает что вы не прислушиваетеськ вашим собеседникам и настаиваете исключительно на своей позиции', 'У вас бывает так,что вы не слышите своих собеседников и стараетесь настоять на своей позиции', ' Но всё же, случается у вас, что вы буквально глухи к собеседникам и для вас существует только ваша позиция', ' Можете ли вы так сильно настаивать на своем мнении, что мнение собеседников становится неважным', ' Иногда вы не хотите понять и принять чужое мнение и настаиваете на своей точке зрения', ' Случалось ли так, что Вы не старались услышать и прочувствовать мнение тех, с кем Вы общаетесь и настаиваете только на своём мнении', ' Часто ли вы настаиваете на своём, не прислушиваясь к вашим оппонентам, пытаетесь ли вы понять их мнение', ' Часто ли бывает, что вы стоите на своём, даже не слушая мнения собеседника', ' Как часто Вы доминируете в принятии именно Вашей позиции  в решении какого-либо вопроса, не прислушиваясь к мнению окружающих', ' Возникают ли у вас ситуации, когда вы стоите на своей позиции, не слушая никого другого', ' Вы замечали за собой, что Вы изначально выбрали придерживаться только своего мнения независимо от того что скажут Ваши собеседники', ' Часто ли вы принимаете только свои решения отвергая чущие предложения', ' Бывает что Вы не прислушиваетесь/ не пытаетесь понять мнение ваших собеседников и настаиваете исключительно на своей позиции', ' Скажите, бывает такое, что вы не всегда слышите собеседника и хотите быть правой во всем', ' Случается что вы не хотите понять и услышать мнение своих собеседников и продвигаете только свою позицию', 'Бывает что Вы не понимаете окружающих людей,и придерживаетесь только своей точки зрения', 'Моё мнение важно для меня и ещё нескольких мне близких людей и стараюсь отстаивать свою точку зрения в сложивщейся ситуации', 'вы не слушаете других людей, только себя', ' Были ли в вашей жизни случаи, когда вы не слышали и не слушали мнение других людей, а настаивали исключительно на своем мнении', ' Бывает ли так, что вы не понимая мотивы и чувства ваших собеседников, категорично настаиваете на своей позиции', 'Возможно, для вас этот вопрос покажется неприятным , но ответьте честно , вы - \"упертый баран\"', 'Это не лёгкий вопрос, а у вас бывает такое что вы не пытаетесь мнение других и стоите на своем ', ' Замечали ли вы за собой, что вы не прислушиваетесь, не пытаетесь понять мнение ваших собеседников и настаиваете исключительно на своей позиции', 'Вы бываете упрямы в своих убеждениях,не прислушиваясь к другим', 'Я знаю, что это вопрос не простой,но бывает ли, что вы не слышать своих собеседников и считаете только свою позицию верной', ' Бывает  ли что Вы игнорируете мнение ваших собеседников и настаиваете исключительно на своем мнении', ' Бывает ли что вы не пытаетесь понять мнение собеседников, а настаиваете только на своей позиции ', ' Возникают ли у Вас ситуации, когда Вы доказываете исключительно свою позицию, не обращая внимания на мнения других людей и не прислушиваясь к ним', '  У вас бывает что вы не хотите никого слушать а только настаиваете на своей позиции', 'Я понимаю,что мой вопрос может показаться вам неудобным,но бывают ли ситуации в которых вам все равно на мнение и слова других и вы поступаете только так,как считаете нужным сами'], [' Скажите, помимо рабочих, у вас есть еще какие-либо проблемы', ' Позволите задать ещё один важный вопрос', ' Еще мне бы хотелось знать нет ли у вас личностного кризиса, например с друзьями или в личной жизни', ' Я хотел бы узнать какие еще у вас есть проблемы', 'Спасибо за доверие ко мне,хотелось бы узнать есть ли еще проблемы ', ' Последний вопрос, есть ли в вашей жизни какой либо кризис- в отношениях или в общении с друзьями', ' Хотелось бы еще узнать : находитесь ли вы с кем-то из друзей в кризисе', ' Мне бы хотелось поговорить о ваших отношениях с теми, кто вам важен', ' Еще хотелось бы уточнить - в данный момент вы испытываете кризис в личной жизни или в отношениях с друзьями', ' Есть еще несколько моментов требующих внимания, возможно вы сейчас находитесь в эмоциональном кризисе в общении с друзьями', ' Только остался  еще некий момент, который я упустила из виду', ' Для полноты картины еще необходимо понять, есть ли у вас сейчас какие-то проблемы с людьми ближнего круга - может быть, в семье, с друзьями, с другими близкими', ' И мне интересно узнать, не находитесь ли Вы в каком-нибудь личном кризисе', ' скажите, у вас кризис в отношениях с близкими', ' Если позволите, я хотел бы узнать о ваших взаимоотношениях в кругу друзей, в личной жизни, нет ли у вас ощущения кризиса в этих отношениях', ' Могу ли спросить Вас еще, нет ли в данный момент кризиса в отношениях с друзьями или личной жизни', ' Есть ли у вас сложности с друзьями, возможно в личной жизни', 'Благодарю Вас за доверие, что Вас ещё может беспокоить', ' И мне бы хотелось узнать, нет ли у вас с кем либо из друзей личного кризиса', ' И ещё один вопрос - у вас в личной жизни нет проблем', 'Благодарю вас за оказанное доверие, я бы хотела удостоверится, что данное состояние не воспринимается вами как кризисное', ' верю вы открыто ответили на мои вопросы , но хотелось узнать может у вас кризис в семье или работе , может с друзьями', ' Я бы хотел уточнить, сейчас есть кризис в отношениях с семьёй, друзьями', ' Уточним: на данный момент у вас есть сложности в отношениях с окружающими', 'могу ли я узнать о вашем отношении с близкими', ' Может бысть есть ещё какие-то причины вашей депрессии, может быть у вас конфликты на работе или в личной сфере', ' Еще один вопрос: как складываются ваши отношения с друзьями и личные отношения', ' Хотелось бы продолжить в том же ключе обсуждение вашей ситуации', 'Хотелось бы узнать, есть ли у вас трудности в общении с близкими и друзьями', ' Я бы хотел узнать напоследок, вы не принимаете каких либо препаратов', ' Позвольте задать ещё один вопрос', 'Скажите честно, может у вас проблемы с близкими', ' Хотел поинтересоваться испытывать ли вы как-то кризис', ' Для общей информации еще вопрос', ' Я задам Вам ещё один вопрос', ' Скажите пожалуйста, в данный момент не находитесь ли Вы на каком-то переломном этапе в Вашей жизни, который требует много эмоциональных затрат', 'Хотелось бы ещё узнать, не находитесь ли Вы  в каком-то личном кризисе, например, в личной жизни или с друзьями', ' Я бы хотел еще узнать находитесь ли вы в каком-то личном кризисе, например, в личной жизни ии с друзьями', ' Однако, расскажи, если ты не против, может быть сейчас у тебя семейные неурядицы или какой-то конфликт с друзьями', ' Расскажите еще о таком моменте: есть ли какие-либо трудности у вас в личной жизни и в общении с друзьями', ' На данном этапе у вас есть какие-то проблемы в семье или знакомыми, друзьями', ' Позвольте также узнать, переживаете ли вы сейчас еще какие-то проблемы личного характера, например, в отношениях с семьей, друзьями', 'Спасибо, что поделилась, вы считаете, что у вас черная полоса в жизни', ' Нет ли у Вас проблем в отношениях в текущий момент с друзьями, в личных отношениях', 'я благодарю вас за вашу открытость , хотелось бы еще уточнить может быть вы сейчас находитесь в  кризисе в личной жизни или в отношениях с близкими и друзьями', ' Хотелось бы задать последний вопрос, нет ли у Вас состояния личного кризиса, проблем в отношениях с близкими, с друзьями', ' Мне хочется узнать еще про ваши проблемы с близкими людьми', ' Как у тебя с общением с твоими близкими', ' Могу я уточнить, есть ли в вашей жизни какие-то нерешенные проблемы в семье или с близкими', 'Какие у вас отношения с ближайшим окружением на данном этапе', 'вы хотели бы еще проработать со мной другие свои проблемы', ' Хотелось бы ещё узнать чувствуете ли вы кризис в личной жизни и в отношениях с друзьями', ' Мне также необходимо уточнить, находитесь ли вы в данный момент в состоянии личного кризиса в отношении, например, личной жизни или друзей', ' И последний вопрос, находитесь ли вы в личном кризисе, по вашему мнению', ' Нет ли у вас ощущения личного кризиса в отношении с близкими людьми', ' Мне хотелось бы также узнать, не пребываете ли Вы в каком-то личном кризисе, к примеру с друзьями или в личной жизни', ' Я бы хотел еще уточнить, пребываете ли вы в данный момент в ссстоянии личного кризиса', ' Еще последний вопрос: вы сейчас находитесь в раздрае из-за проблем с кем-то из близких', ' Может состояние вызвано личными проблемами', ' Есть ли у вас еще помимо этой проблемы в общении с обществом', 'У вас есть какие-то проблемы в личной жизни', ' Напоследок, мне хотелось бы узнать, находитесь ли вы в личном кризисе, например с друзьями или в личной жизни', 'Можно у вас уточнить,ваше состояние вызвано проблемами на личном фронте или вы поссорились с другом', 'Спасибо , что поделились, я бы хотел узнать, какие у вас отношения с близникими, нет ли депонимания между вами', ' Также бы хотелось уточнить нет ли у Вас кризиса в личной жизни или в отношениях с друзьями', ' Есть ли что то еще что тревожит Вас', ' Есть ли у вас серьезные трудности в отношениях', 'мы свами очень душевно побеседовали спасибо за открытость скажите в данный момент у вас есть кризис в отношениях в личной жизни или с друзьями', ' кстати, не ощущаете ли вы, что находитесь в личном кризисе', ' А может у вас  в настоящее время какой-либо кризис', 'Если не сложно и я буду вам буду благодарен за открытость, скажите, это состояние связано с вашими личными делами или взаимоотношениями с друзьями, знакомыми']], 'empathy_sentences': ['Это трудный вопрос, я понимаю', 'Могу ли я задать вам несколько каверзных вопросов', 'Я понимаю, вопрос может показаться слишком личным', 'Есть не самые приятные вопросы, но они имеют значение', 'Я думаю это непростой вопрос, но все же попытайтесь ответить максимально честно', 'Возможно некоторые вопросы покажутся вам не простыми, но они более точно помогут войти в ваше положение', 'Я понимаю, вам наверное будет сложно ответить на этот вопрос, но постарайтесь пожалуйста', 'Я могу понять, то этот вопрос не очень прост', 'Если вы напротив, я задам вам довольно непростой вопрос', 'Я понимаю, что вам сложно ответить', 'Простите за некорректный вопрос', 'Может это будет не легкий вопрос, но вы когда-либо чувствовали к кому-либо зависть или может быть злость', 'это очень откровенный тест начнем', 'Я понимаю, возможно тяжело будет ответить', 'я понимаю для вас эо тяжело ', 'Мне очень понятно ваше состояние, и я прошу без обиды ответить на мои вопросы, чтобы я мог лучше оценить ситуацию для помощи вам', 'Я понимаю, что это трудно', 'Это непростой вопрос, но подумайте и попробуйте ответить максимально искренне', 'Не простой для Вас вопрос, это заметно', 'Возможно мой вопрос покажется Вам не корректным', 'Следующий вопрос не из легких', 'Возможно, тебе будет непросто ответить на мой вопрос, но постарайся', 'Задам непростой вопрос', 'Сейчас я хочу задать вам возможно не самый приятный вопрос', 'Хотелось бы задать Вам непростой вопрос, на который надеюсь услышать искренний ответ', 'Не просто об этом говорить', 'Возможно, этот вопрос покажется вам трудным', 'Какие чувства вы последние время испытываете чаще всего', 'Я знаю, что это трудный вопрос', 'Это не самый простой вопрос, но, пожалуйста, постарайтесь на него ответить', 'Понимаю, что это не самый простой вопрос', 'Я понимаю, что это непростой для вас вопрос', 'Я задам не самый простой вопрос', 'Я знаю, на такой вопрос тяжело отвечать', 'Задам не простой вопрос', 'Я понимаю, что Вам будет нелегко ответить, но мне важны Ваши ответы, что бы разобраться в ситуации', 'Я хорошо вас понимаю,что для вас это не просто', 'Наш с Вами разговор будет более плодотворным, если Вы будете откровенными со мной', 'Я вам задам не очень приятные вороиы', 'Понимаю, что для вас это непросто, но расскажите более подробно', 'САПСИБО, СТО ДОВЕРИЛИСЬ МНЕ', 'Я очень рад вашему доверию ко мне', 'Спасибо, что расказали мне о своих проблемах', 'Спасибо, что доверились', 'Спасибо , что доверяете мне', 'Спасибо за искренность', 'Благодарю вас за ответ', 'Спасибо что доверились', 'Я благодарен Вым за доверие', 'Спасибо, что поделились со мной, ценю ваше доверие', 'Благодарю за то, что доверили свои чувства и открылись', 'Спасибо за понимание', 'Спасибо вам за то, что доверяетечь мне', 'Я ценю то, что вы мне доверяете', 'благодарю вас за искренность ', 'Я очень рад что могу вам помочь', 'Благодарю за открытость', 'Благодарю за понимание', 'За доверие спасибо', 'Благодарю, что доверились мне', 'Спасибо за откровенность', 'Благодарю за искренность', 'Спасибо, что открыты со мной', 'Спасибо, что вы здесь с нами', 'Благодарю, что поделились и доверились', 'Благодарю за искренность', 'благодарю за откровения', 'Спасибо за то, что открылись мне', 'Благодарю за доверие', 'Я рад, что вы мне доверяете', 'Благодарю вас за доверие', 'Спасибо, что доверяете мне', 'Благодарю вас', 'Спасибо что доверились мне', 'Благодарю за внимание,нет ли у вас ощущение, что вы', 'Спасибо за Ваше участие и доверие', 'Благодарю вас', 'Мой милый друг, спасибо, что доверяете мне', 'Приятно, что вы мне доверились', ' Я рад что вы открылись мне', 'Спасибо, что верите мне', 'я рад что вы доверились мне ', 'Благодарю за открытость', 'Ценю Ваше доверие', 'Я очень польщен, что вы мне доверяете', 'Спасибо за то, что Вы готовы мне открыться и поделится со мной', 'Огромное спасибо за откровение', 'Спасибо за доверие', 'Спасибо, что доверились  мне', 'Спасибо за доверие', 'Благодарю вас за теплое и внимательное отношение', 'Не бывает ли у вас \"комплекса героя\", желания всех спасать и защищать', 'Спасибо что доверились мне', 'Спасибо за доверие', 'Спасибо вам за понимание', 'Вам приятно чувствовать себя спасителем для других людей', 'Как у вас с чувством контроля', 'У вас есть ощущение, что вы пытаетесь всех и все контролировать', 'Не кажется ли вам, что вы недостаточно контролируете ситуацию', 'Вы не думали, что порой ощущаете себя в роли жертвы', 'Вы часто ощущаете себя в роли жертвы', 'Чувствовали ли вы себя в последнее время жертвой определенных событий или стечения обстоятельств', 'вы ощущаете себя жертвой все против вас ', 'Вы ощущаете кого то виновным в ваших бедах и горе', 'Вы чувствуете себя жертвой', 'Не возникло ли у Вас чувства, что вы стали жертвой в результате обстоятельств, которые от вас не зависят или ваши проблемы начались в результате действий других людей', 'Ваши ощущения могут быть связаны с каким-то конкретным человеком или людьми', 'Не чувствуете ли Вы себя жертвой', 'Бывает ли у вас чувство, что другие люди виноваты перед вами', 'А может вы считаете себя виновным в этом событии', 'Вы чувствуете дискомфорт', 'Дружище - прям до мурашек', 'Вы склонны винить себя, когда что-то происходит не так, как Вы заду', 'Проанализируйте пожалуйста и откровенно ответьте на следующий вопрос', 'Я очень ценю вашу откровенность со мной', 'Как часто Вы обвиняете себя', 'ЗНАЮ, ЭТО ТРУДНЫЙ ВОПРОС', 'Я задам Вам непростой вопрос', 'Я хочу задать не простой вопрос', 'Я понимаю вопрос не из лёгких', 'Я вполне осознаю, что этот вопрос не из лёгких', 'Я сейчас задам вопрос, но он будет для Вас непростым', 'Я понимаю, что заданный вопрос сильно озадачивает любого', 'И теперь очень важный вопрос', 'По всей видимости это нелегко', 'Это конечно вопрос не простой', 'На это непросто ответить', 'Я понимаю, что вопрос не из лёгких', 'Хотел бы задать вам не простой, но очень важный вопрос', 'Не думаю, что этот вопрос будет для Вас лёгким', 'Это сложный вопрос', 'И еще небольшой вопрос', 'Я задам вам трудный вопрос', 'Понимаю, что на этот вопрос нелегко ответить', 'Часто ли бывает, что Вы считаете что только Вы правы', 'Разумеется, это не самый легкий вопрос ', 'Мне кажетя,это не очень простой вопрос', 'Отдаю себе отчёт, что это достаточно сложный вопрос', 'Знаю, следующий вопрос не будет легким', 'Вопрос сложный', 'Я понимаю, что задаю Вам сложный вопрос', 'я хочу задать вам вопрос, понимаю для вас он может показаться достаточно тяжелым', 'Вопрос не самый простой, но я должен спросить', 'Понимаю, что нашу беседу нельзя назвать простой, но позвольте задать Вам еще один вопрос', 'А теперь самый трудный вопрос', 'Разумеется, данный вопрос может для Вас быть не из лёгких', 'Я задам не самый простой вопрос', 'Я понимаю, это не самый легкий вопрос', 'Я вас прекрасно понимаю', 'Вопрос не легкий', 'Хотя следующий вопрос достаточно сложный, но постарайтесь ответить', 'Возможно, это не самый приятный и правильный вопрос', 'Возможно, это немного тяжелый вопрос, но все же прошу вас ответить на него', 'Непростой вопрос', 'Я осознаю, что это не самый легкий вопрос', 'Я сейчас вам задам не лёгкий вопрос', 'Я знаю, что следующий вопрос непростой', 'Я знаю что вопрос не из лёгких', 'Спасибо за доверие', 'Я очень благодарен за ваш честность, открытость и откровенность', 'Спасибо, что были со мной искренны', 'Спасибо ,что доверились мне ', 'Спасибо за честный диалог', 'Я благодарен вам за вашу открытость', 'Спасибо, что открылись мне', 'Благодарю Вас за честную беседу', 'Мне очень помогли ваши ответы и их искренность поможет более точно разобраться в вашей ситуации', 'Это замечательно, что вы такой открытый человек   и наша с вами беседа оказалась продуктивной', 'Знаю, на эти вопросы было непросто отвечать - благодарю за открытость', 'Я благодарю Вас за откровенность', 'благодарю за откровенность', 'Спасибо за вашу откровенность', 'Спасибо Вам за откровенность', 'Спасибо за доверие', 'Спасибо, что честно ответили на мои вопросы', 'Спасибо за откровенность', 'спасибо', 'Спасибо за открытость и честность', 'Благодарен вам за откровенность', 'От всего сердца благодарю вас за доверие и открытость', 'Благодаря вашей искренности у нас получилась очень содержательная беседа', 'Я благодарю вас за проявленное доверие и решительность', 'Спасибо за доверие', 'Благодарю Вас за честность и искренность', 'Спасибо что честны', 'Спасибо за откровенность', 'Спасибо, что были открыты со мной', 'Спасибо, что честно отвечаете на мои вопросы, понимаю, что это нелегко', 'Спасибо за беседу', 'Ты молодец, что делишься этим со мной', 'Благодарю за откровенность', 'Благодарю за откровенность', 'Благодарю вас за искренность', 'Спасибо за доверие', 'Признателен Вам за откровенную беседу', 'Благодарю за откровенный разговор', 'Благодарю за доверие', 'Спасибо, что поделились со мной', 'Благодарю вас за открытые ответы', 'Большое спасибо, что были честны со мной', 'Спасибо за честные ответы, это очень нам поможет', 'Я очень рад, что вы мне доверились', 'Благодарю Вас за доверительность и открытость', 'Спасибо за вашу откровенность', 'Благодарна за ваше откровение', 'Спасибо за искренность', 'Благодарю', 'Благодарю за доверие', 'Спасибо за Вашу искренность в ответах', 'Был очень рад нашему общению', 'Благодарю за откровенность', 'спасибо за откровенность', 'Спасибо за вашу откровенность'], 'initial_base_sentences': [[' Скажите, пожалуйста, ваша тревога вызвана каким-то конкретным событием в вашей жизни', ' Ваша тревога имеет общий характер или она связана с конкретным событием', 'Как вы считаете, ваши ощущения, мысли, чувства обусловлены какими-то конкретными событиями', 'Ваша тревога связана с каким-то конкретным событием', ' Можн ли связать Ваше сегоднешнее ощущение с какой-либо конкретной ситуацией/событием в Вашей жизни', 'Ваша грусть вызвана определённо', 'Был ли какой то конкретный случай, вызвавший у вас эти чувства', 'Какое-то конкретное событие повлияло на ваше состояние', 'Тревогу, которая вас не покидает, породила какая-то ситуация', ' Возможно оно связано с определенным событием в Вашей жизни', 'Вы оказались в данной ситуации после какого-то конкретного произошедшего события', ' Произошло что - то конкретное', 'Можете ли вы вспомнить, в связи с чем такие чувства появились впервые', 'Скажите, а на появление этого Вашего чувства повлияли какие-нибудь определённые события', ' Думаете, Ваше состояние из-за недавних событий', 'В вашей жизни произошли какие-то события, которые стали триггером к нынешнему состоянию', 'Вы можете уверенно сказать, какое событие вызвало такое чувство', ' Возможно какое-то событие послужило началом тревожности', 'Ваша тревога - это результат определённого случая и Вашей жизни', 'Как Вы думаете, какое конкретно событие вас так расстроило', 'Может быть это связано с какими-то недавними событиями', 'Вы полагаете , что чувство тревоги спровацировал какой-то негативный жизненный опыт', 'Вы так чувствуете себя из-за конкретного пришествия в вашей жизни', 'Вы полагаете, что ваше состояние связано с каким то конкретным событием', 'Чувство тревоги это результат конкретнй ситуации, произошедшей с Вами', ' Возможно какое-то одно или несколько явились триггером для появления тревожного состояния', ' Ваше чувство обусловлено каким-то конкретным событием', 'Как вы думаете, Ваше чувство могло быть вызвано каким то определённым событием', ' Возможно среди них есть именно то, что вызвало это чувство', 'Возможно какой-то жизненный опыт от части \"породил\" Вашу негативную эмоцию', 'Данные чувства вызваны возникли, как следствие конкретного события', ' Какой-то конкретный случай из жизни вызвал у Вас такое состояние', 'Произошло ли с Вами в последнее время какое-нибудь конкретное событие, чем могло быть вызвано Ваше состояние', 'Вы можете вспомнить жизненную ситуацию, что привело к чувству тревоги', 'Ваши чувства, случайно, не вызваны каким-нибудь конкретным событием', 'Ценю Вашу искренность, Вы переиваете по какому-то кнретному поводу', 'Есть ли событие, которое напрямю вызвало текущее состояние тревоги', 'Могли ли какие-то определенные события повлиять на ваше текущее состояние', 'Можете ли вы назвать конкретное событие которое вызвало в вас это чувство', 'Ваши ощущения имеют связь с какой-лиьо негативой ситуацией в Вашей жизни', 'Как Вы думаете, может ли какой-то случай, недавно или давно произошедший, вызвать Ваше текущее состояние', 'Вы можете уточнить, Ваше чувство тревоги связано с конкретным событием из Вашей жизни', ' Ваши страхи - это результат конкретной ситуации из жизненного опыта', ' Можно ли предположить, что Ваше сегоднешнее ощущение с какой-либо конкретной ситуацией/событием в Вашей жизни', 'Ваша проблема связана с определенным событием', 'Ваше состояние  вызвано каким-нибудь конкретным событием', 'Ваше чувство тревоги вызвали какие-то определённые события', ' Как вы думаете Ваше ощущущение связано с какими-то событиями, произошедшими с Вами', 'Вы тревожитесь из-за какой-то конкретной ситуации', 'Ваше ощущение спровоцировано каким-то отдельным событием', 'Ваше состояние связано с каким-либо конкретным событием', ' Возникшее чувство результат произошедшей с Вами неприятной ситуации', ' Как думаете, чувство страха проявилось после события из Вашей жизни', ' Правильно думать, что оно возникло после какого-то жизненного события', ' Ваша тревога вызвана чем-то конкретным', 'Вам кажется ,что Ваше чувство связанно с какими-то обстоятельствами', ' Вам кажется, что крнкретное событие является причиной этого чувства', ' Скажите, Ваше нынешнее состояние напрямую связано с жизненным событием', ' По Вашему мнению, оно как-то связано с тем что с вами произошло давно или недавно', ' Что-то из произошедшего с Вами могло вызвать тревожное состояние', ' Я правильно понимаю - Ваше внутреннее состояние связано с каким-то произошедшим неприятным событием', ' Как вы думаете, это чувство возникло больше из-за определённого события, чем совокупности причин', 'говоря о последних событиях вас тревожит что то конкретное', ' Думаете, Ваша тревога вызвана каким-то конкретным событием', 'По Вашему мнению, текущее состояние по большему счёту вызвал кокнкретный случай из жизни', ' Подумайте, Ваше самочувствие связано с неприятным опытом/ ситуацией в Вашей жизни'], ['Это чувство появилось после какого то недавнего события', ' Скажите, ваши переживания связаны с недавними событиями', ' Спасибо, что решили поделиться со мной своими переживаниями', ' Ваше чувства тревоги и озабоченности вызвано недавними событиями', ' Ваша обеспокояность вызвана каким- либо определенным событием', 'Я очень рад что вы доверились мне,эта ссора была недавно', ' Это чувство появилось после какого то недавнего события', ' Как Вы считаете, чем может быть вызвана Ваша тревога', 'Расскажите подробнее после какого момента ваше состояние ухудшилось, постараюсь помочь хорошим советом', ' Такие ощущения длятся уже годами или появились только в последние месяцы на фоне новостей', ' А это чувство связано как-нибудь с недавними событиями', ' что-то недавно случилось', ' Я попробую вам помочь, расскажите пожалуйста, какие события предшествовали этому состоянию', ' Скажите, Вы испытываете это из-за недавнего проишествия', ' У Вас что-то случилось недавно', ' Может быть у Вас недавно что-то произошло', ' Подскажите ваш страх имеет под собой какие-либо реальные события', 'возможно, что-то произошло совсем недавно - это и есть причина', ' Вы связываете эти чувства с недавними событиями', 'Понимаю и сочувствую вам, ваши ощущения появились недавно', 'извините ваше чувство как то связано с недавними событиями', ' Это несчастье произошло только что', ' Не происходило ли что то плохое с вами за последнее время', ' Вы уже делаете первый шаг - говорите о своих переживаниях, а не держите это в себе', ' Вы тревожитесь из-за недавних событий', ' Ваше чувство страха могло быть вызвано какими то недавно произошедшими событиями', ' Как думаете, может ваша тревога связана с событиями, происходящими последние дни', 'Скажите пожалуйста, может что то произошло до этого', ' Это вызвано не давними событиями', ' Может быть Ваше состояние вызвано какими-нибудь недавними событиями', ' У Вас что-то недавно произошло', ' Может быть они вызваны недавно произошедшими событиями', ' Это связано с последними новостями', ' Расскажите, могли ли недавние события вызвать ваше чувство тревоги', 'Это ощущение появилось из-за каких-то недавних событий', ' Скажите, как вы считаете, есть ли связь между вашим состоянием и недавними событиями', ' Скажите, ваша тревога вызвана произошедшим недавно', 'Спасибо, что обратились, наверно, недавно у вас что-то случилось', ' Скажите, Ваши ощущения появились недавно, после какой-то  ситуации', 'я вам благодарен , что вы поделились со мной своими ощущениями, вспомните, пожалуйста, события, предшествующие недавно', ' Ваше состояние как-то связано событиями, произошедшими не так давно', '  Как давно вы испытываете тревогу, она появилась из-за каких-то недавних событий', ' Ваше состояние связано с недавними событиями', ' Подскажите, Ваша тревога как-то связанна с тем, что недавно произошло в Вашей жизни', ' Повлияли ли не него недавние события', ' Ваши ощущения спровоцированы недавними событиями, которые случились в Вашей жизни', ' Ваше состояние связано с недавними событиями', ' Что влияет на ваше состояние', 'Очень хорошо,что зашел ко мне и рассказал об этом', 'Вы по этому себя так чувствуете', ' Ваше тревожное состояние как-то связано с произошедшим с Вами недавно', ' Это связанно с тем о чем Вы мне рассказали', 'хорошо что вы делитесь со мной вы так тревожитесь из за последних событий', 'ваша тревога обусловлена последними политическим событиями', ' Я постараюсь вам помочь', ' Это связано с недавними событиями и появилось недавно'], ['Поделитесь со мной, пожалуйста, 6 методика вызвала у Вас плохие осущение', ' Можно мне применить методику, она не окажет на тебя плохого влияния', 'Я вам буду благодарен если Вы ответите мне - Методика 6 вызвала у Вас неприятные ощущения', 'Методика 6 вызвала у вас столь неприятные ощущения дискомфорта и стресса ', ' Скажите, а методика 6 повлияла на появление у Вас неприятных ощущений', ' Вызывала ли у Вас дискомфорт или неприятные ощущения методика 6', ' Методика 6 вызвала плохие ощущения дискомфорта или стресса', ' Скажите, 6 метод, который вы испробовали на себе, сильно вам не понравился', ' Метод 6 оставил на Вас чувство дискомфорта', 'Моя методика 6 негативно повлияла на ваше настроение ', 'Поделитесь со мной ощущениями от методики 6, она вызвала у Вас негативные эмоции', ' Хотел бы узнать ваше мнение на счет методики номер 6, у Вас остался неприятный осадок после этого упражнения', 'Давайт вернёмся к методике 6, она  доставила вам дискомфорт', ' Методика 6 доставила вам дискомфорт', ' Мне бы хотелось узнать про Ваши ощущения ппосле проделывания методики 6… Возникло ли чувство дискомфорта, тревоги', 'Поделитесь,пожалуйста,вашими чувствам : Вызвала у вас какие-либо неприятные эмоции данная методика', ' Методика 6 вызвала у Вас стресс', ' Методика 6 создала вам дискомфорт', ' Вызвала ли какие-нибудь неприятные ощущения методика б', ' Возникли ли у вас отрицательные эмоции или ощущения после того, как применили методику 6', ' Как вы думаете,  методика 6 оставила на Вас неприятный отпечаток', ' Расскажите, какие чувства вызвал у вас 6 метод, испытываете ли Вы дискомфорт от этого упражнения', ' Скажите, после методики 6 у вас были неприятные эмоции или ощущения', ' Возможно ли, что проделанное Упражнение / методика номер 6 вызвала у Вас чувство дискомфорта', 'А скажите оставила ли у вас негатиные ощущения 6-я методика', ' Как вы ощутили себя после упражнения 6', ' Методика 6 у Вас вызвала неприятные воспоминания', ' Скажите, а вызвала ли методика 6 у вас какие-либо неприятные ощущения', 'Жаль что вам не хорошо, Спасибо что поделились своими чувствами, а как методика номер 6, она вызвала нехорошие ощущения', ' Ощущали ли вы дискомфорт, стресс или другие неприятные ощущение во время методики 6', '  Методика 6 причинила Вам боль', ' Методика 6 повлияла на Вас отрицательно', ' Скажите, методика 6 вызвала какие-то неприятных ощущений', ' У Вас она вызвала стресс', ' Скажите, пожалуйста методика 6 усугубила Ваше состояние, Вам стало ещё хуже', ' Скажите, методика 6 заставила Вас чувствовать себя не очень хорошо', ' Методика 6 была неприятна Вам, вызвала отрицательные эмоции', ' Ощущаете ли вы негативное влияние на вас методики 6', ' Возникли ли у Вас проблемы при этом', 'Скажите, Методика 6 активиповала в Вас острейшее чувство неспокойствия и стресса', ' Скажите, вызвала ли у вас методика 6 неприятные чувства', ' Методика 6 поспособствовала ухудшению вашего самочувствия', 'Скажите, пожалуйста, методика номер шесть, предложенная мной, вызвала у Вас какие-то негативные ощущения', ' Методика шесть вызвала у Вас плохие ощущения', ' Может попробуем решить это при помощи готовых упражнений', 'Мне очень жаль ,что это вызвало у вас дискомфорт, спасибо,что поделились со мной вашими чувствами ', 'Я благодарен', ' Расскажите об ощущениях методикой 6, вызвало-ли упражнение неприязнь', ' Скажите, Вам было неприятно ознакомиться с методикой 6', ' Чтобы порекомендовать Вам подходящую методику, мне надо знать ввела ли Вас методика 6 в состояние острого стресса', ' Вызвала ли методика 6 у вас какие либо неприятные ощущения', ' Были ли у вас негативные эмоции после шестой методики', 'Вы поймите, мне дискомфортно, из-за этого я испытываю неприятные ощущения', 'Скажите пожалуйста ,как вам методика 6, Вы испытали острую душевную боль во вемя / после задания', ' Скажите честно, 6-ая методика вызвала дискомфорт', ' Уточните, пожалуйста, какие ощущения вызвала методика 6, точнее ввела ли она Вас в еще больший стресс', ' Данная мною методика 6 смогла вызвать у Вас не очень хорошие чувства', ' Скажите, вы почувствовали дискомфорт и неприятные ощущения от шестой методики', ' Данная методика вызвала у вас отторжение/отвращение или неприятие', ' Метод шесть, вероятно, вызвал у Вас ощущение дискомфорта'], ['Поделитесь со мной, пожалуйста, одиннадцать методика вызвала у Вас плохие осущение', ' Можно мне применить методику, она не окажет на тебя плохого влияния', 'Я вам буду благодарен если Вы ответите мне - Методика одиннадцать вызвала у Вас неприятные ощущения', 'Методика одиннадцать вызвала у вас столь неприятные ощущения дискомфорта и стресса ', ' Скажите, а методика одиннадцать повлияла на появление у Вас неприятных ощущений', ' Вызывала ли у Вас дискомфорт или неприятные ощущения методика одиннадцать', ' Методика одиннадцать вызвала плохие ощущения дискомфорта или стресса', ' Скажите, одиннадцать метод, который вы испробовали на себе, сильно вам не понравился', 'Моя методика одиннадцать негативно повлияла на ваше настроение ', 'Поделитесь со мной ощущениями от методики одиннадцать, она вызвала у Вас негативные эмоции', ' Хотел бы узнать ваше мнение на счет методики номер одиннадцать, у Вас остался неприятный осадок после этого упражнения', 'Давайт вернёмся к методике одиннадцать, она  доставила вам дискомфорт', ' Методика одиннадцать доставила вам дискомфорт', ' Мне бы хотелось узнать про Ваши ощущения ппосле проделывания методики одиннадцать… Возникло ли чувство дискомфорта, тревоги', 'Поделитесь,пожалуйста,вашими чувствам : Вызвала у вас какие-либо неприятные эмоции данная методика', ' Методика одиннадцать вызвала у Вас стресс', ' Методика одиннадцать создала вам дискомфорт', ' Вызвала ли какие-нибудь неприятные ощущения методика б', ' Возникли ли у вас отрицательные эмоции или ощущения после того, как применили методику одиннадцать', ' Как вы думаете,  методика одиннадцать оставила на Вас неприятный отпечаток', ' Расскажите, какие чувства вызвал у вас одиннадцать метод, испытываете ли Вы дискомфорт от этого упражнения', ' Скажите, после методики одиннадцать у вас были неприятные эмоции или ощущения', ' Возможно ли, что проделанное Упражнение / методика номер одиннадцать вызвала у Вас чувство дискомфорта', 'А скажите оставила ли у вас негатиные ощущения одиннадцать-я методика', ' Как вы ощутили себя после упражнения одиннадцать', ' Методика одиннадцать у Вас вызвала неприятные воспоминания', ' Скажите, а вызвала ли методика одиннадцать у вас какие-либо неприятные ощущения', 'Жаль что вам не хорошо, Спасибо что поделились своими чувствами, а как методика номер одиннадцать, она вызвала нехорошие ощущения', ' Ощущали ли вы дискомфорт, стресс или другие неприятные ощущение во время методики одиннадцать', '  Методика одиннадцать причинила Вам боль', ' Методика одиннадцать повлияла на Вас отрицательно', ' Скажите, методика одиннадцать вызвала какие-то неприятных ощущений', ' У Вас она вызвала стресс', ' Скажите, пожалуйста методика одиннадцать усугубила Ваше состояние, Вам стало ещё хуже', ' Скажите, методика одиннадцать заставила Вас чувствовать себя не очень хорошо', ' Методика одиннадцать была неприятна Вам, вызвала отрицательные эмоции', ' Ощущаете ли вы негативное влияние на вас методики одиннадцать', ' Возникли ли у Вас проблемы при этом', 'Скажите, Методика одиннадцать активиповала в Вас острейшее чувство неспокойствия и стресса', ' Скажите, вызвала ли у вас методика одиннадцать неприятные чувства', ' Методика одиннадцать поспособствовала ухудшению вашего самочувствия', 'Скажите, пожалуйста, методика номер шесть, предложенная мной, вызвала у Вас какие-то негативные ощущения', ' Методика шесть вызвала у Вас плохие ощущения', ' Может попробуем решить это при помощи готовых упражнений', 'Мне очень жаль ,что это вызвало у вас дискомфорт, спасибо,что поделились со мной вашими чувствами ', 'Я благодарен', ' Расскажите об ощущениях методикой одиннадцать, вызвало-ли упражнение неприязнь', ' Скажите, Вам было неприятно ознакомиться с методикой одиннадцать', ' Чтобы порекомендовать Вам подходящую методику, мне надо знать ввела ли Вас методика одиннадцать в состояние острого стресса', ' Вызвала ли методика одиннадцать у вас какие либо неприятные ощущения', ' Были ли у вас негативные эмоции после одиннадцатой методики', 'Вы поймите, мне дискомфортно, из-за этого я испытываю неприятные ощущения', 'Скажите пожалуйста ,как вам методика одиннадцать, Вы испытали острую душевную боль во вемя / после задания', ' Скажите честно, одиннадцать-ая методика вызвала дискомфорт', ' Уточните, пожалуйста, какие ощущения вызвала методика одиннадцать, точнее ввела ли она Вас в еще больший стресс', ' Данная мною методика одиннадцать смогла вызвать у Вас не очень хорошие чувства', ' Скажите, вы почувствовали дискомфорт и неприятные ощущения от одиннадцатой методики', ' Данная методика вызвала у вас отторжение/отвращение или неприятие', ' Метод шесть, вероятно, вызвал у Вас ощущение дискомфорта'], ['позвольте узнать у вас подробнее, что было в данной ситуации', ' Вы не возражаете, если я задам несколько вопросов', ' Вам станет легче', 'Вынужден задать вам несколько вопросов, чтобы лучше понять ситуацию, приступим', 'Позвольте вас спросить еще пару вопросов, если вы конечно не будете против', 'Можно я спрошу вас ещё о вашем состоянии, чтобы правильно всё понять и оказать вам поддержку', ' Если Вы не против - я задам несколько вопросов', ' Вы согласны ответить на несколько вопросов', 'Вы не возражаете, если я Вам задам несколько вопросов для более ясного понимания этой ситуации', ' Можно задать вам пару вопросов', 'Хотелось бы лучше понять ваше состояние, для этого если вы напротив я задам пару вопросов', 'Могу ли я спросить, какие события произошли с Вами', 'Не будете ли вы против, если я задам вам еще пару вопросов для лучшего понимания ситуации', 'Вы не против если я кое о чём вас спрошу', 'Если у вас есть желание мы может более подробно поговорить о вашей тревоге, позволите задать пару вопросов о вас', 'давайте проведем набольшой тестик для понимания ситуации', ' Вы готовы ответить на мои вопросы, чтобы я мог вам помочь', 'Давайте вместе попробуем воспроизвести все, что происходило с вами, я буду задавать наводящие вопросы, а вы максимально открыто на них отвечать, не возражаете', 'Хотелось бы детальнее с вами обсудить и прояснить ваш случай, могу ли я начать опрос', 'Могу я задать несколько уточняющих вопросов, если вы не не против', 'Я бы хотел поинтересоваться некоторыми подробностями, чтобы лучше разобраться в ситуации', ' Это поможет нам разобраться в ситуации', 'Можно я узнаю кое что, тогда возможно пойму причину', 'Вы не против, если я задам Вам несколько вопросов, чтобы лучше понять Вашу ситуацию', ' Не могли бы Вы ответить на несколько вопросов', 'Можно я задам Вам пару вопросов для лучшего понимания ситуации', 'Давайте поговорим об этом таким путем: я вам задам несколько вопросов для лучшего понимания ситуации, а вы, пожалуйста, ответьте на них насколько это возможно', 'Вы не будете против, если я задам пару вопросов для точной оценки ситуации', 'С вашего позволения, я задам вам некоторые уточняющие вопросы, чтобы мы могли лучше разобраться в ситуации', 'Не откажите ли вы мне в ответе на несколько вопросов для лучшего понимания всей ситуации', 'Мне нужно спросить у вас, что бы разобраться, вы согласны', 'Если можно, разрешите задать Вам несколько вопросов для понимания ситуации', 'если это возможно, мне бы хотелось задать вам несколько вопросов, чтобы лучше разобраться в сложившийся ситуации', 'Как Вы отнесетесь к тому, что для прояснения ситуации я задам Вам несколько уточняющих вопросов', 'Можно я поспрашиваю тебя немножко об этом событии', 'Вы не могли бы поподробнее рассказать о вашей ситуации, сможете ответить на несколько моих вопросов', 'Что бы узнать лучше о вашей проблеме, я задам несколько вопросов, вы не против', 'с вашего позволения я задам вам несколько вопросов', 'это необходимо что бы понять что с вами произошло и понять как вам помочь', ' ', 'Вы не возражаете, если я задам несколько вопросов, чтобы лучше разобраться в ситуации', 'Разрешите задать уточняющие вопросы, для правильного понимания ситуации, вы согласны', 'Спрошу ещё кое-что, что бы разобраться по-лучше', 'Я понимаю твою проблему, но для  того чтобы разобраться, позволь мне задать несколько вопросов', 'Не возражаешь,если задам тебе пару вопросов', ' Это важно', 'Я бы хотел узнать подробнее о том , что произошло', 'Если Вы не против, для прояснения ситуации я хотел бы задать Вам ряд вопросов', 'Для лучшего понимания ситуации, я бы уточнил еще пару моментов, не возражаете', 'если вы не против я задам несколько вопросов для лучшего понимания проблемы', 'вы не против, я задам несколько вопросов, чтоб лучше понять ваше состояние', 'Я вам задам воросы, постарайтесь ответить на них прямо', 'Если вы не против, то расскажите мне подробней о том событии']], 'initial_empathy_sentences': [['Я очень сопереживаю вам сейчас', 'Спасибо, что уточнили Ваше ощущение', 'Задумайтесь, что могло повлиять на Ваше чувство ', 'Попробуйте вспомнить в какой именно момент возникло тревожное ощущение', 'Поделитесь пожалуйста, чем именно, вызвано ваше чувство', 'Мне жаль, что Вас охватило чувство тревоги', 'Благодарю за то, что рассказали о ваших чувствах', 'Вспомните все последние события из вашей жизни', ' Мне искренне жаль вас, что вы оказались в такой ситуации', 'Давайте проанализируем последние события, происходящие в вашей жизни и мире', 'Мне очень жаль, что вам плохо', 'Постарайтесь всппомнить, когда Вы впервые ощутили это чувство тревоги', 'Задумайтесь, что могло повлиять на Ваше чувство ', 'Спасибо за откровенность', 'Спасибо за открытость', 'Спасибо, что поделились своими чувствами', 'Задумайтесь, пожалуста, над истоком Вашего чувства', 'Ценю Вашу открытость', 'Спасибо, я пноимаю Ваше ощущение', 'Я сочувствую Вам', 'Я понял Ваше эмоциональное состояние, спасибо за открытость', 'Спасибо ща ответ', 'Благодярю за ответ', 'Ценю Вашу открытость', 'Спасибо, что поделились Вашим эмоциональным состоянием', 'Благодарю, что делитесь со мной Вашими внутренними переживаниями'], ['понимаю вас, сочувствую', 'Спасибо за доверие', 'Я вас понимаю, мне искренне жаль, что так происходит', 'Сожалею, что вам плохо', 'Я сожалею ,что Вы испытываете чувство тревоги', 'Хорошо что обратились', 'Благодарю Вас за доверие', 'Да, это, наверное, тяжело - жить так каждый день, сочувствую вам', 'Я очень благодарен Вам, что Вы решили поделиться со мной Вашими чувствами', 'благодарю, что вы решили поделиться со мной', 'Спасибо, что обратились за помощью', 'Спасибо, что делитесь со мной Вашими переживаниями', 'Сожалею, что Вам тревожно', 'Сочувствую Вам', 'Благодарю за то, что поделились своими страхами', 'Спасибо, что решили поделиться со мной', 'Я понимаю что вы сейчас чувствуете и рад, что вы поделились со мной своими переживаниями', 'Вы очень вовремя обратились, и ваша проблема достаточно важна, как вы думаете, с чем может быть связано ваше тревожное состояние', 'Не отчаивайтесь, все мы сталкиваемся с непониманием и неопределенностью', 'Я сочувствую вам', 'Спасибо, что обратились именно ко мне', 'Спасибо Вам за оказанное доверие, это здорово, что вы смогли открыть свои чувства', 'Я пожалею что вам плохо', 'Я благодарен Вам, что поделились со мной своими чувствами', 'Спасибо, что решили мне довериться', 'Я очень рад, что Вы поделились со мной своими ощущениями', 'Благодарен, что доверили мне ваши переживания', 'Понимаю вше состояние и благодарю за откровенность', 'Я рад, что вы решили со мной поделиться, и я обязательно постараюсь вам помочь', 'Спасибо что смогли мне об этом рассказать', 'Совершенно верно, что Вы решили разделить со мной Ваши чувства', 'Я признателен, что Вы откровенно рассказали мне о Ваших переживаниях', 'Я очень вас понимаю и сочувствую, и постараюсь помочь', 'Мне очень жаль, что вам нехорошо', 'Я благодарен Вам за доверие, ведь делиться своими эмоциями очень важно', 'Чем вызвано ваше чувство', 'Благодарю, что поделились со мной Вашими переживаниями', 'Мне грустно слышать, что вам плохо', 'Я вам сочувствую', 'Я очень рада что ты решил поделиться со мной своей проблемой и доверился мне', 'Сочувствую Вам, очень жаль что у Вас такая проблема', 'Я понимаю Вас большего кто бы то не был', 'Я понимаю вас', 'Расскажите подробнее'], ['Я тебя так понимаю и очень хочу помочь', 'Я Вам очень благодарен, что Вы решились поделится со мной своими чувствами', 'Я очень понимаю Ваше состояние и хочу Вам помочь', 'Мне так жаль, что вы чувствуете себя плохо', 'Я ценю, что вы обратились ко мне с вашей проблемой, и мы обязательно с ней разберемся', 'Очень встревожен и переживаю вашей проблеме', 'Благодарен, что доверили мне ваши переживания', 'Я понимаю ваше состояние, спасибо, что доверились мне', 'Спасибо, что поделились со мной вашими чувствамию', 'Спасибо, что открыты со мной', 'Мне жалко, что у вас проблема, сочувствую', 'Спасибо за Ваше доверие', 'Я сочувствую Вам и тому, что Вы сейчас испытываете и благодарю, что Вы смогли поделиться вашими чувствами', 'Я благодарна, что вы решили со мной поделиться', 'Вы большой молодец ,что поделились со мной вашими чувствами', 'Я рад, что вы мне доверились, я вас отлично понимаю', 'Благодарен за Ваше доверие и откровенность, очень сожалею, что у Вас угнетённое состояние', 'Я благодарен, что вы были откровенны со мной', 'Я вам сочувствую, спасибо, что вы мне всё рассказали', 'Спасибо ещё раз за Вашу откровенность со мной', 'Спасибо, что открылись мне', 'Я сожалею, что вам плохо', 'Благодарю, что рассказали о Ваших чувствах', 'Спасибо, что рассказали', 'Спасибо что делитесь со мной, чтобы посоветоавть Вам более подходящую программу, я бы хотел узнать, какой эффект вызвала методика шесть', 'Я сопереживаю вместе с Вами, но отчаиваться нельзя', 'Мне невероятно жалко, что Вы испытываете подобные чувства', 'Сожалею, что у Вас такое состояние и благодарю за готовность поделиться Вашими чувствами', 'Ещё раз благодарю за готовность поделиться Вашими чувствами', 'Вы только что выполнили упражнение номер шесть', 'Я очень ценю ваше доверие', 'Спасибо большое, за то что вы поделились со мной вашими переживаниями', 'Вы молодец, что со мной поделились, я очень Вам благодарен', 'Жаль, что не всё так хорошо, спасибо за откровенность', 'Спасибо,что вы поделились со мной своими ощущениями', 'Сочувствую вам, и вашему состоянию', 'Спасибо', 'спасибо, что смогли раскрыться, я искренне за вас переживал', 'Мне приятно, что вы делитесь со мной вашими чувствами', 'Благодарю за то, что поделились своими мыслями и чувствами со мной', 'Спасибо,что вы решились поделиться вашим состоянием,мы непременно найдем решение', 'Спасибо, продолжим наш диалог', 'Спасибо за откровенность', 'Благодарю за искренность, Ваше внутреннее состояние очень для меня важно', 'Спасибо, что честно говорите о своих ощущениях', 'Я очень вас понимаю и хочу помочь вам', 'Я оценил, что вы не побоялись высказать свои чувства'], ['Я тебя так понимаю и очень хочу помочь', 'Я Вам очень благодарен, что Вы решились поделится со мной своими чувствами', 'Я очень понимаю Ваше состояние и хочу Вам помочь', 'Мне так жаль, что вы чувствуете себя плохо', 'Я ценю, что вы обратились ко мне с вашей проблемой, и мы обязательно с ней разберемся', 'Благодарен, что доверили мне ваши переживания', 'Я понимаю ваше состояние, спасибо, что доверились мне', 'Спасибо, что поделились со мной вашими чувствамию', 'Спасибо, что открыты со мной', 'Мне жалко, что у вас проблема, сочувствую', 'Спасибо за Ваше доверие', 'Я сочувствую Вам и тому, что Вы сейчас испытываете и благодарю, что Вы смогли поделиться вашими чувствами', 'Я благодарна, что вы решили со мной поделиться', 'Вы большой молодец ,что поделились со мной вашими чувствами', 'Я рад, что вы мне доверились, я вас отлично понимаю', 'Благодарен за Ваше доверие и откровенность, очень сожалею, что у Вас угнетённое состояние', 'Я благодарен, что вы были откровенны со мной', 'Я вам сочувствую, спасибо, что вы мне всё рассказали', 'Спасибо ещё раз за Вашу откровенность со мной', 'Спасибо, что открылись мне', 'Я сожалею, что вам плохо', 'Благодарю, что рассказали о Ваших чувствах', 'Спасибо, что рассказали', 'Спасибо что делитесь со мной, чтобы посоветоавть Вам более подходящую программу, я бы хотел узнать, какой эффект вызвала методика шесть', 'Я сопереживаю вместе с Вами, но отчаиваться нельзя', 'Мне невероятно жалко, что Вы испытываете подобные чувства', 'Сожалею, что у Вас такое состояние и благодарю за готовность поделиться Вашими чувствами', 'Ещё раз благодарю за готовность поделиться Вашими чувствами', 'Вы только что выполнили упражнение номер шесть', 'Я очень ценю ваше доверие', 'Спасибо большое, за то что вы поделились со мной вашими переживаниями', 'Вы молодец, что со мной поделились, я очень Вам благодарен', 'Жаль, что не всё так хорошо, спасибо за откровенность', 'Спасибо,что вы поделились со мной своими ощущениями', 'Сочувствую вам, и вашему состоянию', 'Спасибо', 'спасибо, что смогли раскрыться, я искренне за вас переживал', 'Мне приятно, что вы делитесь со мной вашими чувствами', 'Благодарю за то, что поделились своими мыслями и чувствами со мной', 'Спасибо,что вы решились поделиться вашим состоянием,мы непременно найдем решение', 'Спасибо, продолжим наш диалог', 'Спасибо за откровенность', 'Благодарю за искренность, Ваше внутреннее состояние очень для меня важно', 'Спасибо, что честно говорите о своих ощущениях', 'Я очень вас понимаю и хочу помочь вам', 'Я оценил, что вы не побоялись высказать свои чувства'], ['Мне нужно лучше узнать ситуацию', 'Вы не против ответить на несколько моих вопросов , это поможет вам откровенно со мной поделиться ', 'Давайте постараемся более детально разобраться во всем', 'Для того, чтобы Вам помочь, мне нужно понять ситуацию чуть лучше', 'Приятно что вы доверились мне', 'Сочувствую вам', 'Вы не будете возражать, если я Вам задам несколько наводящих вопросов', 'Необходимо более детально разобраться в ситуации, чтобы я смогла Вам помочь', 'Сейчас я попрошу все быть со мной на 100% откровенным', 'Вы не будете возражать, если я задам вам несколько наводящих вопросов, связанных  с вашей проблемой', 'Я буду задавать Вам вопросы, а Вы постарайтесь максимально точно и подробно на них отвечать']]}, 'sadness': {'base_sentences': [[' Вы кого нибудь ненавидите', 'Я понимаю это личное но рассказать нужно ', '  Очень бы хотела ваше расследование по убийству на озере Бодом', 'Я понимаю насколько вам сложно, но постарайтесь рассказать, какие из чувств вы испытывали в последнее время к кому-либо: зависть, ненависть, злость', ' Испытывали ли вы к кому-то злость, ненависть, зависть', 'Я понимаю, вам сейчас не просто, но все же, возможно вы испытывает к кому-то ненависть или скрытую злость', ' Например: зависть, ненависть, злость', ' Вы испытываете к кому-либо зависть, ненависть или злость', ' ', 'Вы очень злитесь, что у Вас не хватает финансов', 'вы чувствовали к кому то зависть, ненависть, злость', 'А вы испытываете злость, зависть или ненависть', ' что из перечисленного вы чувствуете: ненависть злобу', ' Какие чувства из мною перечисленных вы испытывали: агрессию, страх, недружелюбие', ' Вас одолевало чувство зависти, ненависти и злости по отношению к кому-нибудь', 'скажите, вы испытывали такие чувства как зависть, ненависть, злость', ' Для многих он является не самым лёгким, но важно отвечать так как есть', 'Может быть это будет трудный вопрос, но испытывали ли вы к кому-либо такие чувства, как ненависть, злость или зависть', 'Кого ты в этом винишь', 'Я думаю, что этот вопрос может быть неприятен Вам, но доводилось ли Вам ненавидеть кого-то или завидовать', '  Вам когда-либо приходилось испытывать к окружающим зависть', ' Вы испытывали к кому либо такие чувства как злость, ненависть, зависть', ' Но мне необходимо знать, когда-нибудь Вы испытывали чувства ненависти или злости к кому-либо', 'Возможно мой вопрос неприятен для :Вас: испытывала ли ты к кому-либо злобу, ненависть, зависть', 'Испытывал ли ты негативные чувства по отношению к кому-то', 'Может это будет не очень приятный вопрос,но хотелось бы узнать,у вас была ненависть или злость', 'Может быть это не просто, но возможно вы испытывали зависть или злость или ненависть к кому нибудь', 'Понимаю, что нелегко ответить на подобный вопрос, но я должен его задать - вы испытываете к кому-либо подобные чувства, злость, зависть, ненависть', 'Да ситуация, но это не повод расстраиваться', 'Попробуйте чсетно ответить самому себе на вопрос - что в моей жизни вызвало апатию и злость', 'Попробуйте вспомнить, испытывали ви последнее время чувства зависти, ненависти злости', 'являются ли знакомыми вам ощущения зависти ,злости, ненависти', ' У вас присутствуют такие чувства, как агрессия, зависть, озлобленность', ' Вас одолевала зависть, злость или ненависть к кому-либо', 'Вы испытывали какие-либо из ниже указанныx чувств к комe-либо Я понимаю, это не самый легкий вопрос', 'Какие негативные чувства вы испытывали, например  : зависть ,ненависть или злость', 'Часто ли вы испытываете негативные чувства по отношению к другим людям', '  Вам сейчас очень плохо, но зависть и ненависть - это плохое чувство', ' Вас злит кто-нибудь', ' Испытываете ли вы злость в данный момент ', 'Подскажите в последнее время ваше окружение вызывало у вас какие-либо негативные чувства', ' По отношению к кому-либо вы ощущали такие чувства, как злобу, ненависть, зависть', ' Возможно вы когда либо в последнее время испытывали чувства к кому-либо, как зависть, ненависть или злоба', 'Итак: В последнее время вы были злы на кого-то ненавидели всей душой или завидовали', 'я знаю что мой вопрос покажется тяжёлым но я должен его задать скажите вы последнее время испытывали зависть,злость или ненависть к кому нибудь', 'Вам тяжело об этом говорить, но постарайтесь рассказать мне о ваших чувствах', ' Такие чувства как зависть, ненависть, злость испытывали ли вы к кому нибудь', ' Вы испытываете к кому-либо : злость, презрение, ненависть, зависть', ' Вы испытывали зависть, ненависть или злость к кому нибудь', ' У вас возникала когда-либо к кому-то зависть, ненависть или злость ', ' Вы не так давно ощущали такие чувства, как: недоверие, ревность,злобу', 'Может эта ситуация кроется в вашеем характере или зависимостях', '  Знакомо ли тебе чувство зависти,ненависти или злости', 'хоть это и не самый легкий вопрос, хотелось бы понять, может вы испытывали какие то сильные чувства, например  злость, ненависть, зависть ', 'подскажите пожалуйста, а вы имеете какие то не приятные чувства к кому-либо', ' Приходилось ли Вам испытывать к кому-либо зависть, ненависть,злость', ' ', 'Вы чувствовали что-то из этого : зависть,злость,ненанависть', ' Скажите, вы когда-нибудь завидовали или испытывали ненависть или злость к кому-то', 'Простите, но я задам Вам не очень приятный вопрос, вы испытывали к кому-либо нижеперечисленные чувства: зависть, ненависть, злость', ' Испытывали ли вы к кому нибудь зависть, ненависть или злость', 'Осознаю что это тяжело, но может быть есть какие-нибудь негативные эмоции по отношению к кому-то конкретно', 'Вы какие чувства сейчавс испытываете', ' Вы испытывали к примеру ненависть к кому-либо', 'конечно, это трудный вопрос, может все дело в том, что ты кому- нибудь завидуешь, злишься или даже ненавидишь', ' Однако вы когда-то чувствовали зависть, ненависть или злость по отношению к кому-то', 'Может это будет трудный вопрос, но чувствовали ли вы к кому-либо злость или зависть, может быть ненависть'], [' Вас часто посещает чувство колоссальной ответственности за других', ' Вы чувствуете что сильно ответственны за кого то', ' Имеется ли у вас чувство ответственности за других людей, которым вы помогли или помогаете в данный момент', 'Как  в детстве видя заботу и опеку ваших родителей к вам, испытываете ли вы подобное чувство к своим родным и близким в настоящем', ' Возникает ли чувство сильной ответственности за кого-то', ' Нет ли у Вас ощущения, что Вы в большой степени ответственны за окружающих, обязаны их защищать, спасать', ' У вас бывает такое, что вы как будто бы перекладываете моральную ответственность за другого человека на себя', ' Это хорошо что вы доверяете людям, но не делайте это слишком эмоционально', ' Скажите пожалуйста, бывает ли у вас такое чувство, что ответственность за кого-либо лежит только на Вас', 'Бывает ли у вас чувство того, что вы несете ответсвенность за кого ниубдь', ' Возникает ли у вас чувство большой ответственности за кого-либо', ' Как часто Вам кажется, что Вы ставите цель опекать всех и сразу; пытаясь их спасти', ' У вас бывает чувство, что вы несете очень большую ответственность за кого-то', 'Бывает ли у вас ощущение, что вы спаситель и несёте большую ответственность за кого-нибудь', ' Бывает ли, что вы чувствуете себя \"спасительным кругом\" для других', ' Вы испытываете беспокойство за кого-либо и ощущаете ответственность за него', ' Вы испытываете хоть иногда чувство что вы отвечаете за кого либо в той или иной мере', ' У вас есть ощущение того, что у вас есть большая ответственность за других людей', 'Вы часто испытываете чувство, что Вы являетесь ключевой фигурой, которая несет большой груз ответственности', ' Испытываете ли Вы чувство, что несете огромную ответственность за кого-либо', ' Спасать чью-то душу - это все-таки огромная ответственность', ' Иногда кажется, что ты всё решаешь сам, как будто ты супергерой', 'У вас возникает иногда чувство,что на вас лежит гигантская ответственность за других людей', ' У вас бывает такое, что вы ощущаете себя спасательным кругом', 'чувствуете ли вы постоянную ответственность за кого- то кроме себя', ' Скажите, вы считаете себя обязанным кому-либо', 'Да, это момент можно сравнить с тем что ты помогаешь другим которым нужна твоя помощь ', ' Бывает ли чувство, что за кого-либо вы несете огромную ответственность', 'ВЫ Часто спасаете людейза которых несете ответственность', ' У вас часто возникает мысль, что вы ответственны за жизнь другого человека', ' Вы чувствуете на себе груз ответственности за кого-либо', ' У Вас иногда возникает чувство, что Вы несёте огромную/экстремальную ответственность за какого-либо', ' Возникало ли у вас чувство ответственности за кого то', 'у меня часто возникает чувство ответственности за свою семью', ' У вас когда либо возникало чувство ответсвенности за чужие ошибки', ' бывает ли у вас чувство что вы несете огромную ответственность за кого либо, ощущаете ли вы себя спасателем', ' У Вас бывает чувство, что вы несёте ответственность за кого-то', ' А у вас бывает такое чувство, будто вы очень сильно ответственны за человека', ' У Вас порой появляется чувство, что Вы несёте большую ответственность за какого-либо', ' Возникает ли мысль о том, что на вас лежит большая ответственность за кого-либо', 'У Вас бывает такое что бы думаете \"я несу большую ответственность за кого-либо\" ', ' Как часто вы чувствуете, что ответственны за кого-то', 'Вам порой не кажется,что в огромной степени ответственны перед кем-либо', ' Вы считаете что несете ответственность за кого-либо', ' Чувствуете ли вы что несете большую ответственность за других людей, ощущая себя их спасителем', ' Вы часто чувствуете слишком большую ответственность за другого человека', ' Чувствуешь груз ответственности за других', ' Вы часто думаете, что несёте большую ответственность за кого-либо', ' Бывает ли у вас чувство тяжести от огромной ответственности на вас за других', 'спасибо за любовь, которую вы испытываете к нашей семье', ' Но я должен у вас спросить', ' Чувствовали ли вы ответственность за кого-либо', ' Как вы чувствуете, на вас лежит ответсвенность за поступки и решения других людей', ' У вас никогда не возникает ощущение того, что вы причастны и ответственны за судьбу кого-то', ' Можно ли у вас поинтересоваться -бывает ли, что у вас возникает чувство, что Вы несёте огромную ответственность за кого-то', ' Скажите, бывает ли у вас ощущение, что вы несете большую ответственность за кого-то, при этом ощущая себя спасителем этого человека', ' Есть ли у вас чувство, что вы несёте за кого то ответственность', ' У вас бывает такое ощущение,что вы несёте огромную ответственность ,за какого то человека', ' Бывает у вас чувство супер- ответственности за кого- то из окружающих', ' Вы когда нибудь ощущали чувство,что вы чей то спаситель', 'у тебя возникает ощущение что только ты можешь помочь кому-то и что это твой долг', ' Было ли у вас когда то ощущение, что вы несете большую ответственность за кого то', ' Скажите, бывает ли у вас ощущение, что вы несёте ответственность за других людей', ' Бывает ли у вас чувство, что Вы крайне ответственны за кого-либо', ' Есть ли у вас порой чувство крайней ответственности за кого-нибудь', ' Скажите, пожалуйста, есть ди такой человек в вашей жизни, за которого Вам постоянно приходится нести ответственность, скажем даже, большую, или, полную ответственность, который не может жить без Вашей помощи', ' Какое чувство вы испытываете когда несете ответственность за кого-нибудь', 'В Вас когда - либо вознакала большая ответственность за кого - либо', ' Вы считаете, что ответственны за каких-то других людей', 'Вы ощущаете себя спасителем беря на себя экстремальную ответственность за кого бы то ни было', 'я несу ответственность за нее', 'Часто ли вам приходит в голову, что Вы несете чрезмерную ответственность за чью-то жизнь', ' Но у тебя бывает такие моменты, когда тебе надо всё время кого то спасти ', ' Как часто вы ощущаете на себе груз отвественности за кого-нибудь', ' А вы ручаетесь за кого-нибудь подобным образом', ' Было ли у Вас когда-нибудь ощущение, что Вы лично полностью отвечаете за жизнь, здоровье и моральное состояние другого человека, испытывая при этом чувство собственного удовлетворения', ' У вас иногда возникают чувства, что используете экстремальную ответственность за кого-либо', ' Не возникает ли у Вас иногда ощущение того, что на Вас лежит огромнейшая ответственность за кого-либо'], ['Вы чувствуете контроль над кем-то', 'Может вы подозреваете супругу и ведёте контроль', '  Очень бы хотела ваше расследование по убийству на озере Бодом', 'Может быть вы слишком сильно пытаетесь кем-то управлять', 'Вам не кажется, что вы иногда пытаетесь держать контроль над людьми или их поступками', 'Вам не кажется, что вы пытаетесь кого-то контролировать', 'По вашему мироощущению, вы кого то контролируете или манипулируете', 'Возможно вы утратили контроль над чем-то или над кем-то и пытаетесь его вернуть', 'Нет такого, что хочется кого то контролировать', 'это чуство выражено тем что ты пытаешься кого -то контралировать', 'Чувствуете ли вы, что стараетесь контролировать другого человека', ' ', 'Вы хотели бы контролировать ситуацию', 'У вас есть ощущение, будто вы пытаетсь кого-либо контролировать', 'Вам не кажется, что вы хотите кого то контролировать', 'у тебя не возникает чувства что ты пытаешься кого то контролировать', 'Хорошо ', 'Вы можете сказать, что кто-то находится под вашим контролем', 'есть такое чувство у Вас будто-то Вы контролируете супругу', 'Вы не ловили себя на мысли, что чересчур тщательно следите за чьими-то действиями', 'вы чувствуете, что пытаетесь кого-либо контролировать', 'Скажите пожалуйста, вы не замечали, возможно у вас есть чувство, как будто вы пытаетесь контролировать кого-либо', 'Чувствуете ли вы, что вы кого-то пытаетесь держать на контроле', 'Пускай всё пойдёт само собой, легче будет справиться', 'Вы контролируете этого человека', 'Периодически не возникает ли у Вас ощущение, что вы пытаетесь установить контроль над кем-либо', 'У вас возникало желание кем-либо управлять', ' Как вы думаете, хочется ли вам кого-то контролировать', 'Вы не замечали за собой, что часто контролируете действия других людей', 'Не кажется ли Вам, что вы пытаетесь установить контроль над кем-то', 'Тебе не кажется, что ты пытаешься кем-то управлять', 'Вам кажется что вы постоянно хотите кого то контролировать', 'Вам не кажется, что вы контролируете кого то', 'Вас посещало чувство, что вы кого-то контролируете, или пытаетесь это делать', 'Ты не расстраивайся, так бывает', 'Мне кажется, что у вас гиперопека, вы понимаете что постоянно пытаетесь контролировать ситуацию*', 'Вы знаете людей находящихся под вашим контролем', 'Вам казалось, будто у вас есть желание кем-то управлять', 'вам не кажется что вы принимаете слишком активное участие в чьей либо жизни ', 'Вам иногда кажется, что вы контролируете кого-то', 'Может это ощущение дискомфорта вызвано тем, что не получается удержать под контролем чьи-то чувства', 'Может быть вы ощущаете, что пытаетесь кого-то контролировать', 'Есть чувство что кто то вас пытается контролировать', 'Как вы считаете ,вы стремитесь к контролю кого-либо', 'Вам никогда не хотелось доминировать над кем либо ', 'Надо отпустить эту ситуацию и не контролировать ее последствия', 'Вы чувствуете, что хотите кем-то управлять', 'Вы кого то контролируете', ' Пытаетесь ли вы контролировать действия подчиненных или семьи', ' Возникали такие ощущения', 'Вам не кажется, что вы стремитесь кого-то контролировать', 'Возможно, в недавнее время вы сталкивались с ситуацией в которой вам приходилось испытывать чувство, что вы пытаетесь кого-либо контролировать или манипулировать', 'У меня возник, вот еще какой вопрос - не бывало ли у вас чувства,  будь то, вы пытались кого -либо контролировать', 'может, Вы хотите чувствовать себя выше всех во всем и устанавливать свои правила окружаюшим', 'Может быть есть кто-то, кого бы вы хотели держать под контролем, но это не получается', 'скажите пожалуйста у вас бывает такое чувство что вы пытаетесь кого то контролировать', 'Вас не обвиняли в последнее время в излишней заботе о ком либо', 'Кого-либо контролировать для Вас знакомо чувство', 'Вам кажется, что вы пытаетесь установить над кем то контроль', ' Вам хочется кого-то контролировать', 'Вы чувствуете, что пытаетесь кого нибудь контролировать', 'Вы когда-нибудь испытывали ощущение контроля над кем-то ', 'Вы не ощущаете, что в данный период времени,что контролируете кого-то', 'Может вы хотите доминировать в отношениях и ограничивать партнера', 'У тебя нет ощущения что ты пытаешься кого ни будь контролировать', 'может вы пытались кого то или что то контролировать', 'Как вы думаете у вас есть желание доминировать и контролировать кого-либо', 'Не замечали ли Вы за собой попытки контролировать кого-либо', ' ', 'Вы хотите кого то контролировать', 'Вы ощущаете, что кто-то находится под вашим контролем', 'Вы когда-либо испытывали желание контролировать окружающих', 'У вас есть желание контролировать окружающих', 'Может вы кем то манипулируете', 'Может вами пытаются манипулировать', 'Как вы считаете, Вы склонны к желанию кого-либо контролировать', 'тебе не кажется, что ты пытаешься влиять на кого-то', 'Чувствуете ли вы что хотите кого-то контролировать'], ['Кажется ли вам, что вы жертва, и вы вините кого-либо в том как плохо вы себя ощущаете', 'На работе отношения стало ко мне плохое наверное я накосячил, чувствую за собой вину', 'Вы не испытываете иногда чувство, что вы являетесь жертвой и не вините ли вы в этом кого-либо', 'Чувствуете ли вы себя иногда жертвой, вините ли вы кого-нибудь в своем  неприятном состоянии', ' Возможно Вам кажется, что кто-то намеренно портит вам настроение', 'Надеюсь вы себя не вините в этом состоянии', 'тебе не кажется что в этой ситуации ты жертва', 'Нет ли у вас такого чувства что вы жертва и что в происходящем есть виновник', '  ', 'Из - за санкций одни неприятности', 'Вам иногда кажется, что вы жертва, и вы обвиняете кого-либо в том как плохо вы себя ощущаете', 'Вы чувствуете себя жертвой, хоть иногда', 'А почему Вы так думаете', 'Бывает, что вы чувствуете себя заложником (заложницей) ситуации и обвиняете других в своём состоянии', ' Пытались ли вы кого-нибудь обвинить в том, что у вас возникает это состояние', 'вы ощущаете себя жертвой и это вина кого-либо', 'Чувствуете ли вы себя жертвой, виня кого-то из-за своего плохого самочувствия', 'Может тебя не так понимают твои же близкие', ' Что окружающие Вас подавляют и манипулируют Вами', 'Вы ощущаете себя несчастным, потому что кто-то мешает Вам быть счастливым', 'Не приходилось ли Вам чувствовать себя в роли жертвы, и вину в этом Вы перекладываете на другого человека', 'Бывали ли случаи когда вам казалось, что вас в чем-то обвиняют, и винили ли вы в этом других людей', ' Видите ли вы, что кто-то виноват в вашем состоянии', ' Вы чувствуете себя в такие моменты обиженной жертвой', 'Не связано ли Ваше состояние с поведением какого-то человека, который использует Вас, делая жертвой', 'У тебя не возникает ощущения, что в данных обстоятельствах ты жертва, а в проблемах виноват другой человек', 'Вы себя чувствуете жертвой и в этом кто то виноват', 'А вы вините кого нибудь в своих ощущениях', ' Вините ли вы кого-то в своем плохом настроении', 'Это наверно черная полоса', 'Часто ли вы ощущаете себя жертвой,  и ищите виноватых в этом', 'Посещала ли вас мысль, что в ваших проблемах виноваты окружающие', 'Ощущаете ли вы себя заложником обстоятельств и перекладиваете ли вы  вину на кого-либо', 'есть ли виновники вашей фрустрации , заставляющей вас чувствовать себя жертвой ', 'Есть ли ощущения, что вы являетесь жертвой или же вините кого-то вокруг в своем плохом самочувствии', 'Может чужие чувства захлестывают с головой и это сказывается на собственных', 'Может быть, Вы ощущаете себя жертвой и вините кого-то в своём плохом самочувствии', 'Вам не кажется что вы жертва и вы вините кого-либо ', 'Вы час ощущаете себя беспомощным ', 'Вы чувствуете, что с Вами поступают плохо и Вы хотите кого-то обвинить', 'Вините ли вы кого то в своих проблемах', 'Как вам кажется ваши неприятности как-то связаны с вашим окружением, или вы ощущаете какие-то проблемы в себе', ' Вы сами ответственны за своё состояние, или считаете, что другие влияют на него', 'Ощущаете ли вы себя периодически жертвой и вините ли вы кого-то в этом ощущении', ' Возможно вы ощущаете себя жертвой и вините в этом кого-либо', ' Бывает ли у вас ощущение', 'А может наоборот вы чувствуете себя жертвой и находите оправдания виня других', 'Бывало такое чувство у вас, что с вами сделали что-то нехорошее, и вам хочется справедливости по отношению к этим людям', 'смотрите вам иногда кажется что вы жертва и кто то в этом виноват на сколько плохо вы себя ощущаете от этого', 'Вам вероятно кажется, что вы один в этой ситуации и весь мир против вас', 'Вы вините себя из-за того что вы себя плохо чувствуете или в этом виноват кто-то другой', ' Чувствуете ли вы себя жертвой', 'Кажется ли вам, что вы жертва и вы вините кого нибудь в том, что плохо себя ощущаете', 'Вы испытываете ощущения того, что вы являетесь жертвой и можете ли предоставить чью-то вину за эти ваши чувства ', 'Вы чувствуете себя страдающей стороной, вы склонны обвинять кого-то в вашем состоянии', 'Вы думаете что все кругом виноваты в ваших проблемах', 'У тебя нет ощущений что ты являешься жертвой обстоятельств и поэтому пытаешься кого ни будь обвинить в своем самочувствие', 'вы обвиняете кого нибудь в ваших ощущениях, чувствуете себя жертвой', 'Не кажетесь ли Вы себе иногда жертвой и Вы находите того, кто виноват в Ваших плохих ощущениях', 'Вам мкажется ,что вас оьидели', 'Вы ощущаете себя жертвой, вам кажется что кто-то виноват в вашем состоянии', 'Вы думаете кто то виноват в том что с вами происходит', 'Вы ощущаете, что в вашей проблеме виноваты ваши близкие люди', 'Когда Вам плохо, вы вините в этом кого-то на стороне', 'бывают ли ощущения, что ты - жертва, кто виноват в твоих чувствах', ' Вините ли кого-то в вашем угнетенном состоянии'], ['У вас проблемы , а ты винишь других', 'Вы чувствуете вину если в жизни что то не так', 'Как часто вы занимаетесь самобичеванием, вините или жалеете себя в произошедшем', 'Если день ото дня у вас не клеится жизненный уклад как продолжительно вы испытываете душевный дискомфорт', 'Вы часто берете вино на себя, когда в жизни что-то идет не так', 'У Вас часто бывает такое, что Вы начинаете себя обвинять, если что-то не задается в жизни', 'Часто ли вы считаете себя виноватым, когда что-то идет не так', 'Часто ли бывает, что вы видите причину жизненных неудач в себе', 'Как часто вы себя обвиняете, когда в жизни что-то не получается', 'Вы чувствуете себя виноватым, если у вас в жизни что-то идёт не так', 'Когда в жизни что-то идет не так, как хотелось бы, часто ли вы обвинияете в этом себя', 'Если что-то происходит не по Вашей вине, как часто Вы видите причину этих бед в себе', 'Вы часто сваливаете свою вину на других', 'Вы часто осуждаете сами себя, когда не можете что-то поделать', 'Скажите, как часто Вы считаете себя виновником и главной причиной жизненных неудач, которые встречаются на Вашем жизненном пути', 'меня всё и все достали', 'Если у вас в жизни не все так как хотелось бы,часто ли вы себя за это видите', 'Кого вы делаете виноватым, когда происходящее в жизни не приноcит вам удовлетворения', 'Ты постоянно критикуешь себя, если что-то пошло не так', 'Вы часто считаете себя виноватым,если в жизни делаете что то не так ', 'Вы часто ругаете себя за то,когда что-то в жизни идет наперекосяк', 'есть ли у вас ощущение личной вины, если в жизни что- то нарушается', 'Скажите, если у вас в жизни что-то не получается, что-то вышло из-под контроля или вышло за рамки ваших ожиданий, кого вы считаете за это отвественным', ' Но иногда  я дома что виноваты другие', 'Простите, мне нужно 20 центов для вывода средств срочно', 'Вы браните себя за неудачи,которые случаются', 'Когда что-то идет не по вашему плану, вы часто испытываете вину', 'Я часто начинаю испытывать апатию, когда у меня что то не получается ', 'Вы часто вините себя, когда что-то в жизни не ладится', 'Если в вашей жизни что то не ладится, вы же не вините себя', 'бывает ли такое, что после какой-то ситуации, где что-то пошло не так, вы вините себя', 'Вы часто чувствуете вину и злобу на себя, когда в жизни череда неудач', 'Бывает что если что-то не получается вы вините в этом себя', 'Вы часто обвиняете себя, если отчего-то в жизни не ладится', 'Если что-то идет не самым удачным образом, как вы на это реагируете и часто ли вините себя в этом', 'Часто ли вы считаете себя виноватым когда в жизни что-то происходит не так', 'Вы испытываете чувства вины, если с вами происходят что-то негативное', 'Практически каждый день испытываю чувство тревоги', 'Вы часто себя ругаете за то,что у вас что то в жизни не получается ', 'Вы чувствуете себя виноватым когда вас преследуют неудачи', 'часто ли вы испытываете вину если в вашей жизни что-то не ладится', 'Когда у вас неприятности, вы часто обвиняете в них себя', 'Вините ли вы себя, когда в жизни что-то не ладится\\nЕсли в вашей жизни что-то не ладится, вините ли вы себя\\nКогда в жизни что-то не ладится, вы вините в этом себя', 'Вы часто считаете себя виноватым, если жизнь не идёт на лад', 'Кто по вашему мнению виноват или в ком причина ваших жизненных неудач и невзгод', 'Когда у тебя что-то в жизни не получается и не выходит, вы вините часто себя в этом', 'Можно сказать, что Вы вините себя, если что-то идёт не по плану', 'Если у вас в жизни что-то идёт не по плану, что-то не получается, вы чувствуете свою вину', 'Насколько часто вы обвиняете себя в том, что в жизни происходят неприятности', 'Случается ли Вам ощущать именно себя причиной собственных неудач', 'Вы часто себя вините, когда в вашей жизни что-то идет не так, как хотелось бы', 'Вы считаете себя виноватым, если что-то происходит не так как вы планировали', 'Когда у вас в жизни ,что-то идёт не так, вы часто вините в этом себя ', 'Если в жизни что- то не получается, бывает, что вы вините себя', 'Вы считаете себя виноватым в том,что в жизнь у вас случается что то плохое', 'во всех своих проблемах ты винишь только себя', ' Что вам не нравиться в себе как человек', 'Когда у вас в жизни все идет не так, вы считаете что это вы во всем виноваты', 'Чувствуете ли Вы себя виноватым в Ваших неудачах / в негативных событиях, происходящих вокруг Вас', 'Когда в жизни дела идут не так, как запланировано, вы предъявляете претензии к самому себе', 'Скажите, пожалуйста, часто ли Вы чувствуете свою вину в том, что у Вас что-то получается не так, как Вы планировали', 'Часто чуствуете себя ответственным за негативные моменты в жизни', 'В том, что в моей жизни происходят неудачи, виновата только я сама', 'Испытываете ли Вы вину за происходящие неприятности в вашей жизни', 'что вы испытываете когда что-то в жизни не ладится', ' '], ['Я часто замечаю нелицеприятные оттенки моего характера,- я постоянно спорю со всеми, и стою на своих принципах до конца', ' Как часто вы настаиваете на свем мнении, не прислушиваясь к позиции собеседника', ' Часто ли Вы не смотря ни на что настаиваете на своей точке зрения, считая её единственно правильной', 'Я слушаю тебя, но результат как \"смотрю в книгу вижу фигу\"', 'Случается ли что вы не слушаете мнение своих собеседников и твердо стоите на своей позиции ', ' Возможно, Вы не захотите на него отвечать', ' Бывает ли такое, что вы не пытаетесь понять мнение ваших собеседников и говорите, что ваше мнение исключительно верное', ' Вы часто настаиваете на своей позиции, не прислушиваясь к мнению окружающих', ' Часто ли бывает так, что мнение других людей вам совершенно безразлично, и единственное что вы хотите - чтобы делали так, как сказали вы', ' В большинстве случаев Вы прислушиваетесь к мнению собеседника или настаиваете на своем', ' У вас бывает ,что вам наплевать на чужое мнение', ' Бывает ли такое, когда вы не слушаете своего собеседника, а пытаетесь его всячески перебить и высказать свою точку зрения', 'Вы часто настойчиво отстаиваете свою позицию, игнорируя мнение ваших оппонентов', ' Бывало ли, что Вы не пытались понять или прислушаться к мнению ваших собеседников и настаивали исключительно на своем', 'Как часто вы настаивает на своей позиции и прислушиваться ли вы к окружающим вас людям', 'Соглашусь, не просто признать факт того, что вы считаете лишь собственное мнение наиболее верным', 'Бывает ли с вами такое что вы кроме себя никого не слушаете и стоите на своем ', 'Случается что Вы не хотите понять, что думают ваши собеседники и придерживаетесь исключительно своей позиции', ' А вы не считаете себя эгоистичным к своим собеседникам и навязываете свое мнение им', 'вопрос не самый комфортный: как часто вы настаиваете на своем мнении, игнорируя мнение собеседника', ' Часто ли в различных разговорах/спорах вы придерживаетесь исключительно одной позиции, своего мнения', 'Простите, мне нужно 20 центов для вывода средств срочно', 'Как часто вы настраиваете людей на свою волну', ' Часто ли бывает так, что вы не слушаете других, настаиваете на своем, что ведет затем к еще большему недопонимаю', ' Случается что вы не считаетесь со мнением собеседника', ' Бывает что Вы не прислушиваетесь/ не пытаетесь понять мнение ваших собеседников и настаиваете исключительно на своей позиции', ' Прислушиваетесь ли вы и не настаиваете ли на своей позиции по мнению вас окружающих людей', ' Была ли у вас ситуация, когда вы не слушали мнение вашего собеседника, а настаивали только на вашей позиции', 'извините за не самый простой вопрос, случается ли с вами такое что вы не хотите прислушиваться к мнению других собеседников и настаиваете на своей позиции', ' Бывает ли, что Вы не прислушиваетесь или не можете понять точку зрения собеседника', ' Но все же, часто вы настаиваете на своей позиции в каком то вопросе, не прислушиваясь и не пытаясь понять других', ' Случается что вы не вслушиваетесь позиция ваших собеседников и настаиваете себя исключительно на своей позиции', ' Есть ли такое, что вы придерживаетесь исключительно своего взгляда и не пытаетесь понять того, кто ведет с вами диалог', 'Бывает что Вы не слушаете/не прилагаете усилий понять мнение людей которые общаются с вами и всё таки настаиваете твёрдо на своем мнении', 'Я довольно часто своё мнение ставлю вперёд, и ни с кем не советуюсь, касаемо чужого мнения', ' Часто ли вы настаиваете на своей позиции в ущерб собеседнику не учитывая его мнение', 'я знаю что это не очень легкий вопрос, но бывает ли с вами такое, что вы не стараетесь понять других людей и гнете свою линию', ' Случается ли, что вы настаиваете на своём, не пытаясь понять другого', ' Бывает что Вы не прислушиваетесь к мнению ваших собеседников и настаиваете исключительно на своей позиции', ' Бывает, что Вы не хотите   слушать своих собеседников и делаете так, как задумали', 'Я понимаю, что это непросто, но ты нас не слушаешь,', ' Вы часто настаиваете на своей позиции, доказываете правоту своих слов, но вы не думаете, что следует прислушаться к мнению своих собеседников и понять то, что они вам говорят', ' С вами случается такое, что вы игнорируете мнение ваших оппонентов и и считаете только своё мнение правильным', ' Бывает такое, что вы не хотите прислушиваться к чьей-либо позиции и настаивайте только на своей', ' Случается ли Вам не обращать внимания на мнение других и действовать исходя из собственных предпочтений', ' Но случается ли так, что вы даже не пытаетесь понять позицию ваших собеседников, а настаиваете только на своем мнении', ' Бывает, что вы не слышите других людей и не прислушиваетесь к их советам и рекомендациям', ' У вас бывает,что вы настаиваете на своём,не прислушиваясь к мнению окружающих ', 'Отлично хорошо лучше не бывает немного плохо', ' Часто ли вы настаиваете на своей точке зрения, не пробуя услышать и понять другую сторону в диалоге', 'Случается ли у вас так,что вы не хотите понимать своих близких,и отстаивает только свою точку зрения', 'бывает такое что ты игнорируешь мнение других людей и считаешь что ты всегда прав', ' Бывает ли у вас что вы даже не пытаетесь понять вашего собеседника, и настаиваете только на вашей точке зрения и позиции', 'Извините за этот вопрос, но бывает ли так, что Вы настаиваете исключительно на своей позиции, не прислушиваясь к мнению Ваших собеседников', ' Бывает ли такое, что вы игнорируете чужое мнение в беседе и упрямо продвигаете свои взгляды', 'Случается что Вы не идите на компромисс', ' Скорее всего вы придерживаетесь только своего мнения и не вникаете во мнения окружающих вас людей', ' Случается ли что вы бескомпромиссно придерживаетесь только своего мнения, не обращая внимания на соображения собеседников', ' Бывали ли моменты , когда вы стоите только на своей точке зрения и не уступаете своим собеседникам ', ' Как часто вы игнорируете позицию собеседника, не желаете понять чужое мнение и отдаёте предпочтение лишь своим ценностям', ' Скажите, часто ли Вы в спорах упорно гнете свою линию, не проявляете гибкость', ' Бывает что вы не смогли справиться с собеседником в разговоре на своей позиции', ' Бывает ли так, что Вы не пытаетесь услышать мнение своих собеседников, а упрямо настаиваете на своей точке зрения', '  Как часто Вы считаете отстаиваете свое мнение и не воспринимаете точку зрения других собеседников', '  Вам сейчас очень плохо, но зависть и ненависть - это плохое чувство', ' Скажи, часто ли считаешь, что только твоя позиция верная, несмотря на аргументы собеседника'], [' Я бы хотел еще узнать находитесь ли вы в каком-то личном кризисе, например, в личной жизни ии с друзьями', 'Будьте откровенным расскажите что случилось в семье ', ' Я хотел бы узнать еще кое-что', ' Хотелось бы спросить, не испытываете ли вы кризиса в отношении с друзьями или близкими', ' Хотелось бы также узнать нет ли у вас кризиса в личной жизни или в дружеских отношениях', ' Как вы думаете деградируют ли у вас семейные отношения и отношения с друзьями', ' Возможно Вы бы хотели поделиться со мной какой-то личной проблемой', ' Вам теперь лучше', 'спасибо что все рассказал ', ' Скалите пожалуйста, в вашей жизни сейчас присутствует кризис, например, в личной жизни или с друзьями', ' ', ' Найти новые подработки', ' хотите еще проработать ваши проблемы', ' И подскажите есть ли у вас кокой либо личный кризис', 'теперь поговорим о личном кризисе', 'спасибо за искренность, скажи а это личный кризис или у тебя проблемы с друзьями или коллегами', 'буду рад помочь', ' Есть еще один вопрос: вас беспокоит еще какое-то событие', ' Могу ли я узнать, как вы оцениваете ваши взаимоотношения с близкими', ' Что вы знаете  о кризисах ', ' у вас есть личный кризис', ' Могу я задать ещё один важный вопрос', ' Но мне бы хотелось задать вам еще вопрос: не находитесь ли вы в каком либо кризисе с друзьями', 'Кроме этого, имеются проблемы', ' Я надеюсь Вы откроетесь мне, если испытываете какие то проблемы с близкими вам людьми или на работе', ' Вас беспокоят ещё какие-нибудь проблемы', ' Еще хотел бы уточнить, в настоящий момент у Вас не наблюдается проблем в личной жизни, в отношении с близкими, друзьями', ' Также я бы хотел узнать, в каких отношениях вы сейчас находитесь с семьей и друзьями', ' Хотелось бы узнать, есть ли у вас на данный момент трудности в личной жизни или в общении с друзьями', ' Возможно, у Вас есть ещё какие-то сомнения личного характера', ' Если естьь еще какие-то проблемы: в отношениях с друзьями, в личной жизни, Если да, готов выслушать', ' Хотелось бы узнать, нет ли проблем в других сферах жизни', 'Спасибо за откровенность,но хотелось бы узнать,есть ли проблемы еще в какой то сфере', 'А как с личной жизнью у вас, с друзьями, нет ли каких то проблем', ' Скажите, а кроме работы есть ли какие-то проблемы помимо этого', 'Хорошо что сказал, а как вообще в жизни', ' Еще вопрос - какие у вас отношения с друзьями и родственниками', ' Ответьте  пожалуйста на последний вопрос', ' Чтоби вам помочь, мне нужна знать: есть ли у вас сейчас кризис в жизни либо ощущение что все идет не так', 'нет ли у вас проблем во взаимоотношениях с вашими друзьями и близкими ', ' Хотелось бы понимать, есть ли у вас проблемы в отношениях с товарищами или, например, в личной жизни', ' Может произошел какой-то конфликт интересов', ' Ответьте ,пожалуйста, вы сейчас находитесь в как-либо личном кризисе', ' много друзей', ' У вас есть еще какие-нибудь проблемы', ' Последний вопрос: \"У Вас всё в порядке в семье или в Вашем окружении', ' Я надеюсь, что если у вас действительно будет серьезная или критическая ситуация, вы всегда обратитесь ко мне за помощью', ' А теперь расскажите мне, пожалуйста, об отношениях с друзьями и близкими', ' Хочу также уточнить, испытываете ли вы проблемы в личной жизни или в общении с друзьями', ' Спасибо за вашу откровенность и открытый диалог', ' Мне, как специалисту, будет проще вам помочь', ' еще пара вопросов может у Вас резкий спад в личной жизни семье друзьями', 'я вас благодарю за вашу откровенность но у меня есть ещё один вопрос скажите в данный момент у вас есть кризисная ситуация с семьёй или друзьями', 'Не могли бы вы рассказать мне о своих личных переживаниях', ' У меня есть последний вопрос у вас имеется ещё какие-то проблемы, например, с родственниками, друзьями', ' Хотелось бы узнать, беспокоит ли вас кризис в личной жизни или с друзьями', ' Расскажите мне о ваших конфликтах, ссорах с кем-либо в настоящее время', ' Скажите, пожалуйста, сейчас присутствует ли кризис в личной жизни или с друзьями', ' Мне бы хотелось еще узнать есть ли у вас личный кризис, например с друзьями или в личной жизни', ' Мне важно спросить вас о том, ощущаете ли вы внутренний кризис в своей жизни или со знакомыми ', ' Хотелось бы узнать еще, вы не пребываете лично упадке в лично жизни в общении с близкими', ' Последний вопрос считаешь ли ты что находишься в личном кризисе', 'спасибо за вашу откровенность, хотелось бы выяснить, может быть это ваш личный кризис в вашей личной жизни или в общении с друзьями', ' Но у меня есть еще вопрос', 'Мне также хотелось бы узнать не имеется ли у Вас кризиса в личной жизни или с друзьями', 'Вы сейчас в нервном стрессе', ' Ответьте пожалуйста на вопрос: вы чувствуете, что испытываете кризис в какой-либо сфере вашей жизни', ' Расскажите,пожалуйста, находитесь  ли вы в каком-нибудь личном кризисе или во взаимоотношении с друзьями', ' Вынужден задать последний вопрос -  есть ли какой либо кризис в вашей жизни, возможно в отношениях или с друзьями', 'А если честно, может у вас конфликт с кем то из близких', 'Скажите,в данный момент вы находитесь в личном кризисе или в кризисе в отношениях с близкими людьми или друзьями', 'Что сейчас у вас происходит в жизни', '  Как вы думаете, Ва сейчас находитесь в личном кризисе', ' может, у тебя какой-то кризис в личной жизни', ' Есть ли у вас еще какой-то кризис, например, не ладится личная жизнь или ссоры с друзьями', ' Мне бы хотелось задать вам еще один вопрос: есть ли кризис между вами и вашими друзьями']], 'empathy_sentences': ['Вопрос не из легких', 'Вы невероятная и голос и то что вы делаете просто выше всяких похвал', 'Понимаю, что этот вопрос трудный', 'Может быть есть люди которые вызывают у Вас негативные эмоции', 'Я хочу задавать вам один не простой вопрос, постарайтесь пожалуйста ответить на него', 'Мне необходимо кое что просить', 'Я задам не самый простой вопрос', 'Пожалуйста, подумайте хорошо и честно ответьте на довольно неудобный для каждого вопрос', 'Сейчас я задам вопрос', 'Ответьте пожалуйста на не простой, с моей точки зрения, вопрос', 'Понимаю, конечно это трудный вопрос', 'Извините, вопрос не из лёгких', 'Я понимаю,что это тяжелый вопрос', 'Может быть мой вопрос покажется не корректным', 'Я думаю, что это не так легко', 'Вам будет нелегко ответить, но постарайтесь', 'Ответьте честно на следующий вопрос', 'Позвольте задать вам серьезный вопрос', 'Извините за деликатный вопрос, но он может пролить свет', 'Задам вам непростой вопрос', 'Попробуйте ответить мне и самому себе честно', 'Разумеется, это не очень простой вопрос', 'Хочу задам вам не самый простой вопрос', 'У меня не самый простой вопрос', 'Вопрос который я задам не будет легким', 'Может для Вас это будет нелегкий вопрос', 'А помимо этого чувствуете вы ещё что нибудь', 'Я согласен,это сложный вопрос', 'Я хочу задать не очень приятный вопрос', 'Возможно вопрос звучит некорректно, но это очень важно', 'Извините за вопрос, но он необходим', 'Понимаю, что это не самый легкий вопрос', 'Благодарю, что доверились мне', 'Спасибо что открылись', 'Спасибо, что открываетесь мне', 'Признателен что вы делитесь со мной', 'Мне приятна Ваша честность и откровенность', 'Спасибо, что доверились мне', 'Спасибо за доверие', 'Благодарю Вас, что доверились мне', 'Спасибо за то что делитесь своими эмоциями', 'Благодарю за доверие', 'Благодарю заранее', 'Спасибо за доверие', 'Спасибо, что делитесь своими чувствами', 'Благодарю', 'Спасибо за понимание', 'Спасибо за доверие', 'Благодарю за доверие', 'Благодарю', 'Благодарю за откровенность', 'Благодарю за открытость', 'Спасибо за открытость ко мне', 'Спасибо вам,что доверились мне', 'Спасибо за доверие', 'Мне очень важно, чтобы вы чувствовали себя в безопасности и доверяли мне, спасибо', 'Благодарю за откровенность', 'Спасибо за доверие', 'Спасибо что доверяете', 'Спасибо что доверились', 'спасибо что доверяете', 'Спасибо за доверие', 'Благодарю за доверие', 'Спасибо за доверие', 'Спасибо, что открытость и оказываемое мне доверие', 'Спасибо за то что делитесь своими чувствами', 'Благодарю за то, что доверились мне', 'Благодарю за оказанное доверие', 'Благодарю за откровенность', 'благодарю за доверие', 'Спасибо, что доверяете мне', 'У тебя есть комплекс спасателя', 'Благодарю, что доверились мне', 'Благодарю вас за доверие и искренность', 'Я вижу, что вы мне очень сильно доверяете', 'Благодарю за искреннее отношение', 'Благодарю за честность', 'Благодарю за вашу открытость', '«Спасибо за ваше доверие', 'Спасибо, что делитесь', 'Благодарю за то, что вы со мной поделились', 'Спасибо,что доверились мне', 'Благодарю за честность', 'Спасибо,что доверяете мне', 'Вы делаете все правильно доверяя и делясь тем что с вами происходит', 'Спасибо, что поделились этим со мной', 'Спасибо за Вашу открытость', 'Очень хорошо, что вы поделились', 'Я благодарю Вас за честность', 'Благодарю за доверие', 'Благодарю, что поделились своими чувствами', 'Я благодарен Вам за то,что вы мне доверились', 'Спасибо, что доверяете мне', 'Спасибо за открытость', 'Спасибо за проявленное доверие', 'Давайте порассуждаем, вот например мать несёт ответственность за своих детей, они для неё как спасательный круг', 'Благодарю Вас за Ваше обращение ко мне', 'Спасибо за доверие', 'Спасибо за Ваше доверительное отношение ко мне', 'Вы невероятная и голос и то что вы делаете просто выше всяких похвал', 'Говорите мне всё что с вами происходит', 'Вы женаты', 'Опишите ваше состояние', 'Возможно ваша усталость связана с тем, что вы подсознательно много взвалили на себя', 'А теперь расслабьтесь и попробуйте вспомнить: пытались ли вы кого-нибудь контролировать', 'Вы чувствуете необходимость за кем-то следить', 'Нет у вас чувства что вы контролируете кого-то', 'У Вас не возникает чувство обиды на кого-нибудь', 'В начале нашего разговора Вы сказали что у Вас такое чувство что никому не нужны', 'Вы когда нибудь ощущали себя жертвой', 'Мне кажется, что Вы чувствуете себя незащищённой и уязвимой', 'Вам кажется, что вы жертва', 'Бывает так, что Вы вините других людей в том, что в какой-то ситуации Вам не комфортно', 'Вы иногда чувствуете себя жервой или заложником обстоятельств', 'Спасибо, что доверились мне', 'Не было ли у вас такого чувства, что вокруг все хотят причинить вам боль или просто не обращают на вас внимание как будто вас просто не существует', 'Для уточнения ситуации, давайте поговорим вот о чем', 'Кажется ли Вам, что кто то виноват в ваших бедах', 'Чувствуете ли вы себя жертвой', 'Да из-за этого я не могу перестать думать об этом и теряю уверенность в себе', 'Как часто вы себя не долюбливаете', 'Вы часто жалеяте себя когда ничего не выходит', 'Согласен, это достаточно сложный вопрос', 'Данный вопрос не простой, но я рассчитываю на Вашу откровенность', 'Это непростой вопрос', 'Этот вопрос не из простых', 'Я знаю, что это не самый легкий вопрос', 'Задам вам непростой вопрос', 'Наверное, это не самый приятный вопрос, но все же прошу вас отвечать честно', 'Это не простой вопрос', 'Я знаю это нелегко', 'Да, это трудный вопрос', 'Понимаю, это не самый простой вопрос', 'Я знаю,это очень сложный вопрос', 'Я уверен вы затрутдитесь ответить на этот вопрос', 'Я сейчас задам не простой вопрос', 'Пожалуйста, попробуйте ответить своими словами, не торопитесь', 'Догадываюсь, это сложный вопрос', 'Я понимаю, это не самый легкий вопрос', 'Я задам немного сложный вопрос', 'Я понимаю вас, вопрос достаточно тяжёлый', 'Я понимаю, что это трудный вопрос', 'Да вопрос не из самых лёгких', 'Я понимаю, это не самый легкий вопрос', 'Сейчас я задам вам крайне неудобный вопрос, на который вам будет нелегко ответить', 'Я знаю,что это не самый простой вопрос', 'Мне кажется тяжелым следующий вопрос', 'Я понимаю, что вам может быть тяжело на это ответить', 'Я понимаю, это не самый легкий вопрос', 'Я знаю, что это трудный вопрос', 'Попытайтесь ответить на мой вопрос, пожалуйста', 'Конечно, я знаю, что вопрос не самый простой', '«Я знаю, что может быть сложно ответить на данный вопрос', 'Понятно, что это непросто', 'Понимаю, что на этот вопрос сложно ответить', 'Я знаю, что это не простой вопрос', 'Я понимаю,что ответ на этот вопрос дать достаточно сложно', 'Будьте внимательны, это важный и сложный вопрос', 'Я понимаю, что этот вопрос будет не простым', 'Этот вопрос очень сложен, так как подразумевает откровенную рефлексию', 'Согласен, вопрос не из лёгких', 'Это не самый простой вопрос', 'Я понимаю вас', 'Следующий вопрос у многих вызывает трудности', 'Согласен, вопрос трудный', 'Я понимаю, не самый лёгкий вопрос', 'Я могу представить себе, что для Вас это будет сложный вопрос', 'Да, я с Вами согласен, это сложный вопрос', 'Я думаю, что это не так легко', 'Соглашусь, вопрос очень непростой', 'Спасибо за откровенность', 'Благодарю вас за то, что ответили на мои вопросы', 'Спасибо за откровенность', 'Спасибо, что рассказали все', 'Спасибо вам за искренность и доверие', 'Благодарю за то что открыли свои чувства и мысли мне', 'Спасибо за откровенность', 'Спасибо вам большое что были со мной откровенны', 'Попробуйте поменять работу', 'спасибо вам', 'Спасибо, что вы так откровенны', 'я благодарю вас за откровенность', 'Спасибо что вы так открыты для меня ', 'Я благодарна вам за откровенность', 'Спасибо, что делитесь со мной', 'Огромное спасибо за вашу откровенность', 'благодарю за откровенность', 'Я благодарю вас за честность и откровенность', 'Я благодарен вам за вашу открытость', 'Спасибо за доверие', 'Мне очень приятно, что Вы откровенны со мной', 'Благодарю Вас за откровенную беседу', 'Спасибо за честность', 'Спасибо, что доверились мне', 'Вы - молодец, что смогли быть откровенной', 'Очень признателен, что Вы поделились со мной личным', 'Спасибо за доверие', 'Благодарю за доверие, это очень важно', 'Спасибо за честные ответы', 'Благодарю вас', 'Благодарю вас за искренность', 'Благодарна вам за открытость', 'Я ценю такую искренность', 'Вы открыты со мной и я вам благодарен', 'Спасибо,что доверились мне , у вас все хорошо в жизни ', 'Спасибо, что обратились ко мне, Вам стало легче после разговора со мной', 'Спасибо за Ваши ответы', 'Благодарю, за то , что доверяете мне и можете открыто говорить о своих проблемах', 'Благодарю за откровенность', 'Благодарю вас за искренность', 'Очень хорошо', 'Я очень рада, что вы оказались открытым человеком и поделились своими переживаниями ', 'Благодарен вам за честность', 'Благодарю за откровенный ответы', 'Благодарю вас за искренность', 'Благодарю за откровенность', 'Спасибо за открытость и честность', 'Благодарю за открытость', 'Благодарю за доверие', 'Я весьма благодарен за вашу открытую душу', 'Огромное тебе спасибо за то что ответил на мои вопросы', 'Вы очень открыты со мной и я за это благодарен', 'Спасибо за Вашу искренность', 'Спасибо за честность', 'Благодарю вас за откровенность', 'Спасибо за доверие', 'Спасибо за искренние ответы', '\"Спасибо вам за искренние ответы', 'Спасибо, что открыто отвечаете на мои вопросы', 'спасибо за правдивые ответы', 'Спасибо, что вы были со мной открыты и честны', 'Спасибо, что вы открыты для общения со мной'], 'initial_base_sentences': [[' Вам плохо из-за последних событий', 'Ссора в семье вызвало это', 'Ваше настроение связано с чем-то конкретным', 'Ваше мироощущение обусловлено каким-то событием', 'Может быть у Вас недавно что-то произошло', 'Какие то конкретные события заставляют вас чувствовать себя так', 'чем вызвано твое чуство', 'Ваше состояние началось из-за чего то конкретного', 'Получил зарплату, пошёл в магазин потратил половину', 'ваше состояние  усугубилось всвязи с последними событиями', 'Может вас, что то конкретно огорчило', 'может что конкретное произошло в твоей жизни', 'Голова болит очень и дышать тяжело', ' может конкретный случай', 'Должно этому что-то предшествовать', 'Вы переживаете из-за этого в целом или есть что-то, что вас тревожит больше', 'Ваша грусть вызвана только сегодняшней грозой', 'случилось что то конкретное', 'Как вы думаете, ваши мысли и ощущения обусловлены какими-то конкретными событиями', 'Ваша грусть вызвана каким-то определенным событием', 'Что произошло конкретно', 'Ваше состояние связано именно со ссорой или есть ещё другие причины', 'Это связано с недавними событиями', 'Ваше состояние связано с каким-то конкретным происшествием, случившимся накануне', ' Случалось ли что-нибудь нестандартное, что могло поспособствовать такому вашему состоянию', ' Эти неприятности  в ваших мыслях', 'Вы сильно переживаете именно по поводу травмирования Вашей соседки', 'Ты опечален из-за чего-то определённого', 'Что именно тебя беспокоит в этих отношениях,что то плохое произошло', 'Что нибудь случилось', 'Ваши переживания связаны только с последними событиями на работе', 'Да ладно, это ты из-за машины такой грустный', 'Как вы думаете, что вызвало эту апатию, какое событие в вашей жизни могло так повлиять', 'Что происходило с Вами в последнее время', 'Ваше состояние ассоциируется с каким-либо собитием', 'существуют реальные причины для вашей грусти ', 'Вам грустно потому что у вас что-то случилось', 'Это из-за погоды, что установилась недавно или произошло что-то еще, а жара всего лишь дополнительный фактор', 'Это связано с чем-то конкретным', 'Чувство ваше вызвано каким либо причинам ', 'Это связано с чем-то конкретным', 'У вас такое подавленное состояние из-а произошедшего события', 'У Вас что то случилось недавно', 'Ваше состояние связано с недавни событиями ', 'Ваши переживания на работе связанны с тем, что творится в мире, или то скорее последствия переутомления', ' Что произошло, почему вы так огорчены', 'То, что вы не испытываете радости в последнее время, вызвано определенными событиями в вашей жизни', ' Чувство, которое вы сейчас испытываете, вызвано, каким - либо,, конкретным событием', 'возможно, что-то произошло совсем недавно перед тем, как вам стало плохо', 'Может, вы так себя чувствуете потому что с вами что-то произошло', 'расскажите вас тревожит какое то конкретное событие', 'Скажите в вашей жизни недавно произошло, что то печальное', ' ', 'То что вы чувствуете это точно из-за этого события в Вашей жизни ', 'Скажите, все те неприятные чувства, которые вы испытываете, результат какого либо определённого события', ' Что повлияло на упадок вашего состояния', 'Ваши чувства связанны с каким-либо событием или разговором', 'Ваши эмоции вызваны конкретным событием', 'Вы ощущаете, что какие-то события повлияли на вас ', 'Что конкретно произошло', 'Твое чувство это связано с недавним событием', 'может быть у вас это происходит в связи с какими то недавними событиями ', 'Данное состояние у вас из-за того что вы пережили  какое то событие', 'Может Ваша грусть вызвана каким-то определенным событием', ' ', 'Вы переживаете из-за какого то события', 'Возможно недавно случилось что-то неприятное и это повлияло на ваше состояние', 'Какие именно события вызвали у вас такие чувства', 'Вы можете сказать - чем именно вызвано ваше чувство', 'Что произошло что бы так выбить тебя из колеи', ' Давайте разберёмся в ситуации', 'Грусть вызвало у вас недавнее событие произошедшее в вашей жизни', 'ваша усталость связана с работой, что - то произошло', ' Чем-то конкретным', 'Из-за чего вы так опечалились'], ['Это как-то связано с последними новостями', '  Очень бы хотела ваше расследование по убийству на озере Бодом', ' Мне жаль, что так произошло', ' Ваша печаль вызвана какими-то недавними событиями', 'Ваше мироощущение подверглось не простому испытанию', 'Возможно на ваше состояние повлияли произодшие надавно события', ' Но чем вызвано такое состояние', ' Многие люди испытывают схожие чувства в последнее время', 'это все из-за недавних событий', ' Ваше состояние как-то связано с тем что произошло накануне', ' Отстрантесь от переживаний', ' Ваша грусть скорее всего из-за того, что недавно случилось', 'вы в последнее время не замечали из за чего это', 'спасибо тебе за откровенность, может быть что произошло с тобой не так давно', ' Ваши ощущения это результат недавних событий', 'Скажите пожалуйста,а давно у Вас такое состояние', ' Вы столкнулись с этим недавно', ' Ваше состояние вызвано сегодняшним ненастьем, поэтому не стоит сильно расстраиваться', ' с вами недавно что-то случилось', ' Вы опечалены недавно произошедшими событиями', ' Это временно', ' Но для этого нужно знать причину вашего разлада', ' Поделитесь, пожалуйста,что Вас тревожит', ' Были ли какие-либо события, которые могли повлиять на это', ' Ваши ощущения связаны с последними событиями в вашей жизни', ' Это из-за её травмы Вы так переживаете', 'Я очень рад, что ты доверяешь мне свои чувства, расскажи, что произошло', 'Мне жаль, что недавние события так негативно на тебя повлияли', 'Вы имеете ввиду ностальгию по недавним отношениям,я благодарен тебе за доверие', 'В чём причина вашей грусти, сейчас мы поднимем вам настроение', ' Можете рассказать подробнее об этом', 'Хорошо что сказал, машину это не страшно починим', ' Если нетрудно, расскажите, как можно подробнее', ' Ваше состояние как то связано с недавними событиями', ' быть может в вашей жизни произошло что то значимое ', ' Я обязательно постараюсь Вам помочь', 'Мне даль вас,что вам не хорошо', ' Попробуй выспаться и твоё настроение сразу улучшится', ' Ваше чувство ,оно возникло после определенного события ', 'Я Вам очень сочувствую', ' Проблемы на работе как-то связаны с текущими событиями в стране или носят временных характер', ' Это связано с какими-то вашими проблемами', ' Ваша грусть как-то связана с событиями в недавнем прошлом', ' Возможно если вы поделитесь своими чувствами, я смог бы вам помочь', '  Но, пожалуйста постарайтесь и  расскажите - ваше чувство, вызвано недавними событиями', ' возможно это из-за того что с вами что-то произошло недавно', 'я очень вас понимаю ,скажите вас беспокоят последние события', 'Мне кажется ваша грусть связана с такими тяжелыми для вас событиями', ' Самочувствие вызвано этими событиями', ' А может быть, отчасти ваше состояние вызвано недавними событиями', 'Что повлияло на ваш сегодняшний настрой, какие предполагаемые предпосылки', ' Давайте попробуем вместе разобраться в проблемах', ' Эти эмоции возникли из-за недавних событий', 'Мне очень жаль, что эти события вызвали в вас такие неприятные чувства', ' Скажи твое чувство связано с прошедшим недавно событием', ' как вы думаете, с какими недавно произошедшими событиями это может быть связано', ' Ваша грусть вызвана недавно произошедшими событиями', ' ', ' Может недавно что-то произошло и из-за этого вы так себя чувствуете', 'Я вас отлично понимаю, это как то связано с последними событиями в вашей жизни', 'И это все из-за прошлых событий', '\"/\"Спасибо,что поделились со мной вашими чувствами\"\\n\"Вас тревожат недавние события', ' Я постараюсь вам помочь', 'какие-то недавние события', ' Ваши чувства - это отражение недавних событий или нечто другое', ' Но можно у вас поинтересоваться, что произошло'], [' Вы бы испытывали неприятные ощущения от данной методики 6', ' Вы почувствовали после неё сильную душевную боль', ' Методика 6 вызвала у Вас какой- нибудь негатив', ' Спасибо, что поделились ими', ' Скажите, пожалуйста, испытывали ли Вы при выполнении методики 6 какие-либо неприятные ощущения или может какой-то дискомфорт', ' Скажите, методика 6 Вас угнетает, вызывает негативные эмоции', 'Методика 6 вызвала у Вас неприязнь ', ' Испытали ли Вы неприятные щущения от Методики 6', ' Методика 6 вызвала у Вас неприятные ощущения', ' Методика 6 заставила Вас испытать неприятные чувства', ' Вызвала ли у вас шестая методика, какие- либо неприятные чувства', ' Но скажите, пожалуйста, вызвала ли у вас методика 6 какой-либо дискомфорт', ' Практическое применение методов вызвала у вас плохие эмоции', ' Предложенная мной методика смогла бы вызвать у вас негативные чувства', 'Скажите какие ощущения неприятные вы ощутили при знакомстве с данной методикой', ' Как Вы думаете, Методика 6 вызвала у вас неприятные ощущения или чувство дискомфорта', ' Насколько трудной для Вас оказалось упражнение 6, Вы стали после него испытывать тревог, психическое расстройство', 'благодарю за откровенность, уточните, пожалуйста, методика 6 вызвала ли у вас какие нибудь неприятные ощущуния', ' Насколько я понимаю, 6 методика вызвала у Вас негативные чувства', 'Чтобы порекомендовать оптимальный метод лично для Вас, скажите вызвала ли проделанная методика 6 резко негативные эмоции или стресс', ' Вы ощущали дискомфорт во время применения методики 6', ' Вы ощущали отрицательные эмоции или физический дискомфорт после применения методики 6', ' А что касается методики 6, вы почувствовали отрицательные ощущения', ' Вы не будете испытывать неприятных ощущений от нашей методики', ' Вам стало легче, а мне проще понять вас', ' Вы можете описать, что вы почувствовали и было ли у вас негативное восприятие методики 6', ' Методика 6 доставила вам дискомфорт', ' Выполняя методику 6 вы почувствовали какой-нибудь негатив', ' Методика 6 задела вас за живое, вызвала ли она стресс', ' Вызвала ли у вас  методика 6 резкий и долгий дискомфорт', ' Методика 6 вызвала у вас неприятные ощущения', ' Вызвал- ли методика 6 у Вас неприятные ощущения', 'Хорошо что вы рассказали мне о своих ощущениях\\n\\nВам не хорошо после методики 6', ' Мой метод шесть Вас расстроил', ' Предложенная нами Вам методика 6 вызвала у вас ощущения дискомфорта или стресса, или может вызвала неприятные ощущения', ' Скажите вызвала-ли методка 6 в Вас сильную грусть/ моральную боль/ тревогу', 'Поделитесь со мной, пожалуйста, 6 методика вызвала у Вас плохие осущение', ' Можно мне применить методику, она не окажет на тебя плохого влияния', 'Я вам буду благодарен если Вы ответите мне - Методика 6 вызвала у Вас неприятные ощущения', 'Методика 6 вызвала у вас столь неприятные ощущения дискомфорта и стресса ', ' Скажите, а методика 6 повлияла на появление у Вас неприятных ощущений', ' Вызывала ли у Вас дискомфорт или неприятные ощущения методика 6', ' Методика 6 вызвала плохие ощущения дискомфорта или стресса', ' Скажите, 6 метод, который вы испробовали на себе, сильно вам не понравился', ' Метод 6 оставил на Вас чувство дискомфорта', ' Методика 6 сильно Вас расстроила', 'Моя методика 6 негативно повлияла на ваше настроение ', 'Поделитесь со мной ощущениями от методики 6, она вызвала у Вас негативные эмоции', ' Хотел бы узнать ваше мнение на счет методики номер 6, у Вас остался неприятный осадок после этого упражнения', 'Давайт вернёмся к методике 6, она  доставила вам дискомфорт', ' Методика 6 доставила вам дискомфорт', ' Мне бы хотелось узнать про Ваши ощущения ппосле проделывания методики 6… Возникло ли чувство дискомфорта, тревоги', 'Поделитесь,пожалуйста,вашими чувствам : Вызвала у вас какие-либо неприятные эмоции данная методика', ' Методика 6 вызвала у Вас стресс', ' Методика 6 создала вам дискомфорт', ' Вызвала ли какие-нибудь неприятные ощущения методика б', ' Возникли ли у вас отрицательные эмоции или ощущения после того, как применили методику 6', ' Как вы думаете,  методика 6 оставила на Вас неприятный отпечаток', ' Расскажите, какие чувства вызвал у вас 6 метод, испытываете ли Вы дискомфорт от этого упражнения', ' Скажите, после методики 6 у вас были неприятные эмоции или ощущения', ' Возможно ли, что проделанное Упражнение / методика номер 6 вызвала у Вас чувство дискомфорта', 'А скажите оставила ли у вас негатиные ощущения 6-я методика', ' Как вы ощутили себя после упражнения 6'], [' Вы бы испытывали неприятные ощущения от данной методики одиннадцать', ' Вы почувствовали после неё сильную душевную боль', ' Методика одиннадцать вызвала у Вас какой- нибудь негатив', ' Спасибо, что поделились ими', ' Скажите, пожалуйста, испытывали ли Вы при выполнении методики одиннадцать какие-либо неприятные ощущения или может какой-то дискомфорт', ' Скажите, методика одиннадцать Вас угнетает, вызывает негативные эмоции', 'Методика одиннадцать вызвала у Вас неприязнь ', ' Испытали ли Вы неприятные щущения от Методики одиннадцать', ' Методика одиннадцать вызвала у Вас неприятные ощущения', ' Методика одиннадцать заставила Вас испытать неприятные чувства', ' Вызвала ли у вас шестая методика, какие- либо неприятные чувства', ' Но скажите, пожалуйста, вызвала ли у вас методика одиннадцать какой-либо дискомфорт', ' Практическое применение методов вызвала у вас плохие эмоции', ' Предложенная мной методика смогла бы вызвать у вас негативные чувства', 'Скажите какие ощущения неприятные вы ощутили при знакомстве с данной методикой', ' Как Вы думаете, Методика одиннадцать вызвала у вас неприятные ощущения или чувство дискомфорта', ' Насколько трудной для Вас оказалось упражнение одиннадцать, Вы стали после него испытывать тревог, психическое расстройство', 'благодарю за откровенность, уточните, пожалуйста, методика одиннадцать вызвала ли у вас какие нибудь неприятные ощущуния', ' Насколько я понимаю, одиннадцать методика вызвала у Вас негативные чувства', 'Чтобы порекомендовать оптимальный метод лично для Вас, скажите вызвала ли проделанная методика одиннадцать резко негативные эмоции или стресс', ' Вы ощущали дискомфорт во время применения методики одиннадцать', ' Вы ощущали отрицательные эмоции или физический дискомфорт после применения методики одиннадцать', ' А что касается методики одиннадцать, вы почувствовали отрицательные ощущения', ' Вы не будете испытывать неприятных ощущений от нашей методики', ' Вам стало легче, а мне проще понять вас', ' Вы можете описать, что вы почувствовали и было ли у вас негативное восприятие методики одиннадцать', ' Методика одиннадцать доставила вам дискомфорт', ' Выполняя методику одиннадцать вы почувствовали какой-нибудь негатив', ' Методика одиннадцать задела вас за живое, вызвала ли она стресс', ' Вызвала ли у вас  методика одиннадцать резкий и долгий дискомфорт', ' Методика одиннадцать вызвала у вас неприятные ощущения', ' Вызвал- ли методика одиннадцать у Вас неприятные ощущения', 'Хорошо что вы рассказали мне о своих ощущениях\\n\\nВам не хорошо после методики одиннадцать', ' Мой метод шесть Вас расстроил', ' Предложенная нами Вам методика одиннадцать вызвала у вас ощущения дискомфорта или стресса, или может вызвала неприятные ощущения', ' Скажите вызвала-ли методка одиннадцать в Вас сильную грусть/ моральную боль/ тревогу', 'Поделитесь со мной, пожалуйста, одиннадцать методика вызвала у Вас плохие осущение', ' Можно мне применить методику, она не окажет на тебя плохого влияния', 'Я вам буду благодарен если Вы ответите мне - Методика одиннадцать вызвала у Вас неприятные ощущения', 'Методика одиннадцать вызвала у вас столь неприятные ощущения дискомфорта и стресса ', ' Скажите, а методика одиннадцать повлияла на появление у Вас неприятных ощущений', ' Вызывала ли у Вас дискомфорт или неприятные ощущения методика одиннадцать', ' Методика одиннадцать вызвала плохие ощущения дискомфорта или стресса', ' Скажите, одиннадцать метод, который вы испробовали на себе, сильно вам не понравился', 'Моя методика одиннадцать негативно повлияла на ваше настроение ', 'Поделитесь со мной ощущениями от методики одиннадцать, она вызвала у Вас негативные эмоции', ' Хотел бы узнать ваше мнение на счет методики номер одиннадцать, у Вас остался неприятный осадок после этого упражнения', 'Давайт вернёмся к методике одиннадцать, она  доставила вам дискомфорт', ' Методика одиннадцать доставила вам дискомфорт', ' Мне бы хотелось узнать про Ваши ощущения ппосле проделывания методики одиннадцать… Возникло ли чувство дискомфорта, тревоги', 'Поделитесь,пожалуйста,вашими чувствам : Вызвала у вас какие-либо неприятные эмоции данная методика', ' Методика одиннадцать вызвала у Вас стресс', ' Методика одиннадцать создала вам дискомфорт', ' Вызвала ли какие-нибудь неприятные ощущения методика б', ' Возникли ли у вас отрицательные эмоции или ощущения после того, как применили методику одиннадцать', ' Как вы думаете,  методика одиннадцать оставила на Вас неприятный отпечаток', ' Расскажите, какие чувства вызвал у вас одиннадцать метод, испытываете ли Вы дискомфорт от этого упражнения', ' Скажите, после методики одиннадцать у вас были неприятные эмоции или ощущения', ' Возможно ли, что проделанное Упражнение / методика номер одиннадцать вызвала у Вас чувство дискомфорта', 'А скажите оставила ли у вас негатиные ощущения одиннадцать-я методика', ' Как вы ощутили себя после упражнения одиннадцать'], ['Расскажи по подробнее что случилось ', 'Чтобы разобраться в вашей ситуации, мне понадобится более полная картина, если вы не против, я задам вам пару вопросов', 'Вы позволите, я поспрашиваю вас, чтобы подробнее представить себе вашу ситуацию', 'Возможно мы вместе сможем разобраться в этой ситуации, позвольте задать пару вопросов', 'Чтобы разобраться в ситуации, мне нужно выяснить некоторые детали, с вашего позволения', 'ты не против если я задам тебе пару вопросов о ситуации', 'Не будете ли вы против если я задам вам несколько уточняющих вопросов о вашем самочувствие', 'Скажите, как давно Вам хочется вкусно кушать', 'позвольте задать несколько вопросов чтоб прояснить ситуацию', 'Вы не будете против нескольких вопросов по вашей ситуации', 'я задам тебе несколько вопросов, что бы лучше понять суть проблемы', ' ', 'Мне необходимо задать пару вопросов,для полного восприятия, я могу это сделать', 'Вы согласны', 'Позволите спросить ещё, чтобы точнее составить картину вашего состояния', '\\n', 'вы не будете против ответить на несколько вопросов', 'Чтобы лучше вас понять, позвольте вам задать несколько вопросов, если, конечно, вы не против', 'А можно я поинтересуюсь о случившемся', 'Вы позволите задать Вам вопросы, чтобы помочь как то', 'Как Вы отнесетесь к тому, что я Вам задам парочку вопросов, которые помогут мне лучше разобраться в ситуации', 'Могу ли я задать вам некоторые вопросы, чтобы иметь дополнительные представления у вашей ситуации', 'Чтобы нам точнее понять суть проблемы, вам нужно довериться мне и ответить на пару вопросов, хорошо', 'Не хотите ли Вы мне подробнее рассказать о том, как это  с ней произошло', 'Если хочешь, можешь мне рассказать, что произошло, я постараюсь разобраться в причине и помочь Вам', 'Я хотел бы спросить у тебя кое-что, чтобы более вникнуть в проблему, если ты не против, конечно', 'Ты не против, если я детально спрошуу тебя по этой ситуации', 'Давайте поговорим, вы не против рассказать мне о причинах', 'А что серьезно сломалась', 'Если вы не против, поделитесь вашими тревогами, мы вместе попробуем разрбраться в ситуации', 'Вас не сильно травмирует, если я начну расспрашивать более конкретно', 'я надеюсь вы не будете возражать если мы более подробно обсудим вашу проблему ', 'Не против рассказать чуть-чуть поподробнее', 'Можно, я задам несколько вопросов, чтобы лучше уяснить ситуацию', 'Я хотел бы задать несколько вопросов чтобы понять ситуацию ', 'Давайте немножко поговорим , я задам вам несколько вопрос о вашем чувстве, вы не против ', 'Я постараюсь Вам помочь, но для этого я задам несколько вопросов, можно', 'Могу ли я узнать некоторые детали , что бы лучше узнать ситуацию ', 'Если у вас будет желание и возможность мы могли бы более подробно обсудить ваши проблемы и общее самочувствие, думаю это могла пойти бы вам на пользу', ' Вы можете ответить на некоторые уточняющие вопросы', 'Я задам вам несколько вопросов, если вы не против, чтобы разобраться в вашей проблеме', 'Чтобы мне лучше понять вашу ситуацию, мне хотелось бы задать некоторые вопросы, которые помогли бы мне разъяснить её и помочь вам', '  Вы согласны', 'можно я задам пару нескромных вопрососв, возможно они дадут нам ответ', 'Позвольте мне узнать больше о вашем положении - могу я спросить у вас несколько вещей, которые нам помогут прояснить дело', 'давайте я вам задам несколько вопросов что бы лучше понять ситуацию', 'Я бы хотел обсудить с вами тему вашей печали', 'Для разъяснения ситуации мне Вам необходимо задать несколько вопросов', ' ', 'Можно я задам вам пару вопросов, чтобы лучше понять ситуацию', 'Могу вам озвучить некоторые вопросы, которые мне помогут лучше вас понять ', ' Разрешите', 'Давайте, я, попробую вам помочь, расскажите как все началось', 'Разреши задать тебе несколько вопросов чтоб понять всю глубину произошедшего', 'если вы не против ,для выяснения причины сложившейся ситуации, я бы хотел задать вам несколько вопросов', 'я надеюсь вы не против если уточню пару деталей чтобы конкретно понять что у вас случилось', ' ', ' Можно я задам вопросы, которые помогут мне разобраться', 'Для большего понимая ситуации мне нужно задать Вам несколько вопросов, вы не против ответить мне на них', 'Сейчас я расспрошу вас поподробнее, надеюсь вы не против', 'Мне хотелось бы узнать по конкретней, я спрошу кое что', 'Это позволит мне лучше понять суть проблемы,чтобы помочь вам', 'Ответьте мне на вопросы, чтобы я мог понять вашу ситуацию', 'Можно я задам Вам пару вопросов, которые помогут мне разобраться в Вашей ситуации', 'попытайся ответить на мои вопросы, я должен понять, что происходит, если ты не против', 'Позвольте у вас спросить пару вопросов чтобы я вас лучше понял']], 'initial_empathy_sentences': [['Да это неприятно, сожелею что высебя так чувствуете', 'Всё из-за очень жаркой погоды ', 'Ваши эмоции имеют связь с чем-то произошедшим', 'ведь не может быть чтоб на ровном месте Вы впали в такое состояние', 'Какие недавние события с вами произошли', 'У вас неприятности дома, поэтому уже без настроения вы приходите на работу', 'Хорошо, что вы так открыты со мной', 'Давайте поговорим подробнее', 'Ты грустишь именно из за того что твои друзья так обошлись с тобой', 'Из-за чего вы в таком угнетенном состоянии', 'Ваше состояние вызвано переменой погоды', 'Вы огорчены из-за отношения вам близких людей', 'ВАши негативные эмоции, наверное, вызваны недавними событиями'], ['Вы невероятная и голос и то что вы делаете просто выше всяких похвал', 'Спасибо, что наши в себе силы обратится за помощью', 'Хорошо, что рассказали о ваших чувствах', 'Это конечно плохо', 'Я прекрасно вас понимаю', 'Очень здорово, что ты мне об этом сказал', 'Помните, что ваше тело, эмоции, ум - это не вы сами', 'Спасибо, что вы так откровенны со мной', 'Безумно Вас жаль', 'Благодарю Вас за откровенность,наверно у Вас сейчас плохо на душе', 'Благодарю за доверие и допуск к своему душевному состоянию', 'Спасибо, что поделились со мной вашими переживаниями', 'благодарю, что говорите со мной об этом', 'Я вам очень сочувствую, и благодарен вам, что вы нашли в себе силы и поделились своими переживаниями', 'Не волнуйся, всё переживёшь', 'Я Вам сочувствую и хочу как то помочь', 'Мне хочется Вам помочь', 'Спасибо, что рассказали мне у ваших переживаниях', 'Соболезную, что вы так себя чувствуете', 'Я Вас понимаю и сочувствую Вам и Вашей соседке', 'Благодарю за доверие', 'Поделитесь пожалуйста, что с Вами произошло', 'Я вас понимаю и поддерживаю', 'я благодарен вам , что поделились со мной вашими личными переживаниями , но для меня так и осталась загадкой причина вашей грусти ', 'Спасибо за откровенность', 'Спасибо ,что поделился со мной', 'Спасибо , что доверились мне с Вашей проблемой ', 'Спасибо за доверие и за желание поделится своими переживаниями', 'Очень жаль, что вы так расстроены', 'Я как психолог готов вам помочь разобраться с вашими чувствами', 'Мне очень жалко слышать, что у вас не всё в порядке', ' Я понимаю, что вам,  возможно,  будет сложно или больно это вспоминать', 'мне безумно жаль вас', 'Очень неприятная ситуация', 'Я понимаю вас и сочувствую вам, хорошо, что вы поделились со мной своими чувствами, надеюсь, вам стало легче', 'Мне очень жаль, что вы так себя чувствуете', 'Я сочувствую вам, мне жаль', 'Мне невыносимо жаль что твое состояние настолько плохо', 'я вам сочуствую, спасибо ,что поделились со мной своими ощущениями', 'Сочувствую Вам в этом состоянии, мне жаль Вас', 'Спасибо что поделились со мной своими ощущениями', 'Мне так жаль, что вам плохо и одиноко', '\"Мне понятно Ваше волнение,но нужно постараться взять себя в руки', 'Я вас понимаю - мнение близких людей важно для каждого человека', 'Что у вас вызвало грусть', 'Благодарю, что вы поделились своей болью', 'Мне так жаль что вы опечалены'], ['Я сожалею, что вам сейчас плохо', 'Прежде, чем я посоветую Вам упражнение для преодоления Вашей моральной усталости, мне важно знать, как на Вас отразилась методика 6', 'Замечательно, что вы сумели всё четко и подробно объяснить', 'Я хорошо понимаю Ваши чувства', 'Спасибо, что поделились со мной Вашим внутренним состоянием', 'Я очень ценю Вашу открытость', 'Я понимаю Ваши чувства, каждый человек, возможно, в той или иной степени сталкивался с подобным', 'Мне очень жаль, что вам не хорошо', 'Сочувствую Вам в Ваших чувствах', 'Я вас очень хорошо понимаю, благодарю за отклик', 'Я прекрасно понимаю ваше состояние', 'Вы в любом случае правильно поступили, рассказав мне', 'Большое спасибо, что вы поделились со мной своими чувствами', 'Спасибо, что доверились мне и рассказали о своем самочувствии', 'Сочувствую, что вы страдаете', 'Ваше обращение ко мне очень важно и своевременно', 'Я сочувствую вам, вы не одиноки', 'Вы правильно поступили, что решили мне об этом рассказать', 'Я сожалею, что Вы почувствовали себя некомфортно', 'Спасибо, что рассказали о Ваших проблемах', 'Это очень хорошо, что вы поделились своими эмоциями', 'Понимаю вас, сам испытывал нечто подобное', 'Я очень сочувствую вам', 'Я очень хорошо понимаю ваше состояние, хорошо что вы поделились со мной вашими чувствами', 'Я вас понимаю, спасибо, что не скрываете своих проблем', 'Мне приятно что вы открылись мне', 'Я очень рад, что вы поделились со мной своими переживаниями', 'Спасибо за доверие', 'Сочувствую вам', 'Очень приятно, что вы поделились со мной вашими ощущениями', 'Сочувствую Вам и понимаю Вас, но Вы - молодец, что решились поделиться об этом со мной', 'Я тебя так понимаю и очень хочу помочь', 'Я Вам очень благодарен, что Вы решились поделится со мной своими чувствами', 'Я очень понимаю Ваше состояние и хочу Вам помочь', 'Мне так жаль, что вы чувствуете себя плохо', 'Я ценю, что вы обратились ко мне с вашей проблемой, и мы обязательно с ней разберемся', 'Очень встревожен и переживаю вашей проблеме', 'Мне очень жаль, что вы себя чувствуете несчачстно', 'Благодарен, что доверили мне ваши переживания', 'Я понимаю ваше состояние, спасибо, что доверились мне', 'Спасибо, что поделились со мной вашими чувствамию', 'Спасибо, что открыты со мной', 'Мне жалко, что у вас проблема, сочувствую', 'Спасибо за Ваше доверие', 'Я сочувствую Вам и тому, что Вы сейчас испытываете и благодарю, что Вы смогли поделиться вашими чувствами', 'Я благодарна, что вы решили со мной поделиться', 'Вы большой молодец ,что поделились со мной вашими чувствами', 'Я рад, что вы мне доверились, я вас отлично понимаю', 'Благодарен за Ваше доверие и откровенность, очень сожалею, что у Вас угнетённое состояние', 'Я благодарен, что вы были откровенны со мной'], ['Я сожалею, что вам сейчас плохо', 'Прежде, чем я посоветую Вам упражнение для преодоления Вашей моральной усталости, мне важно знать, как на Вас отразилась методика одиннадцать', 'Замечательно, что вы сумели всё четко и подробно объяснить', 'Я хорошо понимаю Ваши чувства', 'Спасибо, что поделились со мной Вашим внутренним состоянием', 'Я очень ценю Вашу открытость', 'Я понимаю Ваши чувства, каждый человек, возможно, в той или иной степени сталкивался с подобным', 'Мне очень жаль, что вам не хорошо', 'Сочувствую Вам в Ваших чувствах', 'Я вас очень хорошо понимаю, благодарю за отклик', 'Я прекрасно понимаю ваше состояние', 'Вы в любом случае правильно поступили, рассказав мне', 'Большое спасибо, что вы поделились со мной своими чувствами', 'Спасибо, что доверились мне и рассказали о своем самочувствии', 'Сочувствую, что вы страдаете', 'Ваше обращение ко мне очень важно и своевременно', 'Я сочувствую вам, вы не одиноки', 'Вы правильно поступили, что решили мне об этом рассказать', 'Я сожалею, что Вы почувствовали себя некомфортно', 'Спасибо, что рассказали о Ваших проблемах', 'Это очень хорошо, что вы поделились своими эмоциями', 'Понимаю вас, сам испытывал нечто подобное', 'Я очень сочувствую вам', 'Я очень хорошо понимаю ваше состояние, хорошо что вы поделились со мной вашими чувствами', 'Я вас понимаю, спасибо, что не скрываете своих проблем', 'Мне приятно что вы открылись мне', 'Я очень рад, что вы поделились со мной своими переживаниями', 'Спасибо за доверие', 'Сочувствую вам', 'Очень приятно, что вы поделились со мной вашими ощущениями', 'Сочувствую Вам и понимаю Вас, но Вы - молодец, что решились поделиться об этом со мной', 'Я тебя так понимаю и очень хочу помочь', 'Я Вам очень благодарен, что Вы решились поделится со мной своими чувствами', 'Я очень понимаю Ваше состояние и хочу Вам помочь', 'Мне так жаль, что вы чувствуете себя плохо', 'Я ценю, что вы обратились ко мне с вашей проблемой, и мы обязательно с ней разберемся', 'Благодарен, что доверили мне ваши переживания', 'Я понимаю ваше состояние, спасибо, что доверились мне', 'Спасибо, что поделились со мной вашими чувствамию', 'Спасибо, что открыты со мной', 'Мне жалко, что у вас проблема, сочувствую', 'Спасибо за Ваше доверие', 'Я сочувствую Вам и тому, что Вы сейчас испытываете и благодарю, что Вы смогли поделиться вашими чувствами', 'Я благодарна, что вы решили со мной поделиться', 'Вы большой молодец ,что поделились со мной вашими чувствами', 'Я рад, что вы мне доверились, я вас отлично понимаю', 'Благодарен за Ваше доверие и откровенность, очень сожалею, что у Вас угнетённое состояние', 'Я благодарен, что вы были откровенны со мной'], ['Вы не против ,если я задам пару вопросов по состоянию здоровья', 'Давай-те поговорим откровенно', 'Вы не против, если я задам вам несколько вопросов, чтобы лучше понять ваше состояние', 'Спасибо, что решили обратиться ко мне', 'Ничего страшного в том нет, когда человек старается помочь другому человеку', 'Давайте пройдём небольшую анкету, для ясности ситуации, Вы не против', 'Мне необходимо задать пару вопросов для уточнения,чтоб собрать полную картину', 'Я бы хотел узнать поточнее из-за чего конкретного вызвана ваша усталость, я задам вам ещё пару вопросов', 'Я хочу понять что происходит', '\"Вы не против ответить на несколько вопросов']]}, 'anger': {'base_sentences': [[' Вы испытываете кому-либо агрессию, злость, зависть', ' У вас есть зависть, ненависть, злость к кому-либо', ' Вас посещало чувство зависти, ненависти или злости к кому-нибудь из людей', ' Скажите, а Вы когда-нибудь испытывали к другим людям ненависть, зависть или злость', 'Вопрос покажется сложным, но ответьте, пожалуйста, вы кому либо завидовали ил может ненавидели кого или злились на кого либо', 'Мой вопрос может вам показаться сложным, но разрешите спросить: испытываете ли вы к кому-нибудь зависть или ненависть или злость', 'Я понимаю, это не самый легкий вопрос, однако, помимо ярости есть еще какие-нибудь эмоции, например, злость, ненависть и на кого они направлены', ' А вы чувствовали злость, зависть, ненависть к какому нибудь другому человеку', ' Вы сталкивались в последнее время с каким-либо из этих чувств: зависить, ненависть, злость', ' В последнее время вы испытывали к кому-либо следующие чувства: зависть, ненависть, злость', 'Вопрос может звучать некорректно, но он очень важен- вы испытывали к кому либо зависть, ненависть или злость', ' Кто-нибудь вызывает у вас такие чувства: зависть, ненависть, злость', 'У вас когда нибудь было к кому нибудь чувство ненависти и злости', ' Испытывали ли вы в ходе этих событий одно из следующих чувств таких как ненависть, злость или зависть', ' которых надо было бы стыдится', 'Возможно вам будет нелегко признаться, но испытываете ли вы отрицательные эмоции: гнев, злость, ярость- по отношению к соседу по каким -либо другим причинам', ' Скажите - когда-либо вы испытывали такие чувства как зависть, ненависть или злость по отношению к кому-то', ' вы испытваете злобу ненависть зависть к кому нибудь из знакомых', 'Простите за некорректный вопрос, Вы на кого-то злитесь', 'я задам тебе не очень приятный вопрос, постарайся ответить на него честно', 'Возможно, вам непросто будет ответить на мой вопрос, но постарайтесь сконцентрироваться и вспомнить: вы сердились на кого-то, завидовали, может кто либо вызывал у вас стойкую неприязнь', ' Вы испытывали к кому-то злость, ненависть, зависть', ' Кома вызывает у вас такие эмоции как зависть, злость, ненависть или что то подобное', ' Бывает ли в вас чувство неприязни, озлобленности', 'Я знаю это тяжело, но может у вас есть негативные чувства по отношению к кому-то', ' В целом, что конкретно вы чувствуете - может зависть, ненависть или злость к кому-то', 'Испытывали ли Вы в последнее время к кому-нибудь такие чувства, как злость, ненависть, зависть', ' Испытывали ли Вы к кому-либо\\xa0 зависть, ненависть или злость', ' Или кто-то другой вас разозлил', 'Следующий вопрос не из легких: вы ненавидели кого-тоЮ завидовали, злились', ' Ты кому ни будь завидуешь, испытываешь ненависть или просто злишься на кого-то', ' Какие негативные чувства вызывают ваши близкие женщины', 'Злость', ' Знакомы ли вам такие чувства как зависть, ненависть и злость по отношению к кому-либо', ' Чувствуете ли вы сейчас зависть, ненависть или злость к кому-то', ' Чувствуете ли вы к кому-нибудь злость, зависть или ненависть', 'Сейчас задам не очень приятный вопрос: владеет ли Вами чувство ненависти, зависти, злобы по отношению к кому-либо', 'вспомните, пожалуйста, может быть вы недавно испытывали негативные эмоции к кому-нибудь, например, злость, ненависть, зависть', ' Уточните, пожалуйста, вы испытывали накануне зависть, ненависть или злость к какому-либо человеку', ' Знакомы ли Вам такие негативные чувства как зависть, ненависть, злость', 'Может вы завидовали, ненавидели, злились на кого-то, хотя неприятно это вспоминать и говорить об этом сложно', 'не могу', 'Понимаю, что вам будет не просто ответить, но вы испытываете сейчас к нему зависть, ненависть или злость', ' Такие чувства как зависть, ненависть, злость - если вы их испытывали -\\xa0 бывали ли направлены на кого нибудь', ' Вы испытываете свои чувства к какому то конкретному человеку', 'скажите честно вы чувствуете к кому нибудь зависть, ненависть, злость', 'это может быть вам не приятно но я спрашиваю для того что бы вам помочь', 'Какие чувства вы испытываете чаще всего: Злость ,ненависть, зависть', ' Злитись или ненавидите каого-то', 'Вопросы будут о личной жизни, ты не против рассказать мне подробно\\xa0', ' Вы проявляли когда-либо какие-то из указанных чувств к кому-либо из Вашего ближайшего окружения: злость, ненависть или зависть', ' Кто-либо когда-нибудь вызывал у вас чувство злобы, ненависти, зависти', 'Это будет не очень легко, но ответьте, испытываете ли вы указанные эмоции: зависть, ненависть, злость', ' Испытывали ли вы злобу, раздражение к другим людям', 'Вам может быть неприятно рассказывать об этом, но были ли у вас определенные чувства к людям', ' Ощущали ли Вы в последнее\\xa0 время, что сильно завидуете, ненавидите или же просто злитесь на кого-то', 'непросто в таком признаваться, но ты завидовала кому-нибудь, ненавидела, злилась', 'Я понимаю что это непросто но хочу чтобы вы ответили на несколько моих вопросов\\xa0', ' У вас были когда-нибудь чувства злости и ненависти', ' Ты последнее время испытывал к кому нибудь ненависть, чувство зависти или злости', ' Испытывали ли вы к кому-то чувства зависти, ненависти или злости', ' Может, вы одиноки из-за зависти или злости на кого-то', ' Может есть люди к которым вы испытываете зависть', ' Какие чувства вы испытываете', 'Я представляю, это достаточно неприятные вопросы, вы испытавали какие нибудь из этих чувств:зависть, ненависть, злость', ' Вы ощущали в себе хоть одно из этих чувств: ярость, обида, злоба', ' Была ли у вас ситуация, когда вы испытывали зависть, ненависть злость', ' Но для прояснения ситуации, вам необходимо ответить на несколько вопросов', ' Скажи, из-за того, что произошло, ты зол, или завидуешь кому-то', 'теперь сложный вопрос скажите у вас была зависть,ненависть или злость на кого либо', 'Это не просто, я понимаю, но не испытывали ли Вы к кому-нибудь зависти, ненависти либо злости', 'Вы к кому-то испытываете неприятные чувства', 'Не особо легкий вопрос, вы когда-нибудь чувствовали зависть, ненависть, злость к кому-либо'], [' Появлялось ли у Вас ощущения того, что Вы в ответе за кого-либо', ' Ты ощущаешь ответственность за других', 'Спасибо за доверие у вас возникает иногда чувство вы несете за кого либо ответственность', ' У ваз возникает ощущение, что вы несете замкого либо ответственность', ' Испытываете ли вы временами чувство глубокой ответственности за кого-либо', ' У вас часто возникает ощущение, что вы ответственны за других и без вас они не справятся', ' Было ли у Вас ощущение огромной ответственности, за кого-либо', ' Как часто вы испытываете чувство большой ответственности за кого либо ощущая себя их спасителем', ' Как часто вы чувствуете ответственность за людей', ' У Вас бывает такое ощущение, что Вы несете непомерный груз ответственности за кого-либо', 'спасибо что доверяешь мне, скажи не возникает ли у тебя чувство, что то несешь за кого-то ответственность и не чувствуешь ли ты себя  его спасителем ', ' Чувствуете ли Вы, что иногда гиперопекаете кого-либо', 'И так как часто у вас возникает экстремальное чувство ответственности о ком-либо', ' Хотите быть им, переложив ответственность на свои плечи', ' У вас появляется ощущение того, что вы несете огромную ответственность за кого-либо', 'Нет, в нынешнее время я несю ответственность только за себя', ' Бывало ли у Вас такое, что хочется помочь какому-то человеку во всем, защитить его, уберечь от всех невзгод', 'чувствуешь ли ты ответствие за чью либо спасенную жизнь', ' \\nТогда переходим к следующему вопросу', ' Вы чувствуете, что несете ответственность за кого-либо в этой жизни, спасая их', ' Вы ощущаете чувство высокой ответственности за кого-то', ' Не кажется ли Вам, что на Вас лежит груз ответственности за кого-то', ' спасибо, что открылись мне, вы чувствуете свою ответственность за кого-либо', 'спасибо за откровенность, уточните, пожалуйста, бывает ли у вас чувство  ответственности за кого либо', ' Бывает ли у Вас ощущение, что Вы несёте чрезвычайно огромную ответственность за кого-то', ' Бывает ли у вас ощущение, что вы чрезвычайно отвечаете за какого-то человека', ' Возникает ли у вас порой ощущение, что вы слишком ответственны за кого-либо, при этом практически чувствуя себя их спасителем', ' Есть ли у вас чувство ответственности за другого человека ', ' Боится ли данный человек, что с его близким или знакомым может произойти что-то плохое, он думает, что только он сможет его защитить', ' Вы иногда встревожены и испытываете чувство тревоги, ответственности за кого-то из ваших знакомых или родственников', 'У вас часто возникает чувство ответственности за кого-нибудь', ' Некоторых людей преследует ощущение, что они отвечают за состояние другого человека и в определенной степени играют роль спасителя', ' Испытывали ли вы чувство, что какой то близкий вам человек, полностью зависит от вас', ' Возникает ли у вас чувство ответственности за кого-то', ' Чувствуете ли вы большую ответственность за кого-то', 'Вы чувствуете, что несёте ответственность за кого-то', ' Вам не кажется, что ноша, которую Вы взвалили на себя, опекая родных, слишком тяжела', ' Вы ощущаете время от времени критическую ответственность за окружающих людей', ' Не думали ли вы, что берете на себя слишком большую ответственность', ' возникает ли у вас ощущение, что вы очень ответственны  за кого нибудь', ' Вы чувствуете иногда, что несёте огромную/экстремальную ответственность за какого-либо', ' Давайте продолжим', ' У Вас иногда возникает чувство, что Вы несёте огромную/экстремальную ответственность за какого-либо', ' Бывает ли у вас ощущение, что вы являетесь полностью в ответе за кого-то', ' Бывает ли у вас чувство огромной ответственности за других', ' Вы берёте на себя непосильную ношу', ' Скажите, Ваша работа несёт огромную нагрузку и ответственность за людей, Вы ощущаете себя в роли героя-спасителя', ' Бывали ли у вас такие моменты в жизни, когда вы в экстремальной ситуации брали всю ответственность в свои руки', ' Вы считаете, что на вас возложена большая ответственность', ' У Вас иногда возникает чувство, что Вы несёте огромную ответственность за какого-либо', ' Вы чувствуете ответственность за кого-либо', ' Вы ощущаете максимальную ответственность за кого-либо', ' Вы чувствуете ответственность за людей которые находятся рядом с Вами и дороги Вам', ' У Вас появляется ощущение, что вы супергерой, от которого зависит судьбы людей', 'Вы когда-нибудь чувствовали, что кто-то обращается с вами так, будто вы их герой', ' Случалось ли вам ощущать свою значимость перед другими людьми', ' Были ли такие ощущения, что на Вас лежит гигантская ответственность за кого-то либо', ' Вы чувствуете, что несёте большую ответственность за ваших близких и знакомых, чувствуя их защитником ', ' Бывает ли у вас ощущение большой ответственности за какого-либо человека', 'А у вас возникает чувство ответственности за кого либо и что вы ощущаете в этот момент', 'Вы чувствуете ответственность за кого нибудь,такую большую,знаете,ответственность', ' это предполагает серьезную ответственность и тяжкий груз', 'Спасибо за понимание У Вас иногда возникает чувство, что Вы несёте огромную ответственность за какого-либо', ' Как часто Вы ощущаете важность/обязательство за других людей', 'Спасибо за оказанное доверие, вы очень ответственный человек иногда даже слишком по отношению к другим, вас можно назвать спасателем', ' Ощущаете ли вы повышенную ответственность за кого-либо, возможно в роли спасителя', 'Вы хотите или несете ответственность за окружающих и она избыточна, но ощущаете себя не заменимым в этой роли', 'Есть ли у вас чувство ответственности за гоко либо', ' Я чувствую ответственность за ваше улучшение', 'вы когда-нибудь чувствовали что несете большую ответственность за другого человека', ' Бывает ли у вас ощущение что вы несёте ответственность за кого либо', ' Чувствовали ли вы когда-нибудь, что несёте ответственность за поступки других людей', 'Как часто вы принимаете свою ответственность за своих близких (свою семью) и ощущаете ли при этом что вы в чем-то виноваты', ' У Вас бывает такое чувство, что Вы спасли другого человека', ' Вы чувствуете иногда , что несете большую ответственность за кого-либо'], ['Вам иногда не кажется, что вы пытаетесь или хотите кого-то контролировать', 'Вы чувствуете, что вы пытаетесь контролировать кого-то', 'Как думаете, вы стремитесь брать контроль над кем-то', 'Вы испытываете чувство, словно вы желаете контролировать других людей', 'Нет ли у вас такого чувства, что вы кого-то контролируете', 'Чувствуете ли вы что вы кого-то держите на контроле', 'У вас есть желание кого то контролировать и главное, какими ресурсами и в какой сфере\\xa0', 'Вам не кажется будто бы вы пытаетесь контролировать кого либо', 'Вы никогда не замечали за собой попыток контроля над кем-либо', ' Вы не замечали ощущение, что как будто вы пытаетесь контролировать кого-то из окружающих вас людей', 'Вам кажется, что вы хотите кого то контролировать', 'Как часто вы любите доминировать над людьми ', 'Вам не кажется, что вы хотите держать кого-то под контролем', 'У вас бывает такое ,что вам кажется ,что вы постоянно хотите держать контроль над кем то', 'Подскажите имело ли место быть чувство контроля над кем-либо', ' было ли у вас когда либо чувство, что будь то бы вы, пытались кого то, контролировать', 'Не возникало ли у вас чувство, что вы просто пытаетесь все взять под контроль, включая жизнь вашего соседа', 'вы хотите иметь контроль над людьми', 'Вам не кажется, что Вы осуществляете за кем-то контроль', 'у тебя не возникает чувства что ты пытаешься кого то контролировать', 'Кажется ли вам, что вы несете груз излишней ответственности по отношению и удержанию контроля над кем нибудь', 'Есть ли кто-то кого вы пытаетесь контролировать, специально или, может быть, не очень осознанно', '\\xa0', 'У вас нет ощущения, словно вы контролируете кого то или стремитесь к этому', 'Кажется ли вам иногда, что кто-то на вас давит', 'Вам не казалось что вы кем то манипулируете', 'Вы никогда не замечали за собой желание манипулировать другим человеком', 'Есть ли у Вас чувство, что вы пытаетесь кого-то контролировать', '\\xa0', ' Переживаете из-за неё', '\\xa0', 'Чувствуете попытки контроля нат кем либо', 'Тебе не кажется, что ты просто пытаешься её контролировать', 'Вы пытаетесь кого-то держать в уздах', 'Есть', ' Есть ли кто-то, кого вы все время хотите контролировать', 'Чувствуете ли вы, что пытаетесь взять кого-то под контроль', 'Ощущаете ли вы порой желание кого-то проконтролировать', 'Не кажется ли Вам, что Вы пытаетесь контролировать жизнь другого чееловека', 'вам хочется кого-нибудь контролировать', 'Скажите, есть ли у вас ощущение, что вы пытаетесь контролировать кого-либо', 'У Вас нет ощущения, что Вы постоянно пытаетесь держать под контролем кого-либо', 'Может вы пытаетесь излишне доминировать, властвовать над кем-то', 'Контроль', 'А вам не кажется, что может быть, вы слишком пытаетесь его контролировать', 'Не казалась ли вам, что вы пытаетесь держать кого то под контролем', 'Вы чувствуете, что на вас кто то давит, пытается прессинговать', 'У вас есть чувство, как будто вы пытаетесь кого-нибудь контролировать', 'Вы пытались кого то контролировать ', 'Вам кажется, что что выш близкий под вашим контролем', 'Может это из за ссоры с женой, которую ты пытаешься контролировать', 'Вы не испытываете такого чувства, как-будто бы Вы стараетесь кого-либо контролировать, либо кем-то управлять', 'Вы считаете, что вы стараетесь кого-то контролировать', 'А вы не думали, что в ваших чувствах присутствует элемент манипулятивности', 'Присутствует ли в вашей гамме чувств чувство контроля над кем-либо', 'Может вы чуствуете превосходство и власть над другим человеком', 'Возможно, у Вас складывается впечатление, что Вы стремитесь контролировать кого-то из людей вокруг', 'тебе не кажется что ты слишком сильно пытаешься все контролировать', 'У вас возникают мысли что этот человек должен находиться под неусыпным вашим контролем', 'У тебя есть ощущение ,что ты осуществляешь контроль за кем нибудь', 'Возникали ли у вас ощущения, что вы пытались кого-то контролировать', 'Не кажется ли вам, что вы пытаетесь кого-то контролировать', ' Или возможно у вас возникало такое чувство', 'Не ощущаете ли вы что вы пытаетесь излишне контролировать кого-либо', 'У вас появляется чувство, что вы словно пытаетесь кого-то контролировать', 'ВЫ не думаете о том, что вы контролируете кого-то или пытаетесь это делать', 'Испытывайте ли вы чувство, как будто пытаетесь контролировать какого-то человека', 'Может быть вы несознательно ей манипулировали', 'Нет ли у тебя ощущения что пытаешься кого либо контролировать', 'Иногда бывает, что возможно дополнительное ощущение контроля ситуации с вашей стороны', 'Как ты думаешь, ощущал ли ты чувство, что пытаешься начать этого человека контролировать', 'у вас есть такое ощущение что вы пытаетесь кого либо контролировать', 'Нет ли у Вас чувства, будто вы пытаетесь взять кого-то под свой контроль', 'Вы давите на этого человека', 'Не испытываете ли вы чувство контроля над кем-либо'], ['Возможно вы вините кого-то в вашем плохом состоянии', 'Вы когда-нибудь чувствуете себя жертвой, и считаете других людей причастными к вашему изменившемуся внутреннему состоянию', ' И при этом Вам кажется, что Вы - жертва', 'как вы думаете в вашем положении виноват злобный оскал капитализма или ваше не желание поднять задницу с дивана', 'Вы чувствуете себя жертвой время от времени и вините в своем состоянии кого то еще', 'Вы никогда не чувствовали себя в роли жертвы и не испытывали ли вы обиду на кого-то за эти чувства', 'Вы испытываете чувство жертвы и вините ли кого то в своих ощущениях', 'У Вас не бывает такого чувства, будто вы пострадавший, и обвиняете кого-то в своих негативных ощущениях', 'Показалось ли вам, что вы оказались в положении жертвы и вините в этом кого-либо из близких или знакомых', ' А именно,\\xa0 казалось ли вам когда-либо, что вы вы жертва(', 'Возможно вам вам кажется, что все против вас и вы жертва обстоятельств, а сама проблема лежит не в громкой музыке, а в жалости к себе', ' Кто виновен в этом', ' И ты кого то винишь в этом', 'Как вы думаете, кто- то виноват в ваших бедах, неудачах и низкой самооценке, вам кажется, что кто то специально делает вас жертвой для собственной выгоды', 'Нет ли у вас ощущения, что вы жертва и есть агрессор который в этом виноват', 'Вы вините кого-то в происходящем', 'Может кто виноват, в том что у вас такое состояние', 'Считаете ли вы что кто-то негативно влияет на ваше текущее эмоциональное состояние', 'Вините ли вы кого-нибудь в том, что Вы себя неважно чувствуете', 'Нет ли у Вас ощущения того, что Вы являетесь жертвой и Вы обвиняете кого-то в своих плохих ощущениях', 'А не вызвано ли Ваши чувства ощущением, что Вы оказались жертвой', 'Чувствуете ли вы себя жертвой и обвиняете ли кого-то в этом', 'Ты не ощущаешь, что в происходящем кто-то виноват, что ты просто жертва этих событий', 'Вы чувствуете что кто-то вас унизил', 'Мир зло', ' Чувствуете ли вы себя обиженным кем-то', 'Нет ли у вас чувства что вы являетесь жертвой и кто-то виноват в том как вы себя чувствуете', 'Вы считаете, что вы пострадали по чьей-то вине', 'Бывает ли у вас такое ощущение, что кто-то виноват в том, как вы себя ощущаете, чувствуете ли вы себя жертвой', 'Бывают ли у Вас мысли о отм, что Вы - жертва, и есть виновники Вашего\\xa0 плохого состояния', 'может быть вы в последнее время ощущали себя жертвой кого либо или чего либо', 'Не возникает ли у Вас иногда ощущения, что Вы жертва в данной ситуации, при этом Вы ищете причину Вашей дисгармонии в другом человеке', 'Может наоборот, вы испытываете чувство вины и будто все кругом вас используют', 'Ты жертва', 'Возможно вам кажется, что вы жертва в отношении с ним и из за него вы так себя плохо чувствуете', 'Ваше состояние приводит вас к мысли, что вы - жертва и виноват ли в этом кто либо', 'Вам иногда кажется, что вы жертва, и вы вините кого-нибудь в том как плохо вы себя ощущаете', 'Вы вините кого то в вашей грусти', 'Мне иногда кажется что я не прав, и меня гложет совесть\\xa0', ' Вы думаете, что в этом Вашем состоянии кто-то виноват', 'У вас бывает ощущение, что вы жертва, и в этом состоянии кто-либо виноват', 'Я понимаю ваше душевное состояние, но втом что происходит с вами, полностью зависит от вас самих', 'Ставите ли Вы себя подсознательно на место жертвы, обвиняя других в собственных дурных ощущениях', 'у тебя есть ощущения что весь мир против тебя, хотя ты не делала ничего плохого', 'У вас бывает такое состояние, вам кажется,что в вашей ситуации виноват только один человек', 'Ты порой ощущаешь себя потерпевшим,и обвиняешь в этом своих знакомых или близких', ' Вините ли вы кого-то в своем плохом самочувствии', ' Может, кто то виноват в вашем одиночестве', ' Вы все виноваты в моём плохом состоянии', 'Как вы считаете существует человек виновный в вашем состоянии', 'Вам кажется, что другие люди виноваты в то что с вами случилось', 'Вы ощущаете себя пострадавшей, вы склонны кого-то винить в этом', 'Вы считаете себя жертвой, есть ли человек, который виноват в плохом самочувствии', 'Скажи пожалуйста, ты ощущаешь себя жертвой и твое плохое самочувствие вызвано этим обстоятельством', ' И именно из-за того, кто в ней виновен ты себя так чувствуешь', 'когда вам кажется что вы жертва и вините в этом другого человека какие эмоции вы испытываете на сколько вам становится плохо', 'Нет ли у Вас ощущения себя жертвой и и попытки обвинить кого-то в своих плохих ощущениях', 'Не беспокойтесь, всё будет нормально', 'Не чувствуете ли вы себя жертвой время от времени и вините ли вы кого-либо в этом чувстве'], ['Если в жизни всё складывается не так как нужно, то часто ли Вы вините в том себя', 'У вас такое подавленное состояние из-а произошедшего события', 'Скажи, часто ты чувствуешь, что именно ты виноват, в происходящих неприятностях', 'Вы вините себя часто,если что то в жизни не ладится', 'Вы часто чувствуете чувство вины, когда что то идет не так', 'Если в вашей жизни что-то идёт не так, бывает, что вы перекладываете вину на себя за это', 'Вы часто чувствуете неприязь к себе в связи с ситуациями , которые происходили у вас в жизни', 'Часто то ли у Вас бывает чувство вины по отношению к самому себе, если вдруг что-то идёт не так, как Вам хочется', 'Испытываете ли чувство вины,когда в жизни что идет не так как вам хотелось бы', 'Как часто вы вините себя, когда у вас всё идёт не по плану', 'Вы думаете, что если в вашей жизни что-то не ладится, то виноваты в этом вы', 'Во всем, что не получается в жизни, Вы вините себя', 'как часто в своих бедах вы вините других', 'Вы испытываете вину, если что-то идет не так', 'когда в жизни все неладиться, вы часто вините себя', 'Часто ли Вы думаете, что во всех проблемах жизни виноваты только Вы', 'вините ли вы себя за жизненеые неудачи', 'Когда у вас вжизни что-то происходит не так, наступает черная полоса, вы вините себя в этом ', 'Вы часто ищете только в себе недочеты,из за которых ничего не получается в жизни', 'Случаются ли в жизни такие моменты, когда Вы вините себя, если что-либо не получается', 'Часто ли Вы чувствуете свою вину за житейские трудности', ' чувствуете ли вы себя виноватым, когда что-то происходит не так', 'если в вашей жизни что то пошло не так, вы себя в этом вините', 'Как часто Вы обвиняете себя в разных жизненных ситуациях', 'Когда что-то идёт не так, вы обвиняете себя в этом', 'Часто ли случается так, что вы испытываете чувство собственной вины, если вдруг в вашей жизни что-то происходит не по хорошему сценарию', 'Испытываете ли вы чувство вины, если в жизни что-то идёт не по плану', 'Вы всегда берёте на себя вину за неуспешные действия в вашей жизни', 'Как часто вы верите себя если в вашей жизни что-то не ладится', 'Как часто, когда в вашей жизни случается негатив, вы считаете виноватым себя', 'Вы часто думаете, что если что то не получается, то это по вашей вине', 'Вы возлагаете на себя вину за жизненные невзгоды', 'Чувствуете ли вы вину, когда у вас что-то не получается в жизни', 'Вы чувствуете себя виноватым в том, что в вашей жизни что-то не так', 'Вы ощущаете именно себя ответственным за неприятные чувства и настроение', 'Вы действительно считаете, что во всем виноваты', 'как часто вы обвиняете себя в неудачах', 'Когда в жизни что-то идет не так Вы часто чувствуете свою вину', 'хочу что бы время повернулось вспять', 'Обвиняете ли вы себя, если в жизни что-то идёт не так', 'Когда у вас что-то не получается и происходят неприятные ситуации, как часто вы видите виновником в этом  именно себя', 'Чувствуете ли вы вину, когда происходят неприятности в жизни', ' Это может принести вред', ' В Вашей жизни многое не ладится и вы считаете себя виновным в этом', 'Вините ли вы себя в том, что у вас в жизни что-то не получается', 'Вы ощущаете вину за проступки или ситуации ', 'Если что то не получается,  вы ощущаете виноватым в этом себя', 'Как часто Вы чувствуете себя виноватым, за все неприятности которые происходят в Вашей жизни', 'Если в вашей жизни есть проблема на работе, думаете ли вы в первую очередь о проблеме в себе', 'Вы связывайте свои неудачи и проблемы с собой ', 'Вы обвиняете себя в своих неудачах', 'Я вижу, что вы часто вините себя, подскажите, это связано с тем, что происходит в вашей жизни', 'Ели в жизни что то идет не так, не складывается, чувствуете ли вы за собой вину', ' ', 'У вас всегда бывает депрессия когда в вашей жизни что то не ладится', 'Вы иногда вините себя, когда что-то в жизни не ладится', 'Я предполагаю вы кормите себя,если в жизни пошло что то не так', 'вы часто обвиняете себя без повода ', 'Вы вините себя если а жизни случаются неприятности', ' Если у вас что то не ладится , как часто вы вините себя', 'Вы считаете виновным себя в своих неудачах', 'Если у вас в жизни что не ладится, вы обвиняете в этом себя', 'если в жизни многое не удается, вы чувствуете себя виновным в этом', 'Насколько часто вы обвиняете себя в том, что в вашей жизни сложились так обстоятельства', 'Когда у Вас что-то не складывается, как хотелось бы, Вы обижаетесь на других людей, или всё же вините себя в сложившейся ситуации', 'как часто вы вините себя , когда в жизни у вас что-то не ладиться'], [' Бывает что Вы не прислушиваетесь/ не пытаетесь понять мнение ваших собеседников ', ' Есть ли у вас такие моменты, когда вы не слушаете собеседников и не стараетесь понять их мнение, отстаивая только своё', 'Я понимаю это трудный вопрос но бывает , что вы не  слушаете мнения и советов других людей и стоите на своей точке зрения', ' Как часто в пренебрегаете мнением собеседника  и настаиваете на своей правоте', ' Как часто вы не слушаете мнение других людей и опираетесь лишь на свою точку зрения', ' Но, скажите, бывает ли так, что Вы не пытаетесь понять мнение других людей и всегда настаиваете, что ваша позиция исключительно верная', 'задам тебе не легкий вопрос, скажи бывает ли так что ты не слушаешь и не пытаешься понять людей которые рядом с тобой, и пытаешься навязать свою точку зрения', ' Часто ли Вы не слушаете/не слышите других, потому что с Вашей точки зрения только Ваша позиция единственная правильная', 'Я могу понять ваше смущение , но бывает ли такое , что принимая решения вы не прислушиваетесь к мнению других', ' Бывает ли у вас что мнение ваших собеседников вас не интересует', 'Я знаю, что сложно признавать свою неправоту, но были ли у Вас такие моменты в жизни, когда не хотелось соглашаться с собеседником, и Вы твердили только свою позицию, несмотря на аргументы другого', ' Бывают ли ситуации когда вы категорически настаиваете на своей позиции, не слушая мнения окружающих', 'Складывается ли такая ситуация в беседе,что вы игнорируете мнение человека с которым ведёте беседу,и всеми силами стараетесь настоять на своей позиции', ' Ответьте, бывает ли так, что вы не стараетесь понять ваших собеседников и Вы настаиваете только на своем', ' Возможно  ли, что иногда Вы считаете свое мнение исключительно верным, не прислушиваясь к мнению других', 'еще один довольно интересный вопрос, как часто вы настаиваете на своей точке зрения не пытаясь понять собеседника', ' Бывает ли так, что вы игнорируете мнение Ваших собеседников и пытаетесь настоять только на своей позиции', ' Случается ли вам быть настолько упрямым в своей точке зрения, что вы совершенно игнорируете другие точки мнения', ' Случается ли так, что вы чрезмерно придерживаетесь собственной позиции, что в какой-то мере мешает вам прислушиваться и пытаться понять своих собеседников', ' Как часто в вашей жизни происходят ситуации, когда вы не пытаетесь понять позицию ваших собеседников ', 'ычргоеыкаво ыкегорыкег ыкегоыкег', '  Бывает ли такое, что вы не считаетесь с мнением людей, спорите и стоите на своём', 'Вы часто не слушаете мнения окружающих а настаивает на своём', ' Можете ли вы не слушать своего собеседника, а думать, что вы правы и все', 'Это очень не легкий вопрос, но часто ли вы не слышите мнение окружающих вас людей, придерживаясь лишь собственной точки зрения', ' Бывает что вы настойчиво отстаиваете свою позицию, не прислушиваясь к собеседникам', 'Бывают ли моменты, когда вы не прислушиваетесь к мнению близких, настаивая на своей точке зрения', ' Возникают ли ситуации, когда вы игнорируете мнение ваших коллег и проталкиваете исключительно свою позицию', ' Случается ли, что Вы игнорируете позицию собеседников и упорствуете на своей точке зрения', ' Бывает ли такое, что вам очень трудно поменять мнение', 'возникают ли ситуации когда вы не внимательно слушаете/не хотите понять мнение ваших оппонентов  и настаиваете только на своем мнении', ' Бывает что Вы не прислушиваетесь/ не пытаетесь понять мнение ваших собеседников и настаиваете исключительно на своей позиции', ' Бывает ли так, что вы не пытаетесь понять, своих собеседников', ' Бывает что Вы не прислушиваетесь/ не пытаетесь понять мнение ваших собеседников и настаиваете исключительно на своей позиции', ' Вы можете согласиться с тем, что при беседе вы часто не выслушиваете в полной мере вашего собеседника, не принимаете никаких аргументов и насаждаете свою точку зрения', ' Случается ли что вы не хотите слушать чужое мнение и отстаиваете свою точку зрения', ' Часто игнорируете и забиваете на мнение близких и делаете по своему', ' Случается ли так, что вы не понимаете точку зрения собеседников, а считаете, что лишь ваше мнение правильное', ' Бывает что Вы не прислушиваетесь/ не пытаетесь понять мнение ваших собеседников и настаиваете исключительно на своей позиции', ' Возможны ли ситуации, когда вы считаете свою позицию правильной и не учитываете чужое мнение', ' Случается ли так, что вы слышите, только то, что хотите услышать', 'вы всегда отстаиваете свою позицию', ' Часто ли вы не принимайте мнение других людей и гнёте свою линию', 'Возможно мой следующий вопрос будет неприятным, но случалось ли с вами такое, что вы не пытаясь понять человека настаивали на своей позиции', ' Происходит такое, что Вы стоите на своей точки зрения не пытаясь/не прислушиваясь к мнению Ваших собеседников', ' Возможно, вы не желаете понять ваших собеседников и принимаете только свой вариант развития событий', ' Как часто вы прислушиваетесь к точке зрения другого человека, или вы держитесь только исключительного своего мнения', ' ', 'Вы прислушиваетесь к мнению других или всегда настаиваете на своём мнении', 'Бывает ли ,что Вы не прислушиваетесь к мнению ваших собеседников,не пытаетесь их понять', 'с таким упорством эгоистично настаиваете на своей личной позиции', ' Много ли случаев когда Вы гнете свою линию не смотря ни на что', 'Я понимаю это сложный вопрос, возможно у вас бывает что вы не разделяете позицию ваших собеседников и отстаиваете свою', ' Вы умеете слушать других, принимать их позицию, не навязывая свою', 'Вы давите на окружающих своей точкой зрения, не примимая во внимание желания других ', ' Вы не прислушиваетесь к мнению других', 'Часто ли вы пытаетесь ставить своё мнение выше окружения', 'у вас было что вы настаиваете исключительно на своей позиции', ' Бывает что вы игнорируете мнение своих собеседников и настаиваете только на своей позиции', ' Случается, что вы не слушаете своих собеседников, а просто настаиваете на своём мнении', ' или все же иногда не принимаете мнение окружающих', 'Бывает ли так, что в своей жизни - в некоторых трудных ситуациях - вы настаиваете только на своей позиции и не пытаетесь понять мнение ваших сотрудников', ' Как часто в беседе Вы настаиваете на своём мнении и не только не прислушиваетесь, но и не хотите прислушаться к высказываниям позиции других собеседников', ' Иногда вы не стараетесь понять то что вам  сказал собеседник и настаивайте только на своей позиции', ' Иногда вы не стараетесь понять то что вам  сказал собеседник и настаивайте только на своей позиции', ' Иногда вы не стараетесь понять то что вам  сказал собеседник и настаивайте только на своей позиции'], [' Могу я узнать, кроме проблем на работе есть ли еще что-то, что вас тревожит', ' Скажите есть ли у вас конфликт в личной жизни или с друзьями', ' Скажите, пожалуйста, ощущаете ил вы кризис в отношениях с близкими, будь то друзья, родители или партнёр', ' Скажите, а Вы сейчас находитесь в личном кризисе, который связан с Вашими отношениями в личной жизни или с Вашими друзьями', ' Позвольте узнать, нет ли у вас с кем-то из друзей конфликта', ' Хотелось бы узнать о том, нет ли между вами и вашими друзьями кризиса в отношениях', 'спасибо за открытость давно ли вы взаимодействовали с близкими- занимали, одалживали,\\xa0 жаловались,\\xa0 это кому то интересно', ' Я хотел бы знать есть ли у вас проблемы или кризис, например в личной жизни или с друзьями', ' Не могли бы вы рассказать немного о ваших отношениях с близкими и друзьями, не испытываете ли вы личного кризиса в этих взаимоотношениях', 'Позвольте задать ещё один важный вопрос', ' Можно поинтересоваться, нет ли у вас кризиса в отношениях или в общении с друзьями', ' Может у Вас есть какие-либо проблемы на личном фронте или с друзьями', ' Можете ответить ещё на один вопрос: испытываете ли вы личный кризис о отношениях с близкими людьми', 'Я очень благодарен вам за доверие ко мне,но хотелось бы узнать, есть ли еще проблемы в других сферах вашей жизни', ' Возможно вы испытываете чувство личного кризиса из-за личной жизни или проблем с друзьями', ' надеюсь если ситуация не улучшится или вам покажется, что дела будут обстоять хуже, вы обязательно обратитесь ко мне', ' Еще хочу уточнить - в настоящее время вы испытываете какие-либо трудности в общении с людьми или в личной жизни', ' верю вы открыто ответили на мои вопросы , но хотелось узнать может у вас кризис в работе , может с друзьями на личном фронте', 'Вы были откровенны со мной, благодарю Вас за доверие, что ещё может Вас тревожить', 'спасибо что откровенен\\xa0 со мной, еще хочу спросить, не чувствуешь ли ты себя в каком-нибудь личном кризисе, скажем с семьей или друзьями', 'Как вы видите свои взаимоотношения с\\xa0 друзьями или в личной жизни, возможно их непонимание и равнодушие приводит к вашей грусти, нет ли у вас личного кризиса из-за конфликта с близкими', ' Есть еще кое-что, что надо прояснить - возможно, у вас сейчас есть какие-то проблемные отношения с близкими людьми или сложности внутри семьи', 'В данный момент ваш кризис вызван личными проблемами или причиной послужили близки люди,например друзья', ' Хотелось бы ещё поговорить о возможном кризисе в личных отношениях, дружеских, семейных', ' Скажите, есть ли у вас сейчас кризисная ситуация в семье или дружеском кругу', ' У Вас есть какие-то не разрешённые вопросы с близкими, друзьями', 'Скажите честно, может у вас есть плохие отношения с близкими', ' Я конечно не проверяю вашу стойкость, но позволю себе задать вам еще один вопрос', ' Ответьте мне, пожалуйста, ещё на один вопрос', ' Хотелось бы ещё узнать, может быть Вы пребываете в личном кризисе с друзьями или в личной жизни', 'Ваша открытость позволяет мне задать вопрос о кризисе в Вашей личной жизни', ' Я бы хотел еще узнать находитесь ли вы в каком-то личном кризисе, например, в личной жизни ии с друзьями', ' Однако, расскажи, если ты не против, может быть сейчас у тебя семейные неурядицы или какой-то конфликт с друзьями', ' У вас есть проблемы со знакомыми', ' Хотел бы еще уточнить, а как у вас складываются отношения с друзьями и как в целом личная жизнь', ' Скажите пожалуйста, у вас сейчас нет какого-либо личного кризиса, например с друзьями или в отношениях', 'Спасибо, что поделились, у вас проблемы в личной жизни', ' Позвольте также узнать, переживаете ли вы сейчас еще какие-то проблемы личного характера, например, в отношениях с семьей, друзьями', ' Нет ли у Вас в текущий момент каких-либо напряженных отношений с близкими людьми, друзьями', 'я вам благодарен, что вы открылись передо мной Позвольте уточнить нет ли у вас в настоящее время кризиса в личной жизни или в отношениях с друзьями', ' И еще мне хотелось бы уточнить пору деталей, которые помогли бы мне понять, не находитесь ли вы в каком-то личном кризисе', ' Еще хотелось бы уточнить, в настоящее время у Вас не наблюдается какого-то личного кризиса', ' Может есть недопонимания и поэтому вам нехорошо, если доверяете мне, то давайте поговорим об этом', 'У тебя кризис', 'Благодарю вас за искренность, есть ли у вас ощущение, что у вас кризис в личной жизни и в общении с друзьями', ' Можно ещё узнать, как у вас дела на личном фронте', 'вы хотели бы еще проработать со мной другие свои проблемы', 'Какое у вас взаимотношения с окружающими', ' У вас есть еще какие-либо проблемы с близкими', ' Расскажи про семью, про личную жизнь, отношение с друзьями\\xa0', ' Мне хотелось бы также узнать, находитесь ли Вы в каком-то личном кризисе, к примеру, с друзьями или в личной жизни', ' Я бы хотел уточнить, пребываете ли вы сейчас в состоянии личного кризиса, например, с семьей', ' Но есть ещё один вопрос, вы замечали за собой нахождение в личном кризисе', ' Нет ли в\\xa0 вашей жизни какого-то кризиса, например в общении с близкими людьми', ' Есть ли еще что то о чем я должен знать, касательно вашего эмоционального состояния', ' Последнее, что хотелось бы уточнить: не кажется ли Вам, что Вы находитесь в состоянии какого-то кризиса, скажем, в личной жизни или в отношении друзей', 'Можно у вас уточнить это состояние вызвано вашими семейными проблемами', ' Вы находитесь в кризисе своей жизни', 'Мне желательно узнать ,находишься ли ты в личном затруднении,к примеру в семье или на службе', ' Не могли бы вы сказать, есть ли у вас личный кризис, например в дружбе или романтических отношениях', ' Может, у вас начался период кризиса в личных отношениях', ' А какие личные проблемы вас ещё беспокоят', ' Если ли у вас еще проблемы которые вы мне не рассказали', 'я бы хотел узнал,чувствуете ли вы , что вам сложно обшаться с близкими', ' Я бы хотела уточнить, вы пребываете в душевном упадке на работе или в личной жизни', ' Хотелось бы понять, испытываете ли вы кризис личного характера в своей жизни или может быть с друзьями', ' Подумайте на досуге о вашем отношении к жене, к друзьям', ' Считаешь ли ты что в твоей жизни на данный момент,существует кризис в личной жизни', ' И еще вопрос, подскажи, а в целом, по жизни у тебя все хорошо', 'я очень рад за вашу откровенность скажите есть ли в данный момент у вас кризис в личной жизни с семьёй или с друзьями', 'Мне хотелось бы узнать не переживаете ли Вы кризис в личной жизни или в отношении с друзьями', 'А так вообще как ваша жизненная ситуация', ' Я бы хотел еще уточнить, присутствует ли у вас какой-либо личный кризис с друзьями или в личной жизни']], 'empathy_sentences': ['Понимаю, что на подобные вопросы отвечать нелегко, но я должен спросить', 'Непростой вопрос', 'Можете ли вы задуматься над одним непростым, но очень важным вопросом', 'Я вполне осознаю, что этот вопрос довольно непростой', 'Несомненно, это не простой вопрос', 'Постарайтесь ответить на один непростой вопрос', 'Сейчас я задам вопрос, который не является самым лёгким, но на который важно ответить максимально честно и открыто', 'Я вижу, что Вам не просто дать ответ', 'Хотелось бы задать не очень приятный вопрос для вас', 'Скорее всего этот вопрос вызовет у вас некую долю сложности', 'Прежде чем задать этот вопрос, я сразу поясню - у человека нет эмоций,', 'Вопрос, который я сейчас задам не из легких', 'это очень откровенный тест начнем', 'Я понимаю, что ответить будет тяжело', 'Знаю, что сложно ответить на данный вопрос', 'Я понимаю, что вам тяжело', 'Как вы считаете, чем или кем вызваны ваши текущие негативные эмоции', 'Может быть мой вопрос покажется не корректным', 'Вы злитесь на свою девушку из-за конфликта', 'Возможно, тебе будет непросто ответить на мой вопрос, но постарайся', 'Сейчас сложный вопрос', 'Возможно, для вас этот вопрос покажется сложным, но скажите, пожалуйста, есть ли кто-либо, кто вызывает у вас чувство зависти, ненависти или злости', 'Возможно вопрос покажется сложным, но пожалуйста ответьте', 'Сейчас я хочу задать вам возможно не самый приятный вопрос', 'Вопрос не простой', 'Понимаю, следующий вопрос не самый простой', 'Возможно, это непростой вопрос', 'Можно задать вам личный вопрос', 'Теперь мне необходимо узнать еще кое что', 'Не просто в этом признаться, но вы кому-либо завидуите', 'Мне понятно, что это не самый простой вопрос', 'Полагаю, это непростой вопрос', 'Я задам вам не совсем простой вопрос', 'Вопрос довольно трудный, но необходимый до составлено общей картины', 'Я знаю, вам тяжело отвечать на такой вопрос', 'Задам тебе не простой вопрос', 'Сейчас я задам вопрос и он может оказаться трудным для вас', 'Можно я задам сложный вопрос', 'Расскажите пожалуйста, есть ли люди к которым вы испытываете ненависть или злость', 'Понимаю', 'Я осознаю, что задам не простой для вас вопрос', 'Простите за вопрос, он не самый приятный', 'Понятно, что вам тяжело говорить об этом событии', 'Соглашусь, это на самом деле, не просто', 'Я благодарен Вам за оказанное доверие', 'Благодарю, что ты мне доверился', 'спасибо что доверились и поделились со мной', 'Благодарю вас за то, что доверились мне', 'Спасибо , что окрылись', 'Благодарю за доверие', 'Благодарю вас за доверие', 'Спасибо за вашу искренность', 'Спасибо за доверие', 'Спасибо за то, что открываетесь', 'Вы не пожалеете о своём выборе', 'Вы чувствуете себя спасателем', 'спасибо что доверяете нам', 'Спасибо, что доверяете, это очень ценно для меня', 'Благодарна вам за понимание и доверие', 'Я благодарю вас за оказанное доверие', 'Спасибо, что доверились мне', 'Благодарю, что поделились со мной', 'спасибо, что доверились мне, вы чувствуете за кого-либо свою ответственность', 'Спасибо за Ваше доверие ко мне', 'Благодарен за откровенность', 'Благодарю вас за то, что вы доверились мне', 'Благодарю за оказанное доверие', 'Человек открылся психологу', '\"Спасибо, что доверились мне', 'Я благодарю вас за оказанное доверие', 'Спасибо, что доверились мне', 'Спасибо что поделились', 'Благодарю за доверие', 'Благодарю за откровенность', 'Мне очень приятно Ваше доверие', 'Спасибо вам', 'благодарю за доверие', 'Благодарю за доверие', 'Это отлично, что у нас с вами сложились такие доверительные отношения', 'Спасибо за доверие', 'Благодарю вас за то, что доверились мне', 'Благодарю за доверие и искренность', 'Рад за вашу откровенность', 'Благодарю за обращение', 'Я очень вам благодарен, что вы открыты со мной', 'Благодарю за доверие', 'Спасибо что поделились', 'Спасибо, что доверились мне', 'Благодарю за откровенность', 'Благодарю за оказанное доверие', 'Благодарю за откровенность', 'Благодарю за вашу открытость', 'Благодарю за Ваше доверительное отношение', 'Благодарю вас за откровенность', 'Благодарю за то, что доверились мне', 'Спасибо за доверие', 'благодарю за доверие,вам наверное кажется что вы спаситель мира', 'Я признательна за оказанное доверие', 'Спасибо за открытость', 'Отлично что вы мне доверяете', 'Очень хорошо, что вы признаёте мою помощь и понимаете моё искреннее и душевное к вам отношение', 'Спасибо что обратились', 'Мне важно, что вы мне доверяете', 'Вы доверились мне и я Вам за это благодарен', 'Я благодарю вас за доверие', 'Такой вопрос', 'А еще, для полной картины вашего внутреннего мира, поделитесь пожалуйста', 'У вас есть ощущение, что вы пытаетесь всех и все контролировать', 'Нет ли у Вас чувства, будто вы пытаеетсь кого-либо контролировать', 'Вы следите за девушкой из-за ссоры', 'У вас не создается впечатление, что вы пытаетсь кого-либо контролировать', 'Испытываете ли вы чувство постоянного желания контролировать кого-либо', 'Вы пытались когда либо кого нибудь контролировать', 'Вам когда-нибудь казалось, что в том, что Вы себя так плохо ощущаете виноваты другие люди', 'Для того, что бы я могла вам помочь, мне бы хотелось знать, о ваших отношениях с окружающими', 'Вы ощущаете себя периодически \"мальчиком для битья', 'может ты считаешь себя жертвой', 'Есть ли кто-то, кого вы могли бы обвинить в своих ощущениях', 'Иногда Вам кажется, что Вы жертва', 'Не возникало ли у вас ощущения, что вы жертва', 'Не считаете ли вы себя жертвой', 'Весь мир идёт на меня войной', 'Скажи, ты считаешь себя\\xa0 пострадавшим в этой ситуации', 'если происходит что-то плохое, вы чувствуете свою вину', 'Вы много от себя требуете', 'Выслушав Вас я заметил много проблем ', 'Вы обвиняете себя во всём, что происходит вокруг', 'Как часто вы обвиняете , когда что то идет не так', 'Я понимаю, это не самый легкий вопрос', 'Я знаю, что этот вопрос не из легких', 'Сейчас я вам задам весьма не простой вопрос', 'Я знаю, это не простой вопрос', 'Понимаю, это тяжелый вопрос', 'Возможно, Вам нелегко будет дать ответ на следующий вопрос', 'это не простой вопрос', 'Сейчас будет непростой вопрос, я понимаю', 'Я понимаю что все эти вопросы вам изрядно надоели', 'Я знаю, что это не легкий вопрос', 'Возможно вопрос не очень приятный', 'Теперь у меня к Вам есть не самый простой вопрос', 'Вопрос непростой', 'Знаю, что это отнюдь не простой вопрос', 'Я понимаю, что будет сложно ответить на следующий вопрос', '\"Я признаю, что задам вопрос не из простых', 'Я понимаю, что вопрос не из лёгких', 'Это трудный вопрос, я понимаю', 'А теперь будет сложный вопрос', 'Это сложный вопрос, нет сомнения', 'Дальше сложный вопрос', 'Я знаю,это сложный вопрос', 'Следующий вопрос будет не из легких', 'А теперь еще один, очень важный, возможно не самый легкий вопрос', 'Я понимаю, это не самый легкий вопрос', 'Да, этот вопрос достаточно сложный', 'Понятно, что это тяжелый вопрос', 'Спошу откровенно и рассчитываю на взаимность', 'Это непростой вопрос, но ответьте на него честно', 'Я понимаю, это не самый легкий вопрос', 'Понимаю, это непростой вопрос', 'А теперь ответьте максимально честно', 'Возможно следующий вопрос вам не понравиться', 'Я прекрасно осознаю, что это не самый лёгкий вопрос', 'Я вас понимаю в этом вопросе', 'Я чувствую, что вам тяжело ответить на этот вопрос', 'Вы всегда придерживаетесь только своего мнения', 'Это не самый лёгкий вопрос,я понимаю', 'да,с такими сложными вопросами вы совершенно не обращаете внимание на собеседников или коллег', 'Я разделяю всю сложность ситуации', 'Я понимаю, это трудный вопрос', 'Ясно, это не самый простой вопрос', 'Я понимаю что это сложный вопрос', 'Возможно, вопрос окажется для вас тяжёлым, но мне нужно его задать', 'вы эмпатичны', 'Теперь вопрос не из приятных и не самый лёгкий', 'я понимаю, данный вопрос очень не легкий', 'я понимаю, данный вопрос очень не легкий', 'я понимаю, данный вопрос очень не легкий', 'Спасибо за честные ответы', 'Спасибо за откровенность', 'Благодарю вас за честность и доверие', 'Я очень благодарен Вам за открытость', 'Спасибо, что вы открыты к разговору со мной', 'Спасибо вам за вашу открытость', 'Спасибо, что не были закрыты со мной', 'Спасибо, что находите в себе решимость на откровения', 'Благодарю вас за откровенность и честность', 'Спасибо за честные ответы', 'Спасибо , что поделились со мной ', 'Благодарю Вас да откровенность', 'Готов поблагодарить вас и задать еще один вопрос', 'Благодарю за то, что смогли открыться мне', 'Спасибо за такой доверительный разговор', 'спасибо', 'Спасибо за откровенные ответы', '\"Благодарю за открытость', 'Спасибо, что были честны со мной и открыты', 'Я благодарна вам за откровенность', 'Благодарю за то, что поделились со мной', 'Спасибо за выдержку при опросе', 'Спасибо, что были открыты со мной', 'Благодарю за откровенность', 'Благодарю за правду', 'Ты молодец, что делишься этим со мной', 'Благодарю за вашу откровенность', 'Благодарю вас за откровенность', 'Спасибо что были со мной откровенны', 'Благодарю вас за искренность', 'Спасибо за откровенный разговор', 'Спасибо за вашу открытость', 'Признателен на наш откровенный разговор', 'В общении с близкими как обстоят дела', 'Спасибо за откровенность', 'Благодарю за откровенность', 'Благодарю за откровение', 'Благодарю Вас за доверительность и открытость', 'Спасибо за откровенность', 'Я вас выслушал, это полезная информация, спасибо', 'Я рад, что вы со мной так откровенны', 'У нас был очень продуктивный разговор', 'Большое спасибо, что ответили на мои вопросы', 'Благодарю за доверие', 'Благодарю за откровенность', 'Благодарю за откровенность', 'Спасибо за откровенность', 'Спасибо за оказанное доверие и искренность', 'Хорошо, что вы открались мне', 'Спасибо , что поделились своими чувствами, это очень важно для меня', 'Большое спасибо за нашу беседу', 'Благодарю за откровенность', 'Надеюсь вам это помогло', 'Спасибо за откровенные ответы', 'Спасибо, что так подробно все рассказал', 'Спасибо за Вашу искренность', 'Благодарю за откровенность'], 'initial_base_sentences': [['Ваше отсутствие настроения связано с каким-то конкретным событием', 'Возможно на вас повлияло какое-то конкретное событие', 'Подумайте, что происходило с вами в тот период, когда вы начали чувствовать подавленность', 'Вы себя так чувствуете из-за того, что произошло что-то конкретное', 'Вы так себя чувствуете из-за какого-то определенного события', 'Что могло такого произойти, что вы себя так чувствуете', 'Ваше чувство вызвано только работой или есть что-то еще', 'Ваши эмоции вызваны чем-то конкретным', 'Расскажите, что у вас случилось и я постараюсь вам помочь', 'Как считаете, к такому вашему состоянию привели какие-то конкретные события', 'Ваш гнев вызывает какое то определенное событие', 'Что конкретно могло повлиять на Вас в последнее время', 'Причина того, что вы чувствуете, в конкретном событии', 'Разочарование пришло к вам из за этой ссоры или было еще что то', 'Попытайтесь вспомнить какие непосредственные действия или события привели к таким чувствам', 'Я вас правильно поняла, что злость вызвана именно громкой музыкой и нет других причин', 'вспомните конкретно события произошедшие недавно', 'с тобой что либо происходило в последнее время что могло вызвать подобное чувство', 'Очень важно и нужно разобраться в причине, и в том, что заставляет Вас так себя чувствовать', 'Можете ли вы найти какое-то конкретное событие, которое могло послужить основной причиной для вашего состояния', 'Произошло что то конкретное, что задело вас и вызвало такие эмоции', 'На вас повлияло какое-то конкретное событие', 'Что произошло такого ужасного', 'Ваше эмоциональное состояние завязано на текущем моменте или же на вашем прошлом', ' Постарайтесь почувствовать нет ли среди этих событий тех, что вызвали чувства тоски и грусти', 'Ваше состояние вызвано каким-то конкретным событием', 'Не вызвано ли Ваше чувство каким-нибудь определённым событием', ' Что-то сказала или сделала', 'Есть что-то конкретное вызвавшее Ваше чувство', 'Это именно из-за последних событий', 'Ты так сильно переживаешь в связи с чем-то конкретным или вообще навалилось', 'Ваши переживания связаны с последними событиями', 'Что у вас случилось', ' Могло ли какое-то конкретное событие так повлиять на ваши чувства', 'То что вы сейчас чувствуете связано с каким то конкретным происшествием', 'Выше чувство связано с последними событиями', 'Могли ли какие-то определенные события повлиять на ваше текущее состояние', 'Вы ощущаете себя так после какой-то недавней ситуации', 'вспомните, пожалуйста, событие , которое предшествовало вашему чувству', 'Мне просто нужно понять, вызваны ли ваши ощущения каким-то конкретным событием', 'Не могли бы Вы уточнить, с каким конкретным событием связано Ваше чувство', 'Эти ощущения из-за ситуации, которая недавно случилась', 'Что то случилось что ты себя так чувствуешь', 'Вы тревожитесь именно из за этой ссоры', 'Возможно, ваше состояние вывало какое то определённое событие', 'Как вы думаете, ваше состояние могло быть вызвано каким то конкретным событием', 'Ваше состояние\\xa0 вызвано каким нибудь конкретным событием', 'Ваше состояние связано с каким то событием', 'Эта грусть связана с чем-то конкретным', 'Мне бы очень помогло знать, если внутреннее неспокойствие спровацировал какой-либо частный случай из Вашей жизни', ' Ваши переживания вызваны каким-то конкретным событием', 'Ваше состояние связано с какими-то конкретными событиями', 'По Вашему, тому есть конкретная неприятная ситуация', '\\xa0', 'Я предполагаю, что причина негодования кроется в негативном опыте / событии - я прав', 'Возможно, подобное состояние является результатом каких-то конкретных событий', 'Я буду признателен, если Вы поделетесь причиной Вашего настроения - оно результат недавнего происшествия', 'Можно узнать ваше чувство вызвано каким-то определенным моментом вашей жизни', 'Есть какие-то проблемы/ негативные ситуации в Вашей жизни, что так влияют на Ваше эмоциональное состояние', 'Вы как считаете, чувство ярости вспыхнуло после какого-то негативного инцидента, произошедшего с Вами', ' Правилно ли полагать, что чувство злости непосредственно связанно с каким-либо эпизодом из Вашей жизни', 'Как Вы думаете, охватившее Вас чувство негодования - это результат какого-то конкретного поступка или события', ' Происходило ли в это время какое-то негативное событие', 'Ваши ощущения связаны как-то с каким-либо событием произошедшим с Вами недавно или в далёком прошлом', 'Давайте разберемся, ваши эмоции это связь с определенными событиями', 'Если задуматься над истоками Вашего негодования, вам не кажется что оно возникло из каккого-то негативного опыта из Вашей жизни', '\\xa0', 'По Вашему мнению, нынешнее внутренне состояне вызвано определёнными событиями в жизни', 'Вы можете вспомнить событие, которое спровацировало Ваше нынешнее ощущение негодования', 'Как Вы полагаете, чувство гнева это ответ Вашего внутреннего мира на конкретную ситуацию, произошедшую с Вами', 'Задумайтемь, пожалуйста, Ваше состояние вызвано какими-то конкретными событиями', 'Ваше негодующее состояние не вызвано ли каким-то конкретным событием в Вашей жизни', ' Правильно пологать,что чувство возникло в результате какого-то конкретного события в Вашей жизни', 'Вы соотносите ваши чувства с тем, что произошло в вашей жизни недавно'], [' Вы стали замечать такое настроение недавно или уже давно', ' А это Ваше состояние является следствием недавних событий', ' Но позвольте спросить: вы так себя чувствуете из-за недавно произошедшего события', 'Спасибо, что выговорились, как давно обострилось ваше чувство\\xa0', ' Они вызвана тем, что недавно случилось', ' Можете рассказать, что вызвало у вас такое эмоциональное состояние', ' Как вы думаете, эти ощущения вызваны событиями, которые произошли недавно', ' Это вызвано какими то недавними событиями', ' Спасибо, что принимаете мою помощь ,могло ли какое-либо недавнее события повлиять на Ваше чувство ', ' Вы испытываете такие чувства из-за того, что произошло не так давно', 'Очень жаль,что вы в своем возрасте разочаровались в людях', ' Но поверьте, насилием и угрозами ничего положительного нельзя достичь, ситуация будет накаляться, пока не выльется во что-то с плачевными последствиями', 'что-то произошло совсем недавно - это и есть причина', '\\xa0С удовольствием помогу Вам разобраться в себе и решить проблему главное определить, что явилось поводом для такого состояния', ' Как вы думаете, вызвана ли такая потеря радости недавними внешними событиями', ' Возможно, Ваши чувства связаны с недавними событиями', ' Что то случилось на днях и растревожило вас', ' Вы себя так чувствуете из-за недавних событий', 'Как же так получилось, может что случилось недавно', ' Давайте разберемся - с чем связаны ваши текущие эмоции, что именно произошло', ' Давайте разберемся в ситуации', ' Вызвано ли Ваше состояние какими-то недавними событиями', ' Это связано с тем, что произошло с Вами не так давно', 'Это событие произошло недавно', 'Ок, это как-то связано с последними новостями', 'Мне очень приятно , что ты мне доверяешь свои проблемы', 'Расскажите', ' Для меня очень ценно, что вы поделились своими переживаниями со мной', ' Скажи пожалуйста, твоё самочувствие связано с тем что произошло накануне', ' У вас, наверное, что-то случилось', ' Скажите, как вы считаете, есть ли связь между вашим состоянием и недавними событиями', ' Какие-то недавние события повлияли на Ваши чувства', 'спасибо, что оказали мне доверие и поделились своими чувствами, что из произошедшего недавно в вашей жизни могло спровоцировать ваши ощущения', ' Скажите, пожалуйста, ваши ощущения вызваны какими-то недавними событиями', ' Ваше чувство связано с событиями, произошедшими накануне', 'Что то случилось что ты себя так чувствуешь', ' Ваше состояние, возможно, вызвано тем, что недавно происходило', ' Попробуем вместе разобраться в причинах вашего состояния', ' Ваше состояние связано с недавними событиями', 'опишите что происходило в вашей жизни в последнее время', 'Ваше состояние связано с каким то событием', ' Ваши ощущения вызваны произошедшими в последнее время событиями в Вашей жизни', 'Это произошло не так давно, как я понимаю', ' Скажите, может быть Вам кажется, что подобное чувство как-то связано с тем, что не так давно произошло в Вашей жизни', 'Чем вызвано ваше состояние', ' Мы сможем вместе разобраться в твоих проблемах', 'Я вас понимаю, но почему вы один, в чем причина', ' Ваши проблемы и страхи вызваны недавними событиями происходящими в нашем мире', 'Что то происходило в последнее время, что могло спровоцировать ваше состояние', ' Это чувство как-то связано с тем , что произошло ', ' Они вызваны каким-то недавним событием', 'Огромное спасибо что нашел время поделиться своими чувствами', 'мне очень приятна ваша откровенность скажите последние события вызывают такое чувство', ' Ваши чувства, случайно, не вызваны недавно с Вами произошедшим', 'Спасибо что обратились ко мне', 'Как вы думаете, ваше чувство вызвано недавними событиями'], [' Методика 6 у Вас вызвала неприятные воспоминания', ' Скажите, а вызвала ли методика 6 у вас какие-либо неприятные ощущения', 'Жаль что вам не хорошо, Спасибо что поделились своими чувствами, а как методика номер 6, она вызвала нехорошие ощущения', ' Ощущали ли вы дискомфорт, стресс или другие неприятные ощущение во время методики 6', '  Методика 6 причинила Вам боль', ' Методика 6 повлияла на Вас отрицательно', ' Скажите, методика 6 вызвала какие-то неприятных ощущений', ' У Вас она вызвала стресс', ' Скажите, пожалуйста методика 6 усугубила Ваше состояние, Вам стало ещё хуже', ' Скажите, методика 6 заставила Вас чувствовать себя не очень хорошо', ' Методика 6 была неприятна Вам, вызвала отрицательные эмоции', ' Ощущаете ли вы негативное влияние на вас методики 6', ' Возникли ли у Вас проблемы при этом', 'Скажите, Методика 6 активиповала в Вас острейшее чувство неспокойствия и стресса', ' Скажите, вызвала ли у вас методика 6 неприятные чувства', ' Методика 6 поспособствовала ухудшению вашего самочувствия', 'Скажите, пожалуйста, методика номер шесть, предложенная мной, вызвала у Вас какие-то негативные ощущения', ' Методика шесть вызвала у Вас плохие ощущения', ' Может попробуем решить это при помощи готовых упражнений', 'Мне очень жаль ,что это вызвало у вас дискомфорт, спасибо,что поделились со мной вашими чувствами ', 'Я благодарен', ' Расскажите об ощущениях методикой 6, вызвало-ли упражнение неприязнь', ' Скажите, Вам было неприятно ознакомиться с методикой 6', ' Чтобы порекомендовать Вам подходящую методику, мне надо знать ввела ли Вас методика 6 в состояние острого стресса', ' Вызвала ли методика 6 у вас какие либо неприятные ощущения', ' Были ли у вас негативные эмоции после шестой методики', 'Вы поймите, мне дискомфортно, из-за этого я испытываю неприятные ощущения', 'Скажите пожалуйста ,как вам методика 6, Вы испытали острую душевную боль во вемя / после задания', ' Скажите честно, 6-ая методика вызвала дискомфорт', ' Уточните, пожалуйста, какие ощущения вызвала методика 6, точнее ввела ли она Вас в еще больший стресс', ' Данная мною методика 6 смогла вызвать у Вас не очень хорошие чувства', ' Скажите, вы почувствовали дискомфорт и неприятные ощущения от шестой методики', ' Данная методика вызвала у вас отторжение/отвращение или неприятие', ' Метод шесть, вероятно, вызвал у Вас ощущение дискомфорта', ' Вы бы испытывали неприятные ощущения от данной методики 6', ' Вы почувствовали после неё сильную душевную боль', ' Методика 6 вызвала у Вас какой- нибудь негатив', ' Спасибо, что поделились ими', ' Скажите, пожалуйста, испытывали ли Вы при выполнении методики 6 какие-либо неприятные ощущения или может какой-то дискомфорт', ' Скажите, методика 6 Вас угнетает, вызывает негативные эмоции', 'Методика 6 вызвала у Вас неприязнь ', ' Испытали ли Вы неприятные щущения от Методики 6', ' Методика 6 вызвала у Вас неприятные ощущения', ' Методика 6 заставила Вас испытать неприятные чувства', ' Вызвала ли у вас шестая методика, какие- либо неприятные чувства', ' Но скажите, пожалуйста, вызвала ли у вас методика 6 какой-либо дискомфорт', ' Практическое применение методов вызвала у вас плохие эмоции', ' Предложенная мной методика смогла бы вызвать у вас негативные чувства', 'Скажите какие ощущения неприятные вы ощутили при знакомстве с данной методикой', ' Как Вы думаете, Методика 6 вызвала у вас неприятные ощущения или чувство дискомфорта', ' Насколько трудной для Вас оказалось упражнение 6, Вы стали после него испытывать тревог, психическое расстройство', 'благодарю за откровенность, уточните, пожалуйста, методика 6 вызвала ли у вас какие нибудь неприятные ощущуния', ' Насколько я понимаю, 6 методика вызвала у Вас негативные чувства', 'Чтобы порекомендовать оптимальный метод лично для Вас, скажите вызвала ли проделанная методика 6 резко негативные эмоции или стресс', ' Вы ощущали дискомфорт во время применения методики 6', ' Вы ощущали отрицательные эмоции или физический дискомфорт после применения методики 6', ' А что касается методики 6, вы почувствовали отрицательные ощущения', ' Вы не будете испытывать неприятных ощущений от нашей методики', ' Вам стало легче, а мне проще понять вас', ' Вы можете описать, что вы почувствовали и было ли у вас негативное восприятие методики 6', ' Методика 6 доставила вам дискомфорт'], [' Методика одиннадцать у Вас вызвала неприятные воспоминания', ' Скажите, а вызвала ли методика одиннадцать у вас какие-либо неприятные ощущения', 'Жаль что вам не хорошо, Спасибо что поделились своими чувствами, а как методика номер одиннадцать, она вызвала нехорошие ощущения', ' Ощущали ли вы дискомфорт, стресс или другие неприятные ощущение во время методики одиннадцать', '  Методика одиннадцать причинила Вам боль', ' Методика одиннадцать повлияла на Вас отрицательно', ' Скажите, методика одиннадцать вызвала какие-то неприятных ощущений', ' У Вас она вызвала стресс', ' Скажите, пожалуйста методика одиннадцать усугубила Ваше состояние, Вам стало ещё хуже', ' Скажите, методика одиннадцать заставила Вас чувствовать себя не очень хорошо', ' Методика одиннадцать была неприятна Вам, вызвала отрицательные эмоции', ' Ощущаете ли вы негативное влияние на вас методики одиннадцать', ' Возникли ли у Вас проблемы при этом', 'Скажите, Методика одиннадцать активиповала в Вас острейшее чувство неспокойствия и стресса', ' Скажите, вызвала ли у вас методика одиннадцать неприятные чувства', ' Методика одиннадцать поспособствовала ухудшению вашего самочувствия', 'Скажите, пожалуйста, методика номер шесть, предложенная мной, вызвала у Вас какие-то негативные ощущения', ' Методика шесть вызвала у Вас плохие ощущения', ' Может попробуем решить это при помощи готовых упражнений', 'Мне очень жаль ,что это вызвало у вас дискомфорт, спасибо,что поделились со мной вашими чувствами ', 'Я благодарен', ' Расскажите об ощущениях методикой одиннадцать, вызвало-ли упражнение неприязнь', ' Скажите, Вам было неприятно ознакомиться с методикой одиннадцать', ' Чтобы порекомендовать Вам подходящую методику, мне надо знать ввела ли Вас методика одиннадцать в состояние острого стресса', ' Вызвала ли методика одиннадцать у вас какие либо неприятные ощущения', ' Были ли у вас негативные эмоции после одиннадцатой методики', 'Вы поймите, мне дискомфортно, из-за этого я испытываю неприятные ощущения', 'Скажите пожалуйста ,как вам методика одиннадцать, Вы испытали острую душевную боль во вемя / после задания', ' Скажите честно, одиннадцать-ая методика вызвала дискомфорт', ' Уточните, пожалуйста, какие ощущения вызвала методика одиннадцать, точнее ввела ли она Вас в еще больший стресс', ' Данная мною методика одиннадцать смогла вызвать у Вас не очень хорошие чувства', ' Скажите, вы почувствовали дискомфорт и неприятные ощущения от одиннадцатой методики', ' Данная методика вызвала у вас отторжение/отвращение или неприятие', ' Метод шесть, вероятно, вызвал у Вас ощущение дискомфорта', ' Вы бы испытывали неприятные ощущения от данной методики одиннадцать', ' Вы почувствовали после неё сильную душевную боль', ' Методика одиннадцать вызвала у Вас какой- нибудь негатив', ' Спасибо, что поделились ими', ' Скажите, пожалуйста, испытывали ли Вы при выполнении методики одиннадцать какие-либо неприятные ощущения или может какой-то дискомфорт', ' Скажите, методика одиннадцать Вас угнетает, вызывает негативные эмоции', 'Методика одиннадцать вызвала у Вас неприязнь ', ' Испытали ли Вы неприятные щущения от Методики одиннадцать', ' Методика одиннадцать вызвала у Вас неприятные ощущения', ' Методика одиннадцать заставила Вас испытать неприятные чувства', ' Вызвала ли у вас шестая методика, какие- либо неприятные чувства', ' Но скажите, пожалуйста, вызвала ли у вас методика одиннадцать какой-либо дискомфорт', ' Практическое применение методов вызвала у вас плохие эмоции', ' Предложенная мной методика смогла бы вызвать у вас негативные чувства', 'Скажите какие ощущения неприятные вы ощутили при знакомстве с данной методикой', ' Как Вы думаете, Методика одиннадцать вызвала у вас неприятные ощущения или чувство дискомфорта', ' Насколько трудной для Вас оказалось упражнение одиннадцать, Вы стали после него испытывать тревог, психическое расстройство', 'благодарю за откровенность, уточните, пожалуйста, методика одиннадцать вызвала ли у вас какие нибудь неприятные ощущуния', ' Насколько я понимаю, одиннадцать методика вызвала у Вас негативные чувства', 'Чтобы порекомендовать оптимальный метод лично для Вас, скажите вызвала ли проделанная методика одиннадцать резко негативные эмоции или стресс', ' Вы ощущали дискомфорт во время применения методики одиннадцать', ' Вы ощущали отрицательные эмоции или физический дискомфорт после применения методики одиннадцать', ' А что касается методики одиннадцать, вы почувствовали отрицательные ощущения', ' Вы не будете испытывать неприятных ощущений от нашей методики', ' Вам стало легче, а мне проще понять вас', ' Вы можете описать, что вы почувствовали и было ли у вас негативное восприятие методики одиннадцать', ' Методика одиннадцать доставила вам дискомфорт'], [' Могу я задать несколько дополнительных вопросов', 'Ничего, если я задам пару уточняющих вопросов, чтобы помочь вам', ' Я бы хотел кое-что уточнить', 'Я бы хотел уточнить некоторые аспекты вашего положения для его должен задать несколько вопросов', 'Можно я задам вам несколько вопросов', 'Если вы не против я задам вам пару вопросов, чтобы понять первопричину вашего состояния', 'Чтобы помочь вам, я буду вынужден задать вам несколько вопросов', 'Прошу вас ответить на пару вопросов для лучшего понимания ситуации, надеюсь вы не против', 'Если вы не против, давайте постараемся вспомнить еще события, которые могли спровоцировать конфликтную ситуацию', 'давайте проведем набольшой тестик для понимания проблемы', 'Вы позволите задать Вам некоторые вопросы', 'Давайте начнем с самого начала, вы будете отвечать на мои вопросы, а я вам помогу разобраться, если не возражаете', 'Вы не против, если я задам еще несколько вопросов, чтобы лучше понять ситуацию и лучше вам помочь', '\"Я задам несколько вопросов,чтобы понять вас\"', ' Это поможет нам лучше разобраться в ситуации', ' Могу я уточнить у вас некоторые моменты', 'Могу ли я задать вам ещё несколько вопросов для уточнения', 'Можно я спрошу кое что, чтобы понять что случилось', ' Это очень важно для понимания ситуации', 'Вы не против, если я задам Вам несколько вопросов, чтобы лучше понять ситуацию', 'Вы не против, если я задам пару вопросов для лучшего понимания ситуации', 'Чтобы лучше Вас понять, мне необходимо задать несколько уточняющих вопросов', 'Вы согласитесь ответить на мои вопросы', 'Можно я узнаю у вас что произошло', 'Не откажите ли вы мне в ответе на ещё несколько вопросов, чтобы я лучше понимал вас', 'Мне нужно спросить об этом, если вы не возражаете', 'С вашего позволения, я задам вам некоторые уточняющие вопросы, чтобы мы могли лучше разобраться в ситуации', 'Если Вы позволите, хочу задать несколько вопросов, которые помогут разобраться в ситуации', 'для уточнения и понимания ситуации, можно я задам вам несколько вопросов', 'Простите, я могу задать вам несколько вопросов, чтобы адекватно понимать сложившуюся ситуацию', 'Как Вы относитесь к тому, что я задам Вам несколько уточняющих вопросов, которые помогут мне лучше разобраться в причинах Вашего состояния', ' Я поспрашиваю тебя немного, если конечно вы согласитесь', 'Хотел бы кое что уточнить', 'Тогда я задам вам несколько вопросов, ок', 'Что бы помочь вам и себе разобраться в проблеме я ходел бы вас спросить о некоторых вещах', 'Я бы хотел узнать, были ли какие то конфликтные ситуации в последнее время с кем то из близких', 'с вашего позволения я задам вам несколько вопросов', ' я бы хотел лучше разобраться в данной ситуации но для этого мне необходимо кое что у вас спросить', 'Что бы понять ситуацию я задам несколько вопросов , вы не против ', ' Я буду задавать вопросы, и мы вместе разберемся', 'Вы не возражаете, если я задам несколько вопросов, чтобы лучше представить ситуацию и понять ваши переживания', 'Я хочу прояснить ситуацию и задать вам наводящие вопросы, вы согласны', 'Для того чтобы нам с Вами разобраться во всем, необходимо вспомнить некоторые детали произошедшего', 'Можешь ответить на то что я спрошу, тебя это не затруднит', 'Можно вам задать несколько вопросов по этому поводу\\xa0', 'Ты не возражаешь,если я задам тебе пару вопросов', 'Ответе мне на несколько дополнительных вопросов', 'Можно я задам вам пару вопросов, что бы иметь большее представление о ситуации,не против', 'Я задам вам пару вопросов, для ясности всей ситуации,разрешите', 'Могу я задать вам несколько вопросом, чтобы разобраться в ситуации', ' Попытаемся понять почему это произошло', 'Позволь задать тебе пару вопросов по поводу данной ситуации', 'Для того, чтобы понять вашу ситуацию, можно я задам вам несколько простых вопросов', ' Что бы лучше понять, можно я буду задавать воросы', 'если вам не тяжело то ответьте на несколько вопросов', 'Я вам задам несколько вопросов что-бы понять вас']], 'initial_empathy_sentences': [['Не торопитесь и вспомните, что происходило с Вами в последнее время', 'Девушка вас как-то обидела', 'Поделитесь, пожалуйста, нет ли какого-то конкретного события, повлекшего такое ваше состояние', ' Я очень хочу Вам помочь с этим справиться', 'Подумайте, пожалуйста, о причине Вашего чувства', 'Поделитесь со мной, это чувство гнева вызвано каким-то конкретным поводом', 'Помогите мне разобраться в причине Вашего эмоционального сосотояния', 'Вспомните, когда Вас впервые охватило это чувство', 'Кроме этого вас больше ничего не беспокоит', 'Вспомните, пожалуйста, когда зародилось Ваше чувство негодования'], ['Я понимаю вас', 'Я очень благодарен Вам, что вы решили рассказать мне всё и поделиться своими чувствами', 'Как мне жаль вас', 'Благодарю, что рассказали мне о ваших чувствах', 'Спасибо, что решились на откровение', 'Благодарю что поделились со мной этим', 'Поделиться такими чувствами уже большой шаг', 'Мне очень жаль ,что с вами происходят такие ужасные вещи', 'Искренне Вам сочувствую', 'Спасибо за доверие, я понимаю как иногда могут раздражать близкие люди или просто люди находящиеся рядом', 'Спасибо, что поделились такими сложными чувствами', 'Мне очень жаль, что вам грустно', 'Сочувствую вам', 'Благодарю, что Вы доверились мне', 'Благодарю вас за доверие, что обратились ко мне', 'Благодарю, что оказали мне доверие и открыли Ваши чувства', 'Хорошо, что Вы высказались о своём состоянии', 'Я рад, что Вы поделились со мной своими ощущениями', 'Я разделяю ваши чувства и переживания', 'Очень здорово что ты смог поделиться этим со мной', 'Хорошо, что вы обратились ко мне', 'Я рад, что вы решили со мной поделиться, и я обязательно постараюсь вам помочь', 'Понимаю Ваше состояние, спасибо, что решили поделиться со мной', 'Спасибо, что поделились со мной вашими чувствами', 'Я благодарен, что Вы рассказали мне о душевном состоянии', 'Мне жаль, что вы так нехорошо себя чувствуете', 'Очень хорошо, что вы обратились именно ко мне', 'Мне очень жаль, что вам нехорошо', 'Как я вас понимаю и мне очень хочется вам помочь', 'Благодарю Вас, что поделились со мной Вашими переживаниями', 'Мне очень жаль, что Ваша агрессия ранит окружающих', 'Глубоко сопереживаю вам, спасибо что выбрали меня', 'Молодец,что пришел ко мне', 'Благодарю за откровенность, за то что поделились со мной своими переживаниями', 'Я прекрасно понимаю ваши чувства, спасибо , что рассказали о них', 'Благодарю за то, что поделились своими чувствами', 'Так жаль, что Вам грустно'], ['Я вам сочувствую, спасибо, что вы мне всё рассказали', 'Спасибо ещё раз за Вашу откровенность со мной', 'Спасибо, что открылись мне', 'Я сожалею, что вам плохо', 'Благодарю, что рассказали о Ваших чувствах', 'Спасибо, что рассказали', 'Спасибо что делитесь со мной, чтобы посоветоавть Вам более подходящую программу, я бы хотел узнать, какой эффект вызвала методика шесть', 'Я сопереживаю вместе с Вами, но отчаиваться нельзя', 'Мне невероятно жалко, что Вы испытываете подобные чувства', 'Сожалею, что у Вас такое состояние и благодарю за готовность поделиться Вашими чувствами', 'Ещё раз благодарю за готовность поделиться Вашими чувствами', 'Вы только что выполнили упражнение номер шесть', 'Я очень ценю ваше доверие', 'Спасибо большое, за то что вы поделились со мной вашими переживаниями', 'Вы молодец, что со мной поделились, я очень Вам благодарен', 'Жаль, что не всё так хорошо, спасибо за откровенность', 'Спасибо,что вы поделились со мной своими ощущениями', 'Сочувствую вам, и вашему состоянию', 'Спасибо', 'спасибо, что смогли раскрыться, я искренне за вас переживал', 'Мне приятно, что вы делитесь со мной вашими чувствами', 'Благодарю за то, что поделились своими мыслями и чувствами со мной', 'Спасибо,что вы решились поделиться вашим состоянием,мы непременно найдем решение', 'Спасибо, продолжим наш диалог', 'Спасибо за откровенность', 'Благодарю за искренность, Ваше внутреннее состояние очень для меня важно', 'Спасибо, что честно говорите о своих ощущениях', 'Я очень вас понимаю и хочу помочь вам', 'Я оценил, что вы не побоялись высказать свои чувства', 'Я сожалею, что вам сейчас плохо', 'Прежде, чем я посоветую Вам упражнение для преодоления Вашей моральной усталости, мне важно знать, как на Вас отразилась методика 6', 'Замечательно, что вы сумели всё четко и подробно объяснить', 'Я хорошо понимаю Ваши чувства', 'Спасибо, что поделились со мной Вашим внутренним состоянием', 'Я очень ценю Вашу открытость', 'Я понимаю Ваши чувства, каждый человек, возможно, в той или иной степени сталкивался с подобным', 'Мне очень жаль, что вам не хорошо', 'Сочувствую Вам в Ваших чувствах', 'Я вас очень хорошо понимаю, благодарю за отклик', 'Я прекрасно понимаю ваше состояние', 'Вы в любом случае правильно поступили, рассказав мне', 'Большое спасибо, что вы поделились со мной своими чувствами', 'Спасибо, что доверились мне и рассказали о своем самочувствии', 'Сочувствую, что вы страдаете', 'Ваше обращение ко мне очень важно и своевременно', 'Я сочувствую вам, вы не одиноки', 'Вы правильно поступили, что решили мне об этом рассказать', 'Я сожалею, что Вы почувствовали себя некомфортно', 'Спасибо, что рассказали о Ваших проблемах', 'Это очень хорошо, что вы поделились своими эмоциями', 'Понимаю вас, сам испытывал нечто подобное', 'Я очень сочувствую вам'], ['Я вам сочувствую, спасибо, что вы мне всё рассказали', 'Спасибо ещё раз за Вашу откровенность со мной', 'Спасибо, что открылись мне', 'Я сожалею, что вам плохо', 'Благодарю, что рассказали о Ваших чувствах', 'Спасибо, что рассказали', 'Спасибо что делитесь со мной, чтобы посоветоавть Вам более подходящую программу, я бы хотел узнать, какой эффект вызвала методика шесть', 'Я сопереживаю вместе с Вами, но отчаиваться нельзя', 'Мне невероятно жалко, что Вы испытываете подобные чувства', 'Сожалею, что у Вас такое состояние и благодарю за готовность поделиться Вашими чувствами', 'Ещё раз благодарю за готовность поделиться Вашими чувствами', 'Вы только что выполнили упражнение номер шесть', 'Я очень ценю ваше доверие', 'Спасибо большое, за то что вы поделились со мной вашими переживаниями', 'Вы молодец, что со мной поделились, я очень Вам благодарен', 'Жаль, что не всё так хорошо, спасибо за откровенность', 'Спасибо,что вы поделились со мной своими ощущениями', 'Сочувствую вам, и вашему состоянию', 'Спасибо', 'спасибо, что смогли раскрыться, я искренне за вас переживал', 'Мне приятно, что вы делитесь со мной вашими чувствами', 'Благодарю за то, что поделились своими мыслями и чувствами со мной', 'Спасибо,что вы решились поделиться вашим состоянием,мы непременно найдем решение', 'Спасибо, продолжим наш диалог', 'Спасибо за откровенность', 'Благодарю за искренность, Ваше внутреннее состояние очень для меня важно', 'Спасибо, что честно говорите о своих ощущениях', 'Я очень вас понимаю и хочу помочь вам', 'Я оценил, что вы не побоялись высказать свои чувства', 'Я сожалею, что вам сейчас плохо', 'Прежде, чем я посоветую Вам упражнение для преодоления Вашей моральной усталости, мне важно знать, как на Вас отразилась методика одиннадцать', 'Замечательно, что вы сумели всё четко и подробно объяснить', 'Я хорошо понимаю Ваши чувства', 'Спасибо, что поделились со мной Вашим внутренним состоянием', 'Я очень ценю Вашу открытость', 'Я понимаю Ваши чувства, каждый человек, возможно, в той или иной степени сталкивался с подобным', 'Мне очень жаль, что вам не хорошо', 'Сочувствую Вам в Ваших чувствах', 'Я вас очень хорошо понимаю, благодарю за отклик', 'Я прекрасно понимаю ваше состояние', 'Вы в любом случае правильно поступили, рассказав мне', 'Большое спасибо, что вы поделились со мной своими чувствами', 'Спасибо, что доверились мне и рассказали о своем самочувствии', 'Сочувствую, что вы страдаете', 'Ваше обращение ко мне очень важно и своевременно', 'Я сочувствую вам, вы не одиноки', 'Вы правильно поступили, что решили мне об этом рассказать', 'Я сожалею, что Вы почувствовали себя некомфортно', 'Спасибо, что рассказали о Ваших проблемах', 'Это очень хорошо, что вы поделились своими эмоциями', 'Понимаю вас, сам испытывал нечто подобное', 'Я очень сочувствую вам'], ['Мне нужно увидеть ситуацию со всех углов', 'Вы не возражаете, если я задам Вам несколько вопросов', 'Я задам вам пару вопрос, попробуйте отвечать честно и себе, и мне', 'Понимаю как вам непросто', 'Вы не откажитесь дать ответы на пару вопросов', 'Давайте поговорим об этом', 'спасибо за откровенность', 'Давайте поговорим об этом', 'Давайте поговорим об этом', 'Расскажи, пожалуйста, что произошло']]}}\n"
          ]
        }
      ]
    },
    {
      "cell_type": "code",
      "source": [
        "split_utterances['joy']['initial_empathy_sentences']"
      ],
      "metadata": {
        "colab": {
          "base_uri": "https://localhost:8080/"
        },
        "id": "67hrxjUWl69h",
        "outputId": "5261c656-8f95-4673-b18b-f3e83cdd28e2"
      },
      "execution_count": 110,
      "outputs": [
        {
          "output_type": "execute_result",
          "data": {
            "text/plain": [
              "[[], [], [], [], []]"
            ]
          },
          "metadata": {},
          "execution_count": 110
        }
      ]
    },
    {
      "cell_type": "markdown",
      "source": [
        "## Cluster split empathy and base sentences. Generate sentences"
      ],
      "metadata": {
        "id": "oEfryo0VxKsv"
      }
    },
    {
      "cell_type": "code",
      "source": [
        "def cluster(num_clusters, corpus):\n",
        "  embedder = SentenceTransformer('all-MiniLM-L6-v2')\n",
        "  corpus_embeddings = embedder.encode(corpus)\n",
        "\n",
        "  # Perform kmean clustering\n",
        "  clustering_model = KMeans(n_clusters=num_clusters)\n",
        "  clustering_model.fit(corpus_embeddings)\n",
        "  cluster_assignment = clustering_model.labels_\n",
        "  clustered_sentences = [[] for i in range(num_clusters)]\n",
        "  for sentence_id, cluster_id in enumerate(cluster_assignment):\n",
        "      clustered_sentences[cluster_id].append(corpus[sentence_id])\n",
        "  # for i, cluster in enumerate(clustered_sentences):\n",
        "  #     print(\"Cluster \", i+1)\n",
        "  #     print(cluster)\n",
        "  #     print(\"\")\n",
        "  return clustered_sentences"
      ],
      "metadata": {
        "id": "9TvzzDeq96Ab"
      },
      "execution_count": 93,
      "outputs": []
    },
    {
      "cell_type": "markdown",
      "source": [
        "## Generate utterances"
      ],
      "metadata": {
        "id": "UhS39JsqxOtj"
      }
    },
    {
      "cell_type": "code",
      "source": [
        "def permute_sentences(corpus, num_clusters):\n",
        "  base_utterances, empathy_utterances = split_emp_base(corpus, base_utterance=\"Ваше состояние связано с каким-либо конкретным событием?\")\n",
        "  base_clusters = cluster(num_clusters, base_utterances)\n",
        "  empathy_clusters = cluster(num_clusters, empathy_utterances)\n",
        "  i = 0\n",
        "  permutations = []\n",
        "  for cluster_group in base_clusters:\n",
        "    for base_sentence in cluster_group:\n",
        "      for _ in range(2):\n",
        "        empathy_sentence = random.choice(empathy_clusters[(i - i//10*10)])\n",
        "        synthetic_sentence = \".\".join((empathy_sentence, base_sentence)) + \"?\"\n",
        "        i += 1\n",
        "        permutations.append(synthetic_sentence)\n",
        "  # downsized_base = select_one_from_cluster(base_clusters)\n",
        "  # downsized_empathy = select_one_from_cluster(empathy_clusters)\n",
        "  # permutations = permute(downsized_empathy, downsized_base)\n",
        "  return permutations"
      ],
      "metadata": {
        "id": "WInP4ILDIvrk"
      },
      "execution_count": 94,
      "outputs": []
    },
    {
      "cell_type": "code",
      "source": [
        "df_dict = dict()\n",
        "df_dict"
      ],
      "metadata": {
        "colab": {
          "base_uri": "https://localhost:8080/"
        },
        "id": "R-AZIYlg59I6",
        "outputId": "534e9449-65c6-4ed3-f9e9-15f281b497ed"
      },
      "execution_count": 98,
      "outputs": [
        {
          "output_type": "execute_result",
          "data": {
            "text/plain": [
              "{}"
            ]
          },
          "metadata": {},
          "execution_count": 98
        }
      ]
    },
    {
      "cell_type": "code",
      "source": [
        "for emotion in emotions:\n",
        "  df_dict[emotion] = dict()\n",
        "  d = split_utterances[emotion]\n",
        "  # generate sentences for additional questions\n",
        "  if emotion != \"joy\":\n",
        "    for index, base in enumerate(additional_questions_columns):\n",
        "      # print(index, base)\n",
        "      base_utterances = d['base_sentences'][index]\n",
        "      empathy_utterances = d['empathy_sentences']\n",
        "      base_clusters = cluster(num_clusters=10, corpus=base_utterances)\n",
        "      empathy_clusters = cluster(num_clusters=10, corpus=empathy_utterances)\n",
        "      i = 0\n",
        "      permutations = []\n",
        "      for cluster_group in base_clusters:\n",
        "        for base_sentence in cluster_group:\n",
        "          for _ in range(2):\n",
        "            empathy_sentence = random.choice(empathy_clusters[(i - i//10*10)])\n",
        "            synthetic_sentence = \".\".join((empathy_sentence, base_sentence)) + \"?\"\n",
        "            i += 1\n",
        "            permutations.append(synthetic_sentence)\n",
        "      df_dict[emotion][base] = permutations\n",
        "  # generate sentences for initial questions\n",
        "    for index, base in enumerate(initial_questions_columns):\n",
        "      # print(index, base)\n",
        "      base_utterances = d['initial_base_sentences'][index]\n",
        "      empathy_utterances = d['initial_empathy_sentences'][index]\n",
        "      base_clusters = cluster(num_clusters=10, corpus=base_utterances)\n",
        "      empathy_clusters = cluster(num_clusters=10, corpus=empathy_utterances)\n",
        "      i = 0\n",
        "      permutations = []\n",
        "      for cluster_group in base_clusters:\n",
        "        for base_sentence in cluster_group:\n",
        "          for _ in range(2):\n",
        "            while len(empathy_clusters[(i - i//10*10)])==0:\n",
        "              i += 1\n",
        "            empathy_sentence = random.choice(empathy_clusters[(i - i//10*10)])\n",
        "            synthetic_sentence = \".\".join((empathy_sentence, base_sentence)) + \"?\"\n",
        "            i += 1\n",
        "            permutations.append(synthetic_sentence)\n",
        "      df_dict[emotion][base] = permutations\n",
        "  else:\n",
        "    for index, base in enumerate(joy_question_column):\n",
        "      # print(index, base)\n",
        "      base_utterances = d['joy_base_sentences'][index]\n",
        "      empathy_utterances = d['joy_empathy_sentences']\n",
        "      base_clusters = cluster(num_clusters=10, corpus=base_utterances)\n",
        "      print(empathy_utterances)\n",
        "      empathy_clusters = cluster(num_clusters=10, corpus=empathy_utterances)\n",
        "      i = 0\n",
        "      permutations = []\n",
        "      for cluster_group in base_clusters:\n",
        "        for base_sentence in cluster_group:\n",
        "          for _ in range(2):\n",
        "            while len(empathy_clusters[(i - i//10*10)])==0:\n",
        "              i += 1\n",
        "            empathy_sentence = random.choice(empathy_clusters[(i - i//10*10)])\n",
        "            synthetic_sentence = \".\".join((empathy_sentence, base_sentence)) + \"?\"\n",
        "            i += 1\n",
        "            permutations.append(synthetic_sentence)\n",
        "      df_dict[emotion][base] = permutations\n",
        "      # print(df_dict[emotion][base])\n",
        "\n",
        "  \n",
        "\n",
        "      # print(df_dict[emotion][base])\n",
        "\n",
        "  \n",
        "  # print(df_dict[emotion])\n",
        "  \n",
        "\n"
      ],
      "metadata": {
        "id": "Da0Aq_wE8AzE",
        "colab": {
          "base_uri": "https://localhost:8080/"
        },
        "outputId": "fd146742-1207-44f5-fa4d-ac8b78d537e1"
      },
      "execution_count": 111,
      "outputs": [
        {
          "output_type": "stream",
          "name": "stderr",
          "text": [
            "/usr/local/lib/python3.7/dist-packages/ipykernel_launcher.py:7: ConvergenceWarning: Number of distinct clusters (8) found smaller than n_clusters (10). Possibly due to duplicate points in X.\n",
            "  import sys\n"
          ]
        },
        {
          "output_type": "stream",
          "name": "stdout",
          "text": [
            "['Рад видеть, что вы сегодня с хорошим настроением', 'Рад за вас, вижу, что светитесь', 'Очень рад, что у Вас всё хорошо', 'Я очень рад, что у вас всё хорошо', 'Это замечательно, что у вас такое замечательное настроение', 'Я рад Вас видеть в таком радостном настроении', 'Я рада, что у Вас такое хорошее настроение', 'Я очень рада, что у вас все прекрасно', 'Вы меня очень радуете, мне очень приятно смотреть на то как ваше настроение меняется в лучшую сторону', 'Мне радостно понимать, что у вас хорошее настроение и поднятый дух', 'Очень приятно что вы пришли ко мне с таким настроением', 'Я безумно рад что мои советы вам помогли стать счастливым и брести свою вторую половинку', 'Я рад это слышать', 'Я очень рад что вы  себя хорошо чувствуете', 'Я рад что у Вас всё прекрасно', 'Мне очень приятно слышать ,что вы в хорошем настроение ) Я бы рекомендовал массаж для расслабления ', 'Замечательно что у вас все хорошо', 'Я очень рад, что вы в прекрасном настроении', 'Я вас поздравляю и разделяю вашу радость', 'Рад слышать, что у вас все хорошо', 'Я очень рад за вас, что вам удалось исправить ситуацию в положительную сторону', 'Я очень рад узнать, что сейчас у тебя все хорошо', 'Я рад слышать что вас посетил успех', 'Я рад что у вас хорошее настроение и все начинает налаживаться', 'Я очень рада слышать что у вас хорошее настроение', 'Я рад, что у вас всё наладилось, это большой прогресс', 'Я очень рад за тебя,что ты сегодня такой довольный', 'Я очень рад что у вас всё хорошо', 'Я рад слышать, что у Вас прекрасное состояние', 'Вы знаете, я очень рад, что вы чувствуете себя счастливым', 'Очень хорошо,что Вас всё радует', 'Звучит многообещающе, я рад за вас', 'Очень рад что у вас изменилось настроение', 'Я рад, что у вас все хорошо', 'Я очень рад слышать, что ты счастлив', 'Я вас прекрасно понимаю', 'Я искренне разделяю вашу радость и радуюсь вместе с вами, это так приятно для меня', 'Рад, что дела ваши наладились', 'Рад слышать, что вы в отличном расположении духа', 'Я очень рад за вас, за ваши успехи в работе', 'Я очень рад видеть Вас в таком прекрасном состоянии', 'Мне очень нравится, что вы в хорошем настроении', 'Мне невероятно радостно вас видеть в таком настроении ', 'мне очень приятно слышать что вы в отличном настроении', 'Мне очень приятно видеть вас в столь приподнятом настроении', 'Я очень рад, что всё хорошо у вас', 'Рада, что вы на такой позитивной ноте сегодня', 'Я рад, что у вас сегодня хорошее настроение', 'Рад видеть вас в таком хорошем настроении', 'Мне радостно слышать что вы в чувствуйте себя хорошо', 'Мда', 'Вы получаете удовольствие от простых вещей, это очень хорошо', 'Я вас очень хорошо понимаю', 'Я очень рад видеть Вас в таком приподнятом настроении', 'Приятно слышать, что у вас такое боевое расположение духа', 'Мне очень радостно, что у вас сегодня хорошее настроение', 'мне очень приятно что вы в хорошем расположение духа', 'Мне радостно от того, что у вас все хорошо', 'Я рад, что Вы в прекрасном настроении', 'Мне очень приятно слышать, что вы в хорошем расположении духа', 'Это хорошие новости, я рад, что у вас все отлично', 'Это прекрасно', 'Мне очень приятно, что у вас хорошее расположение духа', 'замечательно, вижу, что вы умеете находить позитив в рутине', 'Я очень рад, что у вас все хорошо', 'Рад слышать, что вы таком хорошем эмоциональном состоянии', 'Я очень рад за Вас', 'Я рад, что Вы двигаетесь в правильном направлении', 'Это очень хорошо, что у вас отличное настроение', 'Я рад что вы в хорошем расположение духа', 'Я очень рад, что у вас все складывается замечательно', 'Я очень рад за вас', 'Это здорово, что у вас хорошее настроение', 'Я весьма рад что вы в хорошем расположении духа', 'Я очень рад за вас, искренне радуюсь, видя вас в столь превосходном расположении духа', 'Меня радует ваше настроение', 'Мне приятно слышать', 'Прекрасно я очень рада что у Вас хороший день и вы выполнили все поставленые задачи', 'Рад видеть такой оптимистический взгляд на мир', 'Рада лицезреть Вас в таком позитивном настрое', 'Я очень доволен что вы смогли все исправить', 'Я очень рад слышать, что у Вас прогресс на лицо и Вы вновь возвращаетесь к прежней жизни', 'Как вы могли бы описать ваши сегодняшние чувства ', 'Я рад, что у вас все хорошо', 'Я очень рад слышать, что у Вас хорошее настроение', 'Я очень рад, что у вас все замечательно', 'Я рад что вы в хорошем настроении', 'Я очень рад слышать, что вы в прекрасном настроении', 'я очень рад слышать и что вы сегодня в прекрасном настроении и счастливы', 'Ок, да Вам прям действительно невозможно находится в депрессии', 'Рад слышать, что вы в прекрасном настроении', 'Ваше жизнерадостность заразительна', 'Мне тоже радостно, что вы в хорошем настроении', 'Приятно слышать, что у вас радость в душе', 'Я очень рада за то, что у вас прекрасное настроение', 'Я очень рада, что у Вас хорошее настроение', 'Мне приятно вас видеть сегодня, вы отлично выглядите', 'Как я рад когда вижу Вас таким жизнерадостным', 'Я очень рад, что вы так воодушевлены', 'Я разделяю с вами вашу радость , ведь радостью надо делиться ', 'Меня радует, что вы себя хорошо чувствуете', 'Я очень рад за вас и ваше самочувствие', 'Я рад слышать, что Вы счастливы, я в Вас и не сомневался, я говорил что у Вас все получится', 'Мне приятно слышать, что вы счастливы', 'Я очень рад, что вы чувствуете себя великолепно', 'это прекрасно, что вы для этого сделали', 'Это отличные новости', 'очень здорово что у вас такое настроение', 'Я рад, что вы в зхорошем настроении', 'Я рад,что вы счастливы', 'Я рад слышать, что мой друг в прекрасном настроении', 'Мне приятно слышать, что у вас все хорошо', 'Мне радостно за вас и ваши успехи', 'Это прекрасная новость', 'Я искрине рад что вы сегодня в таокм чудесном расположении духа ', 'Я очень рад, что у вас все хорошо', 'Рад видеть вас в прекрасном настроении', 'Здравствуйте, мне приятно слышать, что у вас всё хорошо', 'я рад, что сегодня вас наполняют только позитивные эмоции', 'Мне очень приятно слышать, что у Вас приподнятое настроение', 'Мне приятно знать что у вас все хорошо', 'Меня радуется, что у вас сегодня прекрасное настроение', 'Мне хочется вам порекомендовать программу личностного развития', 'Мне приятно слышать, что у вас хорошее настроение', 'Я очень рад за Вас ', 'Отлично, я очень рад за вас, это прогресс', 'Рад за Вас', 'Я очень рад, что вы чувствуете себя прекрасно', 'Вы прекрасно выглядите', 'Я очень рад за вас, что все у вас так хорошо', 'я рада что у вас прекрасное настроение', 'Замечательная новость, я очень рад, что у вас все хорошо', 'Ну что же я рад за тебя,конечно причина твоего настроения мне кажется понятна)началось лето,тепло,время отпусков,переключений,путешествий и ты наверное влюбился', 'Мне очень приятно слишать, что вы в хорошем расположении духа', 'Мне очень приятно осозновать что вы пришли к нам с хорошим расположением духа', 'я очень рада узнать что все у вас прекрасно', 'Мне очень радостно, от того, что сегодня Вы чувствуете себя наполненным и жизнерадостным', 'Это просто великолепно что все так хорошо', 'Я очень рад, что Вы так счастливы', 'Я рад,что Вам хорошо', 'Я очень рад, что вы в хорошем настроении', 'Я очень рад, что у вас все так замечательно', 'Мне очень приятно слышать , что вы в отличном настроении', 'рада, видеть Вас энергичным и веселым', 'Я очень рада слышать, что у вас хорошее настроение', 'Мне очень приятно слышать что у вас все хорошо', 'Я действительно очень рад за Вас, что у Вас мне так хорошо складывается', '\"Рад что у Вас всё хорошо, мы провели замечательную работу', 'Рад, что у вас хорошее настроение', 'Рад слышать, что вы в хорошем насироении', 'Я так рада ,что у вас все хорошо и позитивный настрой', 'Я очень рада за вас', 'Я рад слышать что у вас все хорошо', 'Рад слышать и видеть вас в прекрасном расположении духа', 'Мне очень приятно слышать что у вас все отлично', 'Я рада, что вы себя так чувствуете', 'Я вижу наши беседы дают плоды ', 'Я очень рад, что вы себя так чувствуете', 'Я рад, что Вам хорошо', 'Я очень рад за вас', 'очень рад, что у вас всё хорошо, сегодня действительно прекрасный день', 'Очень рад за вас', 'Я очень рад за тебя,всем такое хорошее настроение', 'я очень рад, что у вас все прекрасно', 'Я доволен Вашим расположением духа', 'Я очень рад видеть вас в таком воодушевлённом состоянии', 'Рад Вас видеть', 'Спасибо, что поделились своим хорошим настроением', 'Я очень рад что у вас все прекрасно', 'Я очень рада за вас, и разделяю с вами это прекрасное чувство', 'Я очень рад что у вас всё замечательно', 'Мне приятно знать что у вас сегодня хорошее настроение', 'Я очень рад слышать что у вас сегодня все отлично', 'Очень рада, что вы в хорошем настроении', 'Мне очень радостно видеть вас в хорошем настроении', 'Рад, что у вас всё хорошо', 'Очень рад за вас', 'Мне приятно видеть тебя снова счастливым', 'Я рад за вам, за то, что всё хорошо', 'Очень хорошо что вы в настроении', 'Мне приятно, что у вас замечательный настрой', 'Я чувствую твоё прекрасное настроение', 'Как же хорошо что вы в радостном настроении', 'Я рад видеть, что вы в прекрасном настроении и хорошо себя чувствуете', 'очень хорошо', 'Мне очень приятно слышать, что вы в хорошем расположении духа', 'Ко мне пришел счастливый человек', 'Я очень рада, что в Вашей жизни намечается такое прекрасное событие', 'Я рада, что у Вам отличное настроение', 'Это очень хорошо, что у тебя всё хорошо ', 'Я весьма рад за вас, всегда приятно осознавать, что мои пациенты идут на поправку', 'Я очень рада слышать что у Вас все хорошо и жизнь налаживается', 'Мне приятно, что вы справляетесь', 'Прекрасно, очень рад за вас', 'Я очень рада, что у вас всё замечательно', 'Я рад, услышать от вас такие положительные новости', 'Меня радует Ваше приподнятое настроение', 'Я рад слышать, что у Вас все хорошо, надеюсь, что удача и радостное расположение духа не покинут вас', 'Как здорово, что вы похудели и чувствует себя уверенней', 'Как приятно слышать что вы чувствуете себя прекрасно', 'Мне очень приятно это слышать от вас']\n"
          ]
        }
      ]
    },
    {
      "cell_type": "code",
      "source": [
        "# equalise a length of utterances per emotion\n",
        "def make_equal_length(dictionary):\n",
        "  min_rows = min([len(dictionary[base]) for base in dictionary])\n",
        "  for key in dictionary:\n",
        "    dictionary[key] = dictionary.get(key)[:min_rows]\n",
        "  return dictionary"
      ],
      "metadata": {
        "id": "sxTNAV4d_z5l"
      },
      "execution_count": 112,
      "outputs": []
    },
    {
      "cell_type": "code",
      "source": [
        "# build a dataset with synthetic sentences\n",
        "synthetic_df_columns = additional_questions_columns+initial_questions_columns+['emotion']\n",
        "synthetic_df = pd.DataFrame(columns=synthetic_df_columns)\n",
        "\n",
        "for emotion in df_dict:\n",
        "  # print(df_dict[emotion])\n",
        "  emotion_dict = make_equal_length(df_dict[emotion])\n",
        "  df = pd.DataFrame.from_dict(emotion_dict)\n",
        "  df['emotion'] = [emotion for i in range(len(df))]\n",
        "  synthetic_df = pd.concat([synthetic_df, df])"
      ],
      "metadata": {
        "id": "YiN7fqaaNGut"
      },
      "execution_count": 113,
      "outputs": []
    },
    {
      "cell_type": "code",
      "source": [
        "# check\n",
        "synthetic_df.head()"
      ],
      "metadata": {
        "colab": {
          "base_uri": "https://localhost:8080/",
          "height": 791
        },
        "id": "bwE2eabcVmZx",
        "outputId": "e9df855d-d25e-4494-8082-0d658fd88d73"
      },
      "execution_count": 114,
      "outputs": [
        {
          "output_type": "execute_result",
          "data": {
            "text/plain": [
              "  Have you strongly felt or expressed any of the following emotions towards someone?  \\\n",
              "0  Спасибо, что вы здесь с нами.как вы считаете и...                                   \n",
              "1  Я рад, что вы мне доверяете.как вы считаете ис...                                   \n",
              "2  По всей видимости это нелегко. Испытывали ли в...                                   \n",
              "3  Благодарю за искренность. Испытывали ли вы к к...                                   \n",
              "4  Огромное спасибо за откровение. Вы ранее испыт...                                   \n",
              "\n",
              "  Do you believe you should be the savior of someone else?  \\\n",
              "0  Я понимаю, это не самый легкий вопрос.Бывает л...         \n",
              "1  Спасибо за доверие.Бывает ли у Вас чувство, чт...         \n",
              "2  Не кажется ли вам, что вы недостаточно контрол...         \n",
              "3  Спасибо, что верите мне. А возникает ли у вас ...         \n",
              "4  Спасибо за откровенность. Бывает ли такое, что...         \n",
              "\n",
              "  Do you feel that you are trying to control someone?  \\\n",
              "0  спасибо за откровенность.Скажите пожалуйста, в...    \n",
              "1  Я понимаю, это не самый легкий вопрос.Скажите ...    \n",
              "2  Наш с Вами разговор будет более плодотворным, ...    \n",
              "3  Я очень рад, что вы мне доверились.Нет ли у ва...    \n",
              "4  Спасибо за то, что открылись мне.Бывало ли у в...    \n",
              "\n",
              "  Do you see yourself as the victim, blaming someone else for how negative you feel?  \\\n",
              "0  Благодарю за открытость.Возможно вы оказались ...                                   \n",
              "1  Спасибо за доверие.Возможно вы оказались в пол...                                   \n",
              "2  Спасибо, что были открыты со мной. И если у Ва...                                   \n",
              "3  Проанализируйте пожалуйста и откровенно ответь...                                   \n",
              "4  Не просто об этом говорить.У вас возникало чув...                                   \n",
              "\n",
              "  Are you always blaming and accusing yourself for when something goes wrong?  \\\n",
              "0  Я понимаю вопрос не из лёгких.Как часто вы руг...                            \n",
              "1  Спасибо за доверие.Как часто вы ругаете себя, ...                            \n",
              "2  Я понимаю, что это трудно.Когда у вас что-то н...                            \n",
              "3  Я задам Вам непростой вопрос.Когда у вас что-т...                            \n",
              "4  Благодарю за доверие.Вам приходится обвинять с...                            \n",
              "\n",
              "  Is it possible that in previous conversations you may not have always considerdother viewpoints presented?  \\\n",
              "0  Спасибо за доверие.Вы часто настаиваете на том...                                                           \n",
              "1  Спасибо за искренность.Вы часто настаиваете на...                                                           \n",
              "2  Я думаю это непростой вопрос, но все же попыта...                                                           \n",
              "3  Благодарю за искренность. Случается ли у Вас, ...                                                           \n",
              "4  Благодарю за доверие. Как часто Вы не слышите ...                                                           \n",
              "\n",
              "  Are you undergoing a personal crisis (experience difficulties with loved ones e.g. falling out with friends)?  \\\n",
              "0  Понимаю, что на этот вопрос нелегко ответить.Б...                                                              \n",
              "1  Благодарю вас.Благодарю вас за оказанное довер...                                                              \n",
              "2  Спасибо, что доверились  мне. Я бы хотел узнат...                                                              \n",
              "3  Не бывает ли у вас \"комплекса героя\", желания ...                                                              \n",
              "4  Спасибо, что были открыты со мной. Хотел поинт...                                                              \n",
              "\n",
              "     Was this emotion triggered by a specific event?  \\\n",
              "0  Ценю Вашу открытость.Можете ли вы вспомнить, в...   \n",
              "1  Спасибо, что поделились своими чувствами.Может...   \n",
              "2  Задумайтесь, пожалуста, над истоком Вашего чув...   \n",
              "3  Спасибо ща ответ.Вы полагаете , что чувство тр...   \n",
              "4  Спасибо, что уточнили Ваше ощущение.Чувство тр...   \n",
              "\n",
              "                               Was the event recent?  \\\n",
              "0  Спасибо, что обратились именно ко мне. Ваше чу...   \n",
              "1  Я очень рада что ты решил поделиться со мной с...   \n",
              "2  Я очень вас понимаю и сочувствую, и постараюсь...   \n",
              "3  Я понимаю Вас большего кто бы то не был. А это...   \n",
              "4  Благодарен, что доверили мне ваши переживания....   \n",
              "\n",
              "                Did you find protocol 6 distressing?  \\\n",
              "0  Спасибо,что вы поделились со мной своими ощуще...   \n",
              "1  Спасибо, продолжим наш диалог. Возникли ли у В...   \n",
              "2  Я очень вас понимаю и хочу помочь вам. Были ли...   \n",
              "3  Благодарен за Ваше доверие и откровенность, оч...   \n",
              "4  Спасибо ещё раз за Вашу откровенность со мной....   \n",
              "\n",
              "               Did you find protocol 11 distressing?  \\\n",
              "0  Сочувствую вам, и вашему состоянию.Я вам буду ...   \n",
              "1  Благодарю за то, что поделились своими мыслями...   \n",
              "2  Жаль, что не всё так хорошо, спасибо за откров...   \n",
              "3  Мне невероятно жалко, что Вы испытываете подоб...   \n",
              "4  Благодарен за Ваше доверие и откровенность, оч...   \n",
              "\n",
              "               Is it ok to ask additional questions? emotion  \\\n",
              "0  Мне нужно лучше узнать ситуацию.Вынужден задат...    fear   \n",
              "1  Я буду задавать Вам вопросы, а Вы постарайтесь...    fear   \n",
              "2  Приятно что вы доверились мне.Хотелось бы лучш...    fear   \n",
              "3  Давайте постараемся более детально разобраться...    fear   \n",
              "4  Вы не будете возражать, если я Вам задам неско...    fear   \n",
              "\n",
              "  Would you like to attempt protocols for joy?  \n",
              "0                                          NaN  \n",
              "1                                          NaN  \n",
              "2                                          NaN  \n",
              "3                                          NaN  \n",
              "4                                          NaN  "
            ],
            "text/html": [
              "\n",
              "  <div id=\"df-373409c4-d00a-4ac5-a776-a53e21898d6d\">\n",
              "    <div class=\"colab-df-container\">\n",
              "      <div>\n",
              "<style scoped>\n",
              "    .dataframe tbody tr th:only-of-type {\n",
              "        vertical-align: middle;\n",
              "    }\n",
              "\n",
              "    .dataframe tbody tr th {\n",
              "        vertical-align: top;\n",
              "    }\n",
              "\n",
              "    .dataframe thead th {\n",
              "        text-align: right;\n",
              "    }\n",
              "</style>\n",
              "<table border=\"1\" class=\"dataframe\">\n",
              "  <thead>\n",
              "    <tr style=\"text-align: right;\">\n",
              "      <th></th>\n",
              "      <th>Have you strongly felt or expressed any of the following emotions towards someone?</th>\n",
              "      <th>Do you believe you should be the savior of someone else?</th>\n",
              "      <th>Do you feel that you are trying to control someone?</th>\n",
              "      <th>Do you see yourself as the victim, blaming someone else for how negative you feel?</th>\n",
              "      <th>Are you always blaming and accusing yourself for when something goes wrong?</th>\n",
              "      <th>Is it possible that in previous conversations you may not have always considerdother viewpoints presented?</th>\n",
              "      <th>Are you undergoing a personal crisis (experience difficulties with loved ones e.g. falling out with friends)?</th>\n",
              "      <th>Was this emotion triggered by a specific event?</th>\n",
              "      <th>Was the event recent?</th>\n",
              "      <th>Did you find protocol 6 distressing?</th>\n",
              "      <th>Did you find protocol 11 distressing?</th>\n",
              "      <th>Is it ok to ask additional questions?</th>\n",
              "      <th>emotion</th>\n",
              "      <th>Would you like to attempt protocols for joy?</th>\n",
              "    </tr>\n",
              "  </thead>\n",
              "  <tbody>\n",
              "    <tr>\n",
              "      <th>0</th>\n",
              "      <td>Спасибо, что вы здесь с нами.как вы считаете и...</td>\n",
              "      <td>Я понимаю, это не самый легкий вопрос.Бывает л...</td>\n",
              "      <td>спасибо за откровенность.Скажите пожалуйста, в...</td>\n",
              "      <td>Благодарю за открытость.Возможно вы оказались ...</td>\n",
              "      <td>Я понимаю вопрос не из лёгких.Как часто вы руг...</td>\n",
              "      <td>Спасибо за доверие.Вы часто настаиваете на том...</td>\n",
              "      <td>Понимаю, что на этот вопрос нелегко ответить.Б...</td>\n",
              "      <td>Ценю Вашу открытость.Можете ли вы вспомнить, в...</td>\n",
              "      <td>Спасибо, что обратились именно ко мне. Ваше чу...</td>\n",
              "      <td>Спасибо,что вы поделились со мной своими ощуще...</td>\n",
              "      <td>Сочувствую вам, и вашему состоянию.Я вам буду ...</td>\n",
              "      <td>Мне нужно лучше узнать ситуацию.Вынужден задат...</td>\n",
              "      <td>fear</td>\n",
              "      <td>NaN</td>\n",
              "    </tr>\n",
              "    <tr>\n",
              "      <th>1</th>\n",
              "      <td>Я рад, что вы мне доверяете.как вы считаете ис...</td>\n",
              "      <td>Спасибо за доверие.Бывает ли у Вас чувство, чт...</td>\n",
              "      <td>Я понимаю, это не самый легкий вопрос.Скажите ...</td>\n",
              "      <td>Спасибо за доверие.Возможно вы оказались в пол...</td>\n",
              "      <td>Спасибо за доверие.Как часто вы ругаете себя, ...</td>\n",
              "      <td>Спасибо за искренность.Вы часто настаиваете на...</td>\n",
              "      <td>Благодарю вас.Благодарю вас за оказанное довер...</td>\n",
              "      <td>Спасибо, что поделились своими чувствами.Может...</td>\n",
              "      <td>Я очень рада что ты решил поделиться со мной с...</td>\n",
              "      <td>Спасибо, продолжим наш диалог. Возникли ли у В...</td>\n",
              "      <td>Благодарю за то, что поделились своими мыслями...</td>\n",
              "      <td>Я буду задавать Вам вопросы, а Вы постарайтесь...</td>\n",
              "      <td>fear</td>\n",
              "      <td>NaN</td>\n",
              "    </tr>\n",
              "    <tr>\n",
              "      <th>2</th>\n",
              "      <td>По всей видимости это нелегко. Испытывали ли в...</td>\n",
              "      <td>Не кажется ли вам, что вы недостаточно контрол...</td>\n",
              "      <td>Наш с Вами разговор будет более плодотворным, ...</td>\n",
              "      <td>Спасибо, что были открыты со мной. И если у Ва...</td>\n",
              "      <td>Я понимаю, что это трудно.Когда у вас что-то н...</td>\n",
              "      <td>Я думаю это непростой вопрос, но все же попыта...</td>\n",
              "      <td>Спасибо, что доверились  мне. Я бы хотел узнат...</td>\n",
              "      <td>Задумайтесь, пожалуста, над истоком Вашего чув...</td>\n",
              "      <td>Я очень вас понимаю и сочувствую, и постараюсь...</td>\n",
              "      <td>Я очень вас понимаю и хочу помочь вам. Были ли...</td>\n",
              "      <td>Жаль, что не всё так хорошо, спасибо за откров...</td>\n",
              "      <td>Приятно что вы доверились мне.Хотелось бы лучш...</td>\n",
              "      <td>fear</td>\n",
              "      <td>NaN</td>\n",
              "    </tr>\n",
              "    <tr>\n",
              "      <th>3</th>\n",
              "      <td>Благодарю за искренность. Испытывали ли вы к к...</td>\n",
              "      <td>Спасибо, что верите мне. А возникает ли у вас ...</td>\n",
              "      <td>Я очень рад, что вы мне доверились.Нет ли у ва...</td>\n",
              "      <td>Проанализируйте пожалуйста и откровенно ответь...</td>\n",
              "      <td>Я задам Вам непростой вопрос.Когда у вас что-т...</td>\n",
              "      <td>Благодарю за искренность. Случается ли у Вас, ...</td>\n",
              "      <td>Не бывает ли у вас \"комплекса героя\", желания ...</td>\n",
              "      <td>Спасибо ща ответ.Вы полагаете , что чувство тр...</td>\n",
              "      <td>Я понимаю Вас большего кто бы то не был. А это...</td>\n",
              "      <td>Благодарен за Ваше доверие и откровенность, оч...</td>\n",
              "      <td>Мне невероятно жалко, что Вы испытываете подоб...</td>\n",
              "      <td>Давайте постараемся более детально разобраться...</td>\n",
              "      <td>fear</td>\n",
              "      <td>NaN</td>\n",
              "    </tr>\n",
              "    <tr>\n",
              "      <th>4</th>\n",
              "      <td>Огромное спасибо за откровение. Вы ранее испыт...</td>\n",
              "      <td>Спасибо за откровенность. Бывает ли такое, что...</td>\n",
              "      <td>Спасибо за то, что открылись мне.Бывало ли у в...</td>\n",
              "      <td>Не просто об этом говорить.У вас возникало чув...</td>\n",
              "      <td>Благодарю за доверие.Вам приходится обвинять с...</td>\n",
              "      <td>Благодарю за доверие. Как часто Вы не слышите ...</td>\n",
              "      <td>Спасибо, что были открыты со мной. Хотел поинт...</td>\n",
              "      <td>Спасибо, что уточнили Ваше ощущение.Чувство тр...</td>\n",
              "      <td>Благодарен, что доверили мне ваши переживания....</td>\n",
              "      <td>Спасибо ещё раз за Вашу откровенность со мной....</td>\n",
              "      <td>Благодарен за Ваше доверие и откровенность, оч...</td>\n",
              "      <td>Вы не будете возражать, если я Вам задам неско...</td>\n",
              "      <td>fear</td>\n",
              "      <td>NaN</td>\n",
              "    </tr>\n",
              "  </tbody>\n",
              "</table>\n",
              "</div>\n",
              "      <button class=\"colab-df-convert\" onclick=\"convertToInteractive('df-373409c4-d00a-4ac5-a776-a53e21898d6d')\"\n",
              "              title=\"Convert this dataframe to an interactive table.\"\n",
              "              style=\"display:none;\">\n",
              "        \n",
              "  <svg xmlns=\"http://www.w3.org/2000/svg\" height=\"24px\"viewBox=\"0 0 24 24\"\n",
              "       width=\"24px\">\n",
              "    <path d=\"M0 0h24v24H0V0z\" fill=\"none\"/>\n",
              "    <path d=\"M18.56 5.44l.94 2.06.94-2.06 2.06-.94-2.06-.94-.94-2.06-.94 2.06-2.06.94zm-11 1L8.5 8.5l.94-2.06 2.06-.94-2.06-.94L8.5 2.5l-.94 2.06-2.06.94zm10 10l.94 2.06.94-2.06 2.06-.94-2.06-.94-.94-2.06-.94 2.06-2.06.94z\"/><path d=\"M17.41 7.96l-1.37-1.37c-.4-.4-.92-.59-1.43-.59-.52 0-1.04.2-1.43.59L10.3 9.45l-7.72 7.72c-.78.78-.78 2.05 0 2.83L4 21.41c.39.39.9.59 1.41.59.51 0 1.02-.2 1.41-.59l7.78-7.78 2.81-2.81c.8-.78.8-2.07 0-2.86zM5.41 20L4 18.59l7.72-7.72 1.47 1.35L5.41 20z\"/>\n",
              "  </svg>\n",
              "      </button>\n",
              "      \n",
              "  <style>\n",
              "    .colab-df-container {\n",
              "      display:flex;\n",
              "      flex-wrap:wrap;\n",
              "      gap: 12px;\n",
              "    }\n",
              "\n",
              "    .colab-df-convert {\n",
              "      background-color: #E8F0FE;\n",
              "      border: none;\n",
              "      border-radius: 50%;\n",
              "      cursor: pointer;\n",
              "      display: none;\n",
              "      fill: #1967D2;\n",
              "      height: 32px;\n",
              "      padding: 0 0 0 0;\n",
              "      width: 32px;\n",
              "    }\n",
              "\n",
              "    .colab-df-convert:hover {\n",
              "      background-color: #E2EBFA;\n",
              "      box-shadow: 0px 1px 2px rgba(60, 64, 67, 0.3), 0px 1px 3px 1px rgba(60, 64, 67, 0.15);\n",
              "      fill: #174EA6;\n",
              "    }\n",
              "\n",
              "    [theme=dark] .colab-df-convert {\n",
              "      background-color: #3B4455;\n",
              "      fill: #D2E3FC;\n",
              "    }\n",
              "\n",
              "    [theme=dark] .colab-df-convert:hover {\n",
              "      background-color: #434B5C;\n",
              "      box-shadow: 0px 1px 3px 1px rgba(0, 0, 0, 0.15);\n",
              "      filter: drop-shadow(0px 1px 2px rgba(0, 0, 0, 0.3));\n",
              "      fill: #FFFFFF;\n",
              "    }\n",
              "  </style>\n",
              "\n",
              "      <script>\n",
              "        const buttonEl =\n",
              "          document.querySelector('#df-373409c4-d00a-4ac5-a776-a53e21898d6d button.colab-df-convert');\n",
              "        buttonEl.style.display =\n",
              "          google.colab.kernel.accessAllowed ? 'block' : 'none';\n",
              "\n",
              "        async function convertToInteractive(key) {\n",
              "          const element = document.querySelector('#df-373409c4-d00a-4ac5-a776-a53e21898d6d');\n",
              "          const dataTable =\n",
              "            await google.colab.kernel.invokeFunction('convertToInteractive',\n",
              "                                                     [key], {});\n",
              "          if (!dataTable) return;\n",
              "\n",
              "          const docLinkHtml = 'Like what you see? Visit the ' +\n",
              "            '<a target=\"_blank\" href=https://colab.research.google.com/notebooks/data_table.ipynb>data table notebook</a>'\n",
              "            + ' to learn more about interactive tables.';\n",
              "          element.innerHTML = '';\n",
              "          dataTable['output_type'] = 'display_data';\n",
              "          await google.colab.output.renderOutput(dataTable, element);\n",
              "          const docLink = document.createElement('div');\n",
              "          docLink.innerHTML = docLinkHtml;\n",
              "          element.appendChild(docLink);\n",
              "        }\n",
              "      </script>\n",
              "    </div>\n",
              "  </div>\n",
              "  "
            ]
          },
          "metadata": {},
          "execution_count": 114
        }
      ]
    },
    {
      "cell_type": "markdown",
      "source": [
        "# Convert pandas into a Huggingface dataset"
      ],
      "metadata": {
        "id": "tjwFsuqiKaSL"
      }
    },
    {
      "cell_type": "code",
      "source": [
        "dataset = Dataset.from_pandas(synthetic_df)"
      ],
      "metadata": {
        "id": "6dxHbsQIW6DG"
      },
      "execution_count": 117,
      "outputs": []
    },
    {
      "cell_type": "code",
      "source": [
        "dataset = dataset.remove_columns('__index_level_0__')"
      ],
      "metadata": {
        "id": "uU1b51lwW6aB"
      },
      "execution_count": 118,
      "outputs": []
    },
    {
      "cell_type": "markdown",
      "source": [
        "# Save a dataset"
      ],
      "metadata": {
        "id": "8n2LmP-7L2gc"
      }
    },
    {
      "cell_type": "code",
      "source": [
        "dataset.save_to_disk(\"/content/drive/MyDrive/chatbot/SyntheticResponseGenerationDataset\")"
      ],
      "metadata": {
        "id": "0AmbidFXL6Ux"
      },
      "execution_count": 119,
      "outputs": []
    },
    {
      "cell_type": "code",
      "source": [
        "# check that it loaded correctly\n",
        "from datasets.load import load_from_disk\n",
        "ds = load_from_disk(\"/content/drive/MyDrive/chatbot/SyntheticResponseGenerationDataset\")"
      ],
      "metadata": {
        "id": "oc0xEvhqMcnD"
      },
      "execution_count": 120,
      "outputs": []
    },
    {
      "cell_type": "code",
      "source": [
        "ds"
      ],
      "metadata": {
        "colab": {
          "base_uri": "https://localhost:8080/"
        },
        "id": "pmDF1SSoMjQL",
        "outputId": "ccbe0f7d-7ece-426b-f962-89fd786288ff"
      },
      "execution_count": 121,
      "outputs": [
        {
          "output_type": "execute_result",
          "data": {
            "text/plain": [
              "Dataset({\n",
              "    features: ['Have you strongly felt or expressed any of the following emotions towards someone?', 'Do you believe you should be the savior of someone else?', 'Do you feel that you are trying to control someone?', 'Do you see yourself as the victim, blaming someone else for how negative you feel?', 'Are you always blaming and accusing yourself for when something goes wrong?', 'Is it possible that in previous conversations you may not have always considerdother viewpoints presented?', 'Are you undergoing a personal crisis (experience difficulties with loved ones e.g. falling out with friends)?', 'Was this emotion triggered by a specific event?', 'Was the event recent?', 'Did you find protocol 6 distressing?', 'Did you find protocol 11 distressing?', 'Is it ok to ask additional questions?', 'emotion', 'Would you like to attempt protocols for joy?'],\n",
              "    num_rows: 786\n",
              "})"
            ]
          },
          "metadata": {},
          "execution_count": 121
        }
      ]
    }
  ]
}